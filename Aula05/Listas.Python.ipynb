{
 "cells": [
  {
   "cell_type": "markdown",
   "metadata": {
    "collapsed": false,
    "slideshow": {
     "slide_type": "slide"
    }
   },
   "source": [
    "# Bases de programação em Python"
   ]
  },
  {
   "cell_type": "markdown",
   "metadata": {
    "collapsed": false
   },
   "source": [
    "## Histórico Python \n",
    "\n",
    "### Guido von Rossum\n",
    "\n",
    "![Guido](https://images.computerhistory.org/fellows/gvanrossum.jpg)\n",
    "\n",
    "### Inspiração \n",
    "\n",
    "![Monty Python](http://brothers-ink.com/wp-content/uploads/2016/01/monty-python-original-cast.jpg)"
   ]
  },
  {
   "cell_type": "markdown",
   "metadata": {
    "collapsed": false
   },
   "source": [
    "## Material sobre Python\n",
    "\n",
    "- [Curso IME](https://www.youtube.com/playlist?list=PLcoJJSvnDgcKpOi_UeneTNTIVOigRQwcn)\n",
    "- [Curso PyLadies](https://www.youtube.com/watch?v=O2xKiMl-d7Y&list=PL70CUfm2J_8SXFHovpVUbq8lB2JSuUXgk)"
   ]
  },
  {
   "cell_type": "markdown",
   "metadata": {
    "collapsed": false
   },
   "source": [
    "\n",
    "## Características da Linguagem Python\n",
    "\n",
    "- Fácil de aprender - o Python tem poucas palavras-chave, estrutura simples e uma sintaxe claramente definida. Isso permite que o aluno aprenda  a linguagem rapidamente.\n",
    "\n",
    "- Fácil de ler - a sintaxe python obriga o programador a gerar código legível.\n",
    "\n",
    "- Fácil de manter - o código-fonte do Python é bastante fácil de manter.\n",
    "\n",
    "- Possui ampla biblioteca padrão - a maior parte da biblioteca do Python é muito portátil e compatível com várias plataformas no UNIX, Windows e Macintosh.\n",
    "\n",
    "- Modo Interativo - Python tem suporte para um modo interativo que permite testes interativos e depuração de trechos de código.\n",
    "\n",
    "- Portátil - o Python pode ser executado em uma ampla variedade de plataformas de hardware e possui a mesma interface em todas as plataformas.\n",
    "\n",
    "- Extensível - Você pode adicionar módulos de baixo nível ao interpretador Python. Esses módulos permitem que os programadores adicionem ou personalizem suas ferramentas para serem mais eficientes.\n",
    "\n",
    "- Bancos de dados - o Python fornece interfaces para todos os principais bancos de dados comerciais.\n",
    "\n",
    "- Programação GUI - O Python suporta aplicativos GUI que podem ser criados e portados para muitas chamadas do sistema, bibliotecas e sistemas Windows, como o Windows MFC, Macintosh e o sistema X Window do Unix.\n",
    "\n"
   ]
  },
  {
   "cell_type": "markdown",
   "metadata": {
    "collapsed": false,
    "slideshow": {
     "slide_type": "subslide"
    }
   },
   "source": [
    "## Números e operações matemáticas\n",
    "\n",
    "**1. Operacões básicas**\n",
    "\n",
    "As expressões do Python assemelha-se à notação matemáticas usuais:\n",
    "- Adição: \"+\"\n",
    "- Subtração: \"-\"\n",
    "- Multiplicação: \"*\"\n",
    "- Divisão: \"/\"\n",
    "- Resto \"%\"\n",
    "- Potenciação: \"**\" "
   ]
  },
  {
   "cell_type": "code",
   "execution_count": 33,
   "metadata": {
    "collapsed": false
   },
   "outputs": [
    {
     "data": {
      "text/plain": [
       "8.1"
      ]
     },
     "execution_count": 33,
     "metadata": {
     },
     "output_type": "execute_result"
    }
   ],
   "source": [
    "5+3.1"
   ]
  },
  {
   "cell_type": "markdown",
   "metadata": {
    "collapsed": false,
    "slideshow": {
     "slide_type": "subslide"
    }
   },
   "source": [
    "**2. Strings**"
   ]
  },
  {
   "cell_type": "code",
   "execution_count": 1,
   "metadata": {
    "collapsed": false
   },
   "outputs": [
    {
     "name": "stdout",
     "output_type": "stream",
     "text": [
      "test: This is just a simple string.\n"
     ]
    }
   ],
   "source": [
    "test = 'This is just a simple string.' \n",
    "print(\"test:\", test)"
   ]
  },
  {
   "cell_type": "markdown",
   "metadata": {
    "collapsed": false
   },
   "source": [
    "O python possui ao menos 3 formas diferentes de lidar com `strings`:\n",
    "\n",
    "- \"string\" \n",
    "- 'string'\n",
    "- \"\"\"string\"\"\" para strings com múltiplas linhas\n"
   ]
  },
  {
   "cell_type": "markdown",
   "metadata": {
    "collapsed": false,
    "slideshow": {
     "slide_type": "subslide"
    }
   },
   "source": [
    "## Manipulação de listas\n",
    "\n",
    "- Além de strings e números, o Python possui  diferentes tipos de  objetos. Um dos mais versáteis são as listas.\n",
    "\n",
    "**1. crie uma lista**"
   ]
  },
  {
   "cell_type": "code",
   "execution_count": 6,
   "metadata": {
    "collapsed": false
   },
   "outputs": [
    {
     "data": {
      "text/plain": [
       "[]"
      ]
     },
     "execution_count": 6,
     "metadata": {
     },
     "output_type": "execute_result"
    }
   ],
   "source": [
    "lis=[]\n",
    "lis"
   ]
  },
  {
   "cell_type": "markdown",
   "metadata": {
    "collapsed": false,
    "slideshow": {
     "slide_type": "subslide"
    }
   },
   "source": [
    "- Podemos criar listas numéricas, com strings, mistas e tuplas.\n",
    "\n",
    "**Listas**"
   ]
  },
  {
   "cell_type": "code",
   "execution_count": 5,
   "metadata": {
    "collapsed": false
   },
   "outputs": [
    {
     "data": {
      "text/plain": [
       "[1, 2, 3, 'abc']"
      ]
     },
     "execution_count": 5,
     "metadata": {
     },
     "output_type": "execute_result"
    }
   ],
   "source": [
    "lis1=[1,2,3,'abc']\n",
    "lis1"
   ]
  },
  {
   "cell_type": "code",
   "execution_count": 8,
   "metadata": {
    "collapsed": false
   },
   "outputs": [
    {
     "data": {
      "text/plain": [
       "[1, 2, '2', [1, 2, 3, 4, []]]"
      ]
     },
     "execution_count": 8,
     "metadata": {
     },
     "output_type": "execute_result"
    }
   ],
   "source": [
    "lis2=[1,2,'2',[1,2,3,4,[]] ]\n",
    "lis2"
   ]
  },
  {
   "cell_type": "markdown",
   "metadata": {
    "collapsed": false
   },
   "source": [
    "**Tuplas**"
   ]
  },
  {
   "cell_type": "markdown",
   "metadata": {
    "collapsed": false
   },
   "source": [
    "São essencialmente listas imutáveis. "
   ]
  },
  {
   "cell_type": "code",
   "execution_count": 2,
   "metadata": {
    "collapsed": false
   },
   "outputs": [
    {
     "data": {
      "text/plain": [
       "(23, 'tet', 'tets')"
      ]
     },
     "execution_count": 2,
     "metadata": {
     },
     "output_type": "execute_result"
    }
   ],
   "source": [
    "tupla = (23, \"tet\",\"tets\")\n",
    "tupla"
   ]
  },
  {
   "cell_type": "markdown",
   "metadata": {
    "collapsed": false
   },
   "source": [
    "Por exemplo o comando abaixo gera um erro:\n"
   ]
  },
  {
   "cell_type": "code",
   "execution_count": 9,
   "metadata": {
    "collapsed": false
   },
   "outputs": [
    {
     "ename": "NameError",
     "evalue": "name 'tupla' is not defined",
     "output_type": "error",
     "traceback": [
      "\u001b[0;31m---------------------------------------------------------------------------\u001b[0m",
      "\u001b[0;31mNameError\u001b[0m                                 Traceback (most recent call last)",
      "\u001b[0;32m<ipython-input-9-b3178934806e>\u001b[0m in \u001b[0;36m<module>\u001b[0;34m()\u001b[0m\n\u001b[0;32m----> 1\u001b[0;31m \u001b[0mtupla\u001b[0m\u001b[0;34m[\u001b[0m\u001b[0;36m0\u001b[0m\u001b[0;34m]\u001b[0m\u001b[0;34m=\u001b[0m\u001b[0;36m1\u001b[0m\u001b[0;34m\u001b[0m\u001b[0m\n\u001b[0m",
      "\u001b[0;31mNameError\u001b[0m: name 'tupla' is not defined"
     ]
    }
   ],
   "source": [
    "tupla[0]=1"
   ]
  },
  {
   "cell_type": "markdown",
   "metadata": {
    "collapsed": false
   },
   "source": [
    "Mas esse código não gera erro. "
   ]
  },
  {
   "cell_type": "code",
   "execution_count": 10,
   "metadata": {
    "collapsed": false
   },
   "outputs": [
    {
     "data": {
      "text/plain": [
       "[2, 2, 3]"
      ]
     },
     "execution_count": 10,
     "metadata": {
     },
     "output_type": "execute_result"
    }
   ],
   "source": [
    "L=[1,2,3]\n",
    "L[0]=2\n",
    "L"
   ]
  },
  {
   "cell_type": "markdown",
   "metadata": {
    "collapsed": false,
    "slideshow": {
     "slide_type": "subslide"
    }
   },
   "source": [
    "**2. Criando uma lista de números em sequência.**"
   ]
  },
  {
   "cell_type": "code",
   "execution_count": 11,
   "metadata": {
    "collapsed": false
   },
   "outputs": [
   ],
   "source": [
    "lista3 = list(range(5))"
   ]
  },
  {
   "cell_type": "code",
   "execution_count": 12,
   "metadata": {
    "collapsed": false
   },
   "outputs": [
    {
     "data": {
      "text/plain": [
       "[0, 1, 2, 3]"
      ]
     },
     "execution_count": 12,
     "metadata": {
     },
     "output_type": "execute_result"
    }
   ],
   "source": [
    "list(range(4))\n"
   ]
  },
  {
   "cell_type": "code",
   "execution_count": 13,
   "metadata": {
    "collapsed": false
   },
   "outputs": [
    {
     "data": {
      "text/plain": [
       "range(0, 5)"
      ]
     },
     "execution_count": 13,
     "metadata": {
     },
     "output_type": "execute_result"
    }
   ],
   "source": [
    "range(5)"
   ]
  },
  {
   "cell_type": "markdown",
   "metadata": {
    "collapsed": false,
    "slideshow": {
     "slide_type": "subslide"
    }
   },
   "source": [
    "**3. Criando uma lista com *list comprehensions*:**\n",
    "- Uma list comprehension é uma maneira concisa de construir uma lista preenchida. (N.d.T. literalmente, abrangência de lista mas no Brasil o termo em inglês é muito usado; também se usa a abreviação listcomp)\n",
    "- Um uso comum é construir uma nova lista onde cada elemento é o resultado de alguma expressão aplicada a cada membro de outra sequência ou iterável, ou para construir uma subsequência cujos elementos satisfazem uma certa condição. \n",
    "- Por exemplo, suponha que queremos criar uma lista de quadrados, assim:"
   ]
  },
  {
   "cell_type": "code",
   "execution_count": 14,
   "metadata": {
    "collapsed": false
   },
   "outputs": [
    {
     "name": "stdout",
     "output_type": "stream",
     "text": [
      "quadrados: [1, 4, 9, 16, 25, 36, 49, 64, 81]\n"
     ]
    }
   ],
   "source": [
    "quadrados = [x**2 for x in range(1,10)]\n",
    "print (\"quadrados:\", quadrados)"
   ]
  },
  {
   "cell_type": "markdown",
   "metadata": {
    "collapsed": false
   },
   "source": [
    "Você pode escolher quais os elementos que vão ser incluídos."
   ]
  },
  {
   "cell_type": "code",
   "execution_count": 7,
   "metadata": {
    "collapsed": false
   },
   "outputs": [
    {
     "data": {
      "text/plain": [
       "[0, 4, 16, 36, 64]"
      ]
     },
     "execution_count": 7,
     "metadata": {
     },
     "output_type": "execute_result"
    }
   ],
   "source": [
    "[elem for elem in quadrados if elem % 2 == 0]"
   ]
  },
  {
   "cell_type": "markdown",
   "metadata": {
    "collapsed": false,
    "slideshow": {
     "slide_type": "subslide"
    }
   },
   "source": [
    "**4. Acessando elementos de uma lista**\n",
    "- Para acessar elementos em listas, use os colchetes para cortar junto com o índice ou índices para obter valor disponível nesse índice. Por exemplo:"
   ]
  },
  {
   "cell_type": "code",
   "execution_count": 16,
   "metadata": {
    "collapsed": false
   },
   "outputs": [
    {
     "name": "stdout",
     "output_type": "stream",
     "text": [
      "lis1[0]:  physics\n",
      "lis2[-1]: 7\n",
      "lis2[1:5]: [2, 3, 4, 5]\n",
      "lis2[::2]: [1, 3, 5, 7]\n",
      "lis2[1::2]: [2, 4, 6]\n"
     ]
    }
   ],
   "source": [
    "lis1 = ['physics', 'chemistry', 1997, 2000]\n",
    "lis2 = [1, 2, 3, 4, 5, 6, 7 ]\n",
    "\n",
    "print (\"lis1[0]: \", lis1[0])\n",
    "print(\"lis2[-1]:\", lis2[-1])## O índice -1 representa o último elemento da lista\n",
    "print(\"lis2[1:5]:\", lis2[1:5])## Podemos pegar um intervalo da lista usando \":\"\n",
    "print(\"lis2[::2]:\",lis2[::2])##Pegando somente os elementos de índice par\n",
    "print(\"lis2[1::2]:\",lis2[1::2])##Pegando somente os elementos de índice ímpar"
   ]
  },
  {
   "cell_type": "code",
   "execution_count": 28,
   "metadata": {
    "collapsed": false
   },
   "outputs": [
    {
     "data": {
      "text/plain": [
       "[1, 3, 5]"
      ]
     },
     "execution_count": 28,
     "metadata": {
     },
     "output_type": "execute_result"
    }
   ],
   "source": [
    "lis2[:-1:2]"
   ]
  },
  {
   "cell_type": "markdown",
   "metadata": {
    "collapsed": false,
    "slideshow": {
     "slide_type": "subslide"
    }
   },
   "source": [
    "**5. Concatenação e Repetição**\n",
    "- O operador \" + \" pode ser usado para concatenação.\n",
    "- O operador \" * \" para repetição."
   ]
  },
  {
   "cell_type": "code",
   "execution_count": 4,
   "metadata": {
    "collapsed": false
   },
   "outputs": [
    {
     "name": "stdout",
     "output_type": "stream",
     "text": [
      "lisrep[0]*4:  [0, 0, 0, 0]\n",
      "lis2[1:5]:  [0, 0, 0, 0, 1, 1, 1]\n"
     ]
    }
   ],
   "source": [
    "lisrep = [0]*4\n",
    "lisrc = lisrep + [1]*3\n",
    "print (\"lisrep[0]*4: \", lisrep)\n",
    "print (\"lis2[1:5]: \", lisrc)"
   ]
  },
  {
   "cell_type": "code",
   "execution_count": 32,
   "metadata": {
    "collapsed": false
   },
   "outputs": [
    {
     "data": {
      "text/plain": [
       "[1, 2, 3, 4, 5, 4, 5, 4, 5]"
      ]
     },
     "execution_count": 32,
     "metadata": {
     },
     "output_type": "execute_result"
    }
   ],
   "source": [
    "lis1=[1,2,3]\n",
    "lis2=[4,5]\n",
    "lis1+lis2*3"
   ]
  },
  {
   "cell_type": "markdown",
   "metadata": {
    "collapsed": false,
    "slideshow": {
     "slide_type": "subslide"
    }
   },
   "source": [
    "**6. Juntando duas listas.**\n",
    "- Formando pares de elementos:"
   ]
  },
  {
   "cell_type": "code",
   "execution_count": 8,
   "metadata": {
    "collapsed": false
   },
   "outputs": [
    {
     "name": "stdout",
     "output_type": "stream",
     "text": [
      "[(0, 5), (1, 6), (2, 7), (3, 8), (4, 9)]\n"
     ]
    }
   ],
   "source": [
    "li = zip(range(0, 5), range(5, 10))\n",
    "print(list(li))"
   ]
  },
  {
   "cell_type": "markdown",
   "metadata": {
    "collapsed": false,
    "slideshow": {
     "slide_type": "subslide"
    }
   },
   "source": [
    "**7. Listas Intercaladas**\n",
    "- Separando os elementos de uma lista de forma intercalada:"
   ]
  },
  {
   "cell_type": "code",
   "execution_count": 17,
   "metadata": {
    "collapsed": false
   },
   "outputs": [
    {
     "name": "stdout",
     "output_type": "stream",
     "text": [
      "[(0, 1), (2, 3), (4, 5), (6, 7), (8, 9)]\n"
     ]
    }
   ],
   "source": [
    "lista = range(0, 10)\n",
    "intercaladas = list(lista[::2]), list(lista[1::2])\n",
    "print(list(zip(intercaladas[0],intercaladas[1])))"
   ]
  },
  {
   "cell_type": "markdown",
   "metadata": {
    "collapsed": false,
    "slideshow": {
     "slide_type": "subslide"
    }
   },
   "source": [
    "**8. Transformando uma lista de strings em uma string CSV.**"
   ]
  },
  {
   "cell_type": "code",
   "execution_count": 35,
   "metadata": {
    "collapsed": false
   },
   "outputs": [
    {
     "name": "stdout",
     "output_type": "stream",
     "text": [
      "ola,mundo,aqui,estamos\n"
     ]
    }
   ],
   "source": [
    "lista1 = [\"ola\", \"mundo\", \"aqui\", \"estamos\"]\n",
    "csv_values = ' '.join(lista1)\n",
    "print(csv_values)"
   ]
  },
  {
   "cell_type": "markdown",
   "metadata": {
    "collapsed": false,
    "slideshow": {
     "slide_type": "subslide"
    }
   },
   "source": [
    "**9. Comandos e funções em listas**\n"
   ]
  },
  {
   "cell_type": "markdown",
   "metadata": {
    "collapsed": false
   },
   "source": [
    "| Comandos | Função |\n",
    "|---------|--------|\n",
    "| min(L) | Encontre o mínimo da lista L |\n",
    "| max(L) | Encontre o valor máximo da lista L |\n",
    "| len(L) | Determina o tamanho da lista L|\n",
    "| L.pop(elem) | Extrai o elemento elem de L |\n",
    "| sort(L) | ordena a lista L |\n",
    "| L.count(elem) | Conta as ocorrêncian L |\n",
    "| L.index(elem) | Retorna o índcie do elemnto elem |\n",
    "| L.append(elem) | Anexa elem in L |\n",
    "| L.reverse() | Inverte L|"
   ]
  },
  {
   "cell_type": "code",
   "execution_count": 0,
   "metadata": {
    "collapsed": false
   },
   "outputs": [
   ],
   "source": [
   ]
  },
  {
   "cell_type": "code",
   "execution_count": 59,
   "metadata": {
    "cocalc": {
     "outputs": {
      "0": {
       "name": "input",
       "opts": {
        "password": false,
        "prompt": "Qual é a sua idade? "
       },
       "output_type": "stream",
       "value": "45"
      }
     }
    },
    "collapsed": false
   },
   "outputs": [
    {
     "name": "stdout",
     "output_type": "stream",
     "text": "Qual é a sua idade?  45"
    },
    {
     "name": "stdout",
     "output_type": "stream",
     "text": [
      "Puxa voce parece ser muito mais jovem! Eu achei que voce tivesse 43 anos\n"
     ]
    }
   ],
   "source": [
    "age = input(\"Qual é a sua idade? \")\n",
    "print (\"Puxa voce parece ser muito mais jovem! Eu achei que voce tivesse\", eval(age)-2, \"anos\")\n"
   ]
  },
  {
   "cell_type": "markdown",
   "metadata": {
    "collapsed": false,
    "slideshow": {
     "slide_type": "subslide"
    }
   },
   "source": [
    "## Exercícios\n",
    "\n",
    "1. Faça uma programa que leia um vetor de 20 números inteiros e mostre-nos.\n",
    "2. Com a resposta do item 1 imprima todos os elementos pares.\n",
    "3. Faça um Programa que leia 4 notas de dois alunos, mostre as notas e a média na tela de cada aluno.\n",
    "4. Faça um Programa que peça a idade e a altura de 5 pessoas, armazene cada informação no seu respectivo vetor. Encontre o minimo e o maximo valores dessas listase e imprima os resultados.\n",
    "5. Faça um Programa que leia dois vetores com 10 elementos cada. Gere um terceiro vetor de 20 elementos, cujos valores deverão ser compostos pelos elementos intercalados dos dois outros vetores.\n",
    "6. Vale 0.25 pts (Fazer em casa). Dado: lista 1= [1.25, 2.14, 3.47,4.60, 5.59, 7.49, 8.17, 9.35, 10.45]. O aluno deverá deverá encontrar os intervalos de tempo da lista 1. "
   ]
  },
  {
   "cell_type": "code",
   "execution_count": 81,
   "metadata": {
    "cocalc": {
     "outputs": {
      "0": {
       "name": "input",
       "opts": {
        "password": false,
        "prompt": "Lista"
       },
       "output_type": "stream",
       "value": "[1,2]"
      }
     }
    },
    "collapsed": false
   },
   "outputs": [
    {
     "name": "stdout",
     "output_type": "stream",
     "text": "Lista [1,2]"
    }
   ],
   "source": [
    "L=input(\"Lista\")\n"
   ]
  },
  {
   "cell_type": "code",
   "execution_count": 82,
   "metadata": {
    "collapsed": false
   },
   "outputs": [
    {
     "data": {
      "text/plain": [
       "str"
      ]
     },
     "execution_count": 82,
     "metadata": {
     },
     "output_type": "execute_result"
    }
   ],
   "source": [
    "type(L)"
   ]
  },
  {
   "cell_type": "code",
   "execution_count": 72,
   "metadata": {
    "collapsed": false
   },
   "outputs": [
    {
     "data": {
      "text/plain": [
       "str"
      ]
     },
     "execution_count": 72,
     "metadata": {
     },
     "output_type": "execute_result"
    }
   ],
   "source": [
    "type(L)"
   ]
  },
  {
   "cell_type": "code",
   "execution_count": 63,
   "metadata": {
    "collapsed": false
   },
   "outputs": [
   ],
   "source": [
    "L=[1,2,3]"
   ]
  },
  {
   "cell_type": "code",
   "execution_count": 67,
   "metadata": {
    "collapsed": false
   },
   "outputs": [
    {
     "name": "stdout",
     "output_type": "stream",
     "text": [
      "A média é: 2.0\n"
     ]
    }
   ],
   "source": [
    "print(\"A média é:\",sum(L)/len(L))"
   ]
  },
  {
   "cell_type": "code",
   "execution_count": 77,
   "metadata": {
    "collapsed": false
   },
   "outputs": [
   ],
   "source": [
    "L1=[1,2]\n",
    "L2=[2,3]\n",
    "L3=[6,7]"
   ]
  },
  {
   "cell_type": "code",
   "execution_count": 78,
   "metadata": {
    "collapsed": false
   },
   "outputs": [
   ],
   "source": [
    "L=[L1,L2,L3]"
   ]
  },
  {
   "cell_type": "code",
   "execution_count": 79,
   "metadata": {
    "collapsed": false
   },
   "outputs": [
    {
     "data": {
      "text/plain": [
       "[[1, 2], [2, 3], [6, 7]]"
      ]
     },
     "execution_count": 79,
     "metadata": {
     },
     "output_type": "execute_result"
    }
   ],
   "source": [
    "L"
   ]
  },
  {
   "cell_type": "code",
   "execution_count": 80,
   "metadata": {
    "collapsed": false
   },
   "outputs": [
    {
     "data": {
      "text/plain": [
       "[1, 2, 2, 3, 6, 7]"
      ]
     },
     "execution_count": 80,
     "metadata": {
     },
     "output_type": "execute_result"
    }
   ],
   "source": [
    "L1+L2+L3"
   ]
  },
  {
   "cell_type": "code",
   "execution_count": 0,
   "metadata": {
    "collapsed": false
   },
   "outputs": [
   ],
   "source": [
   ]
  }
 ],
 "metadata": {
  "celltoolbar": "Slideshow",
  "kernelspec": {
   "display_name": "Python 3 (old Anaconda 3)",
   "env": {
    "LD_LIBRARY_PATH": "/ext/anaconda3/lib",
    "PYTHONHOME": "/ext/anaconda3/lib/python3.5",
    "PYTHONPATH": "/ext/anaconda3/lib/python3.5:/ext/anaconda3/lib/python3.5/site-packages"
   },
   "language": "python",
   "metadata": {
    "cocalc": {
     "description": "Python/R distribution for data science",
     "priority": -1,
     "url": "https://www.anaconda.com/distribution/"
    }
   },
   "name": "anaconda3"
  },
  "language_info": {
   "codemirror_mode": {
    "name": "ipython",
    "version": 3
   },
   "file_extension": ".py",
   "mimetype": "text/x-python",
   "name": "python",
   "nbconvert_exporter": "python",
   "pygments_lexer": "ipython3",
   "version": "3.5.5"
  }
 },
 "nbformat": 4,
 "nbformat_minor": 0
}