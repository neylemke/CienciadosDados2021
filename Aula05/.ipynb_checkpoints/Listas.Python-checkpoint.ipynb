{
 "cells": [
  {
   "cell_type": "markdown",
   "metadata": {
    "collapsed": false,
    "slideshow": {
     "slide_type": "slide"
    }
   },
   "source": [
    "# Bases de programação em Python"
   ]
  },
  {
   "cell_type": "markdown",
   "metadata": {
    "slideshow": {
     "slide_type": "subslide"
    }
   },
   "source": [
    "## Números e operações matemáticas\n",
    "\n",
    "**1. Operacões básicas**\n",
    "\n",
    "As expressões do Python assemelha-se à notação matemáticas usuais:\n",
    "- Adição: \"+\"\"\n",
    "- Subtração: \"-\"\n",
    "- Multiplicação: \"*\"\n",
    "- Divisão: \"/\""
   ]
  },
  {
   "cell_type": "markdown",
   "metadata": {
    "slideshow": {
     "slide_type": "subslide"
    }
   },
   "source": [
    "**2. Strings**\n",
    "- O jeito mais básico de manipular strings é através de métodos que estão dentro delas (strings). Podemos fazer um limitado número de tarefas em strings através desses métodos."
   ]
  },
  {
   "cell_type": "code",
   "execution_count": 30,
   "metadata": {
    "collapsed": false
   },
   "outputs": [
    {
     "name": "stdout",
     "output_type": "stream",
     "text": [
      "('test:', 'This is just a simple string.')\n"
     ]
    }
   ],
   "source": [
    "test = 'This is just a simple string.' \n",
    "print(\"test:\", test)"
   ]
  },
  {
   "cell_type": "markdown",
   "metadata": {
    "slideshow": {
     "slide_type": "subslide"
    }
   },
   "source": [
    "## Manipulação de listas\n",
    "\n",
    "- Além de strings e inteiros, o Python tem todos os tipos diferentes de objetos. Vamos apresentar um chamado lista.\n",
    "\n",
    "**1. crie uma lista**"
   ]
  },
  {
   "cell_type": "code",
   "execution_count": 31,
   "metadata": {
    "collapsed": false
   },
   "outputs": [
    {
     "data": {
      "text/plain": [
       "[]"
      ]
     },
     "execution_count": 31,
     "metadata": {},
     "output_type": "execute_result"
    }
   ],
   "source": [
    "lis=[]\n",
    "lis"
   ]
  },
  {
   "cell_type": "markdown",
   "metadata": {
    "slideshow": {
     "slide_type": "subslide"
    }
   },
   "source": [
    "- Podemos criar listas numéricas, com strings, mistas e tuplas.\n",
    "\n",
    "** Listas**"
   ]
  },
  {
   "cell_type": "code",
   "execution_count": 32,
   "metadata": {
    "collapsed": false
   },
   "outputs": [
    {
     "data": {
      "text/plain": [
       "[1, 2, 3, 'abc']"
      ]
     },
     "execution_count": 32,
     "metadata": {},
     "output_type": "execute_result"
    }
   ],
   "source": [
    "lis1=[1,2,3,'abc']\n",
    "lis1"
   ]
  },
  {
   "cell_type": "markdown",
   "metadata": {},
   "source": [
    "** Tuplas**"
   ]
  },
  {
   "cell_type": "code",
   "execution_count": 33,
   "metadata": {
    "collapsed": false
   },
   "outputs": [
    {
     "data": {
      "text/plain": [
       "(23, 'tet', 'tets')"
      ]
     },
     "execution_count": 33,
     "metadata": {},
     "output_type": "execute_result"
    }
   ],
   "source": [
    "tuplas = (23, \"tet\",\"tets\")\n",
    "tuplas"
   ]
  },
  {
   "cell_type": "markdown",
   "metadata": {
    "slideshow": {
     "slide_type": "subslide"
    }
   },
   "source": [
    "**2. Criando uma lista de números em sequência.**"
   ]
  },
  {
   "cell_type": "code",
   "execution_count": 34,
   "metadata": {
    "collapsed": false
   },
   "outputs": [
    {
     "name": "stdout",
     "output_type": "stream",
     "text": [
      "('lista2:', [0, 1, 2, 3, 4])\n"
     ]
    }
   ],
   "source": [
    "## Python 2.7\n",
    "lista2 = range(5)\n",
    "print(\"lista2:\",lista2)\n",
    "\n",
    "## Python 3\n",
    "lista3 = list(range(5))"
   ]
  },
  {
   "cell_type": "markdown",
   "metadata": {
    "slideshow": {
     "slide_type": "subslide"
    }
   },
   "source": [
    "**3. Criando uma lista com *list comprehensions*:**\n",
    "- Uma list comprehension é uma maneira concisa de construir uma lista preenchida. (N.d.T. literalmente, abrangência de lista mas no Brasil o termo em inglês é muito usado; também se usa a abreviação listcomp)\n",
    "- Um uso comum é construir uma nova lista onde cada elemento é o resultado de alguma expressão aplicada a cada membro de outra sequência ou iterável, ou para construir uma subsequência cujos elementos satisfazem uma certa condição. \n",
    "- Por exemplo, suponha que queremos criar uma lista de quadrados, assim:"
   ]
  },
  {
   "cell_type": "code",
   "execution_count": 35,
   "metadata": {
    "collapsed": false
   },
   "outputs": [
    {
     "name": "stdout",
     "output_type": "stream",
     "text": [
      "('quadrados:', [0, 1, 4, 9, 16, 25, 36, 49, 64, 81])\n"
     ]
    }
   ],
   "source": [
    "quadrados = [x**2 for x in range(10)]\n",
    "print (\"quadrados:\", quadrados)"
   ]
  },
  {
   "cell_type": "markdown",
   "metadata": {
    "slideshow": {
     "slide_type": "subslide"
    }
   },
   "source": [
    "**4. Acessando elementos de uma lista**\n",
    "- Para acessar elementos em listas, use os colchetes para cortar junto com o índice ou índices para obter valor disponível nesse índice. Por exemplo:"
   ]
  },
  {
   "cell_type": "code",
   "execution_count": 36,
   "metadata": {
    "collapsed": false
   },
   "outputs": [
    {
     "name": "stdout",
     "output_type": "stream",
     "text": [
      "('lis1[0]: ', 'physics')\n",
      "('lis2[-1]:', 7)\n",
      "('lis2[1:5]:', [2, 3, 4, 5])\n",
      "('lis2[::2]:', [1, 3, 5, 7])\n",
      "('lis2[1::2]:', [2, 4, 6])\n"
     ]
    }
   ],
   "source": [
    "lis1 = ['physics', 'chemistry', 1997, 2000]\n",
    "lis2 = [1, 2, 3, 4, 5, 6, 7 ]\n",
    "\n",
    "print (\"lis1[0]: \", lis1[0])\n",
    "print(\"lis2[-1]:\", lis2[-1])## O índice -1 representa o último elemento da lista\n",
    "print(\"lis2[1:5]:\", lis2[1:5])## Podemos pegar um intervalo da lista usando \":\"\n",
    "print(\"lis2[::2]:\",lis2[::2])##Pegando somente os elementos de índice par\n",
    "print(\"lis2[1::2]:\",lis2[1::2])##Pegando somente os elementos de índice ímpar"
   ]
  },
  {
   "cell_type": "markdown",
   "metadata": {
    "slideshow": {
     "slide_type": "subslide"
    }
   },
   "source": [
    "**5. Concatenação e Repetição**\n",
    "- O operador \" + \" pode ser usado para concatenação.\n",
    "- O operador \" * \" para repetição."
   ]
  },
  {
   "cell_type": "code",
   "execution_count": 37,
   "metadata": {
    "collapsed": false
   },
   "outputs": [
    {
     "name": "stdout",
     "output_type": "stream",
     "text": [
      "('lisrep[0]*4: ', [0, 0, 0, 0])\n",
      "('lis2[1:5]: ', [0, 0, 0, 0, 1, 1, 1])\n"
     ]
    }
   ],
   "source": [
    "lisrep = [0]*4\n",
    "lisrc = lisrep + [1]*3\n",
    "print (\"lisrep[0]*4: \", lisrep)\n",
    "print (\"lis2[1:5]: \", lisrc)"
   ]
  },
  {
   "cell_type": "markdown",
   "metadata": {
    "slideshow": {
     "slide_type": "subslide"
    }
   },
   "source": [
    "**6. Juntando duas listas.**\n",
    "- Formando pares de elementos:"
   ]
  },
  {
   "cell_type": "code",
   "execution_count": null,
   "metadata": {
    "collapsed": false
   },
   "outputs": [],
   "source": [
    "li = zip(range(0, 5), range(5, 10))\n",
    ">>> print li"
   ]
  },
  {
   "cell_type": "markdown",
   "metadata": {
    "slideshow": {
     "slide_type": "subslide"
    }
   },
   "source": [
    "**7. Listas Intercaladas**\n",
    "- Separando os elementos de uma lista de forma intercalada:"
   ]
  },
  {
   "cell_type": "code",
   "execution_count": 28,
   "metadata": {
    "collapsed": false
   },
   "outputs": [
    {
     "name": "stdout",
     "output_type": "stream",
     "text": [
      "([0, 2, 4, 6, 8], [1, 3, 5, 7, 9])\n"
     ]
    }
   ],
   "source": [
    "lista = range(0, 10)\n",
    "intercaladas = lista[::2], lista[1::2]\n",
    "print intercaladas"
   ]
  },
  {
   "cell_type": "markdown",
   "metadata": {
    "slideshow": {
     "slide_type": "subslide"
    }
   },
   "source": [
    "**8. Transformando uma lista de strings em uma string CSV.**"
   ]
  },
  {
   "cell_type": "code",
   "execution_count": 29,
   "metadata": {
    "collapsed": false
   },
   "outputs": [
    {
     "name": "stdout",
     "output_type": "stream",
     "text": [
      "ola,mundo,aqui,estamos\n"
     ]
    }
   ],
   "source": [
    "lista1 = [\"ola\", \"mundo\", \"aqui\", \"estamos\"]\n",
    "csv_values = ','.join(lista1)\n",
    "print csv_values"
   ]
  },
  {
   "cell_type": "markdown",
   "metadata": {
    "slideshow": {
     "slide_type": "subslide"
    }
   },
   "source": [
    "**9. Comandos e funções em listas**\n",
    "\n",
    "![listas](esse.png)"
   ]
  },
  {
   "cell_type": "markdown",
   "metadata": {
    "slideshow": {
     "slide_type": "subslide"
    }
   },
   "source": [
    "## Exercícios\n",
    "Crie um jupyter notebook com nome **\"Exercíciosdaaula10.04\"** no diretório **Aula10.04.2017** e resolva os seguintes exercícios:\n",
    "\n",
    "1. Faça uma programa que leia um vetor de 20 números inteiros e mostre-nos.\n",
    "2. Com a resposta do item 1 imprima todos os elementos pares.\n",
    "3. Faça um Programa que leia 4 notas de dois alunos, mostre as notas e a média na tela de cada aluno.\n",
    "4. Faça um Programa que peça a idade e a altura de 5 pessoas, armazene cada informação no seu respectivo vetor. Imprima a idade e a altura na ordem inversa a ordem lida.\n",
    "5. Faça um Programa que leia dois vetores com 10 elementos cada. Gere um terceiro vetor de 20 elementos, cujos valores deverão ser compostos pelos elementos intercalados dos dois outros vetores.\n",
    "6. Vale 0.25 pts (Fazer em casa). Dado: lista 1= [1.25, 2.14, 3.47,4.60, 5.59, 7.49, 8.17, 9.35, 10.45]. O aluno deverá deverá encontrar os intervalos de tempo da lista 1. "
   ]
  },
  {
   "cell_type": "code",
   "execution_count": null,
   "metadata": {
    "collapsed": true
   },
   "outputs": [],
   "source": []
  }
 ],
 "metadata": {
  "celltoolbar": "Slideshow",
  "kernelspec": {
   "display_name": "Python 2 (SageMath)",
   "language": "python",
   "name": "python2"
  },
  "language_info": {
   "codemirror_mode": {
    "name": "ipython",
    "version": 2
   },
   "file_extension": ".py",
   "mimetype": "text/x-python",
   "name": "python",
   "nbconvert_exporter": "python",
   "pygments_lexer": "ipython2",
   "version": "2.7.13"
  }
 },
 "nbformat": 4,
 "nbformat_minor": 0
}
