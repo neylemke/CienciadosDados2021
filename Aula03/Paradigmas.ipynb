{
 "cells": [
  {
   "cell_type": "code",
   "execution_count": 0,
   "metadata": {
    "collapsed": true,
    "slideshow": {
     "slide_type": "skip"
    }
   },
   "outputs": [
   ],
   "source": [
    "from notebook.services.config import ConfigManager\n",
    "from IPython.paths import locate_profile\n",
    "cm = ConfigManager(profile_dir=locate_profile(get_ipython().profile))\n",
    "cm.update('livereveal', {\n",
    "              'theme': 'beige',\n",
    "              'transition': 'zoom',\n",
    "              'start_slideshow_at': 'selected',\n",
    "})\n"
   ]
  },
  {
   "cell_type": "markdown",
   "metadata": {
    "collapsed": false,
    "slideshow": {
     "slide_type": "slide"
    }
   },
   "source": [
    "# Paradigmas Computacionais\n",
    "\n",
    "- Programação Estruturada\n",
    "- Orientação Objeto\n",
    "- Programação Funcional"
   ]
  },
  {
   "cell_type": "markdown",
   "metadata": {
    "collapsed": false,
    "slideshow": {
     "slide_type": "subslide"
    }
   },
   "source": [
    "## Programação Estruturada\n",
    "\n",
    "Na programação o conceito essencial é o de laço ('for' ou 'do'), o uso de condicionais como 'while' e 'if'. \n",
    "O uso de funções ou subrotinas que minimizem a duplicação de código. Os dados em geral são organizados em forma de estruras como vetores e matrizes, ou ainda estruturas mais complexas, envolvendo tipos variados. "
   ]
  },
  {
   "cell_type": "markdown",
   "metadata": {
    "collapsed": false,
    "slideshow": {
     "slide_type": "subslide"
    }
   },
   "source": [
    "## Orientação Objeto\n",
    "\n",
    "Na orientação objeto os dados são chamados de objetos e as funções são chamadas de métodos e temos ainda classes que reunem esses elemntos em macro-estruturas. A linguagem Python é essencialmente uma linguagem Orientada à Objetos, pois permite a definição de classes e métodos. Mas o seu uso é facultativo, ao contrário de Java onde seu uso é compulsório. "
   ]
  },
  {
   "cell_type": "markdown",
   "metadata": {
    "collapsed": false,
    "slideshow": {
     "slide_type": "subslide"
    }
   },
   "source": [
    "## Programação Funcional\n",
    "\n",
    "Na programação funcional não se enfatiza o uso de laços, mas o uso de operações em sequencia sobre estruturas de dados chamadas de listas, Existem dois tipos de operações básicas 'map' e 'reduce'. Uma que executa operações de forma seriada e a outra que agrega esses resultados. Nos dias de hoje com uma grande diversidade de arquiteturas computacionais disponíveis, a programação funcional tem recuperado espaço. Python permite o uso de construções funcionais mas não exige. "
   ]
  },
  {
   "cell_type": "markdown",
   "metadata": {
    "collapsed": false,
    "slideshow": {
     "slide_type": "slide"
    }
   },
   "source": [
    "## Catedral e o Bazar\n",
    "\n",
    "Existem dois grandes modelos de desenvolvimento de sistemas computacionais. Um deles \n",
    "é o modelo de desenvolvimento de software. Em um deles temos uma estrutura centralizada que planeja o sistema como um todo. Esse sistema é representado pela catedral. No outro modelo temos um sistema não centralizado e com um organização mais fluida representado pelo bazar. \n",
    "\n",
    "Nesse contexto o Linux é o exemplo clássico de desenvolvimento tipo *bazar* e o *Windows* é o sistema típico da estyratégia catedral. O caráter comercial não é o aspecto mais relevante, pois tanto Google como Apple usam sistemas que tem componentes mais próximos do modelo bazar. (Para mais detalhes: Eric Steven Raymond  http://www.catb.org/~esr/writings/cathedral-bazaar/cathedral-bazaar/)\n",
    "\n",
    " "
   ]
  }
 ],
 "metadata": {
  "celltoolbar": "Slideshow",
  "kernelspec": {
   "display_name": "Python 3 (Ubuntu Linux)",
   "language": "python",
   "name": "python3"
  },
  "language_info": {
   "codemirror_mode": {
    "name": "ipython",
    "version": 3
   },
   "file_extension": ".py",
   "mimetype": "text/x-python",
   "name": "python",
   "nbconvert_exporter": "python",
   "pygments_lexer": "ipython3",
   "version": "3.6.7"
  }
 },
 "nbformat": 4,
 "nbformat_minor": 0
}