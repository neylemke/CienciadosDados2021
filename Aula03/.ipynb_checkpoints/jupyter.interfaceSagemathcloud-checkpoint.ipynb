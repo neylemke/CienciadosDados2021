{
 "cells": [
  {
   "cell_type": "markdown",
   "metadata": {
    "slideshow": {
     "slide_type": "slide"
    }
   },
   "source": [
    "# Projeto Jupyter Notebook e Interface do SageMathCloud\n"
   ]
  },
  {
   "cell_type": "markdown",
   "metadata": {
    "slideshow": {
     "slide_type": "subslide"
    }
   },
   "source": [
    "## Plataforma Ipython\n",
    "\n",
    "### O que é Ipython?\n",
    "\n",
    "- IPython é uma plataforma de código aberto para computação interativa e paralela\n",
    "- IPython pode ser usado com a linguagem de programação Python, mas a plataforma também suporta muitas outras linguagens como R, Julia, Haskell ou Ruby. A arquitetura do projeto é, de fato, independente da linguagem, consistindo em protocolos de mensagens e clientes interativos (incluindo o notebook baseado em navegador). \n",
    "- Em julho de 2014, o Projeto Jupyter foi anunciado pelos desenvolvedores do IPython. Este projeto focalizará as partes independentes da linguagem do IPython (incluindo a arquitetura do notebook).\n"
   ]
  },
  {
   "cell_type": "markdown",
   "metadata": {
    "slideshow": {
     "slide_type": "subslide"
    }
   },
   "source": [
    "### Uma breve retrospectiva histórica sobre Python como um ambiente científico\n",
    "- Python é uma linguagem de alto nível de propósito geral originalmente concebida por Guido van Rossum no final dos anos 80.\n",
    "- Esta linguagem fácil de usar é a base de muitos programas de script que colam diferentes componentes de software (linguagem de colagem) juntos. Além disso, o Python vem com uma biblioteca extremamente rica (as baterias incluíram filosofia), que abrange processamento de seqüência de caracteres, protocolos Internet, interfaces de sistemas operacionais e muitos outros domínios.\n",
    "- No final dos anos 90, Travis Oliphant e outros começaram a construir ferramentas eficientes para lidar com dados numéricos em Python: Numeric, Numarray e, finalmente, NumPy. SciPy, que implementa muitos algoritmos de computação numérica, também foi criado em cima de NumPy. No início dos anos 2000, John Hunter criou matplotlib para trazer gráficos científicos para Python. Ao mesmo tempo, Fernando Perez criou o IPython para melhorar a interatividade ea produtividade em Python. Todas as ferramentas fundamentais estavam aqui para transformar Python em um grande código aberto de alto desempenho para a computação científica e análise de dados.\n",
    "\n"
   ]
  },
  {
   "cell_type": "markdown",
   "metadata": {
    "slideshow": {
     "slide_type": "subslide"
    }
   },
   "source": [
    "- No final dos anos 2000, Wes McKinney criou pandas para a manipulação e análise de tabelas numéricas e séries temporais. Ao mesmo tempo, os desenvolvedores do IPython começaram a trabalhar em um cliente de notebooks inspirado em software matemático, como Sage, Maple e Mathematica. Finalmente, o IPython 0.12, lançado em dezembro de 2011, introduziu o notebook baseado em HTML que passou agora mainstream.\n",
    "- Em 2013, a equipe IPython recebeu uma doação da Fundação Sloan e uma doação da Microsoft para apoiar o desenvolvimento do notebook. IPython 2.0, lançado no início de 2014, trouxe muitas melhorias e recursos há muito aguardados.\n",
    "- O IPython 3.0 e 4.0, planejados para o final de 2014 / início de 2015, devem facilitar o uso de kernels que não sejam Python e fornecer recursos multi-usuários ao notebook."
   ]
  },
  {
   "cell_type": "markdown",
   "metadata": {
    "slideshow": {
     "slide_type": "subslide"
    }
   },
   "source": [
    "## Introdução a plataforma Ipython\n",
    "- O notebook é a principal característica do IPython. \n",
    "- Este ambiente interativo baseado na web combina código, texto rico, imagens, vídeos, animações, matemática e gráficos em um único documento. \n",
    "- Tal ferramenta moderna é um gateway ideal para computação numérica de alto desempenho e ciência de dados em Python."
   ]
  },
  {
   "cell_type": "markdown",
   "metadata": {
    "slideshow": {
     "slide_type": "subslide"
    }
   },
   "source": [
    "### Instalação\n",
    "Se você está apenas começando com computação científica em Python, a opção mais simples é instalar uma distribuição Python all-in-one. As distribuições mais comuns são:\n",
    "\n",
    "- **Anaconda** (licença gratuita ou comercial) disponível em: ** http://store.continuum.io/cshop/anaconda/**\n",
    "- **Canopy** (licença gratuita ou comercial) disponível em: ** www.enthought.com/products/marquise/**\n",
    "- **Python** (x, y) uma distribuição gratuita apenas para Windows, disponível em: ** Https://code.google.com/p/pythonxy/**"
   ]
  },
  {
   "cell_type": "markdown",
   "metadata": {
    "slideshow": {
     "slide_type": "subslide"
    }
   },
   "source": [
    "- Recomendamos altamente Anaconda. Essas distribuições contêm tudo o que você precisa para começar. Você também pode instalar pacotes adicionais conforme necessário. Você encontrará todas as instruções de instalação nos links mencionados anteriormente.\n",
    "\n",
    "![Anaconda](tutjupyter1.png)"
   ]
  },
  {
   "cell_type": "markdown",
   "metadata": {
    "slideshow": {
     "slide_type": "subslide"
    }
   },
   "source": [
    "## Ipython/ Projeto jupyter notebook\n",
    "\n",
    "- O Jupyter Notebook é uma aplicação web de código aberto que permite criar e partilhar documentos que contêm código, equações, visualizações e texto explicativo. Usos incluem: limpeza de dados e transformação, simulação numérica, modelagem estatística, aprendizagem de máquina e muito mais.\n",
    "- Para executar o servidor de notebook IPython, digite jupyter notebook em um terminal (também chamado de prompt de comando). Seu navegador da web padrão deve abrir automaticamente e carregar o endereço 127.0.0.1:8888. Em seguida, você pode criar um novo notebook no painel de controle ou abrir um notebook existente. Por padrão, o servidor do notebook abre no diretório atual (o diretório do qual você iniciou o comando).  "
   ]
  },
  {
   "cell_type": "markdown",
   "metadata": {
    "slideshow": {
     "slide_type": "subslide"
    }
   },
   "source": [
    "- O jupyter lista todos os notebooks presentes neste diretório (arquivos com a extensão .ipynb). Ao executar o jupyter notebook no terminal/ prompt de comando teremos: \n",
    "\n",
    "![Jupter Notebook](tut3.png)\n"
   ]
  },
  {
   "cell_type": "markdown",
   "metadata": {
    "slideshow": {
     "slide_type": "subslide"
    }
   },
   "source": [
    "- Ao clicarmos em **new** seremos encaminhados para um novo notebook.\n",
    "![Jupter Notebook](tut2.png)"
   ]
  },
  {
   "cell_type": "markdown",
   "metadata": {
    "slideshow": {
     "slide_type": "subslide"
    }
   },
   "source": [
    "**Exercício 1.** Siga as instruções a cima e crie um novo notebook com nome de exercício 1, em seguida reproduza o exemplo \"print (\"Hello world)\". Após isto, clique em **File ==> Download ==> Notebook (.ipynb)** e salve esse documento em um diretório com seu nome na área de trabalho."
   ]
  },
  {
   "cell_type": "markdown",
   "metadata": {
    "slideshow": {
     "slide_type": "subslide"
    }
   },
   "source": [
    "## Jupyter notebook/ SAGE MATH CLOUD\n",
    "- O SageMathCloud é uma plataforma de computação em nuvem e de gerenciamento de cursos baseada na web para matemática computacional . Parte do projeto Sage , ele suporta a edição de planilhas Sage, documentos LaTeX e notebooks IPython. O SageMathCloud executa um ambiente Ubuntu Linux que pode ser interagido através de um terminal, adicionalmente dando acesso à maioria das capacidades do Linux."
   ]
  },
  {
   "cell_type": "markdown",
   "metadata": {
    "slideshow": {
     "slide_type": "subslide"
    }
   },
   "source": [
    "### Acessando o jupyter notebook pelo Sage Math Cloud\n",
    "- Após a inscrição do aluno no Sage Math Cloud, o usuário receberá o convite para o projeto **FísicaComputacional2017** e ao clicar em **Files** será possível encontrar o diretório com os arquivos de aula.\n",
    "![sage1](tut4.png)"
   ]
  },
  {
   "cell_type": "markdown",
   "metadata": {
    "slideshow": {
     "slide_type": "subslide"
    }
   },
   "source": [
    "- Ainda em **Files** o usuário deverá clicar em **new** e criar um diretório chamado **Respostas**.\n",
    "\n",
    "![sage2](tut5.png)\n"
   ]
  },
  {
   "cell_type": "markdown",
   "metadata": {
    "slideshow": {
     "slide_type": "subslide"
    }
   },
   "source": [
    "- Em seguida ao clicar **creat** o aluno precisará criar um notebook em **jupyter notebook** com nome de Exercício1/aula13.03.\n",
    "\n",
    "![sage3](tut6.png)"
   ]
  },
  {
   "cell_type": "markdown",
   "metadata": {},
   "source": [
    "- Nesse ambiente o aluno repetirá o exercício 1, conforme o exemplo abaixo.\n",
    "![sage4](tut7.png)"
   ]
  },
  {
   "cell_type": "markdown",
   "metadata": {
    "slideshow": {
     "slide_type": "subslide"
    }
   },
   "source": [
    "- **Exercício2.** Crie um notebook no jupyter e repita os procedimentos dos exemplos a cima.\n",
    "- **Exercício3.** Envie o exercício 1 e 2 no diretório de respostas.\n",
    "\n"
   ]
  },
  {
   "cell_type": "markdown",
   "metadata": {
    "slideshow": {
     "slide_type": "subslide"
    }
   },
   "source": [
    "### Executando o modo de comando (**code**).\n",
    "\n",
    "- Primeiro e acima de tudo, o Notebook Jupyter é um ambiente interativo para escrever e executar código. O notebook é capaz de executar código em uma ampla gama de idiomas. No entanto, cada notebook está associado a um único kernel. Este bloco de notas está associado ao kernel do IPython, portanto executa código Python.\n",
    "\n",
    "- As células de código permitem que você digite e execute o código. Execute uma célula de código usando **Shift-Enter**"
   ]
  },
  {
   "cell_type": "code",
   "execution_count": 3,
   "metadata": {
    "collapsed": false,
    "slideshow": {
     "slide_type": "subslide"
    }
   },
   "outputs": [
    {
     "name": "stdout",
     "output_type": "stream",
     "text": [
      "Hello world!\n"
     ]
    }
   ],
   "source": [
    "print (\"Hello world!\")"
   ]
  },
  {
   "cell_type": "markdown",
   "metadata": {
    "slideshow": {
     "slide_type": "subslide"
    }
   },
   "source": [
    "Existem dois outros atalhos de teclado para executar o código:\n",
    "  - ** Alt-Enter** executa a célula atual e insere uma nova abaixo.\n",
    "  - ** Ctrl-Enter** executa a célula atual e entra no modo de comando."
   ]
  },
  {
   "cell_type": "markdown",
   "metadata": {
    "slideshow": {
     "slide_type": "subslide"
    }
   },
   "source": [
    "#### Operações aritméticas básicas\n",
    "\n",
    "- (+) Soma\n",
    "- (-) Subtração\n",
    "- (*) Multiplicação\n",
    "- (/) Divisão"
   ]
  },
  {
   "cell_type": "code",
   "execution_count": 4,
   "metadata": {
    "collapsed": false,
    "slideshow": {
     "slide_type": "subslide"
    }
   },
   "outputs": [
    {
     "data": {
      "text/plain": [
       "2"
      ]
     },
     "execution_count": 4,
     "metadata": {},
     "output_type": "execute_result"
    }
   ],
   "source": [
    "1+1"
   ]
  },
  {
   "cell_type": "markdown",
   "metadata": {
    "slideshow": {
     "slide_type": "subslide"
    }
   },
   "source": [
    "- Na próxima célula, podemos recuperar o valor do último objeto retornado com a variável especial _ (sublinhado). Na prática, pode ser mais conveniente atribuir objetos a variáveis nomeadas, como em myresult = **2 + 2**"
   ]
  },
  {
   "cell_type": "code",
   "execution_count": 6,
   "metadata": {
    "collapsed": false,
    "slideshow": {
     "slide_type": "subslide"
    }
   },
   "outputs": [
    {
     "data": {
      "text/plain": [
       "6"
      ]
     },
     "execution_count": 6,
     "metadata": {},
     "output_type": "execute_result"
    }
   ],
   "source": [
    "_*3"
   ]
  },
  {
   "cell_type": "markdown",
   "metadata": {
    "slideshow": {
     "slide_type": "subslide"
    }
   },
   "source": [
    "#### Atribuição de objetos a variáveis nomeadas"
   ]
  },
  {
   "cell_type": "code",
   "execution_count": 11,
   "metadata": {
    "collapsed": false,
    "slideshow": {
     "slide_type": "subslide"
    }
   },
   "outputs": [
    {
     "name": "stdout",
     "output_type": "stream",
     "text": [
      "-2\n"
     ]
    }
   ],
   "source": [
    "a=1\n",
    "b=3\n",
    "c=a-b\n",
    "\n",
    "print (c)"
   ]
  },
  {
   "cell_type": "markdown",
   "metadata": {
    "slideshow": {
     "slide_type": "subslide"
    }
   },
   "source": [
    "- **Exemplo 1.** Leia duas variáveis reais a e b, troque seus conteúdos e Imprima os valores trocados."
   ]
  },
  {
   "cell_type": "code",
   "execution_count": 12,
   "metadata": {
    "collapsed": false,
    "slideshow": {
     "slide_type": "subslide"
    }
   },
   "outputs": [
    {
     "name": "stdout",
     "output_type": "stream",
     "text": [
      "1\n",
      "7\n"
     ]
    }
   ],
   "source": [
    "a=1\n",
    "b=7\n",
    "print (a)\n",
    "print (b)"
   ]
  },
  {
   "cell_type": "code",
   "execution_count": 15,
   "metadata": {
    "collapsed": false,
    "slideshow": {
     "slide_type": "subslide"
    }
   },
   "outputs": [
    {
     "name": "stdout",
     "output_type": "stream",
     "text": [
      "7\n",
      "1\n"
     ]
    }
   ],
   "source": [
    "aux=7\n",
    "b=1\n",
    "a=aux\n",
    "print (a)\n",
    "print (b)"
   ]
  },
  {
   "cell_type": "markdown",
   "metadata": {
    "slideshow": {
     "slide_type": "subslide"
    }
   },
   "source": [
    "### Executando o modo de Mardown.\n",
    "- O texto pode ser adicionado aos notebooks Jupyter usando células Markdown. Markdown é uma linguagem de marcação popular que é um superconjunto de HTML. Sua especificação pode ser encontrada aqui:\n",
    "\n",
    "Http://daringfireball.net/projects/markdown/"
   ]
  },
  {
   "cell_type": "markdown",
   "metadata": {
    "slideshow": {
     "slide_type": "subslide"
    }
   },
   "source": [
    "#### Bases de Markdown\n",
    "\n",
    "##### Dar ênfase ao texto\n",
    "\n",
    "- Você pode fazer o texto em *itálico* ou em **negrito**.\n",
    "![M1](m1.png)\n"
   ]
  },
  {
   "cell_type": "markdown",
   "metadata": {
    "slideshow": {
     "slide_type": "subslide"
    }
   },
   "source": [
    "- A ênfase pode ser adicionada a palavras únicas, a uma sequência de palavras, ou mesmo às partes das palavras:\n",
    "\n",
    "![M2](m2.png)\n"
   ]
  },
  {
   "cell_type": "markdown",
   "metadata": {
    "slideshow": {
     "slide_type": "subslide"
    }
   },
   "source": [
    "##### Título\n",
    "\n",
    "- Markdown permite subdividir o texto com títulos; estão disponíveis seis níveis diferentes, embora não seja comum que um texto normal use mais de três. Por exemplo, há três níveis de título usados no texto que está a ler actualmente.\n",
    "\n",
    "- Pode criar um título começando uma linha com um ou vários caracteres #. Usa-se um único caracter # para o título principal, e quantos mais caracteres # usar, menos importante será o título.\n",
    "\n",
    "![M3](m3.png)"
   ]
  },
  {
   "cell_type": "markdown",
   "metadata": {
    "slideshow": {
     "slide_type": "subslide"
    }
   },
   "source": [
    "##### Equações em LaTeX\n",
    "\n",
    "- Cortesia de MathJax, você pode incluir expressões matemáticas tanto inline: \\ (e ^ {i \\ pi} + 1 = 0 \\) e exibido:\n",
    "\n",
    "\\ [E ^ x = \\ sum_ {i = 0} ^ \\ infty \\ frac {1} {i!} X ^ i \\]\n",
    "Expressões em linha podem ser adicionadas ao rodear o código de látex com  $:\n",
    "\n",
    "$ E ^ {i \\ pi} + 1 = 0 $\n",
    "\n",
    "** Mais informações:** http://www.cercifaf.org.pt/moodle/help.php?file=markdown.html"
   ]
  },
  {
   "cell_type": "markdown",
   "metadata": {
    "slideshow": {
     "slide_type": "subslide"
    }
   },
   "source": [
    "#### Comandos Mágicos\n",
    "\n",
    "- O IPython não só aceita o código Python, mas também comandos shell. Esses são definidos pelo sistema operacional (Windows, Linux, Mac OS X, etc.). Nós primeiro tipo! Em uma célula antes de digitar o comando shell. Aqui, obtemos a lista de notebooks no diretório atual."
   ]
  },
  {
   "cell_type": "code",
   "execution_count": null,
   "metadata": {
    "collapsed": true,
    "slideshow": {
     "slide_type": "subslide"
    }
   },
   "outputs": [],
   "source": [
    "!ls *.ipynb"
   ]
  },
  {
   "cell_type": "markdown",
   "metadata": {
    "slideshow": {
     "slide_type": "subslide"
    }
   },
   "source": [
    "- O IPython vem com uma biblioteca de comandos mágicos. Esses comandos são atalhos convenientes para ações comuns. Todos eles começam com% (% de caracteres). Você pode obter a lista de todos os comandos mágicos com % lsmagic."
   ]
  },
  {
   "cell_type": "code",
   "execution_count": null,
   "metadata": {
    "collapsed": true,
    "slideshow": {
     "slide_type": "subslide"
    }
   },
   "outputs": [],
   "source": [
    "%lsmagic"
   ]
  },
  {
   "cell_type": "markdown",
   "metadata": {
    "slideshow": {
     "slide_type": "subslide"
    }
   },
   "source": [
    "- A cécula mágica tem um prefixo ** %%**: eles se aplicam a uma célula inteira no caderno.\n",
    "- Por exemplo, a magia de célula **%% writefile** permite que você crie um arquivo de texto facilmente. Este comando mágico aceita um nome de arquivo como argumento. Todas as linhas restantes na célula são gravadas diretamente neste arquivo de texto. Aqui, criamos um arquivo **test.txt** e escrevemos: **Hello world!**."
   ]
  },
  {
   "cell_type": "code",
   "execution_count": 18,
   "metadata": {
    "collapsed": false,
    "slideshow": {
     "slide_type": "subslide"
    }
   },
   "outputs": [
    {
     "name": "stdout",
     "output_type": "stream",
     "text": [
      "Writing test.txt\n"
     ]
    }
   ],
   "source": [
    "%%writefile test.txt\n",
    "Hello world!"
   ]
  },
  {
   "cell_type": "code",
   "execution_count": 19,
   "metadata": {
    "collapsed": false,
    "slideshow": {
     "slide_type": "subslide"
    }
   },
   "outputs": [
    {
     "name": "stdout",
     "output_type": "stream",
     "text": [
      "Hello world!\n"
     ]
    }
   ],
   "source": [
    "# Vamos verificar o conteúdo deste arquivo\n",
    "with open('test.txt', 'r') as f:\n",
    "    print(f.read())"
   ]
  },
  {
   "cell_type": "markdown",
   "metadata": {
    "slideshow": {
     "slide_type": "subslide"
    }
   },
   "source": [
    "- Como você pode ver na saída de **% lsmagic**, há muitos comandos mágicos em IPython. Você pode encontrar mais informações sobre qualquer comando adicionando? Sim. Por exemplo, aqui está como obter ajuda sobre o comando **% run magic**:"
   ]
  },
  {
   "cell_type": "code",
   "execution_count": null,
   "metadata": {
    "collapsed": true,
    "slideshow": {
     "slide_type": "subslide"
    }
   },
   "outputs": [],
   "source": [
    "from __future__ import print_function\n",
    "from IPython.core import page\n",
    "page.page = print"
   ]
  },
  {
   "cell_type": "code",
   "execution_count": null,
   "metadata": {
    "collapsed": true,
    "slideshow": {
     "slide_type": "subslide"
    }
   },
   "outputs": [],
   "source": [
    "%run?"
   ]
  },
  {
   "cell_type": "markdown",
   "metadata": {
    "slideshow": {
     "slide_type": "subslide"
    }
   },
   "source": [
    "- Nós cobrimos o básico do IPython no notebook. Vejamos agora a rica exibição de recursos interativos do notebook. Até agora, criamos apenas células de código, ou seja, células que contêm ... código. Existem outros tipos de células, notadamente células Markdown. Aqueles contêm texto rico formatado com Markdown, uma sintaxe de formatação de texto simples popular. Este formato suporta texto normal, cabeçalhos, negrito, itálico, links de hipertexto, imagens, equações matemáticas no LaTeX, código, elementos HTML e outros recursos, conforme mostrado abaixo.\n"
   ]
  },
  {
   "cell_type": "markdown",
   "metadata": {
    "slideshow": {
     "slide_type": "subslide"
    }
   },
   "source": [
    "### New paragraph\n",
    "\n",
    "This is *rich* **text** with [links](http://ipython.org), equations:\n",
    "\n",
    "$$\\hat{f}(\\xi) = \\int_{-\\infty}^{+\\infty} f(x)\\, \\mathrm{e}^{-i \\xi x}$$\n",
    "\n",
    "code with syntax highlighting:\n",
    "\n",
    "```python\n",
    "print(\"Hello world!\")\n",
    "```\n",
    "\n",
    "and images:\n",
    "\n",
    "![This is an image](http://ipython.org/_static/IPy_header.png)"
   ]
  },
  {
   "cell_type": "markdown",
   "metadata": {
    "slideshow": {
     "slide_type": "subslide"
    }
   },
   "source": [
    "Combinando células de código e células de Markdown, você pode criar um documento interativo autônomo que combina computações (código), texto e gráficos.\n",
    "\n",
    "**1. Isso era para as células do Markdown. O IPython também vem com um sofisticado sistema de exibição que permite inserir elementos ricos na web no notebook. Aqui, mostramos como adicionar HTML, SVG (Scalable Vector Graphics) e até mesmo vídeos do Youtube em um notebook.**\n",
    "\n",
    "Primeiro, precisamos importar algumas classes.\n",
    "Dentro [ ]:"
   ]
  },
  {
   "cell_type": "code",
   "execution_count": 21,
   "metadata": {
    "collapsed": true,
    "slideshow": {
     "slide_type": "subslide"
    }
   },
   "outputs": [],
   "source": [
    "from IPython.display import HTML, SVG, YouTubeVideo"
   ]
  },
  {
   "cell_type": "markdown",
   "metadata": {
    "slideshow": {
     "slide_type": "subslide"
    }
   },
   "source": [
    "- Criamos uma tabela HTML dinamicamente com o Python, e a exibimos no bloco de notas (baseado em HTML)."
   ]
  },
  {
   "cell_type": "code",
   "execution_count": 22,
   "metadata": {
    "collapsed": false,
    "slideshow": {
     "slide_type": "subslide"
    }
   },
   "outputs": [
    {
     "data": {
      "text/html": [
       "\n",
       "<table style=\"border: 2px solid black;\">\n",
       "<tr><td>0,0</td><td>0,1</td><td>0,2</td><td>0,3</td><td>0,4</td></tr><tr><td>1,0</td><td>1,1</td><td>1,2</td><td>1,3</td><td>1,4</td></tr><tr><td>2,0</td><td>2,1</td><td>2,2</td><td>2,3</td><td>2,4</td></tr><tr><td>3,0</td><td>3,1</td><td>3,2</td><td>3,3</td><td>3,4</td></tr><tr><td>4,0</td><td>4,1</td><td>4,2</td><td>4,3</td><td>4,4</td></tr>\n",
       "</table>\n"
      ],
      "text/plain": [
       "<IPython.core.display.HTML object>"
      ]
     },
     "execution_count": 22,
     "metadata": {},
     "output_type": "execute_result"
    }
   ],
   "source": [
    "HTML('''\n",
    "<table style=\"border: 2px solid black;\">\n",
    "''' + \n",
    "''.join(['<tr>' + \n",
    "         ''.join(['<td>{row},{col}</td>'.format(\n",
    "            row=row, col=col\n",
    "            ) for col in range(5)]) +\n",
    "         '</tr>' for row in range(5)]) +\n",
    "'''\n",
    "</table>\n",
    "''')"
   ]
  },
  {
   "cell_type": "markdown",
   "metadata": {
    "slideshow": {
     "slide_type": "subslide"
    }
   },
   "source": [
    "- Agora, ilustramos os recursos interativos mais recentes no IPython 2.0+. Esta versão traz widgets gráficos no notebook que podem interagir com objetos Python. Vamos criar um menu drop-down que nos permite exibir um entre vários vídeos."
   ]
  },
  {
   "cell_type": "code",
   "execution_count": 23,
   "metadata": {
    "collapsed": true,
    "slideshow": {
     "slide_type": "subslide"
    }
   },
   "outputs": [],
   "source": [
    "from collections import OrderedDict\n",
    "from IPython.display import display, clear_output\n",
    "from ipywidgets import Dropdown\n",
    "#from IPython.html.widgets import DropdownWidget # IPython < 4.x"
   ]
  },
  {
   "cell_type": "code",
   "execution_count": 24,
   "metadata": {
    "collapsed": false,
    "slideshow": {
     "slide_type": "subslide"
    }
   },
   "outputs": [
    {
     "data": {
      "image/jpeg": "[encoded data removed]",
      "text/html": [
       "\n",
       "        <iframe\n",
       "            width=\"400\"\n",
       "            height=\"300\"\n",
       "            src=\"https://www.youtube.com/embed/j9YpkSX7NNM\"\n",
       "            frameborder=\"0\"\n",
       "            allowfullscreen\n",
       "        ></iframe>\n",
       "        "
      ],
      "text/plain": [
       "<IPython.lib.display.YouTubeVideo at 0x109659710>"
      ]
     },
     "metadata": {},
     "output_type": "display_data"
    }
   ],
   "source": [
    "# We create a Dropdown widget, with a dictionary containing\n",
    "# the keys (video name) and the values (Youtube identifier) \n",
    "# of every menu item.\n",
    "dw = Dropdown(options=OrderedDict([\n",
    "# dw = DropdownWidget(values=OrderedDict([ # IPython < 4.x\n",
    "                        ('SciPy 2012', 'iwVvqwLDsJo'), \n",
    "                        ('PyCon 2012', '2G5YTlheCbw'),\n",
    "                        ('SciPy 2013', 'j9YpkSX7NNM')]))\n",
    "# We create a callback function that displays the requested\n",
    "# Youtube video.\n",
    "def on_value_change(name, val):\n",
    "    clear_output()\n",
    "    display(YouTubeVideo(val))\n",
    "# Every time the user selects an item, the function\n",
    "# `on_value_change` is called, and the `val` argument\n",
    "# contains the value of the selected item.the function\n",
    "# `on_value_change` is called, and the `val` argument\n",
    "# contains the value of the selected item.\n",
    "dw.on_trait_change(on_value_change, 'value')\n",
    "# We choose a default value.\n",
    "dw.value = dw.options['SciPy 2013']\n",
    "# dw.value = dw.values['SciPy 2013'] # IPyhon < 4.x\n",
    "# Finally, we display the widget.\n",
    "display(dw)"
   ]
  },
  {
   "cell_type": "markdown",
   "metadata": {
    "slideshow": {
     "slide_type": "subslide"
    }
   },
   "source": [
    "- ** Exercício 4**. Crie um novo jupyter notebook em **new** e utilizando-se do modo Markdown escreva um título com nome: **Física Computacional 2017** e subtitulo escrito **Explorando o interface do SageMathCloud**. \n",
    "- **Exercício 5**. Ainda no mesmo notebook, porém em outro **kernel** escreva a equação abaixo em LaTeX: \n",
    "![eq. Latex](exc5.png)\n"
   ]
  },
  {
   "cell_type": "markdown",
   "metadata": {
    "slideshow": {
     "slide_type": "subslide"
    }
   },
   "source": [
    "- **Exercício 6**. Faça o download de uma figura qualquer da internet e coloque dentro do diretório de respostas. Após isto,  incluia esta imagem no mesmo notebook dos exercícios a cima. (Dica: Procure como incluir figuras em no modo Markdown no help do jupyter notebook ou na internet).\n",
    "- **Exercício 7**.  Utilizando o comando **writefile** crie um arquivo de texto com a frase: **Física Computacional 2017 + número de RA** e salve no diretório de respostas, utilizando-se do mesmo notebook usado nos outros exercícios. Salve este notebook com a data de hoje no diretório de respostas."
   ]
  },
  {
   "cell_type": "markdown",
   "metadata": {
    "slideshow": {
     "slide_type": "subslide"
    }
   },
   "source": [
    "IPython Cookbook, by Cyrille Rossant, Packt Publishing, 2014 (500 pages)."
   ]
  }
 ],
 "metadata": {
  "celltoolbar": "Slideshow",
  "kernelspec": {
   "display_name": "Python 3",
   "language": "python",
   "name": "python3"
  },
  "language_info": {
   "codemirror_mode": {
    "name": "ipython",
    "version": 3
   },
   "file_extension": ".py",
   "mimetype": "text/x-python",
   "name": "python",
   "nbconvert_exporter": "python",
   "pygments_lexer": "ipython3",
   "version": "3.4.3+"
  },
  "widgets": {
   "state": {
    "f9ca3e95d380446f9b3e6dca140cb390": {
     "views": [
      {
       "cell_index": 52
      }
     ]
    }
   },
   "version": "1.2.0"
  }
 },
 "nbformat": 4,
 "nbformat_minor": 2
}
