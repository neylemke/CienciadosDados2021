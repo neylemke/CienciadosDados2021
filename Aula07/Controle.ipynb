{
 "cells": [
  {
   "cell_type": "markdown",
   "metadata": {
    "collapsed": false,
    "slideshow": {
     "slide_type": "slide"
    }
   },
   "source": [
    "# Bases de programação em Python (Parte 3)"
   ]
  },
  {
   "cell_type": "markdown",
   "metadata": {
    "collapsed": false,
    "slideshow": {
     "slide_type": "subslide"
    }
   },
   "source": [
    "## Estruturas de controle\n",
    "\n",
    "- Os comandos de Python são executados pelo computador, linha por linha e as estruturas de controle permitem ao programador modificar a ordem em que cada comando ser´a executado bem como se ele será ou não executado.\n",
    "\n",
    "\n",
    "\n"
   ]
  },
  {
   "cell_type": "markdown",
   "metadata": {
    "collapsed": false,
    "slideshow": {
     "slide_type": "subslide"
    }
   },
   "source": [
    "**1. Estrutura *if***\n",
    "- O comando ***if*** direciona o computador a tomar uma decisão, baseado nas condições determinadas. Se a condição for atendida, um bloco de comandos será executado, caso contrário, o computador executa outros comandos, conforme a estrutura a seguir:\n",
    "\n",
    "```bash \n",
    "if <condição1>: \n",
    "    <comandos>\n",
    "elif <condição 2>:\n",
    "    <comandos>\n",
    "elif <condição 3>:\n",
    "    ....\n",
    "else:\n",
    "    <comandos>```"
   ]
  },
  {
   "cell_type": "markdown",
   "metadata": {
    "collapsed": false,
    "slideshow": {
     "slide_type": "subslide"
    }
   },
   "source": [
    "Segue abaixo um pequeno programa para fazer uma checagem da paridade de um número:"
   ]
  },
  {
   "cell_type": "code",
   "execution_count": 4,
   "metadata": {
    "cocalc": {
     "outputs": {
      "0": {
       "name": "input",
       "opts": {
        "password": false,
        "prompt": "Entre com um inteiro: "
       },
       "output_type": "stream",
       "value": "8"
      }
     }
    },
    "collapsed": false
   },
   "outputs": [
    {
     "name": "stdout",
     "output_type": "stream",
     "text": "Entre com um inteiro:  8"
    },
    {
     "name": "stdout",
     "output_type": "stream",
     "text": [
      "8 é um par\n"
     ]
    }
   ],
   "source": [
    "# Verifica se um número é par ou impar#\n",
    "n = eval(input(\"Entre com um inteiro: \"))\n",
    "if type(n) == int:\n",
    "    if (n % 2) == 0:\n",
    "        print ('%d é um par' % n)\n",
    "    else:\n",
    "        print ('%d é impar' % n)\n",
    "else:\n",
    "    print ('Este número (%s) não é um inteiro!' % n)\n"
   ]
  },
  {
   "cell_type": "markdown",
   "metadata": {
    "collapsed": false,
    "slideshow": {
     "slide_type": "subslide"
    }
   },
   "source": [
    "**1. Estrutura *for***\n",
    "- No laço ***for***, a variável do laço alterna seu conteúdo com os valores da lista passada,  caso nenhum ***break*** seja encontrado, até que o último elemento da lista seja processado, os comandos da sentença ***else*** serão executados.\n",
    "- Sua sintaxe segue a forma abaixo:\n",
    "\n",
    "```bash \n",
    "for <variável> in <lista ou tupla de valores>: \n",
    "    <comandos>\n",
    "    ...\n",
    "    break\n",
    "    continue\n",
    "else:\n",
    "    <comandos>```"
   ]
  },
  {
   "cell_type": "code",
   "execution_count": 8,
   "metadata": {
    "collapsed": false,
    "slideshow": {
     "slide_type": "subslide"
    }
   },
   "outputs": [
    {
     "name": "stdout",
     "output_type": "stream",
     "text": [
      "dom\n",
      "seg\n",
      "ter\n",
      "qua\n",
      "qui\n",
      "sex\n",
      "sab\n"
     ]
    }
   ],
   "source": [
    "semana = ['dom', 'seg', 'ter', 'qua', 'qui', 'sex', 'sab']\n",
    "for s in semana:\n",
    "    print (s)"
   ]
  },
  {
   "cell_type": "code",
   "execution_count": 10,
   "metadata": {
    "collapsed": false
   },
   "outputs": [
    {
     "data": {
      "text/plain": [
       "range(0, 5)"
      ]
     },
     "execution_count": 10,
     "metadata": {
     },
     "output_type": "execute_result"
    }
   ],
   "source": [
    "range(0,5)"
   ]
  },
  {
   "cell_type": "code",
   "execution_count": 50,
   "metadata": {
    "collapsed": false
   },
   "outputs": [
    {
     "name": "stdout",
     "output_type": "stream",
     "text": [
      "0\n",
      "1\n",
      "2\n",
      "3\n",
      "4\n"
     ]
    }
   ],
   "source": [
    "## Utilizando range\n",
    "for contador in range(0, 5):\n",
    "    print (contador)"
   ]
  },
  {
   "cell_type": "code",
   "execution_count": 11,
   "metadata": {
    "collapsed": false
   },
   "outputs": [
    {
     "data": {
      "text/plain": [
       "[0, 1, 2, 3, 4]"
      ]
     },
     "execution_count": 11,
     "metadata": {
     },
     "output_type": "execute_result"
    }
   ],
   "source": [
    "list(range(0, 5))"
   ]
  },
  {
   "cell_type": "code",
   "execution_count": 12,
   "metadata": {
    "cocalc": {
     "outputs": {
      "1": {
       "name": "input",
       "opts": {
        "password": false,
        "prompt": "Entre com o limite superior para o primo: "
       },
       "output_type": "stream",
       "value": "11"
      }
     }
    },
    "collapsed": false,
    "slideshow": {
     "slide_type": "subslide"
    }
   },
   "outputs": [
    {
     "name": "stdout",
     "output_type": "stream",
     "text": [
      "Imprime os números primos de 1 até n.\n",
      "\n"
     ]
    },
    {
     "name": "stdout",
     "output_type": "stream",
     "text": "Entre com o limite superior para o primo:  11"
    },
    {
     "name": "stdout",
     "output_type": "stream",
     "text": [
      "\n",
      "São primos:\n",
      "2\n",
      "3\n",
      "5\n",
      "7\n"
     ]
    }
   ],
   "source": [
    "## imprime os primos\n",
    "print ('Imprime os números primos de 1 até n.\\n')\n",
    " \n",
    "# Entra com o limite:\n",
    "n = eval(input('Entre com o limite superior para o primo: '))\n",
    " \n",
    "print ('\\nSão primos:')\n",
    "for i in range(2, n):\n",
    "    for j in range(2, i):\n",
    "        if i % j == 0:\n",
    "            break\n",
    "    else:\n",
    "        print (i),"
   ]
  },
  {
   "cell_type": "markdown",
   "metadata": {
    "collapsed": false,
    "slideshow": {
     "slide_type": "subslide"
    }
   },
   "source": [
    "**1. Estrutura *While***\n",
    "- Começaremos por uma estrutura de repetição. O ***loop while*** tem como função repetir determinado bloco de comando, até que uma determinada condição pare de ser atendida.\n",
    "- Para que o bloco seja executado no momento correto, devemos manter uma rígida identação, ou seja, tudo que pertencer ao bloco do while, deve estar um espaço a frente, isto ajuda a deixar o código legível e organizado.\n",
    "- Estrutura de comando:\n",
    "\n",
    "```bash\n",
    "while #condição for verdadeira :\n",
    "   #bloco de comandos pertencentes ao while\n",
    "   #continuação do programa```"
   ]
  },
  {
   "cell_type": "code",
   "execution_count": 3,
   "metadata": {
    "collapsed": false,
    "scrolled": true
   },
   "outputs": [
    {
     "name": "stdout",
     "output_type": "stream",
     "text": [
      "10\n",
      "100\n",
      "1000\n",
      "10000\n"
     ]
    }
   ],
   "source": [
    "i=1\n",
    "while i <10000:\n",
    "    i=i*10\n",
    "    print(i)"
   ]
  },
  {
   "cell_type": "markdown",
   "metadata": {
    "collapsed": false,
    "slideshow": {
     "slide_type": "subslide"
    }
   },
   "source": [
    "## Funções\n",
    "\n",
    "- As linguagens de programação em geral automatizam ações .\n",
    "- Se houver alguma ação que seja grande e utilizada com frequência, temos a opção de criar uma função que cumpra o seu objetivo, reduzindo tamanho do código.\n",
    "- Essas funções facilitam depurar o código, visto que você não precisará vasculhar o código inteiro atrás de um  erro, basta entrar na função\n",
    "e modifcá-la.\n"
   ]
  },
  {
   "cell_type": "code",
   "execution_count": 51,
   "metadata": {
    "collapsed": false
   },
   "outputs": [
   ],
   "source": [
    "def dobro(x):\n",
    "    return 2*x"
   ]
  },
  {
   "cell_type": "code",
   "execution_count": 54,
   "metadata": {
    "collapsed": false
   },
   "outputs": [
    {
     "data": {
      "text/plain": [
       "4"
      ]
     },
     "execution_count": 54,
     "metadata": {
     },
     "output_type": "execute_result"
    }
   ],
   "source": [
    "dobro(2)"
   ]
  },
  {
   "cell_type": "markdown",
   "metadata": {
    "collapsed": false
   },
   "source": [
    "Vamos escrever uma função "
   ]
  },
  {
   "cell_type": "code",
   "execution_count": 29,
   "metadata": {
    "collapsed": false
   },
   "outputs": [
   ],
   "source": [
    "def compara_absolutos(a,b):\n",
    "    if a < 0:\n",
    "        a = -a\n",
    "    if b < 0:\n",
    "        b = -b\n",
    "    if a == b:\n",
    "        print ('Os valores absolutos de ', a, ' e ', b, ' são iguais')\n",
    "    else:\n",
    "        print ('Os valores absolutos de ', a, ' e ', b, ' são iguais')"
   ]
  },
  {
   "cell_type": "code",
   "execution_count": 30,
   "metadata": {
    "collapsed": false
   },
   "outputs": [
    {
     "name": "stdout",
     "output_type": "stream",
     "text": [
      "Os valores absolutos de  2  e  2  são iguais\n"
     ]
    }
   ],
   "source": [
    "compara_absolutos(-2,-2)"
   ]
  },
  {
   "cell_type": "code",
   "execution_count": 22,
   "metadata": {
    "collapsed": false
   },
   "outputs": [
   ],
   "source": [
    "def abs(x):\n",
    "    if x<0:\n",
    "        return -x\n",
    "    else:\n",
    "        return x"
   ]
  },
  {
   "cell_type": "code",
   "execution_count": 25,
   "metadata": {
    "collapsed": false
   },
   "outputs": [
   ],
   "source": [
    "def compara2(a,b):\n",
    "    if abs(a)==abs(b):\n",
    "        print(\"Módulos iguais\")\n",
    "    else:\n",
    "        print(\"Módulos Diferentes\")"
   ]
  },
  {
   "cell_type": "code",
   "execution_count": 33,
   "metadata": {
    "collapsed": false
   },
   "outputs": [
    {
     "name": "stdout",
     "output_type": "stream",
     "text": [
      "Módulos iguais\n"
     ]
    }
   ],
   "source": [
    "compara2(-2,-2)"
   ]
  },
  {
   "cell_type": "markdown",
   "metadata": {
    "collapsed": false,
    "slideshow": {
     "slide_type": "subslide"
    }
   },
   "source": [
    "**2.  Argumentos de Funções**\n",
    "- Argumentos (ou parâmetros) são variáveis que recebem seus valores iniciais do chamador. Essas variáveis, assim como outras definidas dentro da função são ditas locais, isto é, só existem no lugar onde foram definidas.\n",
    "- Ao retornar ao ponto de chamada, as variáveis locais são descartadas.\n",
    "- Se uma função define n argumentos, valores para todos eles devem ser passados pelo chamador. Com Exceção: argumentos com valores default. - Veja o exemplo abaixo:"
   ]
  },
  {
   "cell_type": "code",
   "execution_count": 35,
   "metadata": {
    "collapsed": false
   },
   "outputs": [
   ],
   "source": [
    "def f(x):\n",
    "    return x+x"
   ]
  },
  {
   "cell_type": "code",
   "execution_count": 44,
   "metadata": {
    "collapsed": false
   },
   "outputs": [
    {
     "data": {
      "text/plain": [
       "4"
      ]
     },
     "execution_count": 44,
     "metadata": {
     },
     "output_type": "execute_result"
    }
   ],
   "source": [
    "f(2)"
   ]
  },
  {
   "cell_type": "code",
   "execution_count": 45,
   "metadata": {
    "collapsed": false
   },
   "outputs": [
    {
     "data": {
      "text/plain": [
       "4.0"
      ]
     },
     "execution_count": 45,
     "metadata": {
     },
     "output_type": "execute_result"
    }
   ],
   "source": [
    "f(2.)"
   ]
  },
  {
   "cell_type": "code",
   "execution_count": 46,
   "metadata": {
    "collapsed": false
   },
   "outputs": [
    {
     "data": {
      "text/plain": [
       "[1, 2, 1, 2]"
      ]
     },
     "execution_count": 46,
     "metadata": {
     },
     "output_type": "execute_result"
    }
   ],
   "source": [
    "f([1,2])"
   ]
  },
  {
   "cell_type": "code",
   "execution_count": 36,
   "metadata": {
    "collapsed": false
   },
   "outputs": [
    {
     "data": {
      "text/plain": [
       "' chongas chongas'"
      ]
     },
     "execution_count": 36,
     "metadata": {
     },
     "output_type": "execute_result"
    }
   ],
   "source": [
    "f(\" chongas\")"
   ]
  },
  {
   "cell_type": "markdown",
   "metadata": {
    "collapsed": false,
    "slideshow": {
     "slide_type": "subslide"
    }
   },
   "source": [
    "**3. Argumentos *default***\n",
    "- É possível dar valores default a argumentos se o chamador não especificar valores para esses argumentos:\n",
    "- Se apenas alguns argumentos têm default, esses devem ser os últimos, pois senão haveria ambigüidade na passagem de argumentos.\n",
    "- Formato: \n",
    "\n",
    "```bash\n",
    "def nome (arg1=default1, ..., argN=defaultN)```"
   ]
  },
  {
   "cell_type": "markdown",
   "metadata": {
    "collapsed": false
   },
   "source": [
    "**Exemplos**"
   ]
  },
  {
   "cell_type": "code",
   "execution_count": 37,
   "metadata": {
    "collapsed": false
   },
   "outputs": [
   ],
   "source": [
    "def f(nome,saudacao=\"Oi\",pontuacao=\"!!\"):\n",
    "    return saudacao+\",\"+nome+pontuacao"
   ]
  },
  {
   "cell_type": "code",
   "execution_count": 38,
   "metadata": {
    "collapsed": false
   },
   "outputs": [
    {
     "data": {
      "text/plain": [
       "'Oi,Joao!!'"
      ]
     },
     "execution_count": 38,
     "metadata": {
     },
     "output_type": "execute_result"
    }
   ],
   "source": [
    " f(\"Joao\")"
   ]
  },
  {
   "cell_type": "code",
   "execution_count": 39,
   "metadata": {
    "collapsed": false
   },
   "outputs": [
    {
     "data": {
      "text/plain": [
       "'Hi ,Joao!!'"
      ]
     },
     "execution_count": 39,
     "metadata": {
     },
     "output_type": "execute_result"
    }
   ],
   "source": [
    " f(\"Joao\",saudacao=\"Hi \")"
   ]
  },
  {
   "cell_type": "markdown",
   "metadata": {
    "collapsed": false,
    "slideshow": {
     "slide_type": "subslide"
    }
   },
   "source": [
    "**4. Funções definidas em funções**\n",
    "- Observe que, se uma função g foi definida dentro de outra função f, então, se g é armazenada numa variável ou  transmitida para outra função ela carrega com si os valores do escopo de f (mas não o escopo global). \n",
    "- Veja o exemplo a seguir:"
   ]
  },
  {
   "cell_type": "code",
   "execution_count": 53,
   "metadata": {
    "collapsed": true
   },
   "outputs": [
   ],
   "source": [
    "x=2\n",
    "def f(y):\n",
    "    def g(z):\n",
    "        return x*y*z\n",
    "    return g"
   ]
  },
  {
   "cell_type": "code",
   "execution_count": 59,
   "metadata": {
    "collapsed": false
   },
   "outputs": [
   ],
   "source": [
    "h=f(1)"
   ]
  },
  {
   "cell_type": "code",
   "execution_count": 60,
   "metadata": {
    "collapsed": false
   },
   "outputs": [
    {
     "data": {
      "text/plain": [
       "2"
      ]
     },
     "execution_count": 60,
     "metadata": {
     },
     "output_type": "execute_result"
    }
   ],
   "source": [
    "h(1)"
   ]
  },
  {
   "cell_type": "markdown",
   "metadata": {
    "collapsed": false,
    "slideshow": {
     "slide_type": "subslide"
    }
   },
   "source": [
    "**4. Módulos**\n",
    "- Pensando na reutilização de código, a linguagem Python já possui um conjunto de funções prontas para serem usadas ou agregadas em seus programas. Essas funções estão agrupadas em estruturas denominadas módulos. Para a utilização desses módulos é preciso utilizar o comando **import nome_do_módulo**.\n",
    "- Após ter importado o módulo, qualquer função pertencente a ele pode ser utilizada através do comando **nome_do_módulo.função(argumento)**.\n",
    "- É possível importar do módulo apenas a função desejada. Para isso, utilizamos o comando **from nome_do_módulo import função**, e a função estará disponível para utilização.\n",
    "- É possível definir o seu próprio módulo. Defini-se as funções desejadas e ao final, você salva o seu módulo com a extensão *.py*.  Veja o exemplo:"
   ]
  },
  {
   "cell_type": "code",
   "execution_count": 41,
   "metadata": {
    "collapsed": false,
    "slideshow": {
     "slide_type": "subslide"
    }
   },
   "outputs": [
   ],
   "source": [
    "#IMC.py\n",
    "def indice(altura,peso):\n",
    "    return peso/(altura**2)\n",
    "\n",
    "\n",
    "def estado(imc):\n",
    "    if imc < 24.9:\n",
    "        print ('NORMAL')\n",
    "    elif 24.9 < imc < 29.9:\n",
    "        print ('PESO A MAIS')\n",
    "    elif 24.9 < imc < 29.9:\n",
    "        print ('LIGEIRA OBESIDADE')\n",
    "    elif imc > 40:\n",
    "        print ('OBESIDADE')\n",
    "    else:\n",
    "        print ('MAGRO DEMAIS')\n",
    "                        \n",
    "def pesoideal(peso,altura):\n",
    "    a=20*(altura**2)\n",
    "    b= 24.9*(altura**2)\n",
    "    print ('Seu peso ideal se encontra entre %f e %f' %(a,b))"
   ]
  },
  {
   "cell_type": "markdown",
   "metadata": {
    "collapsed": false
   },
   "source": [
    "- Agora, salve o seu arquivo como IMC.py . De agora em diante, o módulo já pode ser utilizado por qualquer programa em Python."
   ]
  },
  {
   "cell_type": "markdown",
   "metadata": {
    "collapsed": false,
    "slideshow": {
     "slide_type": "subslide"
    }
   },
   "source": [
    "## Pacotes\n",
    "- Quando nossos módulos ficarem maiores, não vamos querer ter cinquenta classes e trezentas funções em um único arquivo. Vamos querer separar em diversos módulos. É para isso que pacotes existem.\n",
    "- Pacotes são módulos Python que podem conter outros pacotes. Em termos de armazenamento, enquanto módulos são estruturados em arquivos, pacotes são estruturados em pastas.\n",
    "- Para demonstração, vamos criar um pacote de utilitários com a seguinte estrutura e tabela de símbolos (apenas algumas classes e funções de exemplo):\n",
    "\n",
    "```bash\n",
    "util/\n",
    "    __init__.py\n",
    "    sort.py [quicksort(), bubblesort()]\n",
    "    string/\n",
    "        __init__.py\n",
    "        format.py [Parser, Validator]\n",
    "        io.py [StringIO]\n",
    "    number/\n",
    "        __init__.py\n",
    "        format.py [DoubleFormat, IntFormat]```"
   ]
  },
  {
   "cell_type": "markdown",
   "metadata": {
    "collapsed": false,
    "slideshow": {
     "slide_type": "subslide"
    }
   },
   "source": [
    "**E o que são esses arquivos __init__.py?**\n",
    "- Esses são arquivos especiais e servem para que o interpretador possa identificar quais diretórios são pacotes e quais não são. Isso serve para que você possa explicitamente especificar quais pastas fazem parte da interface de seu pacote. Afinal, algumas podem conter apenas dados, por exemplo, imagens, dentre outros arquivos que não são módulos Python. Na maioria dos casos, o conteúdo dos arquivos __init__.py podem ser vazios.\n",
    "\n",
    "**1. Como importar pacotes**\n",
    "\n",
    "#####  ==> Importar todos os módulos de um pacote\n",
    "- O Para importar todos os módulos de um pacote utilizamos apenas o **import \"pacote\"**. Veja o exemplo a seguir:"
   ]
  },
  {
   "cell_type": "code",
   "execution_count": 43,
   "metadata": {
    "collapsed": false
   },
   "outputs": [
    {
     "name": "stdout",
     "output_type": "stream",
     "text": [
      "5.0\n"
     ]
    }
   ],
   "source": [
    "import math\n",
    "print(math.sqrt(25))"
   ]
  },
  {
   "cell_type": "code",
   "execution_count": 44,
   "metadata": {
    "collapsed": false
   },
   "outputs": [
    {
     "ename": "NameError",
     "evalue": "name 'sqrt' is not defined",
     "output_type": "error",
     "traceback": [
      "\u001b[0;31m---------------------------------------------------------------------------\u001b[0m",
      "\u001b[0;31mNameError\u001b[0m                                 Traceback (most recent call last)",
      "\u001b[0;32m<ipython-input-44-317e033d29d5>\u001b[0m in \u001b[0;36m<module>\u001b[0;34m()\u001b[0m\n\u001b[0;32m----> 1\u001b[0;31m \u001b[0msqrt\u001b[0m\u001b[0;34m(\u001b[0m\u001b[0;36m4\u001b[0m\u001b[0;34m)\u001b[0m\u001b[0;34m\u001b[0m\u001b[0;34m\u001b[0m\u001b[0m\n\u001b[0m",
      "\u001b[0;31mNameError\u001b[0m: name 'sqrt' is not defined"
     ]
    }
   ],
   "source": [
   ]
  },
  {
   "cell_type": "markdown",
   "metadata": {
    "collapsed": false,
    "slideshow": {
     "slide_type": "subslide"
    }
   },
   "source": [
    "##### ==> Importar um módulo do pacote\n",
    "- Para importar apenas um módulo utilizamos o **import \"pacote\"from**. Veja o exemplo abaixo."
   ]
  },
  {
   "cell_type": "code",
   "execution_count": 45,
   "metadata": {
    "collapsed": false
   },
   "outputs": [
    {
     "name": "stdout",
     "output_type": "stream",
     "text": [
      "5.0\n"
     ]
    }
   ],
   "source": [
    "from math import sqrt\n",
    "print(sqrt(25))"
   ]
  },
  {
   "cell_type": "markdown",
   "metadata": {
    "collapsed": false,
    "slideshow": {
     "slide_type": "subslide"
    }
   },
   "source": [
    "- Observe que ao utilizar from package import item, o item pode ser um subpacote, submódulo, classe, função ou variável.\n",
    "- O comando import primeiro testa se o item está definido no pacote, senão assume que é um módulo e tenta carregá-lo. Se falhar em encontrar o módulo uma exceção ImportError é lançada (documentação Python).\n",
    "\n",
    "##### ==> Importar todas as funções do math\n",
    "- Para diminuir o tempo de digitação costuma-se a importar todas as funções do pacote ***math*** utilizando o ***from math import ****\n",
    "- Em geral, a prática do import * de um módulo ou pacote é desaprovada, uma vez que muitas vezes dificulta a leitura do código. O uso no terminal, com dito, é muito comum. Veja o próximo exemplo:\n",
    "\n"
   ]
  },
  {
   "cell_type": "code",
   "execution_count": 46,
   "metadata": {
    "collapsed": false
   },
   "outputs": [
   ],
   "source": [
    "from math import *"
   ]
  },
  {
   "cell_type": "code",
   "execution_count": 47,
   "metadata": {
    "collapsed": false
   },
   "outputs": [
    {
     "data": {
      "text/plain": [
       "3.141592653589793"
      ]
     },
     "execution_count": 47,
     "metadata": {
     },
     "output_type": "execute_result"
    }
   ],
   "source": [
    "pi"
   ]
  },
  {
   "cell_type": "markdown",
   "metadata": {
    "collapsed": false,
    "slideshow": {
     "slide_type": "subslide"
    }
   },
   "source": [
    "- Também é possível carregar um pacote utilizando-se de ***Import \"pacote\" as \"inicial\"***.\n",
    "- Veja o exemplo abaixo."
   ]
  },
  {
   "cell_type": "code",
   "execution_count": 48,
   "metadata": {
    "collapsed": false
   },
   "outputs": [
   ],
   "source": [
    "import math as m"
   ]
  },
  {
   "cell_type": "code",
   "execution_count": 49,
   "metadata": {
    "collapsed": false
   },
   "outputs": [
    {
     "data": {
      "text/plain": [
       "-0.9880316240928618"
      ]
     },
     "execution_count": 49,
     "metadata": {
     },
     "output_type": "execute_result"
    }
   ],
   "source": [
    "m.sin(30)"
   ]
  },
  {
   "cell_type": "code",
   "execution_count": 0,
   "metadata": {
    "collapsed": false
   },
   "outputs": [
   ],
   "source": [
   ]
  },
  {
   "cell_type": "markdown",
   "metadata": {
    "collapsed": false,
    "slideshow": {
     "slide_type": "subslide"
    }
   },
   "source": [
    "### Exercícios\n",
    "\n",
    "\n",
    "**1. Calcule as raízes da equação do 2◦ grau ($Ax^2 + Bx + C = 0$) sendo os valores de A, B e C fornecidos pelo usuário, levando em consideração a existência de raízes reais.**\n",
    "\n",
    "**2. Dados três valores A, B e C, verifique se eles podem ser os comprimentos dos lados de um triângulo. Se forem, verificar se compõem um triângulo equilátero, isósceles ou escaleno. Informar se não compuserem nenhum triângulo. Lembrando que:**\n",
    "- Triângulo: (A < B + C) e (B < A + C) e (C < A + B)\n",
    "- Equilátero: (A = B) e (B = C)\n",
    "- Isósceles: (A = B) ou (A = C) ou (B = C)\n",
    "- Escaleno: (A <> B) e (B <> C) e (A <> C)\n",
    "\n",
    "**3. Construa uma função que calcule o volume de um paralelepído de lados a, b e c. Construa uma função que calcule a área lateral do mesmo paralelepipido.**\n",
    "\n",
    "**4. Implemente uma função que conte o número de algarismos pares em um número natural.**\n",
    "\n",
    "**5. Implemente um código que solicite ao usuário números e os armazene em um vetor de 30 posições. Crie uma função que recebe o vetor preenchido e substitua todas as ocorrências de valores positivos por 1 e todos os valores negativos por 0.**\n",
    "\n",
    "**6. Pesquise e crie um notebook descrevendo a funcionalidade   e exemplos da utilização dos seguintes pacotes: ***math***, ***numpy***, ***matplotlib***, ***pandas*** e ***string***.**"
   ]
  },
  {
   "cell_type": "code",
   "execution_count": 0,
   "metadata": {
    "collapsed": false
   },
   "outputs": [
   ],
   "source": [
    "raizes(1,0,-1)\n",
    "raizes(1,0,1)\n",
    "raizes(0,1,1)\n",
    "raizes(0,0,1)"
   ]
  }
 ],
 "metadata": {
  "celltoolbar": "Slideshow",
  "kernelspec": {
   "display_name": "Python 3 (Ubuntu Linux)",
   "language": "python",
   "metadata": {
    "cocalc": {
     "description": "Python 3 programming language",
     "priority": 100,
     "url": "https://www.python.org/"
    }
   },
   "name": "python3"
  },
  "language_info": {
   "codemirror_mode": {
    "name": "ipython",
    "version": 3
   },
   "file_extension": ".py",
   "mimetype": "text/x-python",
   "name": "python",
   "nbconvert_exporter": "python",
   "pygments_lexer": "ipython3",
   "version": "3.6.7"
  }
 },
 "nbformat": 4,
 "nbformat_minor": 0
}