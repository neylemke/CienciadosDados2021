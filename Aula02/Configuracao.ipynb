{
 "cells": [
  {
   "cell_type": "code",
   "execution_count": 1,
   "metadata": {
    "collapsed": false,
    "slideshow": {
     "slide_type": "skip"
    }
   },
   "outputs": [
    {
     "data": {
      "text/plain": [
       "{'start_slideshow_at': 'selected', 'theme': 'beige', 'transition': 'zoom'}"
      ]
     },
     "execution_count": 1,
     "metadata": {
     },
     "output_type": "execute_result"
    }
   ],
   "source": [
    "from notebook.services.config import ConfigManager\n",
    "from IPython.paths import locate_profile\n",
    "cm = ConfigManager(profile_dir=locate_profile(get_ipython().profile))\n",
    "cm.update('livereveal', {\n",
    "              'theme': 'beige',\n",
    "              'transition': 'zoom',\n",
    "              'start_slideshow_at': 'selected',\n",
    "})\n"
   ]
  },
  {
   "cell_type": "markdown",
   "metadata": {
    "collapsed": false,
    "slideshow": {
     "slide_type": "slide"
    }
   },
   "source": [
    "# Física Computacional"
   ]
  },
  {
   "cell_type": "markdown",
   "metadata": {
    "collapsed": false,
    "slideshow": {
     "slide_type": "slide"
    }
   },
   "source": [
    "# Passo 1\n",
    "\n",
    "\n",
    "## Fazer login no Moodle-Unesp\n",
    "\n",
    "\n",
    "## Criar uma conta no COCALC\n",
    "\n",
    "\n",
    "\n",
    "\n",
    "\n",
    "\n",
    "![Sage Math Cloud](cocalc.png)\n",
    "\n",
    "https://cocalc.com/\n",
    "                                          \n",
    "                                          \n",
    "                                         \n",
    "              "
   ]
  },
  {
   "cell_type": "markdown",
   "metadata": {
    "collapsed": false,
    "slideshow": {
     "slide_type": "subslide"
    }
   },
   "source": [
    "- O login do aluno usuário deve conter o primeiro nome e último sobrenome do aluno.\n",
    "- Utilizar preferencialmente o email institucional para fazer o cadastro do aluno usuário.\n",
    "- Informar o nome do longin do aluno usuário e email utilizado para realização do cadastro.\n",
    "Encaminhe para:\n",
    "\n",
    "ney.lemke@unesp.br\n",
    "\n",
    "- Após o cadastro o aluno será direcionado para esta janela:"
   ]
  },
  {
   "cell_type": "markdown",
   "metadata": {
    "collapsed": false,
    "slideshow": {
     "slide_type": "subslide"
    }
   },
   "source": [
    "![sage](tutorial1.png)"
   ]
  },
  {
   "cell_type": "markdown",
   "metadata": {
    "collapsed": false,
    "slideshow": {
     "slide_type": "slide"
    }
   },
   "source": [
    "# Passo 2\n",
    "\n",
    "\n",
    "## Convite para o curso de Física Computacional 2019\n",
    "\n",
    "\n"
   ]
  },
  {
   "cell_type": "markdown",
   "metadata": {
    "collapsed": false,
    "slideshow": {
     "slide_type": "subslide"
    }
   },
   "source": [
    "![Convite para o curso](tutorial2.png)\n",
    "\n",
    "\n"
   ]
  },
  {
   "cell_type": "markdown",
   "metadata": {
    "collapsed": false,
    "slideshow": {
     "slide_type": "subslide"
    }
   },
   "source": [
    "- O aluno deverá entrar na pasta \"Fisica Computacional\" contida no curso de Física Computacional 2019 e fazer **Download** das pastas com arquivos de aula em **Compressed**.\n",
    "- O aluno deverá copiar e salvar esses arquivos em uma nova pasta no\"Desktop\"com seu nome e sobrenome.\n",
    "\n"
   ]
  },
  {
   "cell_type": "markdown",
   "metadata": {
    "collapsed": false,
    "slideshow": {
     "slide_type": "subslide"
    }
   },
   "source": [
    "![download](tutorial4.png)"
   ]
  },
  {
   "cell_type": "markdown",
   "metadata": {
    "collapsed": true,
    "slideshow": {
     "slide_type": "subslide"
    }
   },
   "source": [
    "## Passo 3\n",
    "\n",
    "- O aluno deverá criar uma pasta no Sage Math Cloud dentro do curso de Física Computacional 2017 com o nome de **\"Exercícios de Aula\"** utilizando o **\"Create\"** em **\"Folder\".**\n"
   ]
  },
  {
   "cell_type": "markdown",
   "metadata": {
    "collapsed": false
   },
   "source": [
    "\n",
    "![Criando pasta](tutorial5.png)"
   ]
  },
  {
   "cell_type": "markdown",
   "metadata": {
    "collapsed": false,
    "slideshow": {
     "slide_type": "slide"
    }
   },
   "source": [
    "## Mas afinal o que é o CoCalc?\n",
    "\n",
    "O **CoCalc** é uma plataforma de computação em nuvem e de gerenciamento de cursos baseada na web para matemática computacional . Parte do projeto Sage , ele suporta a edição de planilhas Sage, documentos LaTeX e notebooks IPython. O CoCalc executa um ambiente Ubuntu Linux que pode ser interagido através de um terminal, adicionalmente dando acesso à maioria das capacidades do Linux.\n",
    "\n"
   ]
  },
  {
   "cell_type": "markdown",
   "metadata": {
    "collapsed": false
   },
   "source": [
    "O **CoCalc** suporta diretamente as planilhas da Sage, que avaliam de forma interativa o código do Sage. As planilhas de apoio Markdown e HTML para decoração, e R , Octave , Cython , Julia e outros para a programação, além de Sage. CoCalc suporta notebooks IPython, que são aprimorados com sincronização em tempo real para colaboração e uma função de gravação de histórico. Além disso, há também um editor completo do LaTeX , com suporte de colaboração, uma visualização do documento resultante e também suporte para o SageTeX . Com o terminal Linux, o SageMathCloud também suporta indiretamente a edição e execução de muitas outras linguagens, incluindo Java , C / C ++ , Perl , Ruby e outras linguagens populares que podem ser executadas no Linux. Outros pacotes podem ser instalados a pedido. \n",
    "\n",
    "Os usuários podem ter vários projetos no **CoCalc**, e cada projeto tem espaço em disco separado e pode estar em um servidor totalmente diferente. Muitos usuários podem colaborar em um único projeto e os documentos são sincronizados para que vários usuários possam editar o mesmo arquivo de uma só vez, semelhante ao Google Docs . Todos os dados em projetos são automaticamente copiados a cada cinco minutos com backup , e os instantâneos das versões anteriores estão acessíveis. Através do terminal, os arquivos podem ser rastreados usando sistemas de controle de revisão como o Git."
   ]
  },
  {
   "cell_type": "markdown",
   "metadata": {
    "collapsed": false,
    "slideshow": {
     "slide_type": "slide"
    }
   },
   "source": [
    "# Acessando o Curso no Moodle\n"
   ]
  },
  {
   "cell_type": "markdown",
   "metadata": {
    "collapsed": false,
    "slideshow": {
     "slide_type": "slide"
    }
   },
   "source": [
    "Iremos manter o material do Curso também no Moodle. Assim todos deverão se cadastrar no curso. \n",
    "\n",
    "- Inicialmente acesse o ambiente Moodle em http://www.moodle.unesp.br\n",
    "- Se inscreva no curso Fisica Computacional\n",
    "- A chave do curso é ocdfmdbeomdb"
   ]
  },
  {
   "cell_type": "markdown",
   "metadata": {
    "collapsed": false,
    "slideshow": {
     "slide_type": "slide"
    }
   },
   "source": [
    "# GitHub"
   ]
  },
  {
   "cell_type": "markdown",
   "metadata": {
    "collapsed": false,
    "slideshow": {
     "slide_type": "slide"
    }
   },
   "source": [
    "O Material para esse curso está diponível também no GitHub. \n",
    "\n",
    "https://github.com/neylemke/fiscom2017\n",
    "\n",
    "O GitHub facilita o processo de Download. \n",
    "\n",
    "\n",
    "Para baixar em um ambiente Linux ou Mac basta digitar\n",
    "\n",
    "```git clone https://github.com/neylemke/fiscom2017```\n",
    "\n"
   ]
  },
  {
   "cell_type": "markdown",
   "metadata": {
    "collapsed": false
   },
   "source": [
    "## Exportando para PDF\n",
    "\n",
    "Será necessário Exportar eventalmente nossos resultados para PDF. Abra um terminal no SageMathCloud e digite:\n",
    "\n",
    "```jupyter nbconvert --to pdf file.ipynb```\n"
   ]
  },
  {
   "cell_type": "code",
   "execution_count": 0,
   "metadata": {
    "collapsed": true
   },
   "outputs": [
   ],
   "source": [
   ]
  }
 ],
 "metadata": {
  "celltoolbar": "Slideshow",
  "kernelspec": {
   "display_name": "Python 3 (Ubuntu Linux)",
   "language": "python",
   "name": "python3"
  },
  "language_info": {
   "codemirror_mode": {
    "name": "ipython",
    "version": 3
   },
   "file_extension": ".py",
   "mimetype": "text/x-python",
   "name": "python",
   "nbconvert_exporter": "python",
   "pygments_lexer": "ipython3",
   "version": "3.6.7"
  }
 },
 "nbformat": 4,
 "nbformat_minor": 0
}