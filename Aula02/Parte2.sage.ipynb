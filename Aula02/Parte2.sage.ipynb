{
 "cells": [
  {
   "cell_type": "markdown",
   "metadata": {
    "collapsed": false,
    "slideshow": {
     "slide_type": "slide"
    }
   },
   "source": [
    "# Plataforma  Jupyter\n",
    "\n",
    "\n",
    "* Docente:* Professor Dr. Ney Lemke \n",
    "* Emails para dúvidas:* ney.lemke@unesp.br "
   ]
  },
  {
   "cell_type": "markdown",
   "metadata": {
    "collapsed": false
   },
   "source": [
    "## Plataforma Jupyter\n",
    "\n",
    "### O que é Jupyter?\n",
    "\n",
    "- IPython é uma plataforma de código aberto para computação interativa e paralela\n",
    "- IPython pode ser usado com a linguagem de programação Python, mas a plataforma também suporta muitas outras linguagens como R, Julia, Haskell ou Ruby. A arquitetura do projeto é, de fato, independente da linguagem, consistindo em protocolos de mensagens e clientes interativos (incluindo o notebook baseado em navegador). \n",
    "- Em julho de 2014, o Projeto Jupyter foi anunciado pelos desenvolvedores do IPython. Este projeto focalizará as partes independentes da linguagem do IPython (incluindo a arquitetura do notebook).\n",
    "\n",
    "### Uma breve retrospectiva histórica sobre Python como um ambiente científico\n",
    "- Python é uma linguagem de alto nível de propósito geral originalmente concebida por Guido van Rossum no final dos anos 80.\n",
    "- Esta linguagem fácil de usar é a base de muitos programas de script que colam diferentes componentes de software (linguagem de colagem) juntos. Além disso, o Python vem com uma biblioteca extremamente rica (as baterias incluíram filosofia), que abrange processamento de seqüência de caracteres, protocolos Internet, interfaces de sistemas operacionais e muitos outros domínios.\n",
    "- No final dos anos 90, Travis Oliphant e outros começaram a construir ferramentas eficientes para lidar com dados numéricos em Python: Numeric, Numarray e, finalmente, NumPy. SciPy, que implementa muitos algoritmos de computação numérica, também foi criado em cima de NumPy. No início dos anos 2000, John Hunter criou matplotlib para trazer gráficos científicos para Python. Ao mesmo tempo, Fernando Perez criou o IPython para melhorar a interatividade ea produtividade em Python. Todas as ferramentas fundamentais estavam aqui para transformar Python em um grande código aberto de alto desempenho para a computação científica e análise de dados.\n",
    "- No final dos anos 2000, Wes McKinney criou pandas para a manipulação e análise de tabelas numéricas e séries temporais. Ao mesmo tempo, os desenvolvedores do IPython começaram a trabalhar em um cliente de notebooks inspirado em software matemático, como Sage, Maple e Mathematica. Finalmente, o IPython 0.12, lançado em dezembro de 2011, introduziu o notebook baseado em HTML que passou agora mainstream.\n",
    "- Em 2013, a equipe IPython recebeu uma doação da Fundação Sloan e uma doação da Microsoft para apoiar o desenvolvimento do notebook. IPython 2.0, lançado no início de 2014, trouxe muitas melhorias e recursos há muito aguardados.\n",
    "- O IPython 3.0 e 4.0, planejados para o final de 2014 / início de 2015, devem facilitar o uso de kernels que não sejam Python e fornecer recursos multi-usuários ao notebook.\n",
    "\n",
    "\n"
   ]
  },
  {
   "cell_type": "markdown",
   "metadata": {
    "collapsed": false,
    "slideshow": {
     "slide_type": "subslide"
    }
   },
   "source": [
    "## Introdução a plataforma Jupyter\n",
    "O notebook é a principal característica do Jupyter. Este ambiente interativo baseado na web combina código, texto rico, imagens, vídeos, animações, matemática e gráficos em um único documento. Esta ferramenta moderna é um gateway ideal para computação numérica de alto desempenho e ciência de dados em Python.\n",
    "\n",
    "\n"
   ]
  },
  {
   "cell_type": "markdown",
   "metadata": {
    "collapsed": false,
    "slideshow": {
     "slide_type": "subslide"
    }
   },
   "source": [
    "## Jupyter notebook\n",
    "\n",
    " O Jupyter Notebook é uma aplicação web de código aberto que permite criar e partilhar documentos que contêm código, equações, visualizações e texto explicativo. Usos incluem: limpeza de dados e transformação, simulação numérica, modelagem estatística, aprendizagem de máquina e muito mais."
   ]
  },
  {
   "cell_type": "markdown",
   "metadata": {
    "collapsed": false,
    "slideshow": {
     "slide_type": "subslide"
    }
   },
   "source": [
    "##  notebook\n",
    "- O Cocalc é uma plataforma de computação em nuvem e de gerenciamento de cursos baseada na web para matemática computacional . Parte do projeto Sage , ele suporta a edição de planilhas Sage, documentos LaTeX e notebooks IPython. O Cocalc executa um ambiente Ubuntu Linux que pode ser interagido através de um terminal, adicionalmente dando acesso à maioria das capacidades do Linux.\n",
    "\n",
    "### Acessando o jupyter notebook pelo CoCalc\n",
    "- Após a inscrição do aluno no CoCalc, o usuário receberá o convite para o projeto **FísicaComputacional2019** e ao clicar em **Files** será possível encontrar o diretório com os arquivos de aula.\n",
    "![sage1](tut4.png)\n",
    "\n",
    "- Ainda em **Files** o usuário deverá clicar em **new** e criar um notebook chamado **Resposta**.\n",
    "\n",
    "\n",
    "- Nesse ambiente o aluno reakizará o exercício 1, conforme o exemplo abaixo.\n",
    "![sage4](tut7.png)\n",
    "\n"
   ]
  },
  {
   "cell_type": "markdown",
   "metadata": {
    "collapsed": false
   },
   "source": [
    "- **Exercício1.** Crie um notebook no jupyter com o  exemplo acima.\n",
    "- **Exercício2.** Exporte o exercício 1 para PDF e envie para ney.lemke@unesp.br.\n",
    "\n"
   ]
  },
  {
   "cell_type": "markdown",
   "metadata": {
    "collapsed": false
   },
   "source": [
    "## Extra\n",
    "### Instalação\n",
    "Se você está apenas começando com computação científica em Python, a opção mais simples é instalar uma distribuição Python all-in-one. As distribuições mais comuns são:\n",
    "\n",
    "- **Anaconda** (licença gratuita ou comercial) disponível em: ** http://store.continuum.io/cshop/anaconda/**\n",
    "- **Canopy** (licença gratuita ou comercial) disponível em: ** www.enthought.com/products/marquise/**\n",
    "- **Python** (x, y) uma distribuição gratuita apenas para Windows, disponível em: ** Https://code.google.com/p/pythonxy/**\n",
    "\n",
    "Recomendamos altamente Anaconda. Essas distribuições contêm tudo o que você precisa para começar. Você também pode instalar pacotes adicionais conforme necessário. Você encontrará todas as instruções de instalação nos links mencionados anteriormente.\n",
    "\n",
    "![Anaconda](tutjupyter1.png)\n",
    "\n"
   ]
  },
  {
   "cell_type": "markdown",
   "metadata": {
    "collapsed": false,
    "slideshow": {
     "slide_type": "subslide"
    }
   },
   "source": [
    "IPython Cookbook, by Cyrille Rossant, Packt Publishing, 2014 (500 pages)."
   ]
  }
 ],
 "metadata": {
  "celltoolbar": "Slideshow",
  "kernelspec": {
   "display_name": "Python 3 (Ubuntu Linux)",
   "language": "python",
   "name": "python3"
  },
  "language_info": {
   "codemirror_mode": {
    "name": "ipython",
    "version": 3
   },
   "file_extension": ".py",
   "mimetype": "text/x-python",
   "name": "python",
   "nbconvert_exporter": "python",
   "pygments_lexer": "ipython3",
   "version": "3.6.7"
  }
 },
 "nbformat": 4,
 "nbformat_minor": 0
}