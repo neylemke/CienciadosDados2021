{
 "cells": [
  {
   "cell_type": "markdown",
   "metadata": {
    "collapsed": false,
    "slideshow": {
     "slide_type": "slide"
    }
   },
   "source": [
    "#  Manipulação de Arquivos e dados em Python"
   ]
  },
  {
   "cell_type": "markdown",
   "metadata": {
    "collapsed": false
   },
   "source": [
    "## Pandas"
   ]
  },
  {
   "cell_type": "code",
   "execution_count": 2,
   "metadata": {
    "collapsed": false
   },
   "outputs": [
   ],
   "source": [
    "import pandas as pd\n",
    "import numpy as np\n"
   ]
  },
  {
   "cell_type": "code",
   "execution_count": 5,
   "metadata": {
    "collapsed": false
   },
   "outputs": [
   ],
   "source": [
    "lispoktab=pd.read_html( \"https://pt.wikipedia.org/wiki/Lista_de_epis%C3%B3dios_de_Pok%C3%A9mon\")"
   ]
  },
  {
   "cell_type": "code",
   "execution_count": 13,
   "metadata": {
    "collapsed": false,
    "scrolled": true
   },
   "outputs": [
    {
     "data": {
      "text/plain": [
       "14"
      ]
     },
     "execution_count": 13,
     "metadata": {
     },
     "output_type": "execute_result"
    }
   ],
   "source": [
    "len(lispoktab)"
   ]
  },
  {
   "cell_type": "code",
   "execution_count": 17,
   "metadata": {
    "collapsed": false
   },
   "outputs": [
    {
     "data": {
      "text/html": [
       "<div>\n",
       "<style scoped>\n",
       "    .dataframe tbody tr th:only-of-type {\n",
       "        vertical-align: middle;\n",
       "    }\n",
       "\n",
       "    .dataframe tbody tr th {\n",
       "        vertical-align: top;\n",
       "    }\n",
       "\n",
       "    .dataframe thead th {\n",
       "        text-align: right;\n",
       "    }\n",
       "</style>\n",
       "<table border=\"1\" class=\"dataframe\">\n",
       "  <thead>\n",
       "    <tr style=\"text-align: right;\">\n",
       "      <th></th>\n",
       "      <th>Série</th>\n",
       "      <th>Geração</th>\n",
       "      <th>Temporada</th>\n",
       "      <th>Descrição</th>\n",
       "      <th>Episódios</th>\n",
       "      <th>Região</th>\n",
       "    </tr>\n",
       "  </thead>\n",
       "  <tbody>\n",
       "    <tr>\n",
       "      <th>0</th>\n",
       "      <td>Série Original (O Início/Ouro e Prata)</td>\n",
       "      <td>Primeira (O Início)</td>\n",
       "      <td>Liga Índigo</td>\n",
       "      <td>O treinador novato Ash Ketchum começa sua jorn...</td>\n",
       "      <td>001-083</td>\n",
       "      <td>Kanto</td>\n",
       "    </tr>\n",
       "    <tr>\n",
       "      <th>1</th>\n",
       "      <td>Série Original (O Início/Ouro e Prata)</td>\n",
       "      <td>Primeira (O Início)</td>\n",
       "      <td>Aventuras nas Ilhas Laranja</td>\n",
       "      <td>Depois de competir na Liga Índigo e não ter o ...</td>\n",
       "      <td>084-118</td>\n",
       "      <td>Ilhas Laranja</td>\n",
       "    </tr>\n",
       "    <tr>\n",
       "      <th>2</th>\n",
       "      <td>Série Original (O Início/Ouro e Prata)</td>\n",
       "      <td>Segunda (Ouro e Prata)</td>\n",
       "      <td>Liga Johto</td>\n",
       "      <td>Quando o Professor Carvalho não consegue desco...</td>\n",
       "      <td>119-159</td>\n",
       "      <td>Johto</td>\n",
       "    </tr>\n",
       "    <tr>\n",
       "      <th>3</th>\n",
       "      <td>Série Original (O Início/Ouro e Prata)</td>\n",
       "      <td>Segunda (Ouro e Prata)</td>\n",
       "      <td>Campeões da Liga Johto</td>\n",
       "      <td>Continua com as aventuras de Ash e seus amigos...</td>\n",
       "      <td>160-211</td>\n",
       "      <td>Johto</td>\n",
       "    </tr>\n",
       "    <tr>\n",
       "      <th>4</th>\n",
       "      <td>Série Original (O Início/Ouro e Prata)</td>\n",
       "      <td>Segunda (Ouro e Prata)</td>\n",
       "      <td>Master Quest</td>\n",
       "      <td>Ash, Misty e Brock em sua jornada descobrem um...</td>\n",
       "      <td>212-276</td>\n",
       "      <td>Johto</td>\n",
       "    </tr>\n",
       "    <tr>\n",
       "      <th>5</th>\n",
       "      <td>Rubi e Safira</td>\n",
       "      <td>Terceira</td>\n",
       "      <td>Pokémon: Avançado</td>\n",
       "      <td>Inicia as Aventuras de Ash e Brock em Hoenn. N...</td>\n",
       "      <td>277-316</td>\n",
       "      <td>Hoenn</td>\n",
       "    </tr>\n",
       "    <tr>\n",
       "      <th>6</th>\n",
       "      <td>Rubi e Safira</td>\n",
       "      <td>Terceira</td>\n",
       "      <td>Desafio Avançado</td>\n",
       "      <td>Continua com a jornada de Ash e seus amigos em...</td>\n",
       "      <td>317-368</td>\n",
       "      <td>Hoenn</td>\n",
       "    </tr>\n",
       "    <tr>\n",
       "      <th>7</th>\n",
       "      <td>Rubi e Safira</td>\n",
       "      <td>Terceira</td>\n",
       "      <td>Batalha Avançada</td>\n",
       "      <td>As equipes Magma e Aqua despertam Groudon e Ky...</td>\n",
       "      <td>369-422</td>\n",
       "      <td>Hoenn</td>\n",
       "    </tr>\n",
       "    <tr>\n",
       "      <th>8</th>\n",
       "      <td>Rubi e Safira</td>\n",
       "      <td>Terceira</td>\n",
       "      <td>Batalha da Fronteira</td>\n",
       "      <td>Conclui a Jornada na Batalha da Fronteira. May...</td>\n",
       "      <td>423-469</td>\n",
       "      <td>Kanto</td>\n",
       "    </tr>\n",
       "    <tr>\n",
       "      <th>9</th>\n",
       "      <td>Diamante e Pérola</td>\n",
       "      <td>Quarta</td>\n",
       "      <td>Diamante e Pérola</td>\n",
       "      <td>Inicia as aventuras de Ash e Brock em Sinnoh c...</td>\n",
       "      <td>470-521</td>\n",
       "      <td>Sinnoh</td>\n",
       "    </tr>\n",
       "    <tr>\n",
       "      <th>10</th>\n",
       "      <td>Diamante e Pérola</td>\n",
       "      <td>Quarta</td>\n",
       "      <td>Batalha Dimensional</td>\n",
       "      <td>Continua as aventuras de Ash, Brock e Dawn em ...</td>\n",
       "      <td>522-573</td>\n",
       "      <td>Sinnoh</td>\n",
       "    </tr>\n",
       "    <tr>\n",
       "      <th>11</th>\n",
       "      <td>Diamante e Pérola</td>\n",
       "      <td>Quarta</td>\n",
       "      <td>Batalhas Galácticas</td>\n",
       "      <td>Continua a jornada de Ash, Dawn e Brock em Sin...</td>\n",
       "      <td>574-626</td>\n",
       "      <td>Sinnoh</td>\n",
       "    </tr>\n",
       "    <tr>\n",
       "      <th>12</th>\n",
       "      <td>Diamante e Pérola</td>\n",
       "      <td>Quarta</td>\n",
       "      <td>Vencedores da Liga Sinnoh</td>\n",
       "      <td>Conclui a jornada de Ash, Dawn e Brock em Sinn...</td>\n",
       "      <td>627-660</td>\n",
       "      <td>Sinnoh</td>\n",
       "    </tr>\n",
       "    <tr>\n",
       "      <th>13</th>\n",
       "      <td>Preto e Branco</td>\n",
       "      <td>Quinta</td>\n",
       "      <td>Preto e Branco</td>\n",
       "      <td>Inicia as aventuras de Ash na região de Unova ...</td>\n",
       "      <td>661-708</td>\n",
       "      <td>Unova</td>\n",
       "    </tr>\n",
       "    <tr>\n",
       "      <th>14</th>\n",
       "      <td>Preto e Branco</td>\n",
       "      <td>Quinta</td>\n",
       "      <td>Destinos Rivais</td>\n",
       "      <td>Ash reencontra Dawn e Cynthia. Ash e seus amig...</td>\n",
       "      <td>709-757</td>\n",
       "      <td>Unova</td>\n",
       "    </tr>\n",
       "    <tr>\n",
       "      <th>15</th>\n",
       "      <td>Preto e Branco</td>\n",
       "      <td>Quinta</td>\n",
       "      <td>Aventuras em Unova (e Mais Além)</td>\n",
       "      <td>Continua a jornada de Ash, Iris e Cilan em Uno...</td>\n",
       "      <td>758-804</td>\n",
       "      <td>Unova</td>\n",
       "    </tr>\n",
       "    <tr>\n",
       "      <th>16</th>\n",
       "      <td>XY</td>\n",
       "      <td>Sexta</td>\n",
       "      <td>A Série XY</td>\n",
       "      <td>Inicia as aventuras de Ash na região de Kalos ...</td>\n",
       "      <td>805-853</td>\n",
       "      <td>Kalos</td>\n",
       "    </tr>\n",
       "    <tr>\n",
       "      <th>17</th>\n",
       "      <td>XY</td>\n",
       "      <td>Sexta</td>\n",
       "      <td>Desafio em Kalos</td>\n",
       "      <td>Continua as aventuras de Ash, Serena, Clemont ...</td>\n",
       "      <td>854-898</td>\n",
       "      <td>Kalos</td>\n",
       "    </tr>\n",
       "    <tr>\n",
       "      <th>18</th>\n",
       "      <td>XY</td>\n",
       "      <td>Sexta</td>\n",
       "      <td>A Série: XY &amp; Z</td>\n",
       "      <td>Continua a saga de Ash ,Clement, Bonnie e Sere...</td>\n",
       "      <td>899-951</td>\n",
       "      <td>Kalos</td>\n",
       "    </tr>\n",
       "    <tr>\n",
       "      <th>19</th>\n",
       "      <td>Sol e Lua</td>\n",
       "      <td>Sétima</td>\n",
       "      <td>Sol e Lua</td>\n",
       "      <td>Inicia as aventuras de Ash, Victória, Lulú, Ki...</td>\n",
       "      <td>952-994</td>\n",
       "      <td>Alola</td>\n",
       "    </tr>\n",
       "    <tr>\n",
       "      <th>20</th>\n",
       "      <td>Sol e Lua</td>\n",
       "      <td>Sétima</td>\n",
       "      <td>Ultra Aventuras</td>\n",
       "      <td>Continua as aventuras de Ash e seus colegas de...</td>\n",
       "      <td>995-1037</td>\n",
       "      <td>Alola</td>\n",
       "    </tr>\n",
       "    <tr>\n",
       "      <th>21</th>\n",
       "      <td>Sol e Lua</td>\n",
       "      <td>Sétima</td>\n",
       "      <td>Ultra Lendas</td>\n",
       "      <td>NaN</td>\n",
       "      <td>1038-###</td>\n",
       "      <td>Alola</td>\n",
       "    </tr>\n",
       "  </tbody>\n",
       "</table>\n",
       "</div>"
      ],
      "text/plain": [
       "                                     Série                 Geração  \\\n",
       "0   Série Original (O Início/Ouro e Prata)     Primeira (O Início)   \n",
       "1   Série Original (O Início/Ouro e Prata)     Primeira (O Início)   \n",
       "2   Série Original (O Início/Ouro e Prata)  Segunda (Ouro e Prata)   \n",
       "3   Série Original (O Início/Ouro e Prata)  Segunda (Ouro e Prata)   \n",
       "4   Série Original (O Início/Ouro e Prata)  Segunda (Ouro e Prata)   \n",
       "5                            Rubi e Safira                Terceira   \n",
       "6                            Rubi e Safira                Terceira   \n",
       "7                            Rubi e Safira                Terceira   \n",
       "8                            Rubi e Safira                Terceira   \n",
       "9                        Diamante e Pérola                  Quarta   \n",
       "10                       Diamante e Pérola                  Quarta   \n",
       "11                       Diamante e Pérola                  Quarta   \n",
       "12                       Diamante e Pérola                  Quarta   \n",
       "13                          Preto e Branco                  Quinta   \n",
       "14                          Preto e Branco                  Quinta   \n",
       "15                          Preto e Branco                  Quinta   \n",
       "16                                      XY                   Sexta   \n",
       "17                                      XY                   Sexta   \n",
       "18                                      XY                   Sexta   \n",
       "19                               Sol e Lua                  Sétima   \n",
       "20                               Sol e Lua                  Sétima   \n",
       "21                               Sol e Lua                  Sétima   \n",
       "\n",
       "                           Temporada  \\\n",
       "0                        Liga Índigo   \n",
       "1        Aventuras nas Ilhas Laranja   \n",
       "2                         Liga Johto   \n",
       "3             Campeões da Liga Johto   \n",
       "4                       Master Quest   \n",
       "5                  Pokémon: Avançado   \n",
       "6                   Desafio Avançado   \n",
       "7                   Batalha Avançada   \n",
       "8               Batalha da Fronteira   \n",
       "9                  Diamante e Pérola   \n",
       "10               Batalha Dimensional   \n",
       "11               Batalhas Galácticas   \n",
       "12         Vencedores da Liga Sinnoh   \n",
       "13                    Preto e Branco   \n",
       "14                   Destinos Rivais   \n",
       "15  Aventuras em Unova (e Mais Além)   \n",
       "16                        A Série XY   \n",
       "17                  Desafio em Kalos   \n",
       "18                   A Série: XY & Z   \n",
       "19                         Sol e Lua   \n",
       "20                   Ultra Aventuras   \n",
       "21                      Ultra Lendas   \n",
       "\n",
       "                                            Descrição Episódios         Região  \n",
       "0   O treinador novato Ash Ketchum começa sua jorn...   001-083          Kanto  \n",
       "1   Depois de competir na Liga Índigo e não ter o ...   084-118  Ilhas Laranja  \n",
       "2   Quando o Professor Carvalho não consegue desco...   119-159          Johto  \n",
       "3   Continua com as aventuras de Ash e seus amigos...   160-211          Johto  \n",
       "4   Ash, Misty e Brock em sua jornada descobrem um...   212-276          Johto  \n",
       "5   Inicia as Aventuras de Ash e Brock em Hoenn. N...   277-316          Hoenn  \n",
       "6   Continua com a jornada de Ash e seus amigos em...   317-368          Hoenn  \n",
       "7   As equipes Magma e Aqua despertam Groudon e Ky...   369-422          Hoenn  \n",
       "8   Conclui a Jornada na Batalha da Fronteira. May...   423-469          Kanto  \n",
       "9   Inicia as aventuras de Ash e Brock em Sinnoh c...   470-521         Sinnoh  \n",
       "10  Continua as aventuras de Ash, Brock e Dawn em ...   522-573         Sinnoh  \n",
       "11  Continua a jornada de Ash, Dawn e Brock em Sin...   574-626         Sinnoh  \n",
       "12  Conclui a jornada de Ash, Dawn e Brock em Sinn...   627-660         Sinnoh  \n",
       "13  Inicia as aventuras de Ash na região de Unova ...   661-708          Unova  \n",
       "14  Ash reencontra Dawn e Cynthia. Ash e seus amig...   709-757          Unova  \n",
       "15  Continua a jornada de Ash, Iris e Cilan em Uno...   758-804          Unova  \n",
       "16  Inicia as aventuras de Ash na região de Kalos ...   805-853          Kalos  \n",
       "17  Continua as aventuras de Ash, Serena, Clemont ...   854-898          Kalos  \n",
       "18  Continua a saga de Ash ,Clement, Bonnie e Sere...   899-951          Kalos  \n",
       "19  Inicia as aventuras de Ash, Victória, Lulú, Ki...   952-994          Alola  \n",
       "20  Continua as aventuras de Ash e seus colegas de...  995-1037          Alola  \n",
       "21                                                NaN  1038-###          Alola  "
      ]
     },
     "execution_count": 17,
     "metadata": {
     },
     "output_type": "execute_result"
    }
   ],
   "source": [
    "lispoktab[1]"
   ]
  },
  {
   "cell_type": "code",
   "execution_count": 20,
   "metadata": {
    "collapsed": false
   },
   "outputs": [
   ],
   "source": [
    "df=lispoktab[1]\n"
   ]
  },
  {
   "cell_type": "code",
   "execution_count": 21,
   "metadata": {
    "collapsed": false
   },
   "outputs": [
    {
     "data": {
      "text/html": [
       "<div>\n",
       "<style scoped>\n",
       "    .dataframe tbody tr th:only-of-type {\n",
       "        vertical-align: middle;\n",
       "    }\n",
       "\n",
       "    .dataframe tbody tr th {\n",
       "        vertical-align: top;\n",
       "    }\n",
       "\n",
       "    .dataframe thead th {\n",
       "        text-align: right;\n",
       "    }\n",
       "</style>\n",
       "<table border=\"1\" class=\"dataframe\">\n",
       "  <thead>\n",
       "    <tr style=\"text-align: right;\">\n",
       "      <th></th>\n",
       "      <th>Série</th>\n",
       "      <th>Geração</th>\n",
       "      <th>Temporada</th>\n",
       "      <th>Descrição</th>\n",
       "      <th>Episódios</th>\n",
       "      <th>Região</th>\n",
       "    </tr>\n",
       "  </thead>\n",
       "  <tbody>\n",
       "    <tr>\n",
       "      <th>0</th>\n",
       "      <td>Série Original (O Início/Ouro e Prata)</td>\n",
       "      <td>Primeira (O Início)</td>\n",
       "      <td>Liga Índigo</td>\n",
       "      <td>O treinador novato Ash Ketchum começa sua jorn...</td>\n",
       "      <td>001-083</td>\n",
       "      <td>Kanto</td>\n",
       "    </tr>\n",
       "    <tr>\n",
       "      <th>1</th>\n",
       "      <td>Série Original (O Início/Ouro e Prata)</td>\n",
       "      <td>Primeira (O Início)</td>\n",
       "      <td>Aventuras nas Ilhas Laranja</td>\n",
       "      <td>Depois de competir na Liga Índigo e não ter o ...</td>\n",
       "      <td>084-118</td>\n",
       "      <td>Ilhas Laranja</td>\n",
       "    </tr>\n",
       "    <tr>\n",
       "      <th>2</th>\n",
       "      <td>Série Original (O Início/Ouro e Prata)</td>\n",
       "      <td>Segunda (Ouro e Prata)</td>\n",
       "      <td>Liga Johto</td>\n",
       "      <td>Quando o Professor Carvalho não consegue desco...</td>\n",
       "      <td>119-159</td>\n",
       "      <td>Johto</td>\n",
       "    </tr>\n",
       "    <tr>\n",
       "      <th>3</th>\n",
       "      <td>Série Original (O Início/Ouro e Prata)</td>\n",
       "      <td>Segunda (Ouro e Prata)</td>\n",
       "      <td>Campeões da Liga Johto</td>\n",
       "      <td>Continua com as aventuras de Ash e seus amigos...</td>\n",
       "      <td>160-211</td>\n",
       "      <td>Johto</td>\n",
       "    </tr>\n",
       "    <tr>\n",
       "      <th>4</th>\n",
       "      <td>Série Original (O Início/Ouro e Prata)</td>\n",
       "      <td>Segunda (Ouro e Prata)</td>\n",
       "      <td>Master Quest</td>\n",
       "      <td>Ash, Misty e Brock em sua jornada descobrem um...</td>\n",
       "      <td>212-276</td>\n",
       "      <td>Johto</td>\n",
       "    </tr>\n",
       "    <tr>\n",
       "      <th>5</th>\n",
       "      <td>Rubi e Safira</td>\n",
       "      <td>Terceira</td>\n",
       "      <td>Pokémon: Avançado</td>\n",
       "      <td>Inicia as Aventuras de Ash e Brock em Hoenn. N...</td>\n",
       "      <td>277-316</td>\n",
       "      <td>Hoenn</td>\n",
       "    </tr>\n",
       "    <tr>\n",
       "      <th>6</th>\n",
       "      <td>Rubi e Safira</td>\n",
       "      <td>Terceira</td>\n",
       "      <td>Desafio Avançado</td>\n",
       "      <td>Continua com a jornada de Ash e seus amigos em...</td>\n",
       "      <td>317-368</td>\n",
       "      <td>Hoenn</td>\n",
       "    </tr>\n",
       "    <tr>\n",
       "      <th>7</th>\n",
       "      <td>Rubi e Safira</td>\n",
       "      <td>Terceira</td>\n",
       "      <td>Batalha Avançada</td>\n",
       "      <td>As equipes Magma e Aqua despertam Groudon e Ky...</td>\n",
       "      <td>369-422</td>\n",
       "      <td>Hoenn</td>\n",
       "    </tr>\n",
       "    <tr>\n",
       "      <th>8</th>\n",
       "      <td>Rubi e Safira</td>\n",
       "      <td>Terceira</td>\n",
       "      <td>Batalha da Fronteira</td>\n",
       "      <td>Conclui a Jornada na Batalha da Fronteira. May...</td>\n",
       "      <td>423-469</td>\n",
       "      <td>Kanto</td>\n",
       "    </tr>\n",
       "    <tr>\n",
       "      <th>9</th>\n",
       "      <td>Diamante e Pérola</td>\n",
       "      <td>Quarta</td>\n",
       "      <td>Diamante e Pérola</td>\n",
       "      <td>Inicia as aventuras de Ash e Brock em Sinnoh c...</td>\n",
       "      <td>470-521</td>\n",
       "      <td>Sinnoh</td>\n",
       "    </tr>\n",
       "    <tr>\n",
       "      <th>10</th>\n",
       "      <td>Diamante e Pérola</td>\n",
       "      <td>Quarta</td>\n",
       "      <td>Batalha Dimensional</td>\n",
       "      <td>Continua as aventuras de Ash, Brock e Dawn em ...</td>\n",
       "      <td>522-573</td>\n",
       "      <td>Sinnoh</td>\n",
       "    </tr>\n",
       "    <tr>\n",
       "      <th>11</th>\n",
       "      <td>Diamante e Pérola</td>\n",
       "      <td>Quarta</td>\n",
       "      <td>Batalhas Galácticas</td>\n",
       "      <td>Continua a jornada de Ash, Dawn e Brock em Sin...</td>\n",
       "      <td>574-626</td>\n",
       "      <td>Sinnoh</td>\n",
       "    </tr>\n",
       "    <tr>\n",
       "      <th>12</th>\n",
       "      <td>Diamante e Pérola</td>\n",
       "      <td>Quarta</td>\n",
       "      <td>Vencedores da Liga Sinnoh</td>\n",
       "      <td>Conclui a jornada de Ash, Dawn e Brock em Sinn...</td>\n",
       "      <td>627-660</td>\n",
       "      <td>Sinnoh</td>\n",
       "    </tr>\n",
       "    <tr>\n",
       "      <th>13</th>\n",
       "      <td>Preto e Branco</td>\n",
       "      <td>Quinta</td>\n",
       "      <td>Preto e Branco</td>\n",
       "      <td>Inicia as aventuras de Ash na região de Unova ...</td>\n",
       "      <td>661-708</td>\n",
       "      <td>Unova</td>\n",
       "    </tr>\n",
       "    <tr>\n",
       "      <th>14</th>\n",
       "      <td>Preto e Branco</td>\n",
       "      <td>Quinta</td>\n",
       "      <td>Destinos Rivais</td>\n",
       "      <td>Ash reencontra Dawn e Cynthia. Ash e seus amig...</td>\n",
       "      <td>709-757</td>\n",
       "      <td>Unova</td>\n",
       "    </tr>\n",
       "    <tr>\n",
       "      <th>15</th>\n",
       "      <td>Preto e Branco</td>\n",
       "      <td>Quinta</td>\n",
       "      <td>Aventuras em Unova (e Mais Além)</td>\n",
       "      <td>Continua a jornada de Ash, Iris e Cilan em Uno...</td>\n",
       "      <td>758-804</td>\n",
       "      <td>Unova</td>\n",
       "    </tr>\n",
       "    <tr>\n",
       "      <th>16</th>\n",
       "      <td>XY</td>\n",
       "      <td>Sexta</td>\n",
       "      <td>A Série XY</td>\n",
       "      <td>Inicia as aventuras de Ash na região de Kalos ...</td>\n",
       "      <td>805-853</td>\n",
       "      <td>Kalos</td>\n",
       "    </tr>\n",
       "    <tr>\n",
       "      <th>17</th>\n",
       "      <td>XY</td>\n",
       "      <td>Sexta</td>\n",
       "      <td>Desafio em Kalos</td>\n",
       "      <td>Continua as aventuras de Ash, Serena, Clemont ...</td>\n",
       "      <td>854-898</td>\n",
       "      <td>Kalos</td>\n",
       "    </tr>\n",
       "    <tr>\n",
       "      <th>18</th>\n",
       "      <td>XY</td>\n",
       "      <td>Sexta</td>\n",
       "      <td>A Série: XY &amp; Z</td>\n",
       "      <td>Continua a saga de Ash ,Clement, Bonnie e Sere...</td>\n",
       "      <td>899-951</td>\n",
       "      <td>Kalos</td>\n",
       "    </tr>\n",
       "    <tr>\n",
       "      <th>19</th>\n",
       "      <td>Sol e Lua</td>\n",
       "      <td>Sétima</td>\n",
       "      <td>Sol e Lua</td>\n",
       "      <td>Inicia as aventuras de Ash, Victória, Lulú, Ki...</td>\n",
       "      <td>952-994</td>\n",
       "      <td>Alola</td>\n",
       "    </tr>\n",
       "    <tr>\n",
       "      <th>20</th>\n",
       "      <td>Sol e Lua</td>\n",
       "      <td>Sétima</td>\n",
       "      <td>Ultra Aventuras</td>\n",
       "      <td>Continua as aventuras de Ash e seus colegas de...</td>\n",
       "      <td>995-1037</td>\n",
       "      <td>Alola</td>\n",
       "    </tr>\n",
       "    <tr>\n",
       "      <th>21</th>\n",
       "      <td>Sol e Lua</td>\n",
       "      <td>Sétima</td>\n",
       "      <td>Ultra Lendas</td>\n",
       "      <td>NaN</td>\n",
       "      <td>1038-###</td>\n",
       "      <td>Alola</td>\n",
       "    </tr>\n",
       "  </tbody>\n",
       "</table>\n",
       "</div>"
      ],
      "text/plain": [
       "                                     Série                 Geração  \\\n",
       "0   Série Original (O Início/Ouro e Prata)     Primeira (O Início)   \n",
       "1   Série Original (O Início/Ouro e Prata)     Primeira (O Início)   \n",
       "2   Série Original (O Início/Ouro e Prata)  Segunda (Ouro e Prata)   \n",
       "3   Série Original (O Início/Ouro e Prata)  Segunda (Ouro e Prata)   \n",
       "4   Série Original (O Início/Ouro e Prata)  Segunda (Ouro e Prata)   \n",
       "5                            Rubi e Safira                Terceira   \n",
       "6                            Rubi e Safira                Terceira   \n",
       "7                            Rubi e Safira                Terceira   \n",
       "8                            Rubi e Safira                Terceira   \n",
       "9                        Diamante e Pérola                  Quarta   \n",
       "10                       Diamante e Pérola                  Quarta   \n",
       "11                       Diamante e Pérola                  Quarta   \n",
       "12                       Diamante e Pérola                  Quarta   \n",
       "13                          Preto e Branco                  Quinta   \n",
       "14                          Preto e Branco                  Quinta   \n",
       "15                          Preto e Branco                  Quinta   \n",
       "16                                      XY                   Sexta   \n",
       "17                                      XY                   Sexta   \n",
       "18                                      XY                   Sexta   \n",
       "19                               Sol e Lua                  Sétima   \n",
       "20                               Sol e Lua                  Sétima   \n",
       "21                               Sol e Lua                  Sétima   \n",
       "\n",
       "                           Temporada  \\\n",
       "0                        Liga Índigo   \n",
       "1        Aventuras nas Ilhas Laranja   \n",
       "2                         Liga Johto   \n",
       "3             Campeões da Liga Johto   \n",
       "4                       Master Quest   \n",
       "5                  Pokémon: Avançado   \n",
       "6                   Desafio Avançado   \n",
       "7                   Batalha Avançada   \n",
       "8               Batalha da Fronteira   \n",
       "9                  Diamante e Pérola   \n",
       "10               Batalha Dimensional   \n",
       "11               Batalhas Galácticas   \n",
       "12         Vencedores da Liga Sinnoh   \n",
       "13                    Preto e Branco   \n",
       "14                   Destinos Rivais   \n",
       "15  Aventuras em Unova (e Mais Além)   \n",
       "16                        A Série XY   \n",
       "17                  Desafio em Kalos   \n",
       "18                   A Série: XY & Z   \n",
       "19                         Sol e Lua   \n",
       "20                   Ultra Aventuras   \n",
       "21                      Ultra Lendas   \n",
       "\n",
       "                                            Descrição Episódios         Região  \n",
       "0   O treinador novato Ash Ketchum começa sua jorn...   001-083          Kanto  \n",
       "1   Depois de competir na Liga Índigo e não ter o ...   084-118  Ilhas Laranja  \n",
       "2   Quando o Professor Carvalho não consegue desco...   119-159          Johto  \n",
       "3   Continua com as aventuras de Ash e seus amigos...   160-211          Johto  \n",
       "4   Ash, Misty e Brock em sua jornada descobrem um...   212-276          Johto  \n",
       "5   Inicia as Aventuras de Ash e Brock em Hoenn. N...   277-316          Hoenn  \n",
       "6   Continua com a jornada de Ash e seus amigos em...   317-368          Hoenn  \n",
       "7   As equipes Magma e Aqua despertam Groudon e Ky...   369-422          Hoenn  \n",
       "8   Conclui a Jornada na Batalha da Fronteira. May...   423-469          Kanto  \n",
       "9   Inicia as aventuras de Ash e Brock em Sinnoh c...   470-521         Sinnoh  \n",
       "10  Continua as aventuras de Ash, Brock e Dawn em ...   522-573         Sinnoh  \n",
       "11  Continua a jornada de Ash, Dawn e Brock em Sin...   574-626         Sinnoh  \n",
       "12  Conclui a jornada de Ash, Dawn e Brock em Sinn...   627-660         Sinnoh  \n",
       "13  Inicia as aventuras de Ash na região de Unova ...   661-708          Unova  \n",
       "14  Ash reencontra Dawn e Cynthia. Ash e seus amig...   709-757          Unova  \n",
       "15  Continua a jornada de Ash, Iris e Cilan em Uno...   758-804          Unova  \n",
       "16  Inicia as aventuras de Ash na região de Kalos ...   805-853          Kalos  \n",
       "17  Continua as aventuras de Ash, Serena, Clemont ...   854-898          Kalos  \n",
       "18  Continua a saga de Ash ,Clement, Bonnie e Sere...   899-951          Kalos  \n",
       "19  Inicia as aventuras de Ash, Victória, Lulú, Ki...   952-994          Alola  \n",
       "20  Continua as aventuras de Ash e seus colegas de...  995-1037          Alola  \n",
       "21                                                NaN  1038-###          Alola  "
      ]
     },
     "execution_count": 21,
     "metadata": {
     },
     "output_type": "execute_result"
    }
   ],
   "source": [
    "df"
   ]
  },
  {
   "cell_type": "code",
   "execution_count": 72,
   "metadata": {
    "collapsed": false
   },
   "outputs": [
   ],
   "source": [
    "df2=df[:-2] # Elimina a ultima linha"
   ]
  },
  {
   "cell_type": "markdown",
   "metadata": {
    "collapsed": false
   },
   "source": [
    "## Perguntas\n"
   ]
  },
  {
   "cell_type": "markdown",
   "metadata": {
    "collapsed": false
   },
   "source": [
    "Quantas regiões diferentes existem?"
   ]
  },
  {
   "cell_type": "code",
   "execution_count": 73,
   "metadata": {
    "collapsed": false
   },
   "outputs": [
    {
     "data": {
      "text/plain": [
       "8"
      ]
     },
     "execution_count": 73,
     "metadata": {
     },
     "output_type": "execute_result"
    }
   ],
   "source": [
    "len(set(df2[\"Região\"]))"
   ]
  },
  {
   "cell_type": "markdown",
   "metadata": {
    "collapsed": false
   },
   "source": [
    "Construa uma coluna com o número de episódios."
   ]
  },
  {
   "cell_type": "code",
   "execution_count": 74,
   "metadata": {
    "collapsed": false
   },
   "outputs": [
    {
     "data": {
      "text/plain": [
       "83"
      ]
     },
     "execution_count": 74,
     "metadata": {
     },
     "output_type": "execute_result"
    }
   ],
   "source": [
    "strepisodios=df2[\"Episódios\"][0]\n",
    "\n",
    "lis=strepisodios.split(\"-\")\n",
    "lis2=[int(elem) for elem in lis]\n",
    "lis2[1]-lis2[0]+1"
   ]
  },
  {
   "cell_type": "code",
   "execution_count": 75,
   "metadata": {
    "collapsed": false
   },
   "outputs": [
    {
     "data": {
      "text/plain": [
       "[1, 83]"
      ]
     },
     "execution_count": 75,
     "metadata": {
     },
     "output_type": "execute_result"
    }
   ],
   "source": [
    "lis2"
   ]
  },
  {
   "cell_type": "code",
   "execution_count": 76,
   "metadata": {
    "collapsed": false
   },
   "outputs": [
   ],
   "source": [
    "def geraduracao(string):\n",
    "    lis=string.split(\"-\")\n",
    "    lis2=[int(elem) for elem in lis]\n",
    "    return lis2[1]-lis2[0]+1"
   ]
  },
  {
   "cell_type": "code",
   "execution_count": 77,
   "metadata": {
    "collapsed": false
   },
   "outputs": [
    {
     "name": "stderr",
     "output_type": "stream",
     "text": [
      "/usr/local/lib/python3.6/dist-packages/ipykernel/__main__.py:2: SettingWithCopyWarning: \n",
      "A value is trying to be set on a copy of a slice from a DataFrame.\n",
      "Try using .loc[row_indexer,col_indexer] = value instead\n",
      "\n",
      "See the caveats in the documentation: http://pandas.pydata.org/pandas-docs/stable/indexing.html#indexing-view-versus-copy\n",
      "  from ipykernel import kernelapp as app\n"
     ]
    }
   ],
   "source": [
    "teste=list((df2[\"Episódios\"].apply(geraduracao)))\n",
    "df2[\"Duração\"]=pd.Series(teste)\n"
   ]
  },
  {
   "cell_type": "code",
   "execution_count": 78,
   "metadata": {
    "collapsed": false
   },
   "outputs": [
    {
     "data": {
      "text/html": [
       "<div>\n",
       "<style scoped>\n",
       "    .dataframe tbody tr th:only-of-type {\n",
       "        vertical-align: middle;\n",
       "    }\n",
       "\n",
       "    .dataframe tbody tr th {\n",
       "        vertical-align: top;\n",
       "    }\n",
       "\n",
       "    .dataframe thead th {\n",
       "        text-align: right;\n",
       "    }\n",
       "</style>\n",
       "<table border=\"1\" class=\"dataframe\">\n",
       "  <thead>\n",
       "    <tr style=\"text-align: right;\">\n",
       "      <th></th>\n",
       "      <th>Série</th>\n",
       "      <th>Geração</th>\n",
       "      <th>Temporada</th>\n",
       "      <th>Descrição</th>\n",
       "      <th>Episódios</th>\n",
       "      <th>Região</th>\n",
       "      <th>Duração</th>\n",
       "    </tr>\n",
       "  </thead>\n",
       "  <tbody>\n",
       "    <tr>\n",
       "      <th>0</th>\n",
       "      <td>Série Original (O Início/Ouro e Prata)</td>\n",
       "      <td>Primeira (O Início)</td>\n",
       "      <td>Liga Índigo</td>\n",
       "      <td>O treinador novato Ash Ketchum começa sua jorn...</td>\n",
       "      <td>001-083</td>\n",
       "      <td>Kanto</td>\n",
       "      <td>83</td>\n",
       "    </tr>\n",
       "    <tr>\n",
       "      <th>1</th>\n",
       "      <td>Série Original (O Início/Ouro e Prata)</td>\n",
       "      <td>Primeira (O Início)</td>\n",
       "      <td>Aventuras nas Ilhas Laranja</td>\n",
       "      <td>Depois de competir na Liga Índigo e não ter o ...</td>\n",
       "      <td>084-118</td>\n",
       "      <td>Ilhas Laranja</td>\n",
       "      <td>35</td>\n",
       "    </tr>\n",
       "    <tr>\n",
       "      <th>2</th>\n",
       "      <td>Série Original (O Início/Ouro e Prata)</td>\n",
       "      <td>Segunda (Ouro e Prata)</td>\n",
       "      <td>Liga Johto</td>\n",
       "      <td>Quando o Professor Carvalho não consegue desco...</td>\n",
       "      <td>119-159</td>\n",
       "      <td>Johto</td>\n",
       "      <td>41</td>\n",
       "    </tr>\n",
       "    <tr>\n",
       "      <th>3</th>\n",
       "      <td>Série Original (O Início/Ouro e Prata)</td>\n",
       "      <td>Segunda (Ouro e Prata)</td>\n",
       "      <td>Campeões da Liga Johto</td>\n",
       "      <td>Continua com as aventuras de Ash e seus amigos...</td>\n",
       "      <td>160-211</td>\n",
       "      <td>Johto</td>\n",
       "      <td>52</td>\n",
       "    </tr>\n",
       "    <tr>\n",
       "      <th>4</th>\n",
       "      <td>Série Original (O Início/Ouro e Prata)</td>\n",
       "      <td>Segunda (Ouro e Prata)</td>\n",
       "      <td>Master Quest</td>\n",
       "      <td>Ash, Misty e Brock em sua jornada descobrem um...</td>\n",
       "      <td>212-276</td>\n",
       "      <td>Johto</td>\n",
       "      <td>65</td>\n",
       "    </tr>\n",
       "    <tr>\n",
       "      <th>5</th>\n",
       "      <td>Rubi e Safira</td>\n",
       "      <td>Terceira</td>\n",
       "      <td>Pokémon: Avançado</td>\n",
       "      <td>Inicia as Aventuras de Ash e Brock em Hoenn. N...</td>\n",
       "      <td>277-316</td>\n",
       "      <td>Hoenn</td>\n",
       "      <td>40</td>\n",
       "    </tr>\n",
       "    <tr>\n",
       "      <th>6</th>\n",
       "      <td>Rubi e Safira</td>\n",
       "      <td>Terceira</td>\n",
       "      <td>Desafio Avançado</td>\n",
       "      <td>Continua com a jornada de Ash e seus amigos em...</td>\n",
       "      <td>317-368</td>\n",
       "      <td>Hoenn</td>\n",
       "      <td>52</td>\n",
       "    </tr>\n",
       "    <tr>\n",
       "      <th>7</th>\n",
       "      <td>Rubi e Safira</td>\n",
       "      <td>Terceira</td>\n",
       "      <td>Batalha Avançada</td>\n",
       "      <td>As equipes Magma e Aqua despertam Groudon e Ky...</td>\n",
       "      <td>369-422</td>\n",
       "      <td>Hoenn</td>\n",
       "      <td>54</td>\n",
       "    </tr>\n",
       "    <tr>\n",
       "      <th>8</th>\n",
       "      <td>Rubi e Safira</td>\n",
       "      <td>Terceira</td>\n",
       "      <td>Batalha da Fronteira</td>\n",
       "      <td>Conclui a Jornada na Batalha da Fronteira. May...</td>\n",
       "      <td>423-469</td>\n",
       "      <td>Kanto</td>\n",
       "      <td>47</td>\n",
       "    </tr>\n",
       "    <tr>\n",
       "      <th>9</th>\n",
       "      <td>Diamante e Pérola</td>\n",
       "      <td>Quarta</td>\n",
       "      <td>Diamante e Pérola</td>\n",
       "      <td>Inicia as aventuras de Ash e Brock em Sinnoh c...</td>\n",
       "      <td>470-521</td>\n",
       "      <td>Sinnoh</td>\n",
       "      <td>52</td>\n",
       "    </tr>\n",
       "    <tr>\n",
       "      <th>10</th>\n",
       "      <td>Diamante e Pérola</td>\n",
       "      <td>Quarta</td>\n",
       "      <td>Batalha Dimensional</td>\n",
       "      <td>Continua as aventuras de Ash, Brock e Dawn em ...</td>\n",
       "      <td>522-573</td>\n",
       "      <td>Sinnoh</td>\n",
       "      <td>52</td>\n",
       "    </tr>\n",
       "    <tr>\n",
       "      <th>11</th>\n",
       "      <td>Diamante e Pérola</td>\n",
       "      <td>Quarta</td>\n",
       "      <td>Batalhas Galácticas</td>\n",
       "      <td>Continua a jornada de Ash, Dawn e Brock em Sin...</td>\n",
       "      <td>574-626</td>\n",
       "      <td>Sinnoh</td>\n",
       "      <td>53</td>\n",
       "    </tr>\n",
       "    <tr>\n",
       "      <th>12</th>\n",
       "      <td>Diamante e Pérola</td>\n",
       "      <td>Quarta</td>\n",
       "      <td>Vencedores da Liga Sinnoh</td>\n",
       "      <td>Conclui a jornada de Ash, Dawn e Brock em Sinn...</td>\n",
       "      <td>627-660</td>\n",
       "      <td>Sinnoh</td>\n",
       "      <td>34</td>\n",
       "    </tr>\n",
       "    <tr>\n",
       "      <th>13</th>\n",
       "      <td>Preto e Branco</td>\n",
       "      <td>Quinta</td>\n",
       "      <td>Preto e Branco</td>\n",
       "      <td>Inicia as aventuras de Ash na região de Unova ...</td>\n",
       "      <td>661-708</td>\n",
       "      <td>Unova</td>\n",
       "      <td>48</td>\n",
       "    </tr>\n",
       "    <tr>\n",
       "      <th>14</th>\n",
       "      <td>Preto e Branco</td>\n",
       "      <td>Quinta</td>\n",
       "      <td>Destinos Rivais</td>\n",
       "      <td>Ash reencontra Dawn e Cynthia. Ash e seus amig...</td>\n",
       "      <td>709-757</td>\n",
       "      <td>Unova</td>\n",
       "      <td>49</td>\n",
       "    </tr>\n",
       "    <tr>\n",
       "      <th>15</th>\n",
       "      <td>Preto e Branco</td>\n",
       "      <td>Quinta</td>\n",
       "      <td>Aventuras em Unova (e Mais Além)</td>\n",
       "      <td>Continua a jornada de Ash, Iris e Cilan em Uno...</td>\n",
       "      <td>758-804</td>\n",
       "      <td>Unova</td>\n",
       "      <td>47</td>\n",
       "    </tr>\n",
       "    <tr>\n",
       "      <th>16</th>\n",
       "      <td>XY</td>\n",
       "      <td>Sexta</td>\n",
       "      <td>A Série XY</td>\n",
       "      <td>Inicia as aventuras de Ash na região de Kalos ...</td>\n",
       "      <td>805-853</td>\n",
       "      <td>Kalos</td>\n",
       "      <td>49</td>\n",
       "    </tr>\n",
       "    <tr>\n",
       "      <th>17</th>\n",
       "      <td>XY</td>\n",
       "      <td>Sexta</td>\n",
       "      <td>Desafio em Kalos</td>\n",
       "      <td>Continua as aventuras de Ash, Serena, Clemont ...</td>\n",
       "      <td>854-898</td>\n",
       "      <td>Kalos</td>\n",
       "      <td>45</td>\n",
       "    </tr>\n",
       "    <tr>\n",
       "      <th>18</th>\n",
       "      <td>XY</td>\n",
       "      <td>Sexta</td>\n",
       "      <td>A Série: XY &amp; Z</td>\n",
       "      <td>Continua a saga de Ash ,Clement, Bonnie e Sere...</td>\n",
       "      <td>899-951</td>\n",
       "      <td>Kalos</td>\n",
       "      <td>53</td>\n",
       "    </tr>\n",
       "    <tr>\n",
       "      <th>19</th>\n",
       "      <td>Sol e Lua</td>\n",
       "      <td>Sétima</td>\n",
       "      <td>Sol e Lua</td>\n",
       "      <td>Inicia as aventuras de Ash, Victória, Lulú, Ki...</td>\n",
       "      <td>952-994</td>\n",
       "      <td>Alola</td>\n",
       "      <td>43</td>\n",
       "    </tr>\n",
       "  </tbody>\n",
       "</table>\n",
       "</div>"
      ],
      "text/plain": [
       "                                     Série                 Geração  \\\n",
       "0   Série Original (O Início/Ouro e Prata)     Primeira (O Início)   \n",
       "1   Série Original (O Início/Ouro e Prata)     Primeira (O Início)   \n",
       "2   Série Original (O Início/Ouro e Prata)  Segunda (Ouro e Prata)   \n",
       "3   Série Original (O Início/Ouro e Prata)  Segunda (Ouro e Prata)   \n",
       "4   Série Original (O Início/Ouro e Prata)  Segunda (Ouro e Prata)   \n",
       "5                            Rubi e Safira                Terceira   \n",
       "6                            Rubi e Safira                Terceira   \n",
       "7                            Rubi e Safira                Terceira   \n",
       "8                            Rubi e Safira                Terceira   \n",
       "9                        Diamante e Pérola                  Quarta   \n",
       "10                       Diamante e Pérola                  Quarta   \n",
       "11                       Diamante e Pérola                  Quarta   \n",
       "12                       Diamante e Pérola                  Quarta   \n",
       "13                          Preto e Branco                  Quinta   \n",
       "14                          Preto e Branco                  Quinta   \n",
       "15                          Preto e Branco                  Quinta   \n",
       "16                                      XY                   Sexta   \n",
       "17                                      XY                   Sexta   \n",
       "18                                      XY                   Sexta   \n",
       "19                               Sol e Lua                  Sétima   \n",
       "\n",
       "                           Temporada  \\\n",
       "0                        Liga Índigo   \n",
       "1        Aventuras nas Ilhas Laranja   \n",
       "2                         Liga Johto   \n",
       "3             Campeões da Liga Johto   \n",
       "4                       Master Quest   \n",
       "5                  Pokémon: Avançado   \n",
       "6                   Desafio Avançado   \n",
       "7                   Batalha Avançada   \n",
       "8               Batalha da Fronteira   \n",
       "9                  Diamante e Pérola   \n",
       "10               Batalha Dimensional   \n",
       "11               Batalhas Galácticas   \n",
       "12         Vencedores da Liga Sinnoh   \n",
       "13                    Preto e Branco   \n",
       "14                   Destinos Rivais   \n",
       "15  Aventuras em Unova (e Mais Além)   \n",
       "16                        A Série XY   \n",
       "17                  Desafio em Kalos   \n",
       "18                   A Série: XY & Z   \n",
       "19                         Sol e Lua   \n",
       "\n",
       "                                            Descrição Episódios  \\\n",
       "0   O treinador novato Ash Ketchum começa sua jorn...   001-083   \n",
       "1   Depois de competir na Liga Índigo e não ter o ...   084-118   \n",
       "2   Quando o Professor Carvalho não consegue desco...   119-159   \n",
       "3   Continua com as aventuras de Ash e seus amigos...   160-211   \n",
       "4   Ash, Misty e Brock em sua jornada descobrem um...   212-276   \n",
       "5   Inicia as Aventuras de Ash e Brock em Hoenn. N...   277-316   \n",
       "6   Continua com a jornada de Ash e seus amigos em...   317-368   \n",
       "7   As equipes Magma e Aqua despertam Groudon e Ky...   369-422   \n",
       "8   Conclui a Jornada na Batalha da Fronteira. May...   423-469   \n",
       "9   Inicia as aventuras de Ash e Brock em Sinnoh c...   470-521   \n",
       "10  Continua as aventuras de Ash, Brock e Dawn em ...   522-573   \n",
       "11  Continua a jornada de Ash, Dawn e Brock em Sin...   574-626   \n",
       "12  Conclui a jornada de Ash, Dawn e Brock em Sinn...   627-660   \n",
       "13  Inicia as aventuras de Ash na região de Unova ...   661-708   \n",
       "14  Ash reencontra Dawn e Cynthia. Ash e seus amig...   709-757   \n",
       "15  Continua a jornada de Ash, Iris e Cilan em Uno...   758-804   \n",
       "16  Inicia as aventuras de Ash na região de Kalos ...   805-853   \n",
       "17  Continua as aventuras de Ash, Serena, Clemont ...   854-898   \n",
       "18  Continua a saga de Ash ,Clement, Bonnie e Sere...   899-951   \n",
       "19  Inicia as aventuras de Ash, Victória, Lulú, Ki...   952-994   \n",
       "\n",
       "           Região  Duração  \n",
       "0           Kanto       83  \n",
       "1   Ilhas Laranja       35  \n",
       "2           Johto       41  \n",
       "3           Johto       52  \n",
       "4           Johto       65  \n",
       "5           Hoenn       40  \n",
       "6           Hoenn       52  \n",
       "7           Hoenn       54  \n",
       "8           Kanto       47  \n",
       "9          Sinnoh       52  \n",
       "10         Sinnoh       52  \n",
       "11         Sinnoh       53  \n",
       "12         Sinnoh       34  \n",
       "13          Unova       48  \n",
       "14          Unova       49  \n",
       "15          Unova       47  \n",
       "16          Kalos       49  \n",
       "17          Kalos       45  \n",
       "18          Kalos       53  \n",
       "19          Alola       43  "
      ]
     },
     "execution_count": 78,
     "metadata": {
     },
     "output_type": "execute_result"
    }
   ],
   "source": [
    "df2"
   ]
  },
  {
   "cell_type": "markdown",
   "metadata": {
    "collapsed": false
   },
   "source": [
    "## Exercícios\n",
    "\n",
    "- Calcule o número de episódios em cada geração. "
   ]
  },
  {
   "cell_type": "markdown",
   "metadata": {
    "collapsed": false
   },
   "source": [
    "## Exemplo Tenis"
   ]
  },
  {
   "cell_type": "markdown",
   "metadata": {
    "collapsed": false
   },
   "source": [
    "### Para baixar os programas use o comando (não será necessário no SageMathCloud)"
   ]
  },
  {
   "cell_type": "code",
   "execution_count": 162,
   "metadata": {
    "collapsed": false
   },
   "outputs": [
    {
     "name": "stdout",
     "output_type": "stream",
     "text": [
      "Archive:  tennis.zip\n"
     ]
    },
    {
     "name": "stderr",
     "output_type": "stream",
     "text": [
      "fatal: destination path 'cookbook-data' already exists and is not an empty directory.\n",
      "replace data/Andy-Murray.csv? [y]es, [n]o, [A]ll, [N]one, [r]ename:  NULL\n",
      "(EOF or read error, treating as \"[N]one\" ...)\n"
     ]
    }
   ],
   "source": [
    "%%sh\n",
    "\n",
    "git clone https://github.com/ipython-books/cookbook-data.git\n",
    "cd cookbook-data\n",
    "unzip tennis.zip"
   ]
  },
  {
   "cell_type": "code",
   "execution_count": 79,
   "metadata": {
    "collapsed": false
   },
   "outputs": [
    {
     "ename": "FileNotFoundError",
     "evalue": "[Errno 2] File b'./cookbook-data/data/Roger-Federer.csv' does not exist: b'./cookbook-data/data/Roger-Federer.csv'",
     "output_type": "error",
     "traceback": [
      "\u001b[0;31m---------------------------------------------------------------------------\u001b[0m",
      "\u001b[0;31mFileNotFoundError\u001b[0m                         Traceback (most recent call last)",
      "\u001b[0;32m<ipython-input-79-2e942cad9582>\u001b[0m in \u001b[0;36m<module>\u001b[0;34m()\u001b[0m\n\u001b[1;32m      4\u001b[0m \u001b[0mplayer\u001b[0m \u001b[0;34m=\u001b[0m \u001b[0;34m'Roger Federer'\u001b[0m\u001b[0;34m\u001b[0m\u001b[0;34m\u001b[0m\u001b[0m\n\u001b[1;32m      5\u001b[0m \u001b[0mfilename\u001b[0m \u001b[0;34m=\u001b[0m \u001b[0;34m\"./cookbook-data/data/{name}.csv\"\u001b[0m\u001b[0;34m.\u001b[0m\u001b[0mformat\u001b[0m\u001b[0;34m(\u001b[0m\u001b[0mname\u001b[0m\u001b[0;34m=\u001b[0m\u001b[0mplayer\u001b[0m\u001b[0;34m.\u001b[0m\u001b[0mreplace\u001b[0m\u001b[0;34m(\u001b[0m\u001b[0;34m' '\u001b[0m\u001b[0;34m,\u001b[0m \u001b[0;34m'-'\u001b[0m\u001b[0;34m)\u001b[0m\u001b[0;34m)\u001b[0m\u001b[0;34m\u001b[0m\u001b[0;34m\u001b[0m\u001b[0m\n\u001b[0;32m----> 6\u001b[0;31m \u001b[0mdf\u001b[0m \u001b[0;34m=\u001b[0m \u001b[0mpd\u001b[0m\u001b[0;34m.\u001b[0m\u001b[0mread_csv\u001b[0m\u001b[0;34m(\u001b[0m\u001b[0mfilename\u001b[0m\u001b[0;34m)\u001b[0m\u001b[0;34m\u001b[0m\u001b[0;34m\u001b[0m\u001b[0m\n\u001b[0m",
      "\u001b[0;32m/usr/local/lib/python3.6/dist-packages/pandas/io/parsers.py\u001b[0m in \u001b[0;36mparser_f\u001b[0;34m(filepath_or_buffer, sep, delimiter, header, names, index_col, usecols, squeeze, prefix, mangle_dupe_cols, dtype, engine, converters, true_values, false_values, skipinitialspace, skiprows, skipfooter, nrows, na_values, keep_default_na, na_filter, verbose, skip_blank_lines, parse_dates, infer_datetime_format, keep_date_col, date_parser, dayfirst, iterator, chunksize, compression, thousands, decimal, lineterminator, quotechar, quoting, doublequote, escapechar, comment, encoding, dialect, tupleize_cols, error_bad_lines, warn_bad_lines, delim_whitespace, low_memory, memory_map, float_precision)\u001b[0m\n\u001b[1;32m    700\u001b[0m                     skip_blank_lines=skip_blank_lines)\n\u001b[1;32m    701\u001b[0m \u001b[0;34m\u001b[0m\u001b[0m\n\u001b[0;32m--> 702\u001b[0;31m         \u001b[0;32mreturn\u001b[0m \u001b[0m_read\u001b[0m\u001b[0;34m(\u001b[0m\u001b[0mfilepath_or_buffer\u001b[0m\u001b[0;34m,\u001b[0m \u001b[0mkwds\u001b[0m\u001b[0;34m)\u001b[0m\u001b[0;34m\u001b[0m\u001b[0;34m\u001b[0m\u001b[0m\n\u001b[0m\u001b[1;32m    703\u001b[0m \u001b[0;34m\u001b[0m\u001b[0m\n\u001b[1;32m    704\u001b[0m     \u001b[0mparser_f\u001b[0m\u001b[0;34m.\u001b[0m\u001b[0m__name__\u001b[0m \u001b[0;34m=\u001b[0m \u001b[0mname\u001b[0m\u001b[0;34m\u001b[0m\u001b[0;34m\u001b[0m\u001b[0m\n",
      "\u001b[0;32m/usr/local/lib/python3.6/dist-packages/pandas/io/parsers.py\u001b[0m in \u001b[0;36m_read\u001b[0;34m(filepath_or_buffer, kwds)\u001b[0m\n\u001b[1;32m    427\u001b[0m \u001b[0;34m\u001b[0m\u001b[0m\n\u001b[1;32m    428\u001b[0m     \u001b[0;31m# Create the parser.\u001b[0m\u001b[0;34m\u001b[0m\u001b[0;34m\u001b[0m\u001b[0;34m\u001b[0m\u001b[0m\n\u001b[0;32m--> 429\u001b[0;31m     \u001b[0mparser\u001b[0m \u001b[0;34m=\u001b[0m \u001b[0mTextFileReader\u001b[0m\u001b[0;34m(\u001b[0m\u001b[0mfilepath_or_buffer\u001b[0m\u001b[0;34m,\u001b[0m \u001b[0;34m**\u001b[0m\u001b[0mkwds\u001b[0m\u001b[0;34m)\u001b[0m\u001b[0;34m\u001b[0m\u001b[0;34m\u001b[0m\u001b[0m\n\u001b[0m\u001b[1;32m    430\u001b[0m \u001b[0;34m\u001b[0m\u001b[0m\n\u001b[1;32m    431\u001b[0m     \u001b[0;32mif\u001b[0m \u001b[0mchunksize\u001b[0m \u001b[0;32mor\u001b[0m \u001b[0miterator\u001b[0m\u001b[0;34m:\u001b[0m\u001b[0;34m\u001b[0m\u001b[0;34m\u001b[0m\u001b[0m\n",
      "\u001b[0;32m/usr/local/lib/python3.6/dist-packages/pandas/io/parsers.py\u001b[0m in \u001b[0;36m__init__\u001b[0;34m(self, f, engine, **kwds)\u001b[0m\n\u001b[1;32m    893\u001b[0m             \u001b[0mself\u001b[0m\u001b[0;34m.\u001b[0m\u001b[0moptions\u001b[0m\u001b[0;34m[\u001b[0m\u001b[0;34m'has_index_names'\u001b[0m\u001b[0;34m]\u001b[0m \u001b[0;34m=\u001b[0m \u001b[0mkwds\u001b[0m\u001b[0;34m[\u001b[0m\u001b[0;34m'has_index_names'\u001b[0m\u001b[0;34m]\u001b[0m\u001b[0;34m\u001b[0m\u001b[0;34m\u001b[0m\u001b[0m\n\u001b[1;32m    894\u001b[0m \u001b[0;34m\u001b[0m\u001b[0m\n\u001b[0;32m--> 895\u001b[0;31m         \u001b[0mself\u001b[0m\u001b[0;34m.\u001b[0m\u001b[0m_make_engine\u001b[0m\u001b[0;34m(\u001b[0m\u001b[0mself\u001b[0m\u001b[0;34m.\u001b[0m\u001b[0mengine\u001b[0m\u001b[0;34m)\u001b[0m\u001b[0;34m\u001b[0m\u001b[0;34m\u001b[0m\u001b[0m\n\u001b[0m\u001b[1;32m    896\u001b[0m \u001b[0;34m\u001b[0m\u001b[0m\n\u001b[1;32m    897\u001b[0m     \u001b[0;32mdef\u001b[0m \u001b[0mclose\u001b[0m\u001b[0;34m(\u001b[0m\u001b[0mself\u001b[0m\u001b[0;34m)\u001b[0m\u001b[0;34m:\u001b[0m\u001b[0;34m\u001b[0m\u001b[0;34m\u001b[0m\u001b[0m\n",
      "\u001b[0;32m/usr/local/lib/python3.6/dist-packages/pandas/io/parsers.py\u001b[0m in \u001b[0;36m_make_engine\u001b[0;34m(self, engine)\u001b[0m\n\u001b[1;32m   1120\u001b[0m     \u001b[0;32mdef\u001b[0m \u001b[0m_make_engine\u001b[0m\u001b[0;34m(\u001b[0m\u001b[0mself\u001b[0m\u001b[0;34m,\u001b[0m \u001b[0mengine\u001b[0m\u001b[0;34m=\u001b[0m\u001b[0;34m'c'\u001b[0m\u001b[0;34m)\u001b[0m\u001b[0;34m:\u001b[0m\u001b[0;34m\u001b[0m\u001b[0;34m\u001b[0m\u001b[0m\n\u001b[1;32m   1121\u001b[0m         \u001b[0;32mif\u001b[0m \u001b[0mengine\u001b[0m \u001b[0;34m==\u001b[0m \u001b[0;34m'c'\u001b[0m\u001b[0;34m:\u001b[0m\u001b[0;34m\u001b[0m\u001b[0;34m\u001b[0m\u001b[0m\n\u001b[0;32m-> 1122\u001b[0;31m             \u001b[0mself\u001b[0m\u001b[0;34m.\u001b[0m\u001b[0m_engine\u001b[0m \u001b[0;34m=\u001b[0m \u001b[0mCParserWrapper\u001b[0m\u001b[0;34m(\u001b[0m\u001b[0mself\u001b[0m\u001b[0;34m.\u001b[0m\u001b[0mf\u001b[0m\u001b[0;34m,\u001b[0m \u001b[0;34m**\u001b[0m\u001b[0mself\u001b[0m\u001b[0;34m.\u001b[0m\u001b[0moptions\u001b[0m\u001b[0;34m)\u001b[0m\u001b[0;34m\u001b[0m\u001b[0;34m\u001b[0m\u001b[0m\n\u001b[0m\u001b[1;32m   1123\u001b[0m         \u001b[0;32melse\u001b[0m\u001b[0;34m:\u001b[0m\u001b[0;34m\u001b[0m\u001b[0;34m\u001b[0m\u001b[0m\n\u001b[1;32m   1124\u001b[0m             \u001b[0;32mif\u001b[0m \u001b[0mengine\u001b[0m \u001b[0;34m==\u001b[0m \u001b[0;34m'python'\u001b[0m\u001b[0;34m:\u001b[0m\u001b[0;34m\u001b[0m\u001b[0;34m\u001b[0m\u001b[0m\n",
      "\u001b[0;32m/usr/local/lib/python3.6/dist-packages/pandas/io/parsers.py\u001b[0m in \u001b[0;36m__init__\u001b[0;34m(self, src, **kwds)\u001b[0m\n\u001b[1;32m   1851\u001b[0m         \u001b[0mkwds\u001b[0m\u001b[0;34m[\u001b[0m\u001b[0;34m'usecols'\u001b[0m\u001b[0;34m]\u001b[0m \u001b[0;34m=\u001b[0m \u001b[0mself\u001b[0m\u001b[0;34m.\u001b[0m\u001b[0musecols\u001b[0m\u001b[0;34m\u001b[0m\u001b[0;34m\u001b[0m\u001b[0m\n\u001b[1;32m   1852\u001b[0m \u001b[0;34m\u001b[0m\u001b[0m\n\u001b[0;32m-> 1853\u001b[0;31m         \u001b[0mself\u001b[0m\u001b[0;34m.\u001b[0m\u001b[0m_reader\u001b[0m \u001b[0;34m=\u001b[0m \u001b[0mparsers\u001b[0m\u001b[0;34m.\u001b[0m\u001b[0mTextReader\u001b[0m\u001b[0;34m(\u001b[0m\u001b[0msrc\u001b[0m\u001b[0;34m,\u001b[0m \u001b[0;34m**\u001b[0m\u001b[0mkwds\u001b[0m\u001b[0;34m)\u001b[0m\u001b[0;34m\u001b[0m\u001b[0;34m\u001b[0m\u001b[0m\n\u001b[0m\u001b[1;32m   1854\u001b[0m         \u001b[0mself\u001b[0m\u001b[0;34m.\u001b[0m\u001b[0munnamed_cols\u001b[0m \u001b[0;34m=\u001b[0m \u001b[0mself\u001b[0m\u001b[0;34m.\u001b[0m\u001b[0m_reader\u001b[0m\u001b[0;34m.\u001b[0m\u001b[0munnamed_cols\u001b[0m\u001b[0;34m\u001b[0m\u001b[0;34m\u001b[0m\u001b[0m\n\u001b[1;32m   1855\u001b[0m \u001b[0;34m\u001b[0m\u001b[0m\n",
      "\u001b[0;32mpandas/_libs/parsers.pyx\u001b[0m in \u001b[0;36mpandas._libs.parsers.TextReader.__cinit__\u001b[0;34m()\u001b[0m\n",
      "\u001b[0;32mpandas/_libs/parsers.pyx\u001b[0m in \u001b[0;36mpandas._libs.parsers.TextReader._setup_parser_source\u001b[0;34m()\u001b[0m\n",
      "\u001b[0;31mFileNotFoundError\u001b[0m: [Errno 2] File b'./cookbook-data/data/Roger-Federer.csv' does not exist: b'./cookbook-data/data/Roger-Federer.csv'"
     ]
    }
   ],
   "source": [
    "import numpy as np\n",
    "import pandas as pd\n",
    "import matplotlib.pyplot as plt\n",
    "player = 'Roger Federer'\n",
    "filename = \"./cookbook-data/data/{name}.csv\".format(name=player.replace(' ', '-')) \n",
    "df = pd.read_csv(filename)"
   ]
  },
  {
   "cell_type": "code",
   "execution_count": 70,
   "metadata": {
    "collapsed": false,
    "scrolled": true
   },
   "outputs": [
    {
     "name": "stderr",
     "output_type": "stream",
     "text": [
      "WARNING: Some output was deleted.\n"
     ]
    }
   ],
   "source": [
    "df"
   ]
  },
  {
   "cell_type": "code",
   "execution_count": 71,
   "metadata": {
    "collapsed": false
   },
   "outputs": [
    {
     "data": {
      "text/plain": [
       "Index(['year', 'tournament', 'start date', 'type', 'surface', 'draw',\n",
       "       'atp points', 'atp ranking', 'tournament prize money', 'round',\n",
       "       'opponent', 'ranking', 'score', 'stats link', 'tournament.1',\n",
       "       'tournament round', 'time', 'winner', 'player1 name',\n",
       "       'player1 nationality', 'player1 aces', 'player1 double faults',\n",
       "       'player1 1st serves in', 'player1 1st serves total',\n",
       "       'player1 1st serve points won', 'player1 1st serve points total',\n",
       "       'player1 2nd serve points won', 'player1 2nd serve points total',\n",
       "       'player1 break points won', 'player1 break points total',\n",
       "       'player1 service games played', 'player1 1st serve return points won',\n",
       "       'player1 1st serve return points total',\n",
       "       'player1 2nd serve return points won',\n",
       "       'player1 2nd serve return points total',\n",
       "       'player1 break points converted won',\n",
       "       'player1 break points converted total', 'player1 return games played',\n",
       "       'player1 total service points won',\n",
       "       'player1 total service points total', 'player1 total return points won',\n",
       "       'player1 total return points total', 'player1 total points won',\n",
       "       'player1 total points total', 'player2 name', 'player2 nationality',\n",
       "       'player2 aces', 'player2 double faults', 'player2 1st serves in',\n",
       "       'player2 1st serves total', 'player2 1st serve points won',\n",
       "       'player2 1st serve points total', 'player2 2nd serve points won',\n",
       "       'player2 2nd serve points total', 'player2 break points won',\n",
       "       'player2 break points total', 'player2 service games played',\n",
       "       'player2 1st serve return points won',\n",
       "       'player2 1st serve return points total',\n",
       "       'player2 2nd serve return points won',\n",
       "       'player2 2nd serve return points total',\n",
       "       'player2 break points converted won',\n",
       "       'player2 break points converted total', 'player2 return games played',\n",
       "       'player2 total service points won',\n",
       "       'player2 total service points total', 'player2 total return points won',\n",
       "       'player2 total return points total', 'player2 total points won',\n",
       "       'player2 total points total'],\n",
       "      dtype='object')"
      ]
     },
     "execution_count": 71,
     "metadata": {
     },
     "output_type": "execute_result"
    }
   ],
   "source": [
    "df.columns"
   ]
  },
  {
   "cell_type": "code",
   "execution_count": 165,
   "metadata": {
    "collapsed": false
   },
   "outputs": [
    {
     "data": {
      "text/plain": [
       "1174    False\n",
       "1175     True\n",
       "1176     True\n",
       "1177     True\n",
       "1178    False\n",
       "Name: win, dtype: bool"
      ]
     },
     "execution_count": 165,
     "metadata": {
     },
     "output_type": "execute_result"
    }
   ],
   "source": [
    "df['win'] = df['winner'] == player\n",
    "df['win'].tail()"
   ]
  },
  {
   "cell_type": "code",
   "execution_count": 166,
   "metadata": {
    "collapsed": false
   },
   "outputs": [
    {
     "data": {
      "text/plain": [
       "'Roger Federer has won 82% of his ATP matches.'"
      ]
     },
     "execution_count": 166,
     "metadata": {
     },
     "output_type": "execute_result"
    }
   ],
   "source": [
    "(\"{player} has won {vic:.0f}% \"\n",
    "               \"of his ATP matches.\").format(\n",
    "                player=player, vic=100*df['win'].mean())"
   ]
  },
  {
   "cell_type": "code",
   "execution_count": 72,
   "metadata": {
    "collapsed": false
   },
   "outputs": [
   ],
   "source": [
    "df['dblfaults'] = (df['player1 double faults'] / \n",
    "                   df['player1 total points total'])"
   ]
  },
  {
   "cell_type": "code",
   "execution_count": 73,
   "metadata": {
    "collapsed": false
   },
   "outputs": [
    {
     "data": {
      "text/plain": [
       "1174    0.018116\n",
       "1175    0.000000\n",
       "1176    0.000000\n",
       "1177    0.011561\n",
       "1178         NaN\n",
       "Name: dblfaults, dtype: float64"
      ]
     },
     "execution_count": 73,
     "metadata": {
     },
     "output_type": "execute_result"
    }
   ],
   "source": [
    "df['dblfaults'].tail()"
   ]
  },
  {
   "cell_type": "code",
   "execution_count": 169,
   "metadata": {
    "collapsed": false
   },
   "outputs": [
   ],
   "source": [
    "gb = df.groupby('year')"
   ]
  },
  {
   "cell_type": "code",
   "execution_count": 170,
   "metadata": {
    "collapsed": false,
    "scrolled": true
   },
   "outputs": [
    {
     "data": {
      "image/png": "[encoded data removed]"
     },
     "execution_count": 170,
     "metadata": {
     },
     "output_type": "execute_result"
    }
   ],
   "source": [
    "plt.plot_date(gb['start date'].max(), gb['dblfaults'].mean(), '-', lw=3)\n",
    "plt.plot_date(df['start date'], df['dblfaults'], alpha=.25, lw=0)\n",
    "plt.ylabel('Proportion of double faults per match.')\n",
    "plt.xlabel('Year')\n",
    "plt.show()"
   ]
  },
  {
   "cell_type": "markdown",
   "metadata": {
    "collapsed": false
   },
   "source": [
    "**Exercício:**\n",
    "\n",
    "1. Construa uma tabela com o número de vitórias e derrotas de Federer para cada tipo de terreno. "
   ]
  }
 ],
 "metadata": {
  "celltoolbar": "Slideshow",
  "kernelspec": {
   "display_name": "Python 3 (Ubuntu Linux)",
   "language": "python",
   "metadata": {
    "cocalc": {
     "description": "Python 3 programming language",
     "priority": 100,
     "url": "https://www.python.org/"
    }
   },
   "name": "python3"
  },
  "language_info": {
   "codemirror_mode": {
    "name": "ipython",
    "version": 3
   },
   "file_extension": ".py",
   "mimetype": "text/x-python",
   "name": "python",
   "nbconvert_exporter": "python",
   "pygments_lexer": "ipython3",
   "version": "3.6.7"
  }
 },
 "nbformat": 4,
 "nbformat_minor": 0
}