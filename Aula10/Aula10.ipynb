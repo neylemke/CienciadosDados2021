{
 "cells": [
  {
   "cell_type": "markdown",
   "metadata": {
    "collapsed": false,
    "slideshow": {
     "slide_type": "slide"
    }
   },
   "source": [
    "#  Manipulação de Arquivos e dados em Python"
   ]
  },
  {
   "cell_type": "markdown",
   "metadata": {
    "collapsed": false
   },
   "source": [
    "## Pandas"
   ]
  },
  {
   "cell_type": "code",
   "execution_count": 1,
   "metadata": {
    "collapsed": false
   },
   "outputs": [
   ],
   "source": [
    "import pandas as pd\n",
    "import numpy as np\n"
   ]
  },
  {
   "cell_type": "code",
   "execution_count": 2,
   "metadata": {
    "collapsed": false
   },
   "outputs": [
   ],
   "source": [
    "# Se quiserem fazer fora do Cocalc\n",
    "lispoktab=pd.read_html( \"https://pt.wikipedia.org/wiki/Lista_de_epis%C3%B3dios_de_Pok%C3%A9mon\")"
   ]
  },
  {
   "cell_type": "code",
   "execution_count": 9,
   "metadata": {
    "collapsed": false
   },
   "outputs": [
   ],
   "source": [
    "lispoktab=pd.read_html(\"Lista_de_episódios_de_Pokémon\")"
   ]
  },
  {
   "cell_type": "code",
   "execution_count": 3,
   "metadata": {
    "collapsed": false,
    "scrolled": true
   },
   "outputs": [
    {
     "data": {
      "text/plain": [
       "14"
      ]
     },
     "execution_count": 3,
     "metadata": {
     },
     "output_type": "execute_result"
    }
   ],
   "source": [
    "len(lispoktab)"
   ]
  },
  {
   "cell_type": "code",
   "execution_count": 10,
   "metadata": {
    "collapsed": false,
    "scrolled": true
   },
   "outputs": [
    {
     "data": {
      "text/html": [
       "<div>\n",
       "<style scoped>\n",
       "    .dataframe tbody tr th:only-of-type {\n",
       "        vertical-align: middle;\n",
       "    }\n",
       "\n",
       "    .dataframe tbody tr th {\n",
       "        vertical-align: top;\n",
       "    }\n",
       "\n",
       "    .dataframe thead th {\n",
       "        text-align: right;\n",
       "    }\n",
       "</style>\n",
       "<table border=\"1\" class=\"dataframe\">\n",
       "  <thead>\n",
       "    <tr style=\"text-align: right;\">\n",
       "      <th></th>\n",
       "      <th>Série</th>\n",
       "      <th>Geração</th>\n",
       "      <th>Temporada</th>\n",
       "      <th>Descrição</th>\n",
       "      <th>Episódios</th>\n",
       "      <th>Região</th>\n",
       "    </tr>\n",
       "  </thead>\n",
       "  <tbody>\n",
       "    <tr>\n",
       "      <th>0</th>\n",
       "      <td>Série</td>\n",
       "      <td>Geração</td>\n",
       "      <td>Temporada</td>\n",
       "      <td>Descrição</td>\n",
       "      <td>Episódios</td>\n",
       "      <td>Região</td>\n",
       "    </tr>\n",
       "    <tr>\n",
       "      <th>1</th>\n",
       "      <td>Série Original (O Início/Ouro e Prata)</td>\n",
       "      <td>Primeira (O Início)</td>\n",
       "      <td>Liga Índigo</td>\n",
       "      <td>O treinador novato Ash Ketchum começa sua jorn...</td>\n",
       "      <td>001-083</td>\n",
       "      <td>Kanto</td>\n",
       "    </tr>\n",
       "    <tr>\n",
       "      <th>2</th>\n",
       "      <td>Aventuras nas Ilhas Laranja</td>\n",
       "      <td>Depois de competir na Liga Índigo e não ter o ...</td>\n",
       "      <td>084-118</td>\n",
       "      <td>Ilhas Laranja</td>\n",
       "      <td>NaN</td>\n",
       "      <td>NaN</td>\n",
       "    </tr>\n",
       "    <tr>\n",
       "      <th>3</th>\n",
       "      <td>Segunda (Ouro e Prata)</td>\n",
       "      <td>Liga Johto</td>\n",
       "      <td>Quando o Professor Carvalho não consegue desco...</td>\n",
       "      <td>119-159</td>\n",
       "      <td>Johto</td>\n",
       "      <td>NaN</td>\n",
       "    </tr>\n",
       "    <tr>\n",
       "      <th>4</th>\n",
       "      <td>Campeões da Liga Johto</td>\n",
       "      <td>Continua com as aventuras de Ash e seus amigos...</td>\n",
       "      <td>160-211</td>\n",
       "      <td>NaN</td>\n",
       "      <td>NaN</td>\n",
       "      <td>NaN</td>\n",
       "    </tr>\n",
       "    <tr>\n",
       "      <th>5</th>\n",
       "      <td>Master Quest</td>\n",
       "      <td>Ash, Misty e Brock em sua jornada descobrem um...</td>\n",
       "      <td>212-276</td>\n",
       "      <td>NaN</td>\n",
       "      <td>NaN</td>\n",
       "      <td>NaN</td>\n",
       "    </tr>\n",
       "    <tr>\n",
       "      <th>6</th>\n",
       "      <td>Rubi e Safira</td>\n",
       "      <td>Terceira</td>\n",
       "      <td>Pokémon: Avançado</td>\n",
       "      <td>Inicia as Aventuras de Ash e Brock em Hoenn. N...</td>\n",
       "      <td>277-316</td>\n",
       "      <td>Hoenn</td>\n",
       "    </tr>\n",
       "    <tr>\n",
       "      <th>7</th>\n",
       "      <td>Desafio Avançado</td>\n",
       "      <td>Continua com a jornada de Ash e seus amigos em...</td>\n",
       "      <td>317-368</td>\n",
       "      <td>NaN</td>\n",
       "      <td>NaN</td>\n",
       "      <td>NaN</td>\n",
       "    </tr>\n",
       "    <tr>\n",
       "      <th>8</th>\n",
       "      <td>Batalha Avançada</td>\n",
       "      <td>As equipes Magma e Aqua despertam Groudon e Ky...</td>\n",
       "      <td>369-422</td>\n",
       "      <td>NaN</td>\n",
       "      <td>NaN</td>\n",
       "      <td>NaN</td>\n",
       "    </tr>\n",
       "    <tr>\n",
       "      <th>9</th>\n",
       "      <td>Batalha da Fronteira</td>\n",
       "      <td>Conclui a Jornada na Batalha da Fronteira. May...</td>\n",
       "      <td>423-469</td>\n",
       "      <td>Kanto</td>\n",
       "      <td>NaN</td>\n",
       "      <td>NaN</td>\n",
       "    </tr>\n",
       "    <tr>\n",
       "      <th>10</th>\n",
       "      <td>Diamante e Pérola</td>\n",
       "      <td>Quarta</td>\n",
       "      <td>Diamante e Pérola</td>\n",
       "      <td>Inicia as aventuras de Ash e Brock em Sinnoh c...</td>\n",
       "      <td>470-521</td>\n",
       "      <td>Sinnoh</td>\n",
       "    </tr>\n",
       "    <tr>\n",
       "      <th>11</th>\n",
       "      <td>Batalha Dimensional</td>\n",
       "      <td>Continua as aventuras de Ash, Brock e Dawn em ...</td>\n",
       "      <td>522-573</td>\n",
       "      <td>NaN</td>\n",
       "      <td>NaN</td>\n",
       "      <td>NaN</td>\n",
       "    </tr>\n",
       "    <tr>\n",
       "      <th>12</th>\n",
       "      <td>Batalhas Galácticas</td>\n",
       "      <td>Continua a jornada de Ash, Dawn e Brock em Sin...</td>\n",
       "      <td>574-626</td>\n",
       "      <td>NaN</td>\n",
       "      <td>NaN</td>\n",
       "      <td>NaN</td>\n",
       "    </tr>\n",
       "    <tr>\n",
       "      <th>13</th>\n",
       "      <td>Vencedores da Liga Sinnoh</td>\n",
       "      <td>Conclui a jornada de Ash, Dawn e Brock em Sinn...</td>\n",
       "      <td>627-660</td>\n",
       "      <td>NaN</td>\n",
       "      <td>NaN</td>\n",
       "      <td>NaN</td>\n",
       "    </tr>\n",
       "    <tr>\n",
       "      <th>14</th>\n",
       "      <td>Preto e Branco</td>\n",
       "      <td>Quinta</td>\n",
       "      <td>Preto e Branco</td>\n",
       "      <td>Inicia as aventuras de Ash na região de Unova ...</td>\n",
       "      <td>661-708</td>\n",
       "      <td>Unova</td>\n",
       "    </tr>\n",
       "    <tr>\n",
       "      <th>15</th>\n",
       "      <td>Destinos Rivais</td>\n",
       "      <td>Ash reencontra Dawn e Cynthia. Ash e seus amig...</td>\n",
       "      <td>709-757</td>\n",
       "      <td>NaN</td>\n",
       "      <td>NaN</td>\n",
       "      <td>NaN</td>\n",
       "    </tr>\n",
       "    <tr>\n",
       "      <th>16</th>\n",
       "      <td>Aventuras em Unova (e Mais Além)</td>\n",
       "      <td>Continua a jornada de Ash, Iris e Cilan em Uno...</td>\n",
       "      <td>758-804</td>\n",
       "      <td>NaN</td>\n",
       "      <td>NaN</td>\n",
       "      <td>NaN</td>\n",
       "    </tr>\n",
       "    <tr>\n",
       "      <th>17</th>\n",
       "      <td>XY</td>\n",
       "      <td>Sexta</td>\n",
       "      <td>A Série XY</td>\n",
       "      <td>Inicia as aventuras de Ash na região de Kalos ...</td>\n",
       "      <td>805-853</td>\n",
       "      <td>Kalos</td>\n",
       "    </tr>\n",
       "    <tr>\n",
       "      <th>18</th>\n",
       "      <td>Desafio em Kalos</td>\n",
       "      <td>Continua as aventuras de Ash, Serena, Clemont ...</td>\n",
       "      <td>854-898</td>\n",
       "      <td>NaN</td>\n",
       "      <td>NaN</td>\n",
       "      <td>NaN</td>\n",
       "    </tr>\n",
       "    <tr>\n",
       "      <th>19</th>\n",
       "      <td>A Série: XY &amp; Z</td>\n",
       "      <td>Continua a saga de Ash ,Clement, Bonnie e Sere...</td>\n",
       "      <td>899-951</td>\n",
       "      <td>NaN</td>\n",
       "      <td>NaN</td>\n",
       "      <td>NaN</td>\n",
       "    </tr>\n",
       "    <tr>\n",
       "      <th>20</th>\n",
       "      <td>Sol e Lua</td>\n",
       "      <td>Sétima</td>\n",
       "      <td>Sol e Lua</td>\n",
       "      <td>Inicia as aventuras de Ash, Victória, Lulú, Ki...</td>\n",
       "      <td>952-994</td>\n",
       "      <td>Alola</td>\n",
       "    </tr>\n",
       "    <tr>\n",
       "      <th>21</th>\n",
       "      <td>Ultra Aventuras</td>\n",
       "      <td>Continua as aventuras de Ash e seus colegas de...</td>\n",
       "      <td>995-1037</td>\n",
       "      <td>NaN</td>\n",
       "      <td>NaN</td>\n",
       "      <td>NaN</td>\n",
       "    </tr>\n",
       "    <tr>\n",
       "      <th>22</th>\n",
       "      <td>Ultra Lendas</td>\n",
       "      <td>NaN</td>\n",
       "      <td>1038-###</td>\n",
       "      <td>NaN</td>\n",
       "      <td>NaN</td>\n",
       "      <td>NaN</td>\n",
       "    </tr>\n",
       "  </tbody>\n",
       "</table>\n",
       "</div>"
      ],
      "text/plain": [
       "0                                    Série  \\\n",
       "0                                    Série   \n",
       "1   Série Original (O Início/Ouro e Prata)   \n",
       "2              Aventuras nas Ilhas Laranja   \n",
       "3                   Segunda (Ouro e Prata)   \n",
       "4                   Campeões da Liga Johto   \n",
       "5                             Master Quest   \n",
       "6                            Rubi e Safira   \n",
       "7                         Desafio Avançado   \n",
       "8                         Batalha Avançada   \n",
       "9                     Batalha da Fronteira   \n",
       "10                       Diamante e Pérola   \n",
       "11                     Batalha Dimensional   \n",
       "12                     Batalhas Galácticas   \n",
       "13               Vencedores da Liga Sinnoh   \n",
       "14                          Preto e Branco   \n",
       "15                         Destinos Rivais   \n",
       "16        Aventuras em Unova (e Mais Além)   \n",
       "17                                      XY   \n",
       "18                        Desafio em Kalos   \n",
       "19                         A Série: XY & Z   \n",
       "20                               Sol e Lua   \n",
       "21                         Ultra Aventuras   \n",
       "22                            Ultra Lendas   \n",
       "\n",
       "0                                             Geração  \\\n",
       "0                                             Geração   \n",
       "1                                 Primeira (O Início)   \n",
       "2   Depois de competir na Liga Índigo e não ter o ...   \n",
       "3                                          Liga Johto   \n",
       "4   Continua com as aventuras de Ash e seus amigos...   \n",
       "5   Ash, Misty e Brock em sua jornada descobrem um...   \n",
       "6                                            Terceira   \n",
       "7   Continua com a jornada de Ash e seus amigos em...   \n",
       "8   As equipes Magma e Aqua despertam Groudon e Ky...   \n",
       "9   Conclui a Jornada na Batalha da Fronteira. May...   \n",
       "10                                             Quarta   \n",
       "11  Continua as aventuras de Ash, Brock e Dawn em ...   \n",
       "12  Continua a jornada de Ash, Dawn e Brock em Sin...   \n",
       "13  Conclui a jornada de Ash, Dawn e Brock em Sinn...   \n",
       "14                                             Quinta   \n",
       "15  Ash reencontra Dawn e Cynthia. Ash e seus amig...   \n",
       "16  Continua a jornada de Ash, Iris e Cilan em Uno...   \n",
       "17                                              Sexta   \n",
       "18  Continua as aventuras de Ash, Serena, Clemont ...   \n",
       "19  Continua a saga de Ash ,Clement, Bonnie e Sere...   \n",
       "20                                             Sétima   \n",
       "21  Continua as aventuras de Ash e seus colegas de...   \n",
       "22                                                NaN   \n",
       "\n",
       "0                                           Temporada  \\\n",
       "0                                           Temporada   \n",
       "1                                         Liga Índigo   \n",
       "2                                             084-118   \n",
       "3   Quando o Professor Carvalho não consegue desco...   \n",
       "4                                             160-211   \n",
       "5                                             212-276   \n",
       "6                                   Pokémon: Avançado   \n",
       "7                                             317-368   \n",
       "8                                             369-422   \n",
       "9                                             423-469   \n",
       "10                                  Diamante e Pérola   \n",
       "11                                            522-573   \n",
       "12                                            574-626   \n",
       "13                                            627-660   \n",
       "14                                     Preto e Branco   \n",
       "15                                            709-757   \n",
       "16                                            758-804   \n",
       "17                                         A Série XY   \n",
       "18                                            854-898   \n",
       "19                                            899-951   \n",
       "20                                          Sol e Lua   \n",
       "21                                           995-1037   \n",
       "22                                           1038-###   \n",
       "\n",
       "0                                           Descrição  Episódios  Região  \n",
       "0                                           Descrição  Episódios  Região  \n",
       "1   O treinador novato Ash Ketchum começa sua jorn...    001-083   Kanto  \n",
       "2                                       Ilhas Laranja        NaN     NaN  \n",
       "3                                             119-159      Johto     NaN  \n",
       "4                                                 NaN        NaN     NaN  \n",
       "5                                                 NaN        NaN     NaN  \n",
       "6   Inicia as Aventuras de Ash e Brock em Hoenn. N...    277-316   Hoenn  \n",
       "7                                                 NaN        NaN     NaN  \n",
       "8                                                 NaN        NaN     NaN  \n",
       "9                                               Kanto        NaN     NaN  \n",
       "10  Inicia as aventuras de Ash e Brock em Sinnoh c...    470-521  Sinnoh  \n",
       "11                                                NaN        NaN     NaN  \n",
       "12                                                NaN        NaN     NaN  \n",
       "13                                                NaN        NaN     NaN  \n",
       "14  Inicia as aventuras de Ash na região de Unova ...    661-708   Unova  \n",
       "15                                                NaN        NaN     NaN  \n",
       "16                                                NaN        NaN     NaN  \n",
       "17  Inicia as aventuras de Ash na região de Kalos ...    805-853   Kalos  \n",
       "18                                                NaN        NaN     NaN  \n",
       "19                                                NaN        NaN     NaN  \n",
       "20  Inicia as aventuras de Ash, Victória, Lulú, Ki...    952-994   Alola  \n",
       "21                                                NaN        NaN     NaN  \n",
       "22                                                NaN        NaN     NaN  "
      ]
     },
     "execution_count": 10,
     "metadata": {
     },
     "output_type": "execute_result"
    }
   ],
   "source": [
    "lispoktab[1]"
   ]
  },
  {
   "cell_type": "code",
   "execution_count": 4,
   "metadata": {
    "collapsed": false
   },
   "outputs": [
   ],
   "source": [
    "df=lispoktab[1]\n"
   ]
  },
  {
   "cell_type": "code",
   "execution_count": 5,
   "metadata": {
    "collapsed": false
   },
   "outputs": [
   ],
   "source": [
    "columns=df.iloc[0]\n",
    "df.columns=columns\n",
    "df2=df[1:]"
   ]
  },
  {
   "cell_type": "code",
   "execution_count": 7,
   "metadata": {
    "collapsed": false
   },
   "outputs": [
    {
     "data": {
      "text/html": [
       "<div>\n",
       "<style scoped>\n",
       "    .dataframe tbody tr th:only-of-type {\n",
       "        vertical-align: middle;\n",
       "    }\n",
       "\n",
       "    .dataframe tbody tr th {\n",
       "        vertical-align: top;\n",
       "    }\n",
       "\n",
       "    .dataframe thead th {\n",
       "        text-align: right;\n",
       "    }\n",
       "</style>\n",
       "<table border=\"1\" class=\"dataframe\">\n",
       "  <thead>\n",
       "    <tr style=\"text-align: right;\">\n",
       "      <th></th>\n",
       "      <th>Série</th>\n",
       "      <th>Geração</th>\n",
       "      <th>Temporada</th>\n",
       "      <th>Descrição</th>\n",
       "      <th>Episódios</th>\n",
       "      <th>Região</th>\n",
       "    </tr>\n",
       "  </thead>\n",
       "  <tbody>\n",
       "    <tr>\n",
       "      <th>0</th>\n",
       "      <td>Série</td>\n",
       "      <td>Geração</td>\n",
       "      <td>Temporada</td>\n",
       "      <td>Descrição</td>\n",
       "      <td>Episódios</td>\n",
       "      <td>Região</td>\n",
       "    </tr>\n",
       "    <tr>\n",
       "      <th>1</th>\n",
       "      <td>Série Original (O Início/Ouro e Prata)</td>\n",
       "      <td>Primeira (O Início)</td>\n",
       "      <td>Liga Índigo</td>\n",
       "      <td>O treinador novato Ash Ketchum começa sua jorn...</td>\n",
       "      <td>001-083</td>\n",
       "      <td>Kanto</td>\n",
       "    </tr>\n",
       "    <tr>\n",
       "      <th>2</th>\n",
       "      <td>Aventuras nas Ilhas Laranja</td>\n",
       "      <td>Depois de competir na Liga Índigo e não ter o ...</td>\n",
       "      <td>084-118</td>\n",
       "      <td>Ilhas Laranja</td>\n",
       "      <td>NaN</td>\n",
       "      <td>NaN</td>\n",
       "    </tr>\n",
       "    <tr>\n",
       "      <th>3</th>\n",
       "      <td>Segunda (Ouro e Prata)</td>\n",
       "      <td>Liga Johto</td>\n",
       "      <td>Quando o Professor Carvalho não consegue desco...</td>\n",
       "      <td>119-159</td>\n",
       "      <td>Johto</td>\n",
       "      <td>NaN</td>\n",
       "    </tr>\n",
       "    <tr>\n",
       "      <th>4</th>\n",
       "      <td>Campeões da Liga Johto</td>\n",
       "      <td>Continua com as aventuras de Ash e seus amigos...</td>\n",
       "      <td>160-211</td>\n",
       "      <td>NaN</td>\n",
       "      <td>NaN</td>\n",
       "      <td>NaN</td>\n",
       "    </tr>\n",
       "    <tr>\n",
       "      <th>5</th>\n",
       "      <td>Master Quest</td>\n",
       "      <td>Ash, Misty e Brock em sua jornada descobrem um...</td>\n",
       "      <td>212-276</td>\n",
       "      <td>NaN</td>\n",
       "      <td>NaN</td>\n",
       "      <td>NaN</td>\n",
       "    </tr>\n",
       "    <tr>\n",
       "      <th>6</th>\n",
       "      <td>Rubi e Safira</td>\n",
       "      <td>Terceira</td>\n",
       "      <td>Pokémon: Avançado</td>\n",
       "      <td>Inicia as Aventuras de Ash e Brock em Hoenn. N...</td>\n",
       "      <td>277-316</td>\n",
       "      <td>Hoenn</td>\n",
       "    </tr>\n",
       "    <tr>\n",
       "      <th>7</th>\n",
       "      <td>Desafio Avançado</td>\n",
       "      <td>Continua com a jornada de Ash e seus amigos em...</td>\n",
       "      <td>317-368</td>\n",
       "      <td>NaN</td>\n",
       "      <td>NaN</td>\n",
       "      <td>NaN</td>\n",
       "    </tr>\n",
       "    <tr>\n",
       "      <th>8</th>\n",
       "      <td>Batalha Avançada</td>\n",
       "      <td>As equipes Magma e Aqua despertam Groudon e Ky...</td>\n",
       "      <td>369-422</td>\n",
       "      <td>NaN</td>\n",
       "      <td>NaN</td>\n",
       "      <td>NaN</td>\n",
       "    </tr>\n",
       "    <tr>\n",
       "      <th>9</th>\n",
       "      <td>Batalha da Fronteira</td>\n",
       "      <td>Conclui a Jornada na Batalha da Fronteira. May...</td>\n",
       "      <td>423-469</td>\n",
       "      <td>Kanto</td>\n",
       "      <td>NaN</td>\n",
       "      <td>NaN</td>\n",
       "    </tr>\n",
       "    <tr>\n",
       "      <th>10</th>\n",
       "      <td>Diamante e Pérola</td>\n",
       "      <td>Quarta</td>\n",
       "      <td>Diamante e Pérola</td>\n",
       "      <td>Inicia as aventuras de Ash e Brock em Sinnoh c...</td>\n",
       "      <td>470-521</td>\n",
       "      <td>Sinnoh</td>\n",
       "    </tr>\n",
       "    <tr>\n",
       "      <th>11</th>\n",
       "      <td>Batalha Dimensional</td>\n",
       "      <td>Continua as aventuras de Ash, Brock e Dawn em ...</td>\n",
       "      <td>522-573</td>\n",
       "      <td>NaN</td>\n",
       "      <td>NaN</td>\n",
       "      <td>NaN</td>\n",
       "    </tr>\n",
       "    <tr>\n",
       "      <th>12</th>\n",
       "      <td>Batalhas Galácticas</td>\n",
       "      <td>Continua a jornada de Ash, Dawn e Brock em Sin...</td>\n",
       "      <td>574-626</td>\n",
       "      <td>NaN</td>\n",
       "      <td>NaN</td>\n",
       "      <td>NaN</td>\n",
       "    </tr>\n",
       "    <tr>\n",
       "      <th>13</th>\n",
       "      <td>Vencedores da Liga Sinnoh</td>\n",
       "      <td>Conclui a jornada de Ash, Dawn e Brock em Sinn...</td>\n",
       "      <td>627-660</td>\n",
       "      <td>NaN</td>\n",
       "      <td>NaN</td>\n",
       "      <td>NaN</td>\n",
       "    </tr>\n",
       "    <tr>\n",
       "      <th>14</th>\n",
       "      <td>Preto e Branco</td>\n",
       "      <td>Quinta</td>\n",
       "      <td>Preto e Branco</td>\n",
       "      <td>Inicia as aventuras de Ash na região de Unova ...</td>\n",
       "      <td>661-708</td>\n",
       "      <td>Unova</td>\n",
       "    </tr>\n",
       "    <tr>\n",
       "      <th>15</th>\n",
       "      <td>Destinos Rivais</td>\n",
       "      <td>Ash reencontra Dawn e Cynthia. Ash e seus amig...</td>\n",
       "      <td>709-757</td>\n",
       "      <td>NaN</td>\n",
       "      <td>NaN</td>\n",
       "      <td>NaN</td>\n",
       "    </tr>\n",
       "    <tr>\n",
       "      <th>16</th>\n",
       "      <td>Aventuras em Unova (e Mais Além)</td>\n",
       "      <td>Continua a jornada de Ash, Iris e Cilan em Uno...</td>\n",
       "      <td>758-804</td>\n",
       "      <td>NaN</td>\n",
       "      <td>NaN</td>\n",
       "      <td>NaN</td>\n",
       "    </tr>\n",
       "    <tr>\n",
       "      <th>17</th>\n",
       "      <td>XY</td>\n",
       "      <td>Sexta</td>\n",
       "      <td>A Série XY</td>\n",
       "      <td>Inicia as aventuras de Ash na região de Kalos ...</td>\n",
       "      <td>805-853</td>\n",
       "      <td>Kalos</td>\n",
       "    </tr>\n",
       "    <tr>\n",
       "      <th>18</th>\n",
       "      <td>Desafio em Kalos</td>\n",
       "      <td>Continua as aventuras de Ash, Serena, Clemont ...</td>\n",
       "      <td>854-898</td>\n",
       "      <td>NaN</td>\n",
       "      <td>NaN</td>\n",
       "      <td>NaN</td>\n",
       "    </tr>\n",
       "    <tr>\n",
       "      <th>19</th>\n",
       "      <td>A Série: XY &amp; Z</td>\n",
       "      <td>Continua a saga de Ash ,Clement, Bonnie e Sere...</td>\n",
       "      <td>899-951</td>\n",
       "      <td>NaN</td>\n",
       "      <td>NaN</td>\n",
       "      <td>NaN</td>\n",
       "    </tr>\n",
       "    <tr>\n",
       "      <th>20</th>\n",
       "      <td>Sol e Lua</td>\n",
       "      <td>Sétima</td>\n",
       "      <td>Sol e Lua</td>\n",
       "      <td>Inicia as aventuras de Ash, Victória, Lulú, Ki...</td>\n",
       "      <td>952-994</td>\n",
       "      <td>Alola</td>\n",
       "    </tr>\n",
       "    <tr>\n",
       "      <th>21</th>\n",
       "      <td>Ultra Aventuras</td>\n",
       "      <td>Continua as aventuras de Ash e seus colegas de...</td>\n",
       "      <td>995-1037</td>\n",
       "      <td>NaN</td>\n",
       "      <td>NaN</td>\n",
       "      <td>NaN</td>\n",
       "    </tr>\n",
       "    <tr>\n",
       "      <th>22</th>\n",
       "      <td>Ultra Lendas</td>\n",
       "      <td>NaN</td>\n",
       "      <td>1038-###</td>\n",
       "      <td>NaN</td>\n",
       "      <td>NaN</td>\n",
       "      <td>NaN</td>\n",
       "    </tr>\n",
       "  </tbody>\n",
       "</table>\n",
       "</div>"
      ],
      "text/plain": [
       "0                                    Série  \\\n",
       "0                                    Série   \n",
       "1   Série Original (O Início/Ouro e Prata)   \n",
       "2              Aventuras nas Ilhas Laranja   \n",
       "3                   Segunda (Ouro e Prata)   \n",
       "4                   Campeões da Liga Johto   \n",
       "5                             Master Quest   \n",
       "6                            Rubi e Safira   \n",
       "7                         Desafio Avançado   \n",
       "8                         Batalha Avançada   \n",
       "9                     Batalha da Fronteira   \n",
       "10                       Diamante e Pérola   \n",
       "11                     Batalha Dimensional   \n",
       "12                     Batalhas Galácticas   \n",
       "13               Vencedores da Liga Sinnoh   \n",
       "14                          Preto e Branco   \n",
       "15                         Destinos Rivais   \n",
       "16        Aventuras em Unova (e Mais Além)   \n",
       "17                                      XY   \n",
       "18                        Desafio em Kalos   \n",
       "19                         A Série: XY & Z   \n",
       "20                               Sol e Lua   \n",
       "21                         Ultra Aventuras   \n",
       "22                            Ultra Lendas   \n",
       "\n",
       "0                                             Geração  \\\n",
       "0                                             Geração   \n",
       "1                                 Primeira (O Início)   \n",
       "2   Depois de competir na Liga Índigo e não ter o ...   \n",
       "3                                          Liga Johto   \n",
       "4   Continua com as aventuras de Ash e seus amigos...   \n",
       "5   Ash, Misty e Brock em sua jornada descobrem um...   \n",
       "6                                            Terceira   \n",
       "7   Continua com a jornada de Ash e seus amigos em...   \n",
       "8   As equipes Magma e Aqua despertam Groudon e Ky...   \n",
       "9   Conclui a Jornada na Batalha da Fronteira. May...   \n",
       "10                                             Quarta   \n",
       "11  Continua as aventuras de Ash, Brock e Dawn em ...   \n",
       "12  Continua a jornada de Ash, Dawn e Brock em Sin...   \n",
       "13  Conclui a jornada de Ash, Dawn e Brock em Sinn...   \n",
       "14                                             Quinta   \n",
       "15  Ash reencontra Dawn e Cynthia. Ash e seus amig...   \n",
       "16  Continua a jornada de Ash, Iris e Cilan em Uno...   \n",
       "17                                              Sexta   \n",
       "18  Continua as aventuras de Ash, Serena, Clemont ...   \n",
       "19  Continua a saga de Ash ,Clement, Bonnie e Sere...   \n",
       "20                                             Sétima   \n",
       "21  Continua as aventuras de Ash e seus colegas de...   \n",
       "22                                                NaN   \n",
       "\n",
       "0                                           Temporada  \\\n",
       "0                                           Temporada   \n",
       "1                                         Liga Índigo   \n",
       "2                                             084-118   \n",
       "3   Quando o Professor Carvalho não consegue desco...   \n",
       "4                                             160-211   \n",
       "5                                             212-276   \n",
       "6                                   Pokémon: Avançado   \n",
       "7                                             317-368   \n",
       "8                                             369-422   \n",
       "9                                             423-469   \n",
       "10                                  Diamante e Pérola   \n",
       "11                                            522-573   \n",
       "12                                            574-626   \n",
       "13                                            627-660   \n",
       "14                                     Preto e Branco   \n",
       "15                                            709-757   \n",
       "16                                            758-804   \n",
       "17                                         A Série XY   \n",
       "18                                            854-898   \n",
       "19                                            899-951   \n",
       "20                                          Sol e Lua   \n",
       "21                                           995-1037   \n",
       "22                                           1038-###   \n",
       "\n",
       "0                                           Descrição  Episódios  Região  \n",
       "0                                           Descrição  Episódios  Região  \n",
       "1   O treinador novato Ash Ketchum começa sua jorn...    001-083   Kanto  \n",
       "2                                       Ilhas Laranja        NaN     NaN  \n",
       "3                                             119-159      Johto     NaN  \n",
       "4                                                 NaN        NaN     NaN  \n",
       "5                                                 NaN        NaN     NaN  \n",
       "6   Inicia as Aventuras de Ash e Brock em Hoenn. N...    277-316   Hoenn  \n",
       "7                                                 NaN        NaN     NaN  \n",
       "8                                                 NaN        NaN     NaN  \n",
       "9                                               Kanto        NaN     NaN  \n",
       "10  Inicia as aventuras de Ash e Brock em Sinnoh c...    470-521  Sinnoh  \n",
       "11                                                NaN        NaN     NaN  \n",
       "12                                                NaN        NaN     NaN  \n",
       "13                                                NaN        NaN     NaN  \n",
       "14  Inicia as aventuras de Ash na região de Unova ...    661-708   Unova  \n",
       "15                                                NaN        NaN     NaN  \n",
       "16                                                NaN        NaN     NaN  \n",
       "17  Inicia as aventuras de Ash na região de Kalos ...    805-853   Kalos  \n",
       "18                                                NaN        NaN     NaN  \n",
       "19                                                NaN        NaN     NaN  \n",
       "20  Inicia as aventuras de Ash, Victória, Lulú, Ki...    952-994   Alola  \n",
       "21                                                NaN        NaN     NaN  \n",
       "22                                                NaN        NaN     NaN  "
      ]
     },
     "execution_count": 7,
     "metadata": {
     },
     "output_type": "execute_result"
    }
   ],
   "source": [
    "df"
   ]
  },
  {
   "cell_type": "markdown",
   "metadata": {
    "collapsed": false
   },
   "source": [
    "## Perguntas\n"
   ]
  },
  {
   "cell_type": "markdown",
   "metadata": {
    "collapsed": false
   },
   "source": [
    "Quantas regiões diferentes existem?"
   ]
  },
  {
   "cell_type": "code",
   "execution_count": 23,
   "metadata": {
    "collapsed": false
   },
   "outputs": [
    {
     "data": {
      "text/plain": [
       "8"
      ]
     },
     "execution_count": 23,
     "metadata": {
     },
     "output_type": "execute_result"
    }
   ],
   "source": [
    "len(set(df2[\"Região\"]))"
   ]
  },
  {
   "cell_type": "markdown",
   "metadata": {
    "collapsed": false
   },
   "source": [
    "Construa uma coluna com o número de episódios."
   ]
  },
  {
   "cell_type": "code",
   "execution_count": 20,
   "metadata": {
    "collapsed": false
   },
   "outputs": [
    {
     "data": {
      "text/plain": [
       "82"
      ]
     },
     "execution_count": 20,
     "metadata": {
     },
     "output_type": "execute_result"
    }
   ],
   "source": [
    "strepisodios=df2[\"Episódios\"][0]\n",
    "\n",
    "lis=strepisodios.split(\"-\")\n",
    "lis2=[int(elem) for elem in lis]\n",
    "lis2[1]-lis2[0]+1"
   ]
  },
  {
   "cell_type": "code",
   "execution_count": 21,
   "metadata": {
    "collapsed": false
   },
   "outputs": [
    {
     "data": {
      "text/plain": [
       "83"
      ]
     },
     "execution_count": 21,
     "metadata": {
     },
     "output_type": "execute_result"
    }
   ],
   "source": [
    "strepisodios=df2[\"Episódios\"][0]\n",
    "lis=strepisodios.split(\"-\")\n",
    "lis2=[int(elem) for elem in lis]\n",
    "lis2[1]-lis2[0]+1"
   ]
  },
  {
   "cell_type": "code",
   "execution_count": 22,
   "metadata": {
    "collapsed": false
   },
   "outputs": [
   ],
   "source": [
    "def geraduracao(string):\n",
    "    lis=string.split(\"-\")\n",
    "    lis2=[int(elem) for elem in lis]\n",
    "    return lis2[1]-lis2[0]+1"
   ]
  },
  {
   "cell_type": "code",
   "execution_count": 23,
   "metadata": {
    "collapsed": false
   },
   "outputs": [
    {
     "name": "stderr",
     "output_type": "stream",
     "text": [
      "/usr/local/lib/python3.6/dist-packages/ipykernel/__main__.py:2: SettingWithCopyWarning: \n",
      "A value is trying to be set on a copy of a slice from a DataFrame.\n",
      "Try using .loc[row_indexer,col_indexer] = value instead\n",
      "\n",
      "See the caveats in the documentation: http://pandas.pydata.org/pandas-docs/stable/indexing.html#indexing-view-versus-copy\n",
      "  from ipykernel import kernelapp as app\n"
     ]
    }
   ],
   "source": [
    "teste=(df2[\"Episódios\"].apply(geraduracao))\n",
    "df2[\"Duração\"]=teste\n"
   ]
  },
  {
   "cell_type": "code",
   "execution_count": 24,
   "metadata": {
    "collapsed": false
   },
   "outputs": [
    {
     "data": {
      "text/html": [
       "<div>\n",
       "<style scoped>\n",
       "    .dataframe tbody tr th:only-of-type {\n",
       "        vertical-align: middle;\n",
       "    }\n",
       "\n",
       "    .dataframe tbody tr th {\n",
       "        vertical-align: top;\n",
       "    }\n",
       "\n",
       "    .dataframe thead th {\n",
       "        text-align: right;\n",
       "    }\n",
       "</style>\n",
       "<table border=\"1\" class=\"dataframe\">\n",
       "  <thead>\n",
       "    <tr style=\"text-align: right;\">\n",
       "      <th></th>\n",
       "      <th>Série</th>\n",
       "      <th>Geração</th>\n",
       "      <th>Temporada</th>\n",
       "      <th>Descrição</th>\n",
       "      <th>Episódios</th>\n",
       "      <th>Região</th>\n",
       "      <th>Duração</th>\n",
       "    </tr>\n",
       "  </thead>\n",
       "  <tbody>\n",
       "    <tr>\n",
       "      <th>0</th>\n",
       "      <td>Série Original (O Início/Ouro e Prata)</td>\n",
       "      <td>Primeira (O Início)</td>\n",
       "      <td>Liga Índigo</td>\n",
       "      <td>O treinador novato Ash Ketchum começa sua jorn...</td>\n",
       "      <td>001-083</td>\n",
       "      <td>Kanto</td>\n",
       "      <td>83</td>\n",
       "    </tr>\n",
       "    <tr>\n",
       "      <th>1</th>\n",
       "      <td>Série Original (O Início/Ouro e Prata)</td>\n",
       "      <td>Primeira (O Início)</td>\n",
       "      <td>Aventuras nas Ilhas Laranja</td>\n",
       "      <td>Depois de competir na Liga Índigo e não ter o ...</td>\n",
       "      <td>084-118</td>\n",
       "      <td>Ilhas Laranja</td>\n",
       "      <td>35</td>\n",
       "    </tr>\n",
       "    <tr>\n",
       "      <th>2</th>\n",
       "      <td>Série Original (O Início/Ouro e Prata)</td>\n",
       "      <td>Segunda (Ouro e Prata)</td>\n",
       "      <td>Liga Johto</td>\n",
       "      <td>Quando o Professor Carvalho não consegue desco...</td>\n",
       "      <td>119-159</td>\n",
       "      <td>Johto</td>\n",
       "      <td>41</td>\n",
       "    </tr>\n",
       "    <tr>\n",
       "      <th>3</th>\n",
       "      <td>Série Original (O Início/Ouro e Prata)</td>\n",
       "      <td>Segunda (Ouro e Prata)</td>\n",
       "      <td>Campeões da Liga Johto</td>\n",
       "      <td>Continua com as aventuras de Ash e seus amigos...</td>\n",
       "      <td>160-211</td>\n",
       "      <td>Johto</td>\n",
       "      <td>52</td>\n",
       "    </tr>\n",
       "    <tr>\n",
       "      <th>4</th>\n",
       "      <td>Série Original (O Início/Ouro e Prata)</td>\n",
       "      <td>Segunda (Ouro e Prata)</td>\n",
       "      <td>Master Quest</td>\n",
       "      <td>Ash, Misty e Brock em sua jornada descobrem um...</td>\n",
       "      <td>212-276</td>\n",
       "      <td>Johto</td>\n",
       "      <td>65</td>\n",
       "    </tr>\n",
       "    <tr>\n",
       "      <th>5</th>\n",
       "      <td>Rubi e Safira</td>\n",
       "      <td>Terceira</td>\n",
       "      <td>Pokémon: Avançado</td>\n",
       "      <td>Inicia as Aventuras de Ash e Brock em Hoenn. N...</td>\n",
       "      <td>277-316</td>\n",
       "      <td>Hoenn</td>\n",
       "      <td>40</td>\n",
       "    </tr>\n",
       "    <tr>\n",
       "      <th>6</th>\n",
       "      <td>Rubi e Safira</td>\n",
       "      <td>Terceira</td>\n",
       "      <td>Desafio Avançado</td>\n",
       "      <td>Continua com a jornada de Ash e seus amigos em...</td>\n",
       "      <td>317-368</td>\n",
       "      <td>Hoenn</td>\n",
       "      <td>52</td>\n",
       "    </tr>\n",
       "    <tr>\n",
       "      <th>7</th>\n",
       "      <td>Rubi e Safira</td>\n",
       "      <td>Terceira</td>\n",
       "      <td>Batalha Avançada</td>\n",
       "      <td>As equipes Magma e Aqua despertam Groudon e Ky...</td>\n",
       "      <td>369-422</td>\n",
       "      <td>Hoenn</td>\n",
       "      <td>54</td>\n",
       "    </tr>\n",
       "    <tr>\n",
       "      <th>8</th>\n",
       "      <td>Rubi e Safira</td>\n",
       "      <td>Terceira</td>\n",
       "      <td>Batalha da Fronteira</td>\n",
       "      <td>Conclui a Jornada na Batalha da Fronteira. May...</td>\n",
       "      <td>423-469</td>\n",
       "      <td>Kanto</td>\n",
       "      <td>47</td>\n",
       "    </tr>\n",
       "    <tr>\n",
       "      <th>9</th>\n",
       "      <td>Diamante e Pérola</td>\n",
       "      <td>Quarta</td>\n",
       "      <td>Diamante e Pérola</td>\n",
       "      <td>Inicia as aventuras de Ash e Brock em Sinnoh c...</td>\n",
       "      <td>470-521</td>\n",
       "      <td>Sinnoh</td>\n",
       "      <td>52</td>\n",
       "    </tr>\n",
       "    <tr>\n",
       "      <th>10</th>\n",
       "      <td>Diamante e Pérola</td>\n",
       "      <td>Quarta</td>\n",
       "      <td>Batalha Dimensional</td>\n",
       "      <td>Continua as aventuras de Ash, Brock e Dawn em ...</td>\n",
       "      <td>522-573</td>\n",
       "      <td>Sinnoh</td>\n",
       "      <td>52</td>\n",
       "    </tr>\n",
       "    <tr>\n",
       "      <th>11</th>\n",
       "      <td>Diamante e Pérola</td>\n",
       "      <td>Quarta</td>\n",
       "      <td>Batalhas Galácticas</td>\n",
       "      <td>Continua a jornada de Ash, Dawn e Brock em Sin...</td>\n",
       "      <td>574-626</td>\n",
       "      <td>Sinnoh</td>\n",
       "      <td>53</td>\n",
       "    </tr>\n",
       "    <tr>\n",
       "      <th>12</th>\n",
       "      <td>Diamante e Pérola</td>\n",
       "      <td>Quarta</td>\n",
       "      <td>Vencedores da Liga Sinnoh</td>\n",
       "      <td>Conclui a jornada de Ash, Dawn e Brock em Sinn...</td>\n",
       "      <td>627-660</td>\n",
       "      <td>Sinnoh</td>\n",
       "      <td>34</td>\n",
       "    </tr>\n",
       "    <tr>\n",
       "      <th>13</th>\n",
       "      <td>Preto e Branco</td>\n",
       "      <td>Quinta</td>\n",
       "      <td>Preto e Branco</td>\n",
       "      <td>Inicia as aventuras de Ash na região de Unova ...</td>\n",
       "      <td>661-708</td>\n",
       "      <td>Unova</td>\n",
       "      <td>48</td>\n",
       "    </tr>\n",
       "    <tr>\n",
       "      <th>14</th>\n",
       "      <td>Preto e Branco</td>\n",
       "      <td>Quinta</td>\n",
       "      <td>Destinos Rivais</td>\n",
       "      <td>Ash reencontra Dawn e Cynthia. Ash e seus amig...</td>\n",
       "      <td>709-757</td>\n",
       "      <td>Unova</td>\n",
       "      <td>49</td>\n",
       "    </tr>\n",
       "    <tr>\n",
       "      <th>15</th>\n",
       "      <td>Preto e Branco</td>\n",
       "      <td>Quinta</td>\n",
       "      <td>Aventuras em Unova (e Mais Além)</td>\n",
       "      <td>Continua a jornada de Ash, Iris e Cilan em Uno...</td>\n",
       "      <td>758-804</td>\n",
       "      <td>Unova</td>\n",
       "      <td>47</td>\n",
       "    </tr>\n",
       "    <tr>\n",
       "      <th>16</th>\n",
       "      <td>XY</td>\n",
       "      <td>Sexta</td>\n",
       "      <td>A Série XY</td>\n",
       "      <td>Inicia as aventuras de Ash na região de Kalos ...</td>\n",
       "      <td>805-853</td>\n",
       "      <td>Kalos</td>\n",
       "      <td>49</td>\n",
       "    </tr>\n",
       "    <tr>\n",
       "      <th>17</th>\n",
       "      <td>XY</td>\n",
       "      <td>Sexta</td>\n",
       "      <td>Desafio em Kalos</td>\n",
       "      <td>Continua as aventuras de Ash, Serena, Clemont ...</td>\n",
       "      <td>854-898</td>\n",
       "      <td>Kalos</td>\n",
       "      <td>45</td>\n",
       "    </tr>\n",
       "    <tr>\n",
       "      <th>18</th>\n",
       "      <td>XY</td>\n",
       "      <td>Sexta</td>\n",
       "      <td>A Série: XY &amp; Z</td>\n",
       "      <td>Continua a saga de Ash ,Clement, Bonnie e Sere...</td>\n",
       "      <td>899-951</td>\n",
       "      <td>Kalos</td>\n",
       "      <td>53</td>\n",
       "    </tr>\n",
       "    <tr>\n",
       "      <th>19</th>\n",
       "      <td>Sol e Lua</td>\n",
       "      <td>Sétima</td>\n",
       "      <td>Sol e Lua</td>\n",
       "      <td>Inicia as aventuras de Ash, Victória, Lulú, Ki...</td>\n",
       "      <td>952-994</td>\n",
       "      <td>Alola</td>\n",
       "      <td>43</td>\n",
       "    </tr>\n",
       "  </tbody>\n",
       "</table>\n",
       "</div>"
      ],
      "text/plain": [
       "                                     Série                 Geração  \\\n",
       "0   Série Original (O Início/Ouro e Prata)     Primeira (O Início)   \n",
       "1   Série Original (O Início/Ouro e Prata)     Primeira (O Início)   \n",
       "2   Série Original (O Início/Ouro e Prata)  Segunda (Ouro e Prata)   \n",
       "3   Série Original (O Início/Ouro e Prata)  Segunda (Ouro e Prata)   \n",
       "4   Série Original (O Início/Ouro e Prata)  Segunda (Ouro e Prata)   \n",
       "5                            Rubi e Safira                Terceira   \n",
       "6                            Rubi e Safira                Terceira   \n",
       "7                            Rubi e Safira                Terceira   \n",
       "8                            Rubi e Safira                Terceira   \n",
       "9                        Diamante e Pérola                  Quarta   \n",
       "10                       Diamante e Pérola                  Quarta   \n",
       "11                       Diamante e Pérola                  Quarta   \n",
       "12                       Diamante e Pérola                  Quarta   \n",
       "13                          Preto e Branco                  Quinta   \n",
       "14                          Preto e Branco                  Quinta   \n",
       "15                          Preto e Branco                  Quinta   \n",
       "16                                      XY                   Sexta   \n",
       "17                                      XY                   Sexta   \n",
       "18                                      XY                   Sexta   \n",
       "19                               Sol e Lua                  Sétima   \n",
       "\n",
       "                           Temporada  \\\n",
       "0                        Liga Índigo   \n",
       "1        Aventuras nas Ilhas Laranja   \n",
       "2                         Liga Johto   \n",
       "3             Campeões da Liga Johto   \n",
       "4                       Master Quest   \n",
       "5                  Pokémon: Avançado   \n",
       "6                   Desafio Avançado   \n",
       "7                   Batalha Avançada   \n",
       "8               Batalha da Fronteira   \n",
       "9                  Diamante e Pérola   \n",
       "10               Batalha Dimensional   \n",
       "11               Batalhas Galácticas   \n",
       "12         Vencedores da Liga Sinnoh   \n",
       "13                    Preto e Branco   \n",
       "14                   Destinos Rivais   \n",
       "15  Aventuras em Unova (e Mais Além)   \n",
       "16                        A Série XY   \n",
       "17                  Desafio em Kalos   \n",
       "18                   A Série: XY & Z   \n",
       "19                         Sol e Lua   \n",
       "\n",
       "                                            Descrição Episódios  \\\n",
       "0   O treinador novato Ash Ketchum começa sua jorn...   001-083   \n",
       "1   Depois de competir na Liga Índigo e não ter o ...   084-118   \n",
       "2   Quando o Professor Carvalho não consegue desco...   119-159   \n",
       "3   Continua com as aventuras de Ash e seus amigos...   160-211   \n",
       "4   Ash, Misty e Brock em sua jornada descobrem um...   212-276   \n",
       "5   Inicia as Aventuras de Ash e Brock em Hoenn. N...   277-316   \n",
       "6   Continua com a jornada de Ash e seus amigos em...   317-368   \n",
       "7   As equipes Magma e Aqua despertam Groudon e Ky...   369-422   \n",
       "8   Conclui a Jornada na Batalha da Fronteira. May...   423-469   \n",
       "9   Inicia as aventuras de Ash e Brock em Sinnoh c...   470-521   \n",
       "10  Continua as aventuras de Ash, Brock e Dawn em ...   522-573   \n",
       "11  Continua a jornada de Ash, Dawn e Brock em Sin...   574-626   \n",
       "12  Conclui a jornada de Ash, Dawn e Brock em Sinn...   627-660   \n",
       "13  Inicia as aventuras de Ash na região de Unova ...   661-708   \n",
       "14  Ash reencontra Dawn e Cynthia. Ash e seus amig...   709-757   \n",
       "15  Continua a jornada de Ash, Iris e Cilan em Uno...   758-804   \n",
       "16  Inicia as aventuras de Ash na região de Kalos ...   805-853   \n",
       "17  Continua as aventuras de Ash, Serena, Clemont ...   854-898   \n",
       "18  Continua a saga de Ash ,Clement, Bonnie e Sere...   899-951   \n",
       "19  Inicia as aventuras de Ash, Victória, Lulú, Ki...   952-994   \n",
       "\n",
       "           Região  Duração  \n",
       "0           Kanto       83  \n",
       "1   Ilhas Laranja       35  \n",
       "2           Johto       41  \n",
       "3           Johto       52  \n",
       "4           Johto       65  \n",
       "5           Hoenn       40  \n",
       "6           Hoenn       52  \n",
       "7           Hoenn       54  \n",
       "8           Kanto       47  \n",
       "9          Sinnoh       52  \n",
       "10         Sinnoh       52  \n",
       "11         Sinnoh       53  \n",
       "12         Sinnoh       34  \n",
       "13          Unova       48  \n",
       "14          Unova       49  \n",
       "15          Unova       47  \n",
       "16          Kalos       49  \n",
       "17          Kalos       45  \n",
       "18          Kalos       53  \n",
       "19          Alola       43  "
      ]
     },
     "execution_count": 24,
     "metadata": {
     },
     "output_type": "execute_result"
    }
   ],
   "source": [
    "df2"
   ]
  },
  {
   "cell_type": "code",
   "execution_count": 26,
   "metadata": {
    "collapsed": false
   },
   "outputs": [
   ],
   "source": [
    "gb=df2.groupby(\"Região\")"
   ]
  },
  {
   "cell_type": "code",
   "execution_count": 27,
   "metadata": {
    "collapsed": false
   },
   "outputs": [
    {
     "data": {
      "text/plain": [
       "Região\n",
       "Alola            1\n",
       "Hoenn            3\n",
       "Ilhas Laranja    1\n",
       "Johto            3\n",
       "Kalos            3\n",
       "Kanto            2\n",
       "Sinnoh           4\n",
       "Unova            3\n",
       "Name: Geração, dtype: int64"
      ]
     },
     "execution_count": 27,
     "metadata": {
     },
     "output_type": "execute_result"
    }
   ],
   "source": [
    "\n",
    "gb[\"Geração\"].count()"
   ]
  },
  {
   "cell_type": "code",
   "execution_count": 28,
   "metadata": {
    "collapsed": false
   },
   "outputs": [
    {
     "data": {
      "text/plain": [
       "Região\n",
       "Alola            43.000000\n",
       "Hoenn            48.666667\n",
       "Ilhas Laranja    35.000000\n",
       "Johto            52.666667\n",
       "Kalos            49.000000\n",
       "Kanto            65.000000\n",
       "Sinnoh           47.750000\n",
       "Unova            48.000000\n",
       "Name: Duração, dtype: float64"
      ]
     },
     "execution_count": 28,
     "metadata": {
     },
     "output_type": "execute_result"
    }
   ],
   "source": [
    "gb[\"Duração\"].mean()"
   ]
  },
  {
   "cell_type": "markdown",
   "metadata": {
    "collapsed": false
   },
   "source": [
    "## Exercícios\n",
    "\n",
    "- Calcule o número de episódios em cada geração. "
   ]
  },
  {
   "cell_type": "markdown",
   "metadata": {
    "collapsed": false
   },
   "source": [
    "## Exemplo Tenis"
   ]
  },
  {
   "cell_type": "markdown",
   "metadata": {
    "collapsed": false
   },
   "source": [
    "### Para baixar os programas use o comando (não será necessário no SageMathCloud)"
   ]
  },
  {
   "cell_type": "code",
   "execution_count": 1,
   "metadata": {
    "collapsed": false
   },
   "outputs": [
    {
     "name": "stdout",
     "output_type": "stream",
     "text": [
      "Archive:  tennis.zip\n",
      "  inflating: data/Andy-Murray.csv    \n",
      "  inflating: data/Novak-Djokovic.csv  \n",
      "  inflating: data/Rafael-Nadal.csv   \n",
      "  inflating: data/Roger-Federer.csv  \n"
     ]
    },
    {
     "name": "stderr",
     "output_type": "stream",
     "text": [
      "Cloning into 'cookbook-data'...\n"
     ]
    }
   ],
   "source": [
    "%%sh\n",
    "\n",
    "git clone https://github.com/ipython-books/cookbook-data.git\n",
    "cd cookbook-data\n",
    "unzip tennis.zip"
   ]
  },
  {
   "cell_type": "code",
   "execution_count": 32,
   "metadata": {
    "collapsed": false
   },
   "outputs": [
   ],
   "source": [
    "import numpy as np\n",
    "import pandas as pd\n",
    "player = 'Roger Federer'\n",
    "filename = \"./cookbook-data/data/{name}.csv\".format(name=player.replace(' ', '-')) \n",
    "df = pd.read_csv(filename)"
   ]
  },
  {
   "cell_type": "code",
   "execution_count": 33,
   "metadata": {
    "collapsed": false,
    "scrolled": true
   },
   "outputs": [
    {
     "name": "stderr",
     "output_type": "stream",
     "text": [
      "WARNING: Some output was deleted.\n"
     ]
    }
   ],
   "source": [
    "df"
   ]
  },
  {
   "cell_type": "code",
   "execution_count": 4,
   "metadata": {
    "collapsed": false
   },
   "outputs": [
    {
     "data": {
      "text/plain": [
       "Index(['year', 'tournament', 'start date', 'type', 'surface', 'draw',\n",
       "       'atp points', 'atp ranking', 'tournament prize money', 'round',\n",
       "       'opponent', 'ranking', 'score', 'stats link', 'tournament.1',\n",
       "       'tournament round', 'time', 'winner', 'player1 name',\n",
       "       'player1 nationality', 'player1 aces', 'player1 double faults',\n",
       "       'player1 1st serves in', 'player1 1st serves total',\n",
       "       'player1 1st serve points won', 'player1 1st serve points total',\n",
       "       'player1 2nd serve points won', 'player1 2nd serve points total',\n",
       "       'player1 break points won', 'player1 break points total',\n",
       "       'player1 service games played', 'player1 1st serve return points won',\n",
       "       'player1 1st serve return points total',\n",
       "       'player1 2nd serve return points won',\n",
       "       'player1 2nd serve return points total',\n",
       "       'player1 break points converted won',\n",
       "       'player1 break points converted total', 'player1 return games played',\n",
       "       'player1 total service points won',\n",
       "       'player1 total service points total', 'player1 total return points won',\n",
       "       'player1 total return points total', 'player1 total points won',\n",
       "       'player1 total points total', 'player2 name', 'player2 nationality',\n",
       "       'player2 aces', 'player2 double faults', 'player2 1st serves in',\n",
       "       'player2 1st serves total', 'player2 1st serve points won',\n",
       "       'player2 1st serve points total', 'player2 2nd serve points won',\n",
       "       'player2 2nd serve points total', 'player2 break points won',\n",
       "       'player2 break points total', 'player2 service games played',\n",
       "       'player2 1st serve return points won',\n",
       "       'player2 1st serve return points total',\n",
       "       'player2 2nd serve return points won',\n",
       "       'player2 2nd serve return points total',\n",
       "       'player2 break points converted won',\n",
       "       'player2 break points converted total', 'player2 return games played',\n",
       "       'player2 total service points won',\n",
       "       'player2 total service points total', 'player2 total return points won',\n",
       "       'player2 total return points total', 'player2 total points won',\n",
       "       'player2 total points total'],\n",
       "      dtype='object')"
      ]
     },
     "execution_count": 4,
     "metadata": {
     },
     "output_type": "execute_result"
    }
   ],
   "source": [
    "df.columns"
   ]
  },
  {
   "cell_type": "code",
   "execution_count": 35,
   "metadata": {
    "collapsed": false
   },
   "outputs": [
    {
     "data": {
      "text/plain": [
       "0       False\n",
       "1        True\n",
       "2        True\n",
       "3       False\n",
       "4       False\n",
       "5       False\n",
       "6        True\n",
       "7        True\n",
       "8        True\n",
       "9        True\n",
       "10       True\n",
       "11       True\n",
       "12      False\n",
       "13       True\n",
       "14       True\n",
       "15       True\n",
       "16      False\n",
       "17       True\n",
       "18       True\n",
       "19      False\n",
       "20       True\n",
       "21      False\n",
       "22       True\n",
       "23      False\n",
       "24      False\n",
       "25       True\n",
       "26      False\n",
       "27      False\n",
       "28      False\n",
       "29      False\n",
       "        ...  \n",
       "1149     True\n",
       "1150    False\n",
       "1151     True\n",
       "1152     True\n",
       "1153     True\n",
       "1154     True\n",
       "1155     True\n",
       "1156     True\n",
       "1157     True\n",
       "1158     True\n",
       "1159     True\n",
       "1160     True\n",
       "1161     True\n",
       "1162     True\n",
       "1163     True\n",
       "1164     True\n",
       "1165     True\n",
       "1166     True\n",
       "1167     True\n",
       "1168    False\n",
       "1169     True\n",
       "1170     True\n",
       "1171     True\n",
       "1172     True\n",
       "1173     True\n",
       "1174    False\n",
       "1175     True\n",
       "1176     True\n",
       "1177     True\n",
       "1178    False\n",
       "Name: winner, Length: 1179, dtype: bool"
      ]
     },
     "execution_count": 35,
     "metadata": {
     },
     "output_type": "execute_result"
    }
   ],
   "source": [
    "df[\"winner\"] == player"
   ]
  },
  {
   "cell_type": "code",
   "execution_count": 36,
   "metadata": {
    "collapsed": false
   },
   "outputs": [
    {
     "data": {
      "text/plain": [
       "1174    False\n",
       "1175     True\n",
       "1176     True\n",
       "1177     True\n",
       "1178    False\n",
       "Name: win, dtype: bool"
      ]
     },
     "execution_count": 36,
     "metadata": {
     },
     "output_type": "execute_result"
    }
   ],
   "source": [
    "df['win'] = df['winner'] == player\n",
    "df['win'].tail()"
   ]
  },
  {
   "cell_type": "code",
   "execution_count": 6,
   "metadata": {
    "collapsed": false
   },
   "outputs": [
    {
     "data": {
      "text/plain": [
       "'Roger Federer has won 82% of his ATP matches.'"
      ]
     },
     "execution_count": 6,
     "metadata": {
     },
     "output_type": "execute_result"
    }
   ],
   "source": [
    "(\"{player} has won {vic:.0f}% \"\n",
    "               \"of his ATP matches.\").format(\n",
    "                player=player, vic=100*df['win'].mean())"
   ]
  },
  {
   "cell_type": "code",
   "execution_count": 37,
   "metadata": {
    "collapsed": false
   },
   "outputs": [
   ],
   "source": [
    "df['dblfaults'] = (df['player1 double faults'] / \n",
    "                   df['player1 total points total'])"
   ]
  },
  {
   "cell_type": "code",
   "execution_count": 38,
   "metadata": {
    "collapsed": false
   },
   "outputs": [
    {
     "data": {
      "text/plain": [
       "1174    0.018116\n",
       "1175    0.000000\n",
       "1176    0.000000\n",
       "1177    0.011561\n",
       "1178         NaN\n",
       "Name: dblfaults, dtype: float64"
      ]
     },
     "execution_count": 38,
     "metadata": {
     },
     "output_type": "execute_result"
    }
   ],
   "source": [
    "df['dblfaults'].tail()"
   ]
  },
  {
   "cell_type": "code",
   "execution_count": 9,
   "metadata": {
    "collapsed": false
   },
   "outputs": [
   ],
   "source": [
    "gb = df.groupby('year')"
   ]
  },
  {
   "cell_type": "code",
   "execution_count": 12,
   "metadata": {
    "collapsed": false
   },
   "outputs": [
    {
     "data": {
      "text/plain": [
       "year\n",
       "1998    0.021580\n",
       "1999    0.023588\n",
       "2000    0.021473\n",
       "2001    0.017495\n",
       "2002    0.016521\n",
       "2003    0.018611\n",
       "2004    0.013195\n",
       "2005    0.010575\n",
       "2006    0.007639\n",
       "2007    0.007388\n",
       "2008    0.005887\n",
       "2009    0.010379\n",
       "2010    0.009185\n",
       "2011    0.009136\n",
       "2012    0.009365\n",
       "Name: dblfaults, dtype: float64"
      ]
     },
     "execution_count": 12,
     "metadata": {
     },
     "output_type": "execute_result"
    }
   ],
   "source": [
    "gb['dblfaults'].mean()"
   ]
  },
  {
   "cell_type": "markdown",
   "metadata": {
    "collapsed": false
   },
   "source": [
    "**Exercício:**\n",
    "\n",
    "1. Construa uma tabela com o número de vitórias e derrotas de Federer para cada tipo de terreno. "
   ]
  },
  {
   "cell_type": "code",
   "execution_count": 0,
   "metadata": {
    "collapsed": false
   },
   "outputs": [
   ],
   "source": [
   ]
  }
 ],
 "metadata": {
  "celltoolbar": "Slideshow",
  "kernelspec": {
   "display_name": "Python 3 (old Anaconda 3)",
   "env": {
    "LD_LIBRARY_PATH": "/ext/anaconda3/lib",
    "PYTHONHOME": "/ext/anaconda3/lib/python3.5",
    "PYTHONPATH": "/ext/anaconda3/lib/python3.5:/ext/anaconda3/lib/python3.5/site-packages"
   },
   "language": "python",
   "metadata": {
    "cocalc": {
     "description": "Python/R distribution for data science",
     "priority": -1,
     "url": "https://www.anaconda.com/distribution/"
    }
   },
   "name": "anaconda3"
  },
  "language_info": {
   "codemirror_mode": {
    "name": "ipython",
    "version": 3
   },
   "file_extension": ".py",
   "mimetype": "text/x-python",
   "name": "python",
   "nbconvert_exporter": "python",
   "pygments_lexer": "ipython3",
   "version": "3.5.5"
  }
 },
 "nbformat": 4,
 "nbformat_minor": 0
}