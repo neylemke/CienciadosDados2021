{
 "cells": [
  {
   "cell_type": "code",
   "execution_count": 1,
   "metadata": {
    "collapsed": false,
    "slideshow": {
     "slide_type": "skip"
    }
   },
   "outputs": [
    {
     "data": {
      "text/plain": [
       "{'start_slideshow_at': 'selected', 'theme': 'beige', 'transition': 'zoom'}"
      ]
     },
     "execution_count": 1,
     "metadata": {
     },
     "output_type": "execute_result"
    }
   ],
   "source": [
    "from notebook.services.config import ConfigManager\n",
    "from IPython.paths import locate_profile\n",
    "cm = ConfigManager(profile_dir=locate_profile(get_ipython().profile))\n",
    "cm.update('livereveal', {\n",
    "              'theme': 'beige',\n",
    "              'transition': 'zoom',\n",
    "              'start_slideshow_at': 'selected',\n",
    "})\n"
   ]
  },
  {
   "cell_type": "markdown",
   "metadata": {
    "collapsed": false,
    "slideshow": {
     "slide_type": "slide"
    }
   },
   "source": [
    "# Física Computacional\n",
    "\n",
    "### by Ney Lemke "
   ]
  },
  {
   "cell_type": "markdown",
   "metadata": {
    "collapsed": false,
    "slideshow": {
     "slide_type": "slide"
    }
   },
   "source": [
    "## Organização"
   ]
  },
  {
   "cell_type": "markdown",
   "metadata": {
    "collapsed": false,
    "slideshow": {
     "slide_type": "slide"
    }
   },
   "source": [
    "Material para a disciplina de Física Computacional do \n",
    "Curso de Física Médica do IB de Botucatu\n",
    "\n",
    "- [Configuração do Ambiente de Trabalho](Configuracao.ipynb)\n",
    "- [Historia da Computação Científica](Historia.ipynb)\n"
   ]
  },
  {
   "cell_type": "markdown",
   "metadata": {
    "collapsed": false,
    "slideshow": {
     "slide_type": "subslide"
    }
   },
   "source": [
    "- Ferramentas Básicas\n",
    "   - Interface Jupyter e Ipython\n",
    "   - Markdown e LaTeX\n",
    "   - Comandos Básicos de Linux\n",
    "- Programação Python\n",
    "   - Python como Calculadora\n",
    "   - Usando pacotes\n",
    "- Visualização\n",
    "\n",
    "- Cálculo Numérico\n",
    "- Matemática Simbólica\n",
    "- Operando com Dados\n",
    "- Redes Complexas\n",
    "- Aprendizado de Máquina\n",
    "   - Aprendizado Supervisionado \n",
    "   - Aprendizado não Supervisionado\n"
   ]
  },
  {
   "cell_type": "markdown",
   "metadata": {
    "collapsed": false,
    "slideshow": {
     "slide_type": "slide"
    }
   },
   "source": [
    "## Bibliografia\n",
    "\n",
    "- Cyrille Rossant, IPython Interactive Computing and Visualization Cookbook, Packt Publishing \n",
    "- Duncan M. McGreggor, Mastering matplotlib, Packt Publishing\n",
    "- John Hearty, Advanced Machine Learning with Python, Packt Publishing\n",
    "- Luciano Ramalho, Fluent Python, O' Reilly Publishing \n",
    "\n",
    "\n",
    "\n"
   ]
  }
 ],
 "metadata": {
  "celltoolbar": "Slideshow",
  "kernelspec": {
   "display_name": "Python 3 (Ubuntu Linux)",
   "language": "python",
   "metadata": {
    "cocalc": {
     "description": "Python 3 programming language",
     "priority": 100,
     "url": "https://www.python.org/"
    }
   },
   "name": "python3"
  },
  "language_info": {
   "codemirror_mode": {
    "name": "ipython",
    "version": 3
   },
   "file_extension": ".py",
   "mimetype": "text/x-python",
   "name": "python",
   "nbconvert_exporter": "python",
   "pygments_lexer": "ipython3",
   "version": "3.6.7"
  }
 },
 "nbformat": 4,
 "nbformat_minor": 0
}