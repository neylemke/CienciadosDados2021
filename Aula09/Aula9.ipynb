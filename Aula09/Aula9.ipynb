{
 "cells": [
  {
   "cell_type": "markdown",
   "metadata": {
    "collapsed": false,
    "slideshow": {
     "slide_type": "slide"
    }
   },
   "source": [
    "#  Pandas e manipulação de dados "
   ]
  },
  {
   "cell_type": "markdown",
   "metadata": {
    "collapsed": false,
    "slideshow": {
     "slide_type": "subslide"
    }
   },
   "source": [
    "### Manipulação de dados com \"Pandas\"\n",
    "\n",
    "- Pandas nos permite carregar o dados muito facilmente, explorar as variáveis, e fazer gráficos com matplotlib.\n",
    "- Este pacote fornece estruturas de dados e funções ricas projetadas para tornar o trabalho dados estruturados rápidos, fáceis e expressivos. E, como você verá, um dos ingredientes críticos permitindo que o Python seja um ambiente de análise de dados poderoso e produtivo."
   ]
  },
  {
   "cell_type": "markdown",
   "metadata": {
    "collapsed": false,
    "slideshow": {
     "slide_type": "subslide"
    }
   },
   "source": [
    "**1. Introdução a estrutura de dados**\n",
    "- Para começar com pandas, você precisará se sentir confortável com suas estruturas de dados: `Series` e `DataFrame`. Embora não sejam uma solução universal para problema, eles fornecem uma base sólida e fácil de usar para a maioria das aplicações."
   ]
  },
  {
   "cell_type": "markdown",
   "metadata": {
    "collapsed": false
   },
   "source": [
    "**1.1 `Series`**\n",
    "- A Series é um objeto de tipo matriz unidimensional contendo uma matriz de dados (de NumPy tipo de dados) e uma matriz associada de rótulos de dados, chamado seu índice. A série mais simples é formada apenas a partir de uma matriz de dados:"
   ]
  },
  {
   "cell_type": "code",
   "execution_count": 11,
   "metadata": {
    "collapsed": false
   },
   "outputs": [
   ],
   "source": [
    "import pandas as pd"
   ]
  },
  {
   "cell_type": "code",
   "execution_count": 12,
   "metadata": {
    "collapsed": false
   },
   "outputs": [
   ],
   "source": [
    "obj = pd.Series([4, 7, -5, 3])"
   ]
  },
  {
   "cell_type": "code",
   "execution_count": 13,
   "metadata": {
    "collapsed": false
   },
   "outputs": [
    {
     "data": {
      "text/plain": [
       "0    4\n",
       "1    7\n",
       "2   -5\n",
       "3    3\n",
       "dtype: int64"
      ]
     },
     "execution_count": 13,
     "metadata": {
     },
     "output_type": "execute_result"
    }
   ],
   "source": [
    "obj"
   ]
  },
  {
   "cell_type": "markdown",
   "metadata": {
    "collapsed": false
   },
   "source": [
    "- A representação de sequência de caracteres de uma série exibida interativamente mostra o índice à esquerda e os valores à direita. Como não especificamos um índice para os dados, é criado um padrão consistindo nos inteiros 0 a N-1 (onde N é o comprimento dos dados). Você pode obter a representação de matriz eo objeto de índice da Série por meio de seus valores e atributos de índice, respectivamente:"
   ]
  },
  {
   "cell_type": "code",
   "execution_count": 14,
   "metadata": {
    "collapsed": false
   },
   "outputs": [
    {
     "data": {
      "text/plain": [
       "array([ 4,  7, -5,  3])"
      ]
     },
     "execution_count": 14,
     "metadata": {
     },
     "output_type": "execute_result"
    }
   ],
   "source": [
    "obj.values"
   ]
  },
  {
   "cell_type": "code",
   "execution_count": 17,
   "metadata": {
    "collapsed": false
   },
   "outputs": [
    {
     "data": {
      "text/plain": [
       "RangeIndex(start=0, stop=4, step=1)"
      ]
     },
     "execution_count": 17,
     "metadata": {
     },
     "output_type": "execute_result"
    }
   ],
   "source": [
    "obj.index"
   ]
  },
  {
   "cell_type": "markdown",
   "metadata": {
    "collapsed": false,
    "slideshow": {
     "slide_type": "subslide"
    }
   },
   "source": [
    "- Muitas vezes, será desejável criar uma Série com um índice identificando cada ponto de dados:"
   ]
  },
  {
   "cell_type": "code",
   "execution_count": 19,
   "metadata": {
    "collapsed": false
   },
   "outputs": [
   ],
   "source": [
    "obj2 = pd.Series([4, 7, -5, 3], index=['d', 'b', 'a', 'c'])"
   ]
  },
  {
   "cell_type": "code",
   "execution_count": 20,
   "metadata": {
    "collapsed": false
   },
   "outputs": [
    {
     "data": {
      "text/plain": [
       "d    4\n",
       "b    7\n",
       "a   -5\n",
       "c    3\n",
       "dtype: int64"
      ]
     },
     "execution_count": 20,
     "metadata": {
     },
     "output_type": "execute_result"
    }
   ],
   "source": [
    "obj2"
   ]
  },
  {
   "cell_type": "markdown",
   "metadata": {
    "collapsed": false
   },
   "source": [
    "- Existem pelo menos 3 maneiras de acessar os elementos de uma série:"
   ]
  },
  {
   "cell_type": "code",
   "execution_count": 21,
   "metadata": {
    "collapsed": false
   },
   "outputs": [
    {
     "data": {
      "text/plain": [
       "-5"
      ]
     },
     "execution_count": 21,
     "metadata": {
     },
     "output_type": "execute_result"
    }
   ],
   "source": [
    "obj2['a'] # acessando pela chave usando a notação de dicionários"
   ]
  },
  {
   "cell_type": "code",
   "execution_count": 22,
   "metadata": {
    "collapsed": false
   },
   "outputs": [
    {
     "data": {
      "text/plain": [
       "-5"
      ]
     },
     "execution_count": 22,
     "metadata": {
     },
     "output_type": "execute_result"
    }
   ],
   "source": [
    "obj2.a # acessando pela chave usando a notação de objetos de uma classe"
   ]
  },
  {
   "cell_type": "code",
   "execution_count": 24,
   "metadata": {
    "collapsed": false
   },
   "outputs": [
    {
     "data": {
      "text/plain": [
       "-5"
      ]
     },
     "execution_count": 24,
     "metadata": {
     },
     "output_type": "execute_result"
    }
   ],
   "source": [
    "obj.iloc[2] # acessando pela posição"
   ]
  },
  {
   "cell_type": "markdown",
   "metadata": {
    "collapsed": false
   },
   "source": [
    "### Operações com `Series`"
   ]
  },
  {
   "cell_type": "code",
   "execution_count": 25,
   "metadata": {
    "collapsed": false
   },
   "outputs": [
    {
     "data": {
      "text/plain": [
       "d     8\n",
       "b    14\n",
       "a   -10\n",
       "c     6\n",
       "dtype: int64"
      ]
     },
     "execution_count": 25,
     "metadata": {
     },
     "output_type": "execute_result"
    }
   ],
   "source": [
    "obj2 * 2"
   ]
  },
  {
   "cell_type": "code",
   "execution_count": 26,
   "metadata": {
    "collapsed": false
   },
   "outputs": [
    {
     "data": {
      "text/plain": [
       "d    4\n",
       "b    7\n",
       "c    3\n",
       "dtype: int64"
      ]
     },
     "execution_count": 26,
     "metadata": {
     },
     "output_type": "execute_result"
    }
   ],
   "source": [
    "obj2[obj2>0] # seleciona os positivos`"
   ]
  },
  {
   "cell_type": "code",
   "execution_count": 27,
   "metadata": {
    "collapsed": false
   },
   "outputs": [
    {
     "data": {
      "text/plain": [
       "d     True\n",
       "b     True\n",
       "a    False\n",
       "c     True\n",
       "dtype: bool"
      ]
     },
     "execution_count": 27,
     "metadata": {
     },
     "output_type": "execute_result"
    }
   ],
   "source": [
    "obj2>0"
   ]
  },
  {
   "cell_type": "markdown",
   "metadata": {
    "collapsed": false
   },
   "source": [
    "\n",
    "\n",
    "## DataFrames\n",
    "\n",
    "- São generalizações de Séries, onde temos uma lista de séries concatenadas. "
   ]
  },
  {
   "cell_type": "code",
   "execution_count": 28,
   "metadata": {
    "collapsed": false
   },
   "outputs": [
   ],
   "source": [
    "import pandas as pd"
   ]
  },
  {
   "cell_type": "markdown",
   "metadata": {
    "collapsed": false
   },
   "source": [
    "## Criando DataFrames"
   ]
  },
  {
   "cell_type": "code",
   "execution_count": 29,
   "metadata": {
    "collapsed": false
   },
   "outputs": [
   ],
   "source": [
    "dict=[{'Nome': 'Ney', 'Profissao': 'Professor'}, {'Nome': 'Bruna Marquezini', 'Profissao': 'Atriz'}]"
   ]
  },
  {
   "cell_type": "code",
   "execution_count": 30,
   "metadata": {
    "collapsed": false
   },
   "outputs": [
   ],
   "source": [
    "df=pd.DataFrame(dict)"
   ]
  },
  {
   "cell_type": "markdown",
   "metadata": {
    "collapsed": true
   },
   "source": [
    "**df** será um objeto **DataFrame**. Você pode pensar neste objeto mantendo o conteúdo do listaindex  em um formato semelhante a uma tabela sql ou uma planilha do Excel. Vamos dar uma olhada abaixo no conteúdo dentro df ."
   ]
  },
  {
   "cell_type": "code",
   "execution_count": 31,
   "metadata": {
    "collapsed": false
   },
   "outputs": [
    {
     "data": {
      "text/html": [
       "<div>\n",
       "<style scoped>\n",
       "    .dataframe tbody tr th:only-of-type {\n",
       "        vertical-align: middle;\n",
       "    }\n",
       "\n",
       "    .dataframe tbody tr th {\n",
       "        vertical-align: top;\n",
       "    }\n",
       "\n",
       "    .dataframe thead th {\n",
       "        text-align: right;\n",
       "    }\n",
       "</style>\n",
       "<table border=\"1\" class=\"dataframe\">\n",
       "  <thead>\n",
       "    <tr style=\"text-align: right;\">\n",
       "      <th></th>\n",
       "      <th>Nome</th>\n",
       "      <th>Profissao</th>\n",
       "    </tr>\n",
       "  </thead>\n",
       "  <tbody>\n",
       "    <tr>\n",
       "      <th>0</th>\n",
       "      <td>Ney</td>\n",
       "      <td>Professor</td>\n",
       "    </tr>\n",
       "    <tr>\n",
       "      <th>1</th>\n",
       "      <td>Bruna Marquezini</td>\n",
       "      <td>Atriz</td>\n",
       "    </tr>\n",
       "  </tbody>\n",
       "</table>\n",
       "</div>"
      ],
      "text/plain": [
       "               Nome  Profissao\n",
       "0               Ney  Professor\n",
       "1  Bruna Marquezini      Atriz"
      ]
     },
     "execution_count": 31,
     "metadata": {
     },
     "output_type": "execute_result"
    }
   ],
   "source": [
    "df"
   ]
  },
  {
   "cell_type": "code",
   "execution_count": 32,
   "metadata": {
    "collapsed": false,
    "scrolled": true
   },
   "outputs": [
   ],
   "source": [
    "dict=[{'char': chr(i), 'num': i } for i in range(48,122)]"
   ]
  },
  {
   "cell_type": "code",
   "execution_count": 10,
   "metadata": {
    "collapsed": false
   },
   "outputs": [
    {
     "data": {
      "text/plain": [
       "[{'char': '0', 'num': 48},\n",
       " {'char': '1', 'num': 49},\n",
       " {'char': '2', 'num': 50},\n",
       " {'char': '3', 'num': 51},\n",
       " {'char': '4', 'num': 52},\n",
       " {'char': '5', 'num': 53},\n",
       " {'char': '6', 'num': 54},\n",
       " {'char': '7', 'num': 55},\n",
       " {'char': '8', 'num': 56},\n",
       " {'char': '9', 'num': 57},\n",
       " {'char': ':', 'num': 58},\n",
       " {'char': ';', 'num': 59},\n",
       " {'char': '<', 'num': 60},\n",
       " {'char': '=', 'num': 61},\n",
       " {'char': '>', 'num': 62},\n",
       " {'char': '?', 'num': 63},\n",
       " {'char': '@', 'num': 64},\n",
       " {'char': 'A', 'num': 65},\n",
       " {'char': 'B', 'num': 66},\n",
       " {'char': 'C', 'num': 67},\n",
       " {'char': 'D', 'num': 68},\n",
       " {'char': 'E', 'num': 69},\n",
       " {'char': 'F', 'num': 70},\n",
       " {'char': 'G', 'num': 71},\n",
       " {'char': 'H', 'num': 72},\n",
       " {'char': 'I', 'num': 73},\n",
       " {'char': 'J', 'num': 74},\n",
       " {'char': 'K', 'num': 75},\n",
       " {'char': 'L', 'num': 76},\n",
       " {'char': 'M', 'num': 77},\n",
       " {'char': 'N', 'num': 78},\n",
       " {'char': 'O', 'num': 79},\n",
       " {'char': 'P', 'num': 80},\n",
       " {'char': 'Q', 'num': 81},\n",
       " {'char': 'R', 'num': 82},\n",
       " {'char': 'S', 'num': 83},\n",
       " {'char': 'T', 'num': 84},\n",
       " {'char': 'U', 'num': 85},\n",
       " {'char': 'V', 'num': 86},\n",
       " {'char': 'W', 'num': 87},\n",
       " {'char': 'X', 'num': 88},\n",
       " {'char': 'Y', 'num': 89},\n",
       " {'char': 'Z', 'num': 90},\n",
       " {'char': '[', 'num': 91},\n",
       " {'char': '\\\\', 'num': 92},\n",
       " {'char': ']', 'num': 93},\n",
       " {'char': '^', 'num': 94},\n",
       " {'char': '_', 'num': 95},\n",
       " {'char': '`', 'num': 96},\n",
       " {'char': 'a', 'num': 97},\n",
       " {'char': 'b', 'num': 98},\n",
       " {'char': 'c', 'num': 99},\n",
       " {'char': 'd', 'num': 100},\n",
       " {'char': 'e', 'num': 101},\n",
       " {'char': 'f', 'num': 102},\n",
       " {'char': 'g', 'num': 103},\n",
       " {'char': 'h', 'num': 104},\n",
       " {'char': 'i', 'num': 105},\n",
       " {'char': 'j', 'num': 106},\n",
       " {'char': 'k', 'num': 107},\n",
       " {'char': 'l', 'num': 108},\n",
       " {'char': 'm', 'num': 109},\n",
       " {'char': 'n', 'num': 110},\n",
       " {'char': 'o', 'num': 111},\n",
       " {'char': 'p', 'num': 112},\n",
       " {'char': 'q', 'num': 113},\n",
       " {'char': 'r', 'num': 114},\n",
       " {'char': 's', 'num': 115},\n",
       " {'char': 't', 'num': 116},\n",
       " {'char': 'u', 'num': 117},\n",
       " {'char': 'v', 'num': 118},\n",
       " {'char': 'w', 'num': 119},\n",
       " {'char': 'x', 'num': 120},\n",
       " {'char': 'y', 'num': 121}]"
      ]
     },
     "execution_count": 10,
     "metadata": {
     },
     "output_type": "execute_result"
    }
   ],
   "source": [
    "dict"
   ]
  },
  {
   "cell_type": "code",
   "execution_count": 33,
   "metadata": {
    "collapsed": false
   },
   "outputs": [
   ],
   "source": [
    "df=pd.DataFrame(dict)"
   ]
  },
  {
   "cell_type": "code",
   "execution_count": 34,
   "metadata": {
    "collapsed": false
   },
   "outputs": [
    {
     "data": {
      "text/html": [
       "<div>\n",
       "<style scoped>\n",
       "    .dataframe tbody tr th:only-of-type {\n",
       "        vertical-align: middle;\n",
       "    }\n",
       "\n",
       "    .dataframe tbody tr th {\n",
       "        vertical-align: top;\n",
       "    }\n",
       "\n",
       "    .dataframe thead th {\n",
       "        text-align: right;\n",
       "    }\n",
       "</style>\n",
       "<table border=\"1\" class=\"dataframe\">\n",
       "  <thead>\n",
       "    <tr style=\"text-align: right;\">\n",
       "      <th></th>\n",
       "      <th>char</th>\n",
       "      <th>num</th>\n",
       "    </tr>\n",
       "  </thead>\n",
       "  <tbody>\n",
       "    <tr>\n",
       "      <th>0</th>\n",
       "      <td>0</td>\n",
       "      <td>48</td>\n",
       "    </tr>\n",
       "    <tr>\n",
       "      <th>1</th>\n",
       "      <td>1</td>\n",
       "      <td>49</td>\n",
       "    </tr>\n",
       "    <tr>\n",
       "      <th>2</th>\n",
       "      <td>2</td>\n",
       "      <td>50</td>\n",
       "    </tr>\n",
       "    <tr>\n",
       "      <th>3</th>\n",
       "      <td>3</td>\n",
       "      <td>51</td>\n",
       "    </tr>\n",
       "    <tr>\n",
       "      <th>4</th>\n",
       "      <td>4</td>\n",
       "      <td>52</td>\n",
       "    </tr>\n",
       "    <tr>\n",
       "      <th>5</th>\n",
       "      <td>5</td>\n",
       "      <td>53</td>\n",
       "    </tr>\n",
       "    <tr>\n",
       "      <th>6</th>\n",
       "      <td>6</td>\n",
       "      <td>54</td>\n",
       "    </tr>\n",
       "    <tr>\n",
       "      <th>7</th>\n",
       "      <td>7</td>\n",
       "      <td>55</td>\n",
       "    </tr>\n",
       "    <tr>\n",
       "      <th>8</th>\n",
       "      <td>8</td>\n",
       "      <td>56</td>\n",
       "    </tr>\n",
       "    <tr>\n",
       "      <th>9</th>\n",
       "      <td>9</td>\n",
       "      <td>57</td>\n",
       "    </tr>\n",
       "    <tr>\n",
       "      <th>10</th>\n",
       "      <td>:</td>\n",
       "      <td>58</td>\n",
       "    </tr>\n",
       "    <tr>\n",
       "      <th>11</th>\n",
       "      <td>;</td>\n",
       "      <td>59</td>\n",
       "    </tr>\n",
       "    <tr>\n",
       "      <th>12</th>\n",
       "      <td>&lt;</td>\n",
       "      <td>60</td>\n",
       "    </tr>\n",
       "    <tr>\n",
       "      <th>13</th>\n",
       "      <td>=</td>\n",
       "      <td>61</td>\n",
       "    </tr>\n",
       "    <tr>\n",
       "      <th>14</th>\n",
       "      <td>&gt;</td>\n",
       "      <td>62</td>\n",
       "    </tr>\n",
       "    <tr>\n",
       "      <th>15</th>\n",
       "      <td>?</td>\n",
       "      <td>63</td>\n",
       "    </tr>\n",
       "    <tr>\n",
       "      <th>16</th>\n",
       "      <td>@</td>\n",
       "      <td>64</td>\n",
       "    </tr>\n",
       "    <tr>\n",
       "      <th>17</th>\n",
       "      <td>A</td>\n",
       "      <td>65</td>\n",
       "    </tr>\n",
       "    <tr>\n",
       "      <th>18</th>\n",
       "      <td>B</td>\n",
       "      <td>66</td>\n",
       "    </tr>\n",
       "    <tr>\n",
       "      <th>19</th>\n",
       "      <td>C</td>\n",
       "      <td>67</td>\n",
       "    </tr>\n",
       "    <tr>\n",
       "      <th>20</th>\n",
       "      <td>D</td>\n",
       "      <td>68</td>\n",
       "    </tr>\n",
       "    <tr>\n",
       "      <th>21</th>\n",
       "      <td>E</td>\n",
       "      <td>69</td>\n",
       "    </tr>\n",
       "    <tr>\n",
       "      <th>22</th>\n",
       "      <td>F</td>\n",
       "      <td>70</td>\n",
       "    </tr>\n",
       "    <tr>\n",
       "      <th>23</th>\n",
       "      <td>G</td>\n",
       "      <td>71</td>\n",
       "    </tr>\n",
       "    <tr>\n",
       "      <th>24</th>\n",
       "      <td>H</td>\n",
       "      <td>72</td>\n",
       "    </tr>\n",
       "    <tr>\n",
       "      <th>25</th>\n",
       "      <td>I</td>\n",
       "      <td>73</td>\n",
       "    </tr>\n",
       "    <tr>\n",
       "      <th>26</th>\n",
       "      <td>J</td>\n",
       "      <td>74</td>\n",
       "    </tr>\n",
       "    <tr>\n",
       "      <th>27</th>\n",
       "      <td>K</td>\n",
       "      <td>75</td>\n",
       "    </tr>\n",
       "    <tr>\n",
       "      <th>28</th>\n",
       "      <td>L</td>\n",
       "      <td>76</td>\n",
       "    </tr>\n",
       "    <tr>\n",
       "      <th>29</th>\n",
       "      <td>M</td>\n",
       "      <td>77</td>\n",
       "    </tr>\n",
       "    <tr>\n",
       "      <th>...</th>\n",
       "      <td>...</td>\n",
       "      <td>...</td>\n",
       "    </tr>\n",
       "    <tr>\n",
       "      <th>44</th>\n",
       "      <td>\\</td>\n",
       "      <td>92</td>\n",
       "    </tr>\n",
       "    <tr>\n",
       "      <th>45</th>\n",
       "      <td>]</td>\n",
       "      <td>93</td>\n",
       "    </tr>\n",
       "    <tr>\n",
       "      <th>46</th>\n",
       "      <td>^</td>\n",
       "      <td>94</td>\n",
       "    </tr>\n",
       "    <tr>\n",
       "      <th>47</th>\n",
       "      <td>_</td>\n",
       "      <td>95</td>\n",
       "    </tr>\n",
       "    <tr>\n",
       "      <th>48</th>\n",
       "      <td>`</td>\n",
       "      <td>96</td>\n",
       "    </tr>\n",
       "    <tr>\n",
       "      <th>49</th>\n",
       "      <td>a</td>\n",
       "      <td>97</td>\n",
       "    </tr>\n",
       "    <tr>\n",
       "      <th>50</th>\n",
       "      <td>b</td>\n",
       "      <td>98</td>\n",
       "    </tr>\n",
       "    <tr>\n",
       "      <th>51</th>\n",
       "      <td>c</td>\n",
       "      <td>99</td>\n",
       "    </tr>\n",
       "    <tr>\n",
       "      <th>52</th>\n",
       "      <td>d</td>\n",
       "      <td>100</td>\n",
       "    </tr>\n",
       "    <tr>\n",
       "      <th>53</th>\n",
       "      <td>e</td>\n",
       "      <td>101</td>\n",
       "    </tr>\n",
       "    <tr>\n",
       "      <th>54</th>\n",
       "      <td>f</td>\n",
       "      <td>102</td>\n",
       "    </tr>\n",
       "    <tr>\n",
       "      <th>55</th>\n",
       "      <td>g</td>\n",
       "      <td>103</td>\n",
       "    </tr>\n",
       "    <tr>\n",
       "      <th>56</th>\n",
       "      <td>h</td>\n",
       "      <td>104</td>\n",
       "    </tr>\n",
       "    <tr>\n",
       "      <th>57</th>\n",
       "      <td>i</td>\n",
       "      <td>105</td>\n",
       "    </tr>\n",
       "    <tr>\n",
       "      <th>58</th>\n",
       "      <td>j</td>\n",
       "      <td>106</td>\n",
       "    </tr>\n",
       "    <tr>\n",
       "      <th>59</th>\n",
       "      <td>k</td>\n",
       "      <td>107</td>\n",
       "    </tr>\n",
       "    <tr>\n",
       "      <th>60</th>\n",
       "      <td>l</td>\n",
       "      <td>108</td>\n",
       "    </tr>\n",
       "    <tr>\n",
       "      <th>61</th>\n",
       "      <td>m</td>\n",
       "      <td>109</td>\n",
       "    </tr>\n",
       "    <tr>\n",
       "      <th>62</th>\n",
       "      <td>n</td>\n",
       "      <td>110</td>\n",
       "    </tr>\n",
       "    <tr>\n",
       "      <th>63</th>\n",
       "      <td>o</td>\n",
       "      <td>111</td>\n",
       "    </tr>\n",
       "    <tr>\n",
       "      <th>64</th>\n",
       "      <td>p</td>\n",
       "      <td>112</td>\n",
       "    </tr>\n",
       "    <tr>\n",
       "      <th>65</th>\n",
       "      <td>q</td>\n",
       "      <td>113</td>\n",
       "    </tr>\n",
       "    <tr>\n",
       "      <th>66</th>\n",
       "      <td>r</td>\n",
       "      <td>114</td>\n",
       "    </tr>\n",
       "    <tr>\n",
       "      <th>67</th>\n",
       "      <td>s</td>\n",
       "      <td>115</td>\n",
       "    </tr>\n",
       "    <tr>\n",
       "      <th>68</th>\n",
       "      <td>t</td>\n",
       "      <td>116</td>\n",
       "    </tr>\n",
       "    <tr>\n",
       "      <th>69</th>\n",
       "      <td>u</td>\n",
       "      <td>117</td>\n",
       "    </tr>\n",
       "    <tr>\n",
       "      <th>70</th>\n",
       "      <td>v</td>\n",
       "      <td>118</td>\n",
       "    </tr>\n",
       "    <tr>\n",
       "      <th>71</th>\n",
       "      <td>w</td>\n",
       "      <td>119</td>\n",
       "    </tr>\n",
       "    <tr>\n",
       "      <th>72</th>\n",
       "      <td>x</td>\n",
       "      <td>120</td>\n",
       "    </tr>\n",
       "    <tr>\n",
       "      <th>73</th>\n",
       "      <td>y</td>\n",
       "      <td>121</td>\n",
       "    </tr>\n",
       "  </tbody>\n",
       "</table>\n",
       "<p>74 rows × 2 columns</p>\n",
       "</div>"
      ],
      "text/plain": [
       "   char  num\n",
       "0     0   48\n",
       "1     1   49\n",
       "2     2   50\n",
       "3     3   51\n",
       "4     4   52\n",
       "5     5   53\n",
       "6     6   54\n",
       "7     7   55\n",
       "8     8   56\n",
       "9     9   57\n",
       "10    :   58\n",
       "11    ;   59\n",
       "12    <   60\n",
       "13    =   61\n",
       "14    >   62\n",
       "15    ?   63\n",
       "16    @   64\n",
       "17    A   65\n",
       "18    B   66\n",
       "19    C   67\n",
       "20    D   68\n",
       "21    E   69\n",
       "22    F   70\n",
       "23    G   71\n",
       "24    H   72\n",
       "25    I   73\n",
       "26    J   74\n",
       "27    K   75\n",
       "28    L   76\n",
       "29    M   77\n",
       "..  ...  ...\n",
       "44    \\   92\n",
       "45    ]   93\n",
       "46    ^   94\n",
       "47    _   95\n",
       "48    `   96\n",
       "49    a   97\n",
       "50    b   98\n",
       "51    c   99\n",
       "52    d  100\n",
       "53    e  101\n",
       "54    f  102\n",
       "55    g  103\n",
       "56    h  104\n",
       "57    i  105\n",
       "58    j  106\n",
       "59    k  107\n",
       "60    l  108\n",
       "61    m  109\n",
       "62    n  110\n",
       "63    o  111\n",
       "64    p  112\n",
       "65    q  113\n",
       "66    r  114\n",
       "67    s  115\n",
       "68    t  116\n",
       "69    u  117\n",
       "70    v  118\n",
       "71    w  119\n",
       "72    x  120\n",
       "73    y  121\n",
       "\n",
       "[74 rows x 2 columns]"
      ]
     },
     "execution_count": 34,
     "metadata": {
     },
     "output_type": "execute_result"
    }
   ],
   "source": [
    "df"
   ]
  },
  {
   "cell_type": "code",
   "execution_count": 72,
   "metadata": {
    "collapsed": false
   },
   "outputs": [
    {
     "data": {
      "text/html": [
       "<div>\n",
       "<table border=\"1\" class=\"dataframe\">\n",
       "  <thead>\n",
       "    <tr style=\"text-align: right;\">\n",
       "      <th></th>\n",
       "      <th>char</th>\n",
       "      <th>num</th>\n",
       "    </tr>\n",
       "  </thead>\n",
       "  <tbody>\n",
       "    <tr>\n",
       "      <th>0</th>\n",
       "      <td>0</td>\n",
       "      <td>48</td>\n",
       "    </tr>\n",
       "    <tr>\n",
       "      <th>1</th>\n",
       "      <td>1</td>\n",
       "      <td>49</td>\n",
       "    </tr>\n",
       "    <tr>\n",
       "      <th>2</th>\n",
       "      <td>2</td>\n",
       "      <td>50</td>\n",
       "    </tr>\n",
       "    <tr>\n",
       "      <th>3</th>\n",
       "      <td>3</td>\n",
       "      <td>51</td>\n",
       "    </tr>\n",
       "    <tr>\n",
       "      <th>4</th>\n",
       "      <td>4</td>\n",
       "      <td>52</td>\n",
       "    </tr>\n",
       "    <tr>\n",
       "      <th>5</th>\n",
       "      <td>5</td>\n",
       "      <td>53</td>\n",
       "    </tr>\n",
       "    <tr>\n",
       "      <th>6</th>\n",
       "      <td>6</td>\n",
       "      <td>54</td>\n",
       "    </tr>\n",
       "    <tr>\n",
       "      <th>7</th>\n",
       "      <td>7</td>\n",
       "      <td>55</td>\n",
       "    </tr>\n",
       "    <tr>\n",
       "      <th>8</th>\n",
       "      <td>8</td>\n",
       "      <td>56</td>\n",
       "    </tr>\n",
       "    <tr>\n",
       "      <th>9</th>\n",
       "      <td>9</td>\n",
       "      <td>57</td>\n",
       "    </tr>\n",
       "    <tr>\n",
       "      <th>10</th>\n",
       "      <td>:</td>\n",
       "      <td>58</td>\n",
       "    </tr>\n",
       "    <tr>\n",
       "      <th>11</th>\n",
       "      <td>;</td>\n",
       "      <td>59</td>\n",
       "    </tr>\n",
       "    <tr>\n",
       "      <th>12</th>\n",
       "      <td>&lt;</td>\n",
       "      <td>60</td>\n",
       "    </tr>\n",
       "    <tr>\n",
       "      <th>13</th>\n",
       "      <td>=</td>\n",
       "      <td>61</td>\n",
       "    </tr>\n",
       "    <tr>\n",
       "      <th>14</th>\n",
       "      <td>&gt;</td>\n",
       "      <td>62</td>\n",
       "    </tr>\n",
       "    <tr>\n",
       "      <th>15</th>\n",
       "      <td>?</td>\n",
       "      <td>63</td>\n",
       "    </tr>\n",
       "    <tr>\n",
       "      <th>16</th>\n",
       "      <td>@</td>\n",
       "      <td>64</td>\n",
       "    </tr>\n",
       "    <tr>\n",
       "      <th>17</th>\n",
       "      <td>A</td>\n",
       "      <td>65</td>\n",
       "    </tr>\n",
       "    <tr>\n",
       "      <th>18</th>\n",
       "      <td>B</td>\n",
       "      <td>66</td>\n",
       "    </tr>\n",
       "    <tr>\n",
       "      <th>19</th>\n",
       "      <td>C</td>\n",
       "      <td>67</td>\n",
       "    </tr>\n",
       "    <tr>\n",
       "      <th>20</th>\n",
       "      <td>D</td>\n",
       "      <td>68</td>\n",
       "    </tr>\n",
       "    <tr>\n",
       "      <th>21</th>\n",
       "      <td>E</td>\n",
       "      <td>69</td>\n",
       "    </tr>\n",
       "    <tr>\n",
       "      <th>22</th>\n",
       "      <td>F</td>\n",
       "      <td>70</td>\n",
       "    </tr>\n",
       "    <tr>\n",
       "      <th>23</th>\n",
       "      <td>G</td>\n",
       "      <td>71</td>\n",
       "    </tr>\n",
       "    <tr>\n",
       "      <th>24</th>\n",
       "      <td>H</td>\n",
       "      <td>72</td>\n",
       "    </tr>\n",
       "    <tr>\n",
       "      <th>25</th>\n",
       "      <td>I</td>\n",
       "      <td>73</td>\n",
       "    </tr>\n",
       "    <tr>\n",
       "      <th>26</th>\n",
       "      <td>J</td>\n",
       "      <td>74</td>\n",
       "    </tr>\n",
       "    <tr>\n",
       "      <th>27</th>\n",
       "      <td>K</td>\n",
       "      <td>75</td>\n",
       "    </tr>\n",
       "    <tr>\n",
       "      <th>28</th>\n",
       "      <td>L</td>\n",
       "      <td>76</td>\n",
       "    </tr>\n",
       "    <tr>\n",
       "      <th>29</th>\n",
       "      <td>M</td>\n",
       "      <td>77</td>\n",
       "    </tr>\n",
       "    <tr>\n",
       "      <th>...</th>\n",
       "      <td>...</td>\n",
       "      <td>...</td>\n",
       "    </tr>\n",
       "    <tr>\n",
       "      <th>44</th>\n",
       "      <td>\\</td>\n",
       "      <td>92</td>\n",
       "    </tr>\n",
       "    <tr>\n",
       "      <th>45</th>\n",
       "      <td>]</td>\n",
       "      <td>93</td>\n",
       "    </tr>\n",
       "    <tr>\n",
       "      <th>46</th>\n",
       "      <td>^</td>\n",
       "      <td>94</td>\n",
       "    </tr>\n",
       "    <tr>\n",
       "      <th>47</th>\n",
       "      <td>_</td>\n",
       "      <td>95</td>\n",
       "    </tr>\n",
       "    <tr>\n",
       "      <th>48</th>\n",
       "      <td>`</td>\n",
       "      <td>96</td>\n",
       "    </tr>\n",
       "    <tr>\n",
       "      <th>49</th>\n",
       "      <td>a</td>\n",
       "      <td>97</td>\n",
       "    </tr>\n",
       "    <tr>\n",
       "      <th>50</th>\n",
       "      <td>b</td>\n",
       "      <td>98</td>\n",
       "    </tr>\n",
       "    <tr>\n",
       "      <th>51</th>\n",
       "      <td>c</td>\n",
       "      <td>99</td>\n",
       "    </tr>\n",
       "    <tr>\n",
       "      <th>52</th>\n",
       "      <td>d</td>\n",
       "      <td>100</td>\n",
       "    </tr>\n",
       "    <tr>\n",
       "      <th>53</th>\n",
       "      <td>e</td>\n",
       "      <td>101</td>\n",
       "    </tr>\n",
       "    <tr>\n",
       "      <th>54</th>\n",
       "      <td>f</td>\n",
       "      <td>102</td>\n",
       "    </tr>\n",
       "    <tr>\n",
       "      <th>55</th>\n",
       "      <td>g</td>\n",
       "      <td>103</td>\n",
       "    </tr>\n",
       "    <tr>\n",
       "      <th>56</th>\n",
       "      <td>h</td>\n",
       "      <td>104</td>\n",
       "    </tr>\n",
       "    <tr>\n",
       "      <th>57</th>\n",
       "      <td>i</td>\n",
       "      <td>105</td>\n",
       "    </tr>\n",
       "    <tr>\n",
       "      <th>58</th>\n",
       "      <td>j</td>\n",
       "      <td>106</td>\n",
       "    </tr>\n",
       "    <tr>\n",
       "      <th>59</th>\n",
       "      <td>k</td>\n",
       "      <td>107</td>\n",
       "    </tr>\n",
       "    <tr>\n",
       "      <th>60</th>\n",
       "      <td>l</td>\n",
       "      <td>108</td>\n",
       "    </tr>\n",
       "    <tr>\n",
       "      <th>61</th>\n",
       "      <td>m</td>\n",
       "      <td>109</td>\n",
       "    </tr>\n",
       "    <tr>\n",
       "      <th>62</th>\n",
       "      <td>n</td>\n",
       "      <td>110</td>\n",
       "    </tr>\n",
       "    <tr>\n",
       "      <th>63</th>\n",
       "      <td>o</td>\n",
       "      <td>111</td>\n",
       "    </tr>\n",
       "    <tr>\n",
       "      <th>64</th>\n",
       "      <td>p</td>\n",
       "      <td>112</td>\n",
       "    </tr>\n",
       "    <tr>\n",
       "      <th>65</th>\n",
       "      <td>q</td>\n",
       "      <td>113</td>\n",
       "    </tr>\n",
       "    <tr>\n",
       "      <th>66</th>\n",
       "      <td>r</td>\n",
       "      <td>114</td>\n",
       "    </tr>\n",
       "    <tr>\n",
       "      <th>67</th>\n",
       "      <td>s</td>\n",
       "      <td>115</td>\n",
       "    </tr>\n",
       "    <tr>\n",
       "      <th>68</th>\n",
       "      <td>t</td>\n",
       "      <td>116</td>\n",
       "    </tr>\n",
       "    <tr>\n",
       "      <th>69</th>\n",
       "      <td>u</td>\n",
       "      <td>117</td>\n",
       "    </tr>\n",
       "    <tr>\n",
       "      <th>70</th>\n",
       "      <td>v</td>\n",
       "      <td>118</td>\n",
       "    </tr>\n",
       "    <tr>\n",
       "      <th>71</th>\n",
       "      <td>w</td>\n",
       "      <td>119</td>\n",
       "    </tr>\n",
       "    <tr>\n",
       "      <th>72</th>\n",
       "      <td>x</td>\n",
       "      <td>120</td>\n",
       "    </tr>\n",
       "    <tr>\n",
       "      <th>73</th>\n",
       "      <td>y</td>\n",
       "      <td>121</td>\n",
       "    </tr>\n",
       "  </tbody>\n",
       "</table>\n",
       "<p>74 rows × 2 columns</p>\n",
       "</div>"
      ]
     },
     "execution_count": 72,
     "metadata": {
     },
     "output_type": "execute_result"
    }
   ],
   "source": [
    "df[['char','num']]"
   ]
  },
  {
   "cell_type": "markdown",
   "metadata": {
    "collapsed": false
   },
   "source": [
    "Para criar uma nova coluna de dados é fácil."
   ]
  },
  {
   "cell_type": "code",
   "execution_count": 35,
   "metadata": {
    "collapsed": false
   },
   "outputs": [
   ],
   "source": [
    "df['binario']=df['num'].apply(bin)"
   ]
  },
  {
   "cell_type": "markdown",
   "metadata": {
    "collapsed": false
   },
   "source": [
    "`apply` nesse caso aplica uma função em cada elemento da série. "
   ]
  },
  {
   "cell_type": "code",
   "execution_count": 36,
   "metadata": {
    "collapsed": false
   },
   "outputs": [
    {
     "data": {
      "text/plain": [
       "'0b10111'"
      ]
     },
     "execution_count": 36,
     "metadata": {
     },
     "output_type": "execute_result"
    }
   ],
   "source": [
    "bin(23)"
   ]
  },
  {
   "cell_type": "code",
   "execution_count": 37,
   "metadata": {
    "collapsed": false
   },
   "outputs": [
    {
     "data": {
      "text/html": [
       "<div>\n",
       "<style scoped>\n",
       "    .dataframe tbody tr th:only-of-type {\n",
       "        vertical-align: middle;\n",
       "    }\n",
       "\n",
       "    .dataframe tbody tr th {\n",
       "        vertical-align: top;\n",
       "    }\n",
       "\n",
       "    .dataframe thead th {\n",
       "        text-align: right;\n",
       "    }\n",
       "</style>\n",
       "<table border=\"1\" class=\"dataframe\">\n",
       "  <thead>\n",
       "    <tr style=\"text-align: right;\">\n",
       "      <th></th>\n",
       "      <th>num</th>\n",
       "      <th>binario</th>\n",
       "    </tr>\n",
       "  </thead>\n",
       "  <tbody>\n",
       "    <tr>\n",
       "      <th>0</th>\n",
       "      <td>48</td>\n",
       "      <td>0b110000</td>\n",
       "    </tr>\n",
       "    <tr>\n",
       "      <th>1</th>\n",
       "      <td>49</td>\n",
       "      <td>0b110001</td>\n",
       "    </tr>\n",
       "    <tr>\n",
       "      <th>2</th>\n",
       "      <td>50</td>\n",
       "      <td>0b110010</td>\n",
       "    </tr>\n",
       "    <tr>\n",
       "      <th>3</th>\n",
       "      <td>51</td>\n",
       "      <td>0b110011</td>\n",
       "    </tr>\n",
       "    <tr>\n",
       "      <th>4</th>\n",
       "      <td>52</td>\n",
       "      <td>0b110100</td>\n",
       "    </tr>\n",
       "    <tr>\n",
       "      <th>5</th>\n",
       "      <td>53</td>\n",
       "      <td>0b110101</td>\n",
       "    </tr>\n",
       "    <tr>\n",
       "      <th>6</th>\n",
       "      <td>54</td>\n",
       "      <td>0b110110</td>\n",
       "    </tr>\n",
       "    <tr>\n",
       "      <th>7</th>\n",
       "      <td>55</td>\n",
       "      <td>0b110111</td>\n",
       "    </tr>\n",
       "    <tr>\n",
       "      <th>8</th>\n",
       "      <td>56</td>\n",
       "      <td>0b111000</td>\n",
       "    </tr>\n",
       "    <tr>\n",
       "      <th>9</th>\n",
       "      <td>57</td>\n",
       "      <td>0b111001</td>\n",
       "    </tr>\n",
       "    <tr>\n",
       "      <th>10</th>\n",
       "      <td>58</td>\n",
       "      <td>0b111010</td>\n",
       "    </tr>\n",
       "    <tr>\n",
       "      <th>11</th>\n",
       "      <td>59</td>\n",
       "      <td>0b111011</td>\n",
       "    </tr>\n",
       "    <tr>\n",
       "      <th>12</th>\n",
       "      <td>60</td>\n",
       "      <td>0b111100</td>\n",
       "    </tr>\n",
       "    <tr>\n",
       "      <th>13</th>\n",
       "      <td>61</td>\n",
       "      <td>0b111101</td>\n",
       "    </tr>\n",
       "    <tr>\n",
       "      <th>14</th>\n",
       "      <td>62</td>\n",
       "      <td>0b111110</td>\n",
       "    </tr>\n",
       "    <tr>\n",
       "      <th>15</th>\n",
       "      <td>63</td>\n",
       "      <td>0b111111</td>\n",
       "    </tr>\n",
       "    <tr>\n",
       "      <th>16</th>\n",
       "      <td>64</td>\n",
       "      <td>0b1000000</td>\n",
       "    </tr>\n",
       "    <tr>\n",
       "      <th>17</th>\n",
       "      <td>65</td>\n",
       "      <td>0b1000001</td>\n",
       "    </tr>\n",
       "    <tr>\n",
       "      <th>18</th>\n",
       "      <td>66</td>\n",
       "      <td>0b1000010</td>\n",
       "    </tr>\n",
       "    <tr>\n",
       "      <th>19</th>\n",
       "      <td>67</td>\n",
       "      <td>0b1000011</td>\n",
       "    </tr>\n",
       "    <tr>\n",
       "      <th>20</th>\n",
       "      <td>68</td>\n",
       "      <td>0b1000100</td>\n",
       "    </tr>\n",
       "    <tr>\n",
       "      <th>21</th>\n",
       "      <td>69</td>\n",
       "      <td>0b1000101</td>\n",
       "    </tr>\n",
       "    <tr>\n",
       "      <th>22</th>\n",
       "      <td>70</td>\n",
       "      <td>0b1000110</td>\n",
       "    </tr>\n",
       "    <tr>\n",
       "      <th>23</th>\n",
       "      <td>71</td>\n",
       "      <td>0b1000111</td>\n",
       "    </tr>\n",
       "    <tr>\n",
       "      <th>24</th>\n",
       "      <td>72</td>\n",
       "      <td>0b1001000</td>\n",
       "    </tr>\n",
       "    <tr>\n",
       "      <th>25</th>\n",
       "      <td>73</td>\n",
       "      <td>0b1001001</td>\n",
       "    </tr>\n",
       "    <tr>\n",
       "      <th>26</th>\n",
       "      <td>74</td>\n",
       "      <td>0b1001010</td>\n",
       "    </tr>\n",
       "    <tr>\n",
       "      <th>27</th>\n",
       "      <td>75</td>\n",
       "      <td>0b1001011</td>\n",
       "    </tr>\n",
       "    <tr>\n",
       "      <th>28</th>\n",
       "      <td>76</td>\n",
       "      <td>0b1001100</td>\n",
       "    </tr>\n",
       "    <tr>\n",
       "      <th>29</th>\n",
       "      <td>77</td>\n",
       "      <td>0b1001101</td>\n",
       "    </tr>\n",
       "    <tr>\n",
       "      <th>...</th>\n",
       "      <td>...</td>\n",
       "      <td>...</td>\n",
       "    </tr>\n",
       "    <tr>\n",
       "      <th>44</th>\n",
       "      <td>92</td>\n",
       "      <td>0b1011100</td>\n",
       "    </tr>\n",
       "    <tr>\n",
       "      <th>45</th>\n",
       "      <td>93</td>\n",
       "      <td>0b1011101</td>\n",
       "    </tr>\n",
       "    <tr>\n",
       "      <th>46</th>\n",
       "      <td>94</td>\n",
       "      <td>0b1011110</td>\n",
       "    </tr>\n",
       "    <tr>\n",
       "      <th>47</th>\n",
       "      <td>95</td>\n",
       "      <td>0b1011111</td>\n",
       "    </tr>\n",
       "    <tr>\n",
       "      <th>48</th>\n",
       "      <td>96</td>\n",
       "      <td>0b1100000</td>\n",
       "    </tr>\n",
       "    <tr>\n",
       "      <th>49</th>\n",
       "      <td>97</td>\n",
       "      <td>0b1100001</td>\n",
       "    </tr>\n",
       "    <tr>\n",
       "      <th>50</th>\n",
       "      <td>98</td>\n",
       "      <td>0b1100010</td>\n",
       "    </tr>\n",
       "    <tr>\n",
       "      <th>51</th>\n",
       "      <td>99</td>\n",
       "      <td>0b1100011</td>\n",
       "    </tr>\n",
       "    <tr>\n",
       "      <th>52</th>\n",
       "      <td>100</td>\n",
       "      <td>0b1100100</td>\n",
       "    </tr>\n",
       "    <tr>\n",
       "      <th>53</th>\n",
       "      <td>101</td>\n",
       "      <td>0b1100101</td>\n",
       "    </tr>\n",
       "    <tr>\n",
       "      <th>54</th>\n",
       "      <td>102</td>\n",
       "      <td>0b1100110</td>\n",
       "    </tr>\n",
       "    <tr>\n",
       "      <th>55</th>\n",
       "      <td>103</td>\n",
       "      <td>0b1100111</td>\n",
       "    </tr>\n",
       "    <tr>\n",
       "      <th>56</th>\n",
       "      <td>104</td>\n",
       "      <td>0b1101000</td>\n",
       "    </tr>\n",
       "    <tr>\n",
       "      <th>57</th>\n",
       "      <td>105</td>\n",
       "      <td>0b1101001</td>\n",
       "    </tr>\n",
       "    <tr>\n",
       "      <th>58</th>\n",
       "      <td>106</td>\n",
       "      <td>0b1101010</td>\n",
       "    </tr>\n",
       "    <tr>\n",
       "      <th>59</th>\n",
       "      <td>107</td>\n",
       "      <td>0b1101011</td>\n",
       "    </tr>\n",
       "    <tr>\n",
       "      <th>60</th>\n",
       "      <td>108</td>\n",
       "      <td>0b1101100</td>\n",
       "    </tr>\n",
       "    <tr>\n",
       "      <th>61</th>\n",
       "      <td>109</td>\n",
       "      <td>0b1101101</td>\n",
       "    </tr>\n",
       "    <tr>\n",
       "      <th>62</th>\n",
       "      <td>110</td>\n",
       "      <td>0b1101110</td>\n",
       "    </tr>\n",
       "    <tr>\n",
       "      <th>63</th>\n",
       "      <td>111</td>\n",
       "      <td>0b1101111</td>\n",
       "    </tr>\n",
       "    <tr>\n",
       "      <th>64</th>\n",
       "      <td>112</td>\n",
       "      <td>0b1110000</td>\n",
       "    </tr>\n",
       "    <tr>\n",
       "      <th>65</th>\n",
       "      <td>113</td>\n",
       "      <td>0b1110001</td>\n",
       "    </tr>\n",
       "    <tr>\n",
       "      <th>66</th>\n",
       "      <td>114</td>\n",
       "      <td>0b1110010</td>\n",
       "    </tr>\n",
       "    <tr>\n",
       "      <th>67</th>\n",
       "      <td>115</td>\n",
       "      <td>0b1110011</td>\n",
       "    </tr>\n",
       "    <tr>\n",
       "      <th>68</th>\n",
       "      <td>116</td>\n",
       "      <td>0b1110100</td>\n",
       "    </tr>\n",
       "    <tr>\n",
       "      <th>69</th>\n",
       "      <td>117</td>\n",
       "      <td>0b1110101</td>\n",
       "    </tr>\n",
       "    <tr>\n",
       "      <th>70</th>\n",
       "      <td>118</td>\n",
       "      <td>0b1110110</td>\n",
       "    </tr>\n",
       "    <tr>\n",
       "      <th>71</th>\n",
       "      <td>119</td>\n",
       "      <td>0b1110111</td>\n",
       "    </tr>\n",
       "    <tr>\n",
       "      <th>72</th>\n",
       "      <td>120</td>\n",
       "      <td>0b1111000</td>\n",
       "    </tr>\n",
       "    <tr>\n",
       "      <th>73</th>\n",
       "      <td>121</td>\n",
       "      <td>0b1111001</td>\n",
       "    </tr>\n",
       "  </tbody>\n",
       "</table>\n",
       "<p>74 rows × 2 columns</p>\n",
       "</div>"
      ],
      "text/plain": [
       "    num    binario\n",
       "0    48   0b110000\n",
       "1    49   0b110001\n",
       "2    50   0b110010\n",
       "3    51   0b110011\n",
       "4    52   0b110100\n",
       "5    53   0b110101\n",
       "6    54   0b110110\n",
       "7    55   0b110111\n",
       "8    56   0b111000\n",
       "9    57   0b111001\n",
       "10   58   0b111010\n",
       "11   59   0b111011\n",
       "12   60   0b111100\n",
       "13   61   0b111101\n",
       "14   62   0b111110\n",
       "15   63   0b111111\n",
       "16   64  0b1000000\n",
       "17   65  0b1000001\n",
       "18   66  0b1000010\n",
       "19   67  0b1000011\n",
       "20   68  0b1000100\n",
       "21   69  0b1000101\n",
       "22   70  0b1000110\n",
       "23   71  0b1000111\n",
       "24   72  0b1001000\n",
       "25   73  0b1001001\n",
       "26   74  0b1001010\n",
       "27   75  0b1001011\n",
       "28   76  0b1001100\n",
       "29   77  0b1001101\n",
       "..  ...        ...\n",
       "44   92  0b1011100\n",
       "45   93  0b1011101\n",
       "46   94  0b1011110\n",
       "47   95  0b1011111\n",
       "48   96  0b1100000\n",
       "49   97  0b1100001\n",
       "50   98  0b1100010\n",
       "51   99  0b1100011\n",
       "52  100  0b1100100\n",
       "53  101  0b1100101\n",
       "54  102  0b1100110\n",
       "55  103  0b1100111\n",
       "56  104  0b1101000\n",
       "57  105  0b1101001\n",
       "58  106  0b1101010\n",
       "59  107  0b1101011\n",
       "60  108  0b1101100\n",
       "61  109  0b1101101\n",
       "62  110  0b1101110\n",
       "63  111  0b1101111\n",
       "64  112  0b1110000\n",
       "65  113  0b1110001\n",
       "66  114  0b1110010\n",
       "67  115  0b1110011\n",
       "68  116  0b1110100\n",
       "69  117  0b1110101\n",
       "70  118  0b1110110\n",
       "71  119  0b1110111\n",
       "72  120  0b1111000\n",
       "73  121  0b1111001\n",
       "\n",
       "[74 rows x 2 columns]"
      ]
     },
     "execution_count": 37,
     "metadata": {
     },
     "output_type": "execute_result"
    }
   ],
   "source": [
    "df[['num','binario']]"
   ]
  },
  {
   "cell_type": "markdown",
   "metadata": {
    "collapsed": false
   },
   "source": [
    "Para acessar os dados pelo índice."
   ]
  },
  {
   "cell_type": "code",
   "execution_count": 42,
   "metadata": {
    "collapsed": false
   },
   "outputs": [
    {
     "data": {
      "text/plain": [
       "char               N\n",
       "num               78\n",
       "binario    0b1001110\n",
       "Name: 30, dtype: object"
      ]
     },
     "execution_count": 42,
     "metadata": {
     },
     "output_type": "execute_result"
    }
   ],
   "source": [
    "df.iloc[30]\n"
   ]
  },
  {
   "cell_type": "markdown",
   "metadata": {
    "collapsed": false
   },
   "source": [
    "**3. Exportar arquivos em csv com pandas**\n",
    "- Exporte o dataframe para um arquivo csv . Podemos nomear o arquivo dicchar.csv . A função to_csv será usada para exportar o arquivo. O arquivo será salvo no mesmo local do notebook, a menos que especificado de outra forma."
   ]
  },
  {
   "cell_type": "code",
   "execution_count": 43,
   "metadata": {
    "collapsed": false
   },
   "outputs": [
   ],
   "source": [
    "df.to_csv ( 'dicchar.csv' , index = False , header = True)"
   ]
  },
  {
   "cell_type": "code",
   "execution_count": 44,
   "metadata": {
    "collapsed": false
   },
   "outputs": [
    {
     "name": "stdout",
     "output_type": "stream",
     "text": [
      "char,num,binario\r\n",
      "0,48,0b110000\r\n",
      "1,49,0b110001\r\n",
      "2,50,0b110010\r\n",
      "3,51,0b110011\r\n",
      "4,52,0b110100\r\n",
      "5,53,0b110101\r\n",
      "6,54,0b110110\r\n",
      "7,55,0b110111\r\n",
      "8,56,0b111000\r\n",
      "9,57,0b111001\r\n",
      ":,58,0b111010\r\n",
      ";,59,0b111011\r\n",
      "<,60,0b111100\r\n",
      "=,61,0b111101\r\n",
      ">,62,0b111110\r\n",
      "?,63,0b111111\r\n",
      "@,64,0b1000000\r\n",
      "A,65,0b1000001\r\n",
      "B,66,0b1000010\r\n",
      "C,67,0b1000011\r\n",
      "D,68,0b1000100\r\n",
      "E,69,0b1000101\r\n",
      "\u001b[7m--More--(29%)\u001b[m"
     ]
    }
   ],
   "source": [
    "!more dicchar.csv\n"
   ]
  },
  {
   "cell_type": "markdown",
   "metadata": {
    "collapsed": false
   },
   "source": [
    "- Podemos exportar arquivos em em excel ou leitura colocando no **.xls** ou **.txt** no lugar do csv no exemplo a cima."
   ]
  },
  {
   "cell_type": "markdown",
   "metadata": {
    "collapsed": false
   },
   "source": [
    "**4. Obter dados**"
   ]
  },
  {
   "cell_type": "code",
   "execution_count": 1,
   "metadata": {
    "collapsed": false
   },
   "outputs": [
   ],
   "source": [
    "!ls -la > teste.txt"
   ]
  },
  {
   "cell_type": "code",
   "execution_count": 2,
   "metadata": {
    "collapsed": false
   },
   "outputs": [
   ],
   "source": [
    "file=open('teste.txt','r')\n",
    "data=[]\n",
    "for line in file:\n",
    "    data=data+[line.split()]\n",
    "data=data[1:]"
   ]
  },
  {
   "cell_type": "code",
   "execution_count": 3,
   "metadata": {
    "collapsed": false
   },
   "outputs": [
    {
     "data": {
      "text/plain": [
       "['drwxr-xr-x', '3', 'user', 'user', '22', 'May', '3', '17:27', '.']"
      ]
     },
     "execution_count": 3,
     "metadata": {
     },
     "output_type": "execute_result"
    }
   ],
   "source": [
    "data[0]"
   ]
  },
  {
   "cell_type": "code",
   "execution_count": 4,
   "metadata": {
    "collapsed": false
   },
   "outputs": [
   ],
   "source": [
    "import pandas as pd"
   ]
  },
  {
   "cell_type": "code",
   "execution_count": 5,
   "metadata": {
    "collapsed": false
   },
   "outputs": [
    {
     "data": {
      "text/html": [
       "<div>\n",
       "<style scoped>\n",
       "    .dataframe tbody tr th:only-of-type {\n",
       "        vertical-align: middle;\n",
       "    }\n",
       "\n",
       "    .dataframe tbody tr th {\n",
       "        vertical-align: top;\n",
       "    }\n",
       "\n",
       "    .dataframe thead th {\n",
       "        text-align: right;\n",
       "    }\n",
       "</style>\n",
       "<table border=\"1\" class=\"dataframe\">\n",
       "  <thead>\n",
       "    <tr style=\"text-align: right;\">\n",
       "      <th></th>\n",
       "      <th>day</th>\n",
       "      <th>filename</th>\n",
       "      <th>filesize</th>\n",
       "      <th>group</th>\n",
       "      <th>hour</th>\n",
       "      <th>month</th>\n",
       "      <th>perm</th>\n",
       "      <th>user</th>\n",
       "      <th>usercode</th>\n",
       "    </tr>\n",
       "  </thead>\n",
       "  <tbody>\n",
       "    <tr>\n",
       "      <th>0</th>\n",
       "      <td>3</td>\n",
       "      <td>.</td>\n",
       "      <td>22</td>\n",
       "      <td>3</td>\n",
       "      <td>17:27</td>\n",
       "      <td>May</td>\n",
       "      <td>drwxr-xr-x</td>\n",
       "      <td>user</td>\n",
       "      <td>user</td>\n",
       "    </tr>\n",
       "    <tr>\n",
       "      <th>1</th>\n",
       "      <td>3</td>\n",
       "      <td>..</td>\n",
       "      <td>33</td>\n",
       "      <td>23</td>\n",
       "      <td>16:00</td>\n",
       "      <td>May</td>\n",
       "      <td>drwxr-xr-x</td>\n",
       "      <td>user</td>\n",
       "      <td>user</td>\n",
       "    </tr>\n",
       "    <tr>\n",
       "      <th>2</th>\n",
       "      <td>3</td>\n",
       "      <td>.Aula24.04.2017.ipynb.sage-jupyter2</td>\n",
       "      <td>112047</td>\n",
       "      <td>1</td>\n",
       "      <td>16:01</td>\n",
       "      <td>May</td>\n",
       "      <td>-rw-r--r--</td>\n",
       "      <td>user</td>\n",
       "      <td>user</td>\n",
       "    </tr>\n",
       "    <tr>\n",
       "      <th>3</th>\n",
       "      <td>3</td>\n",
       "      <td>.Aula9.ipynb.sage-jupyter2</td>\n",
       "      <td>89550</td>\n",
       "      <td>1</td>\n",
       "      <td>17:29</td>\n",
       "      <td>May</td>\n",
       "      <td>-rw-r--r--</td>\n",
       "      <td>user</td>\n",
       "      <td>user</td>\n",
       "    </tr>\n",
       "    <tr>\n",
       "      <th>4</th>\n",
       "      <td>1</td>\n",
       "      <td>.python.dados.pandas.ipynb.sage-jupyter2</td>\n",
       "      <td>23468</td>\n",
       "      <td>1</td>\n",
       "      <td>16:34</td>\n",
       "      <td>May</td>\n",
       "      <td>-rw-r--r--</td>\n",
       "      <td>user</td>\n",
       "      <td>user</td>\n",
       "    </tr>\n",
       "    <tr>\n",
       "      <th>5</th>\n",
       "      <td>3</td>\n",
       "      <td>Aula9.ipynb</td>\n",
       "      <td>125193</td>\n",
       "      <td>1</td>\n",
       "      <td>17:29</td>\n",
       "      <td>May</td>\n",
       "      <td>-rw-r--r--</td>\n",
       "      <td>user</td>\n",
       "      <td>user</td>\n",
       "    </tr>\n",
       "    <tr>\n",
       "      <th>6</th>\n",
       "      <td>3</td>\n",
       "      <td>DUE_DATE.txt</td>\n",
       "      <td>46</td>\n",
       "      <td>1</td>\n",
       "      <td>16:43</td>\n",
       "      <td>May</td>\n",
       "      <td>-rw-r--r--</td>\n",
       "      <td>user</td>\n",
       "      <td>user</td>\n",
       "    </tr>\n",
       "    <tr>\n",
       "      <th>7</th>\n",
       "      <td>1</td>\n",
       "      <td>arq_abr_outuno.txt</td>\n",
       "      <td>406</td>\n",
       "      <td>1</td>\n",
       "      <td>16:46</td>\n",
       "      <td>Mar</td>\n",
       "      <td>-rw-r--r--</td>\n",
       "      <td>user</td>\n",
       "      <td>user</td>\n",
       "    </tr>\n",
       "    <tr>\n",
       "      <th>8</th>\n",
       "      <td>1</td>\n",
       "      <td>arq_ago_inverno.txt</td>\n",
       "      <td>1121</td>\n",
       "      <td>1</td>\n",
       "      <td>16:46</td>\n",
       "      <td>Mar</td>\n",
       "      <td>-rw-r--r--</td>\n",
       "      <td>user</td>\n",
       "      <td>user</td>\n",
       "    </tr>\n",
       "    <tr>\n",
       "      <th>9</th>\n",
       "      <td>1</td>\n",
       "      <td>arq_dez_primavera.txt</td>\n",
       "      <td>1220</td>\n",
       "      <td>1</td>\n",
       "      <td>16:46</td>\n",
       "      <td>Mar</td>\n",
       "      <td>-rw-r--r--</td>\n",
       "      <td>user</td>\n",
       "      <td>user</td>\n",
       "    </tr>\n",
       "    <tr>\n",
       "      <th>10</th>\n",
       "      <td>1</td>\n",
       "      <td>arq_fev_verao.txt</td>\n",
       "      <td>684</td>\n",
       "      <td>1</td>\n",
       "      <td>16:46</td>\n",
       "      <td>Mar</td>\n",
       "      <td>-rw-r--r--</td>\n",
       "      <td>user</td>\n",
       "      <td>user</td>\n",
       "    </tr>\n",
       "    <tr>\n",
       "      <th>11</th>\n",
       "      <td>1</td>\n",
       "      <td>arq_jan_verao.txt</td>\n",
       "      <td>1368</td>\n",
       "      <td>1</td>\n",
       "      <td>16:46</td>\n",
       "      <td>Mar</td>\n",
       "      <td>-rw-r--r--</td>\n",
       "      <td>user</td>\n",
       "      <td>user</td>\n",
       "    </tr>\n",
       "    <tr>\n",
       "      <th>12</th>\n",
       "      <td>1</td>\n",
       "      <td>arq_jul_inverno.txt</td>\n",
       "      <td>885</td>\n",
       "      <td>1</td>\n",
       "      <td>16:46</td>\n",
       "      <td>Mar</td>\n",
       "      <td>-rw-r--r--</td>\n",
       "      <td>user</td>\n",
       "      <td>user</td>\n",
       "    </tr>\n",
       "    <tr>\n",
       "      <th>13</th>\n",
       "      <td>1</td>\n",
       "      <td>arq_jun_outuno.txt</td>\n",
       "      <td>1276</td>\n",
       "      <td>1</td>\n",
       "      <td>16:46</td>\n",
       "      <td>Mar</td>\n",
       "      <td>-rw-r--r--</td>\n",
       "      <td>user</td>\n",
       "      <td>user</td>\n",
       "    </tr>\n",
       "    <tr>\n",
       "      <th>14</th>\n",
       "      <td>1</td>\n",
       "      <td>arq_mai_outuno.txt</td>\n",
       "      <td>1102</td>\n",
       "      <td>1</td>\n",
       "      <td>16:46</td>\n",
       "      <td>Mar</td>\n",
       "      <td>-rw-r--r--</td>\n",
       "      <td>user</td>\n",
       "      <td>user</td>\n",
       "    </tr>\n",
       "    <tr>\n",
       "      <th>15</th>\n",
       "      <td>1</td>\n",
       "      <td>arq_mar_verao.txt</td>\n",
       "      <td>342</td>\n",
       "      <td>1</td>\n",
       "      <td>16:46</td>\n",
       "      <td>Mar</td>\n",
       "      <td>-rw-r--r--</td>\n",
       "      <td>user</td>\n",
       "      <td>user</td>\n",
       "    </tr>\n",
       "    <tr>\n",
       "      <th>16</th>\n",
       "      <td>1</td>\n",
       "      <td>arq_nov_primavera.txt</td>\n",
       "      <td>1586</td>\n",
       "      <td>1</td>\n",
       "      <td>16:46</td>\n",
       "      <td>Mar</td>\n",
       "      <td>-rw-r--r--</td>\n",
       "      <td>user</td>\n",
       "      <td>user</td>\n",
       "    </tr>\n",
       "    <tr>\n",
       "      <th>17</th>\n",
       "      <td>1</td>\n",
       "      <td>arq_out_primavera.txt</td>\n",
       "      <td>610</td>\n",
       "      <td>1</td>\n",
       "      <td>16:46</td>\n",
       "      <td>Mar</td>\n",
       "      <td>-rw-r--r--</td>\n",
       "      <td>user</td>\n",
       "      <td>user</td>\n",
       "    </tr>\n",
       "    <tr>\n",
       "      <th>18</th>\n",
       "      <td>1</td>\n",
       "      <td>arq_set_primavera.txt</td>\n",
       "      <td>610</td>\n",
       "      <td>1</td>\n",
       "      <td>16:46</td>\n",
       "      <td>Mar</td>\n",
       "      <td>-rw-r--r--</td>\n",
       "      <td>user</td>\n",
       "      <td>user</td>\n",
       "    </tr>\n",
       "    <tr>\n",
       "      <th>19</th>\n",
       "      <td>1</td>\n",
       "      <td>cookbook-data</td>\n",
       "      <td>2</td>\n",
       "      <td>2</td>\n",
       "      <td>16:46</td>\n",
       "      <td>Mar</td>\n",
       "      <td>drwxr-xr-x</td>\n",
       "      <td>user</td>\n",
       "      <td>user</td>\n",
       "    </tr>\n",
       "    <tr>\n",
       "      <th>20</th>\n",
       "      <td>3</td>\n",
       "      <td>dicchar.csv</td>\n",
       "      <td>1133</td>\n",
       "      <td>1</td>\n",
       "      <td>17:27</td>\n",
       "      <td>May</td>\n",
       "      <td>-rw-r--r--</td>\n",
       "      <td>user</td>\n",
       "      <td>user</td>\n",
       "    </tr>\n",
       "    <tr>\n",
       "      <th>21</th>\n",
       "      <td>3</td>\n",
       "      <td>teste.txt</td>\n",
       "      <td>0</td>\n",
       "      <td>1</td>\n",
       "      <td>17:29</td>\n",
       "      <td>May</td>\n",
       "      <td>-rw-r--r--</td>\n",
       "      <td>user</td>\n",
       "      <td>user</td>\n",
       "    </tr>\n",
       "  </tbody>\n",
       "</table>\n",
       "</div>"
      ],
      "text/plain": [
       "   day                                  filename filesize group   hour month  \\\n",
       "0    3                                         .       22     3  17:27   May   \n",
       "1    3                                        ..       33    23  16:00   May   \n",
       "2    3       .Aula24.04.2017.ipynb.sage-jupyter2   112047     1  16:01   May   \n",
       "3    3                .Aula9.ipynb.sage-jupyter2    89550     1  17:29   May   \n",
       "4    1  .python.dados.pandas.ipynb.sage-jupyter2    23468     1  16:34   May   \n",
       "5    3                               Aula9.ipynb   125193     1  17:29   May   \n",
       "6    3                              DUE_DATE.txt       46     1  16:43   May   \n",
       "7    1                        arq_abr_outuno.txt      406     1  16:46   Mar   \n",
       "8    1                       arq_ago_inverno.txt     1121     1  16:46   Mar   \n",
       "9    1                     arq_dez_primavera.txt     1220     1  16:46   Mar   \n",
       "10   1                         arq_fev_verao.txt      684     1  16:46   Mar   \n",
       "11   1                         arq_jan_verao.txt     1368     1  16:46   Mar   \n",
       "12   1                       arq_jul_inverno.txt      885     1  16:46   Mar   \n",
       "13   1                        arq_jun_outuno.txt     1276     1  16:46   Mar   \n",
       "14   1                        arq_mai_outuno.txt     1102     1  16:46   Mar   \n",
       "15   1                         arq_mar_verao.txt      342     1  16:46   Mar   \n",
       "16   1                     arq_nov_primavera.txt     1586     1  16:46   Mar   \n",
       "17   1                     arq_out_primavera.txt      610     1  16:46   Mar   \n",
       "18   1                     arq_set_primavera.txt      610     1  16:46   Mar   \n",
       "19   1                             cookbook-data        2     2  16:46   Mar   \n",
       "20   3                               dicchar.csv     1133     1  17:27   May   \n",
       "21   3                                 teste.txt        0     1  17:29   May   \n",
       "\n",
       "          perm  user usercode  \n",
       "0   drwxr-xr-x  user     user  \n",
       "1   drwxr-xr-x  user     user  \n",
       "2   -rw-r--r--  user     user  \n",
       "3   -rw-r--r--  user     user  \n",
       "4   -rw-r--r--  user     user  \n",
       "5   -rw-r--r--  user     user  \n",
       "6   -rw-r--r--  user     user  \n",
       "7   -rw-r--r--  user     user  \n",
       "8   -rw-r--r--  user     user  \n",
       "9   -rw-r--r--  user     user  \n",
       "10  -rw-r--r--  user     user  \n",
       "11  -rw-r--r--  user     user  \n",
       "12  -rw-r--r--  user     user  \n",
       "13  -rw-r--r--  user     user  \n",
       "14  -rw-r--r--  user     user  \n",
       "15  -rw-r--r--  user     user  \n",
       "16  -rw-r--r--  user     user  \n",
       "17  -rw-r--r--  user     user  \n",
       "18  -rw-r--r--  user     user  \n",
       "19  drwxr-xr-x  user     user  \n",
       "20  -rw-r--r--  user     user  \n",
       "21  -rw-r--r--  user     user  "
      ]
     },
     "execution_count": 5,
     "metadata": {
     },
     "output_type": "execute_result"
    }
   ],
   "source": [
    "filedict=[{'perm': list[0],  'group': list[1], 'user': list[2], 'usercode': list[3],\n",
    "           'filesize': list[4],\n",
    "  'month': list[5], 'day': list[6], 'hour': list[7], 'filename':list[8]} for list in data]\n",
    "df=pd.DataFrame(filedict)\n",
    "df"
   ]
  },
  {
   "cell_type": "markdown",
   "metadata": {
    "collapsed": false
   },
   "source": [
    "**- Quantos arquivos são escondidos?**"
   ]
  },
  {
   "cell_type": "code",
   "execution_count": 22,
   "metadata": {
    "collapsed": false
   },
   "outputs": [
    {
     "name": "stdout",
     "output_type": "stream",
     "text": [
      "total 141\r\n",
      "drwxr-xr-x  3 user user     21 May  1 16:45 .\r\n",
      "drwxr-xr-x 23 user user     33 May  1 16:37 ..\r\n",
      "-rw-r--r--  1 user user 109663 May  1 16:35 .Aula24.04.2017.ipynb.sage-jupyter2\r\n",
      "-rw-r--r--  1 user user  87757 May  1 16:45 .Aula9.ipynb.sage-jupyter2\r\n",
      "-rw-r--r--  1 user user  23468 May  1 16:34 .python.dados.pandas.ipynb.sage-jupyter2\r\n",
      "-rw-r--r--  1 user user 156331 May  1 16:45 Aula24.04.2017.ipynb\r\n",
      "-rw-r--r--  1 user user 127072 May  1 16:45 Aula9.ipynb\r\n",
      "-rw-r--r--  1 user user    406 Mar  1 16:46 arq_abr_outuno.txt\r\n",
      "-rw-r--r--  1 user user   1121 Mar  1 16:46 arq_ago_inverno.txt\r\n",
      "-rw-r--r--  1 user user   1220 Mar  1 16:46 arq_dez_primavera.txt\r\n",
      "-rw-r--r--  1 user user    684 Mar  1 16:46 arq_fev_verao.txt\r\n",
      "-rw-r--r--  1 user user   1368 Mar  1 16:46 arq_jan_verao.txt\r\n",
      "-rw-r--r--  1 user user    885 Mar  1 16:46 arq_jul_inverno.txt\r\n",
      "-rw-r--r--  1 user user   1276 Mar  1 16:46 arq_jun_outuno.txt\r\n",
      "-rw-r--r--  1 user user   1102 Mar  1 16:46 arq_mai_outuno.txt\r\n",
      "-rw-r--r--  1 user user    342 Mar  1 16:46 arq_mar_verao.txt\r\n",
      "-rw-r--r--  1 user user   1586 Mar  1 16:46 arq_nov_primavera.txt\r\n",
      "-rw-r--r--  1 user user    610 Mar  1 16:46 arq_out_primavera.txt\r\n",
      "-rw-r--r--  1 user user    610 Mar  1 16:46 arq_set_primavera.txt\r\n",
      "drwxr-xr-x  2 user user      2 Mar  1 16:46 cookbook-data\r\n",
      "-rw-r--r--  1 user user   1339 May  1 16:46 teste.txt\r\n"
     ]
    }
   ],
   "source": [
    "!ls -la "
   ]
  },
  {
   "cell_type": "code",
   "execution_count": 8,
   "metadata": {
    "collapsed": false
   },
   "outputs": [
    {
     "data": {
      "text/plain": [
       "0                                            .\n",
       "1                                           ..\n",
       "2          .Aula24.04.2017.ipynb.sage-jupyter2\n",
       "3                   .Aula9.ipynb.sage-jupyter2\n",
       "4     .python.dados.pandas.ipynb.sage-jupyter2\n",
       "5                                  Aula9.ipynb\n",
       "6                                 DUE_DATE.txt\n",
       "7                           arq_abr_outuno.txt\n",
       "8                          arq_ago_inverno.txt\n",
       "9                        arq_dez_primavera.txt\n",
       "10                           arq_fev_verao.txt\n",
       "11                           arq_jan_verao.txt\n",
       "12                         arq_jul_inverno.txt\n",
       "13                          arq_jun_outuno.txt\n",
       "14                          arq_mai_outuno.txt\n",
       "15                           arq_mar_verao.txt\n",
       "16                       arq_nov_primavera.txt\n",
       "17                       arq_out_primavera.txt\n",
       "18                       arq_set_primavera.txt\n",
       "19                               cookbook-data\n",
       "20                                 dicchar.csv\n",
       "21                                   teste.txt\n",
       "Name: filename, dtype: object"
      ]
     },
     "execution_count": 8,
     "metadata": {
     },
     "output_type": "execute_result"
    }
   ],
   "source": [
    "df['filename']"
   ]
  },
  {
   "cell_type": "code",
   "execution_count": 6,
   "metadata": {
    "collapsed": false
   },
   "outputs": [
    {
     "data": {
      "text/plain": [
       "['.',\n",
       " '..',\n",
       " '.Aula24.04.2017.ipynb.sage-jupyter2',\n",
       " '.Aula9.ipynb.sage-jupyter2',\n",
       " '.python.dados.pandas.ipynb.sage-jupyter2']"
      ]
     },
     "execution_count": 6,
     "metadata": {
     },
     "output_type": "execute_result"
    }
   ],
   "source": [
    "\n",
    "[filename for filename  in df['filename'] if filename[0]==\".\"]"
   ]
  },
  {
   "cell_type": "code",
   "execution_count": 7,
   "metadata": {
    "collapsed": false
   },
   "outputs": [
    {
     "data": {
      "text/plain": [
       "5"
      ]
     },
     "execution_count": 7,
     "metadata": {
     },
     "output_type": "execute_result"
    }
   ],
   "source": [
    "len([filename for filename  in df['filename'] if filename[0]==\".\"])"
   ]
  },
  {
   "cell_type": "markdown",
   "metadata": {
    "collapsed": false
   },
   "source": [
    "**Quantos não são diretórios?**"
   ]
  },
  {
   "cell_type": "code",
   "execution_count": 9,
   "metadata": {
    "collapsed": false
   },
   "outputs": [
    {
     "data": {
      "text/plain": [
       "0     drwxr-xr-x\n",
       "1     drwxr-xr-x\n",
       "2     -rw-r--r--\n",
       "3     -rw-r--r--\n",
       "4     -rw-r--r--\n",
       "5     -rw-r--r--\n",
       "6     -rw-r--r--\n",
       "7     -rw-r--r--\n",
       "8     -rw-r--r--\n",
       "9     -rw-r--r--\n",
       "10    -rw-r--r--\n",
       "11    -rw-r--r--\n",
       "12    -rw-r--r--\n",
       "13    -rw-r--r--\n",
       "14    -rw-r--r--\n",
       "15    -rw-r--r--\n",
       "16    -rw-r--r--\n",
       "17    -rw-r--r--\n",
       "18    -rw-r--r--\n",
       "19    drwxr-xr-x\n",
       "20    -rw-r--r--\n",
       "21    -rw-r--r--\n",
       "Name: perm, dtype: object"
      ]
     },
     "execution_count": 9,
     "metadata": {
     },
     "output_type": "execute_result"
    }
   ],
   "source": [
    "df['perm'] "
   ]
  },
  {
   "cell_type": "code",
   "execution_count": 25,
   "metadata": {
    "collapsed": false
   },
   "outputs": [
    {
     "data": {
      "text/plain": [
       "18"
      ]
     },
     "execution_count": 25,
     "metadata": {
     },
     "output_type": "execute_result"
    }
   ],
   "source": [
    "len([perm for perm  in df['perm'] if perm[0]==\"-\"])"
   ]
  },
  {
   "cell_type": "markdown",
   "metadata": {
    "collapsed": false
   },
   "source": [
    "**- Qual é o maior arquivo? Qual é o menor?** "
   ]
  },
  {
   "cell_type": "code",
   "execution_count": 10,
   "metadata": {
    "collapsed": false
   },
   "outputs": [
    {
     "data": {
      "text/plain": [
       "0         22\n",
       "1         33\n",
       "2     112047\n",
       "3      89550\n",
       "4      23468\n",
       "5     125193\n",
       "6         46\n",
       "7        406\n",
       "8       1121\n",
       "9       1220\n",
       "10       684\n",
       "11      1368\n",
       "12       885\n",
       "13      1276\n",
       "14      1102\n",
       "15       342\n",
       "16      1586\n",
       "17       610\n",
       "18       610\n",
       "19         2\n",
       "20      1133\n",
       "21         0\n",
       "Name: filesize, dtype: object"
      ]
     },
     "execution_count": 10,
     "metadata": {
     },
     "output_type": "execute_result"
    }
   ],
   "source": [
    "df['filesize']"
   ]
  },
  {
   "cell_type": "code",
   "execution_count": 11,
   "metadata": {
    "collapsed": false
   },
   "outputs": [
    {
     "data": {
      "text/plain": [
       "('89550', '0')"
      ]
     },
     "execution_count": 11,
     "metadata": {
     },
     "output_type": "execute_result"
    }
   ],
   "source": [
    "(df['filesize'].max(),df['filesize'].min())"
   ]
  },
  {
   "cell_type": "markdown",
   "metadata": {
    "collapsed": false
   },
   "source": [
    "Ops ..."
   ]
  },
  {
   "cell_type": "code",
   "execution_count": 17,
   "metadata": {
    "collapsed": false
   },
   "outputs": [
   ],
   "source": [
    "filedict=[{'perm': list[0],  'group': list[1], 'user': list[2], 'usercode': list[3],\n",
    "           'filesize': int(list[4]),\n",
    "  'month': list[5], 'day': list[6], 'hour': list[7], 'filename':list[8]} for list in data]\n",
    "df=pd.DataFrame(filedict)\n",
    "\n",
    "maxi,mini=(df['filesize'].max(),df['filesize'].min())"
   ]
  },
  {
   "cell_type": "code",
   "execution_count": 14,
   "metadata": {
    "collapsed": false
   },
   "outputs": [
    {
     "data": {
      "text/plain": [
       "'O maior arquivo possui  125193 bytes, o menor 0 bytes'"
      ]
     },
     "execution_count": 14,
     "metadata": {
     },
     "output_type": "execute_result"
    }
   ],
   "source": [
    "\"O maior arquivo possui  {} bytes, o menor {} bytes\".format(maxi,mini)"
   ]
  },
  {
   "cell_type": "markdown",
   "metadata": {
    "collapsed": false
   },
   "source": [
    "**- Quantos arquivos  são notebooks?**"
   ]
  },
  {
   "cell_type": "code",
   "execution_count": 15,
   "metadata": {
    "collapsed": false
   },
   "outputs": [
    {
     "data": {
      "text/plain": [
       "1"
      ]
     },
     "execution_count": 15,
     "metadata": {
     },
     "output_type": "execute_result"
    }
   ],
   "source": [
    "len([filename for filename  in df['filename'] if filename[-6:]==\".ipynb\"])"
   ]
  },
  {
   "cell_type": "code",
   "execution_count": 18,
   "metadata": {
    "collapsed": false
   },
   "outputs": [
    {
     "data": {
      "text/html": [
       "<div>\n",
       "<style scoped>\n",
       "    .dataframe tbody tr th:only-of-type {\n",
       "        vertical-align: middle;\n",
       "    }\n",
       "\n",
       "    .dataframe tbody tr th {\n",
       "        vertical-align: top;\n",
       "    }\n",
       "\n",
       "    .dataframe thead th {\n",
       "        text-align: right;\n",
       "    }\n",
       "</style>\n",
       "<table border=\"1\" class=\"dataframe\">\n",
       "  <thead>\n",
       "    <tr style=\"text-align: right;\">\n",
       "      <th></th>\n",
       "      <th>day</th>\n",
       "      <th>filename</th>\n",
       "      <th>filesize</th>\n",
       "      <th>group</th>\n",
       "      <th>hour</th>\n",
       "      <th>month</th>\n",
       "      <th>perm</th>\n",
       "      <th>user</th>\n",
       "      <th>usercode</th>\n",
       "    </tr>\n",
       "  </thead>\n",
       "  <tbody>\n",
       "    <tr>\n",
       "      <th>0</th>\n",
       "      <td>3</td>\n",
       "      <td>.</td>\n",
       "      <td>22</td>\n",
       "      <td>3</td>\n",
       "      <td>17:27</td>\n",
       "      <td>May</td>\n",
       "      <td>drwxr-xr-x</td>\n",
       "      <td>user</td>\n",
       "      <td>user</td>\n",
       "    </tr>\n",
       "    <tr>\n",
       "      <th>1</th>\n",
       "      <td>3</td>\n",
       "      <td>..</td>\n",
       "      <td>33</td>\n",
       "      <td>23</td>\n",
       "      <td>16:00</td>\n",
       "      <td>May</td>\n",
       "      <td>drwxr-xr-x</td>\n",
       "      <td>user</td>\n",
       "      <td>user</td>\n",
       "    </tr>\n",
       "    <tr>\n",
       "      <th>2</th>\n",
       "      <td>3</td>\n",
       "      <td>.Aula24.04.2017.ipynb.sage-jupyter2</td>\n",
       "      <td>112047</td>\n",
       "      <td>1</td>\n",
       "      <td>16:01</td>\n",
       "      <td>May</td>\n",
       "      <td>-rw-r--r--</td>\n",
       "      <td>user</td>\n",
       "      <td>user</td>\n",
       "    </tr>\n",
       "    <tr>\n",
       "      <th>3</th>\n",
       "      <td>3</td>\n",
       "      <td>.Aula9.ipynb.sage-jupyter2</td>\n",
       "      <td>89550</td>\n",
       "      <td>1</td>\n",
       "      <td>17:29</td>\n",
       "      <td>May</td>\n",
       "      <td>-rw-r--r--</td>\n",
       "      <td>user</td>\n",
       "      <td>user</td>\n",
       "    </tr>\n",
       "    <tr>\n",
       "      <th>4</th>\n",
       "      <td>1</td>\n",
       "      <td>.python.dados.pandas.ipynb.sage-jupyter2</td>\n",
       "      <td>23468</td>\n",
       "      <td>1</td>\n",
       "      <td>16:34</td>\n",
       "      <td>May</td>\n",
       "      <td>-rw-r--r--</td>\n",
       "      <td>user</td>\n",
       "      <td>user</td>\n",
       "    </tr>\n",
       "    <tr>\n",
       "      <th>5</th>\n",
       "      <td>3</td>\n",
       "      <td>Aula9.ipynb</td>\n",
       "      <td>125193</td>\n",
       "      <td>1</td>\n",
       "      <td>17:29</td>\n",
       "      <td>May</td>\n",
       "      <td>-rw-r--r--</td>\n",
       "      <td>user</td>\n",
       "      <td>user</td>\n",
       "    </tr>\n",
       "    <tr>\n",
       "      <th>6</th>\n",
       "      <td>3</td>\n",
       "      <td>DUE_DATE.txt</td>\n",
       "      <td>46</td>\n",
       "      <td>1</td>\n",
       "      <td>16:43</td>\n",
       "      <td>May</td>\n",
       "      <td>-rw-r--r--</td>\n",
       "      <td>user</td>\n",
       "      <td>user</td>\n",
       "    </tr>\n",
       "    <tr>\n",
       "      <th>7</th>\n",
       "      <td>1</td>\n",
       "      <td>arq_abr_outuno.txt</td>\n",
       "      <td>406</td>\n",
       "      <td>1</td>\n",
       "      <td>16:46</td>\n",
       "      <td>Mar</td>\n",
       "      <td>-rw-r--r--</td>\n",
       "      <td>user</td>\n",
       "      <td>user</td>\n",
       "    </tr>\n",
       "    <tr>\n",
       "      <th>8</th>\n",
       "      <td>1</td>\n",
       "      <td>arq_ago_inverno.txt</td>\n",
       "      <td>1121</td>\n",
       "      <td>1</td>\n",
       "      <td>16:46</td>\n",
       "      <td>Mar</td>\n",
       "      <td>-rw-r--r--</td>\n",
       "      <td>user</td>\n",
       "      <td>user</td>\n",
       "    </tr>\n",
       "    <tr>\n",
       "      <th>9</th>\n",
       "      <td>1</td>\n",
       "      <td>arq_dez_primavera.txt</td>\n",
       "      <td>1220</td>\n",
       "      <td>1</td>\n",
       "      <td>16:46</td>\n",
       "      <td>Mar</td>\n",
       "      <td>-rw-r--r--</td>\n",
       "      <td>user</td>\n",
       "      <td>user</td>\n",
       "    </tr>\n",
       "    <tr>\n",
       "      <th>10</th>\n",
       "      <td>1</td>\n",
       "      <td>arq_fev_verao.txt</td>\n",
       "      <td>684</td>\n",
       "      <td>1</td>\n",
       "      <td>16:46</td>\n",
       "      <td>Mar</td>\n",
       "      <td>-rw-r--r--</td>\n",
       "      <td>user</td>\n",
       "      <td>user</td>\n",
       "    </tr>\n",
       "    <tr>\n",
       "      <th>11</th>\n",
       "      <td>1</td>\n",
       "      <td>arq_jan_verao.txt</td>\n",
       "      <td>1368</td>\n",
       "      <td>1</td>\n",
       "      <td>16:46</td>\n",
       "      <td>Mar</td>\n",
       "      <td>-rw-r--r--</td>\n",
       "      <td>user</td>\n",
       "      <td>user</td>\n",
       "    </tr>\n",
       "    <tr>\n",
       "      <th>12</th>\n",
       "      <td>1</td>\n",
       "      <td>arq_jul_inverno.txt</td>\n",
       "      <td>885</td>\n",
       "      <td>1</td>\n",
       "      <td>16:46</td>\n",
       "      <td>Mar</td>\n",
       "      <td>-rw-r--r--</td>\n",
       "      <td>user</td>\n",
       "      <td>user</td>\n",
       "    </tr>\n",
       "    <tr>\n",
       "      <th>13</th>\n",
       "      <td>1</td>\n",
       "      <td>arq_jun_outuno.txt</td>\n",
       "      <td>1276</td>\n",
       "      <td>1</td>\n",
       "      <td>16:46</td>\n",
       "      <td>Mar</td>\n",
       "      <td>-rw-r--r--</td>\n",
       "      <td>user</td>\n",
       "      <td>user</td>\n",
       "    </tr>\n",
       "    <tr>\n",
       "      <th>14</th>\n",
       "      <td>1</td>\n",
       "      <td>arq_mai_outuno.txt</td>\n",
       "      <td>1102</td>\n",
       "      <td>1</td>\n",
       "      <td>16:46</td>\n",
       "      <td>Mar</td>\n",
       "      <td>-rw-r--r--</td>\n",
       "      <td>user</td>\n",
       "      <td>user</td>\n",
       "    </tr>\n",
       "    <tr>\n",
       "      <th>15</th>\n",
       "      <td>1</td>\n",
       "      <td>arq_mar_verao.txt</td>\n",
       "      <td>342</td>\n",
       "      <td>1</td>\n",
       "      <td>16:46</td>\n",
       "      <td>Mar</td>\n",
       "      <td>-rw-r--r--</td>\n",
       "      <td>user</td>\n",
       "      <td>user</td>\n",
       "    </tr>\n",
       "    <tr>\n",
       "      <th>16</th>\n",
       "      <td>1</td>\n",
       "      <td>arq_nov_primavera.txt</td>\n",
       "      <td>1586</td>\n",
       "      <td>1</td>\n",
       "      <td>16:46</td>\n",
       "      <td>Mar</td>\n",
       "      <td>-rw-r--r--</td>\n",
       "      <td>user</td>\n",
       "      <td>user</td>\n",
       "    </tr>\n",
       "    <tr>\n",
       "      <th>17</th>\n",
       "      <td>1</td>\n",
       "      <td>arq_out_primavera.txt</td>\n",
       "      <td>610</td>\n",
       "      <td>1</td>\n",
       "      <td>16:46</td>\n",
       "      <td>Mar</td>\n",
       "      <td>-rw-r--r--</td>\n",
       "      <td>user</td>\n",
       "      <td>user</td>\n",
       "    </tr>\n",
       "    <tr>\n",
       "      <th>18</th>\n",
       "      <td>1</td>\n",
       "      <td>arq_set_primavera.txt</td>\n",
       "      <td>610</td>\n",
       "      <td>1</td>\n",
       "      <td>16:46</td>\n",
       "      <td>Mar</td>\n",
       "      <td>-rw-r--r--</td>\n",
       "      <td>user</td>\n",
       "      <td>user</td>\n",
       "    </tr>\n",
       "    <tr>\n",
       "      <th>19</th>\n",
       "      <td>1</td>\n",
       "      <td>cookbook-data</td>\n",
       "      <td>2</td>\n",
       "      <td>2</td>\n",
       "      <td>16:46</td>\n",
       "      <td>Mar</td>\n",
       "      <td>drwxr-xr-x</td>\n",
       "      <td>user</td>\n",
       "      <td>user</td>\n",
       "    </tr>\n",
       "    <tr>\n",
       "      <th>20</th>\n",
       "      <td>3</td>\n",
       "      <td>dicchar.csv</td>\n",
       "      <td>1133</td>\n",
       "      <td>1</td>\n",
       "      <td>17:27</td>\n",
       "      <td>May</td>\n",
       "      <td>-rw-r--r--</td>\n",
       "      <td>user</td>\n",
       "      <td>user</td>\n",
       "    </tr>\n",
       "    <tr>\n",
       "      <th>21</th>\n",
       "      <td>3</td>\n",
       "      <td>teste.txt</td>\n",
       "      <td>0</td>\n",
       "      <td>1</td>\n",
       "      <td>17:29</td>\n",
       "      <td>May</td>\n",
       "      <td>-rw-r--r--</td>\n",
       "      <td>user</td>\n",
       "      <td>user</td>\n",
       "    </tr>\n",
       "  </tbody>\n",
       "</table>\n",
       "</div>"
      ],
      "text/plain": [
       "   day                                  filename  filesize group   hour month  \\\n",
       "0    3                                         .        22     3  17:27   May   \n",
       "1    3                                        ..        33    23  16:00   May   \n",
       "2    3       .Aula24.04.2017.ipynb.sage-jupyter2    112047     1  16:01   May   \n",
       "3    3                .Aula9.ipynb.sage-jupyter2     89550     1  17:29   May   \n",
       "4    1  .python.dados.pandas.ipynb.sage-jupyter2     23468     1  16:34   May   \n",
       "5    3                               Aula9.ipynb    125193     1  17:29   May   \n",
       "6    3                              DUE_DATE.txt        46     1  16:43   May   \n",
       "7    1                        arq_abr_outuno.txt       406     1  16:46   Mar   \n",
       "8    1                       arq_ago_inverno.txt      1121     1  16:46   Mar   \n",
       "9    1                     arq_dez_primavera.txt      1220     1  16:46   Mar   \n",
       "10   1                         arq_fev_verao.txt       684     1  16:46   Mar   \n",
       "11   1                         arq_jan_verao.txt      1368     1  16:46   Mar   \n",
       "12   1                       arq_jul_inverno.txt       885     1  16:46   Mar   \n",
       "13   1                        arq_jun_outuno.txt      1276     1  16:46   Mar   \n",
       "14   1                        arq_mai_outuno.txt      1102     1  16:46   Mar   \n",
       "15   1                         arq_mar_verao.txt       342     1  16:46   Mar   \n",
       "16   1                     arq_nov_primavera.txt      1586     1  16:46   Mar   \n",
       "17   1                     arq_out_primavera.txt       610     1  16:46   Mar   \n",
       "18   1                     arq_set_primavera.txt       610     1  16:46   Mar   \n",
       "19   1                             cookbook-data         2     2  16:46   Mar   \n",
       "20   3                               dicchar.csv      1133     1  17:27   May   \n",
       "21   3                                 teste.txt         0     1  17:29   May   \n",
       "\n",
       "          perm  user usercode  \n",
       "0   drwxr-xr-x  user     user  \n",
       "1   drwxr-xr-x  user     user  \n",
       "2   -rw-r--r--  user     user  \n",
       "3   -rw-r--r--  user     user  \n",
       "4   -rw-r--r--  user     user  \n",
       "5   -rw-r--r--  user     user  \n",
       "6   -rw-r--r--  user     user  \n",
       "7   -rw-r--r--  user     user  \n",
       "8   -rw-r--r--  user     user  \n",
       "9   -rw-r--r--  user     user  \n",
       "10  -rw-r--r--  user     user  \n",
       "11  -rw-r--r--  user     user  \n",
       "12  -rw-r--r--  user     user  \n",
       "13  -rw-r--r--  user     user  \n",
       "14  -rw-r--r--  user     user  \n",
       "15  -rw-r--r--  user     user  \n",
       "16  -rw-r--r--  user     user  \n",
       "17  -rw-r--r--  user     user  \n",
       "18  -rw-r--r--  user     user  \n",
       "19  drwxr-xr-x  user     user  \n",
       "20  -rw-r--r--  user     user  \n",
       "21  -rw-r--r--  user     user  "
      ]
     },
     "execution_count": 18,
     "metadata": {
     },
     "output_type": "execute_result"
    }
   ],
   "source": [
    "df"
   ]
  },
  {
   "cell_type": "markdown",
   "metadata": {
    "collapsed": false
   },
   "source": [
    "## Exercícios\n",
    "\n",
    "1. Quando foi criado o primeiro arquivo?\n",
    "2. Quantos arquivos possuem nomes com mais do que 5 caracteres? "
   ]
  },
  {
   "cell_type": "markdown",
   "metadata": {
    "collapsed": false
   },
   "source": [
    "## Datas"
   ]
  },
  {
   "cell_type": "code",
   "execution_count": 0,
   "metadata": {
    "collapsed": false
   },
   "outputs": [
   ],
   "source": [
   ]
  },
  {
   "cell_type": "code",
   "execution_count": 0,
   "metadata": {
    "collapsed": false
   },
   "outputs": [
   ],
   "source": [
   ]
  },
  {
   "cell_type": "markdown",
   "metadata": {
    "collapsed": false
   },
   "source": [
    "### Trabalhar com datas \n",
    "O módulo datetime possui dentro de si uma classe date definida. Nessa classe, existem alguns métodos para manipulação de datas, como a função today, que retorna um objeto do tipo `datetime.date`"
   ]
  },
  {
   "cell_type": "code",
   "execution_count": 19,
   "metadata": {
    "collapsed": false
   },
   "outputs": [
   ],
   "source": [
    "from datetime import date, timedelta,datetime"
   ]
  },
  {
   "cell_type": "code",
   "execution_count": 20,
   "metadata": {
    "collapsed": false
   },
   "outputs": [
    {
     "name": "stdout",
     "output_type": "stream",
     "text": [
      "2019-05-03\n"
     ]
    }
   ],
   "source": [
    "hj=date.today()\n",
    "print(hj)"
   ]
  },
  {
   "cell_type": "markdown",
   "metadata": {
    "collapsed": true
   },
   "source": [
    "Um comando útil para ordenar datas é: "
   ]
  },
  {
   "cell_type": "code",
   "execution_count": 21,
   "metadata": {
    "collapsed": false
   },
   "outputs": [
    {
     "name": "stdout",
     "output_type": "stream",
     "text": [
      "737182\n"
     ]
    }
   ],
   "source": [
    "print(hj.toordinal())"
   ]
  },
  {
   "cell_type": "markdown",
   "metadata": {
    "collapsed": false
   },
   "source": [
    "### Trabalhar com  Tempos"
   ]
  },
  {
   "cell_type": "markdown",
   "metadata": {
    "collapsed": false
   },
   "source": [
    "Para instantes do tempo, temos  que trabalhar com a classe `datetime`. "
   ]
  },
  {
   "cell_type": "code",
   "execution_count": 22,
   "metadata": {
    "collapsed": false
   },
   "outputs": [
    {
     "data": {
      "text/plain": [
       "1556905937.332182"
      ]
     },
     "execution_count": 22,
     "metadata": {
     },
     "output_type": "execute_result"
    }
   ],
   "source": [
    "agora=datetime.now()\n",
    "agora.timestamp()\n"
   ]
  },
  {
   "cell_type": "code",
   "execution_count": 23,
   "metadata": {
    "collapsed": false
   },
   "outputs": [
    {
     "data": {
      "text/plain": [
       "datetime.datetime(2019, 5, 3, 17, 52, 17, 332182)"
      ]
     },
     "execution_count": 23,
     "metadata": {
     },
     "output_type": "execute_result"
    }
   ],
   "source": [
    "agora"
   ]
  },
  {
   "cell_type": "markdown",
   "metadata": {
    "collapsed": false
   },
   "source": [
    "Para descobrir uma data no futuro. "
   ]
  },
  {
   "cell_type": "code",
   "execution_count": 24,
   "metadata": {
    "collapsed": false
   },
   "outputs": [
    {
     "name": "stdout",
     "output_type": "stream",
     "text": [
      "2019-06-17\n"
     ]
    }
   ],
   "source": [
    "futuro=hj+timedelta(days=45) # hoje + 45 dias\n",
    "print(futuro)"
   ]
  },
  {
   "cell_type": "markdown",
   "metadata": {
    "collapsed": false
   },
   "source": [
    "Para descobrir um dia da semana:"
   ]
  },
  {
   "cell_type": "code",
   "execution_count": 26,
   "metadata": {
    "collapsed": false
   },
   "outputs": [
    {
     "data": {
      "text/plain": [
       "4"
      ]
     },
     "execution_count": 26,
     "metadata": {
     },
     "output_type": "execute_result"
    }
   ],
   "source": [
    "hj.weekday()"
   ]
  },
  {
   "cell_type": "code",
   "execution_count": 27,
   "metadata": {
    "collapsed": false
   },
   "outputs": [
    {
     "name": "stdout",
     "output_type": "stream",
     "text": [
      "Hoje é Sexta-feira\n"
     ]
    }
   ],
   "source": [
    "dias = ('Segunda-feira', 'Terça-feira', 'Quarta-feira', 'Quinta-feira', 'Sexta-feira', 'Sábado', 'Domingo')\n",
    "print (\"Hoje é\", dias[hj.weekday()])"
   ]
  },
  {
   "cell_type": "code",
   "execution_count": 11,
   "metadata": {
    "collapsed": false
   },
   "outputs": [
    {
     "data": {
      "text/plain": [
       "0"
      ]
     },
     "execution_count": 11,
     "metadata": {
     },
     "output_type": "execute_result"
    }
   ],
   "source": [
    "hj.weekday()"
   ]
  },
  {
   "cell_type": "code",
   "execution_count": 28,
   "metadata": {
    "collapsed": false
   },
   "outputs": [
   ],
   "source": [
    "niver=date(2019,9,21)"
   ]
  },
  {
   "cell_type": "code",
   "execution_count": 29,
   "metadata": {
    "collapsed": false
   },
   "outputs": [
    {
     "data": {
      "text/plain": [
       "'Faltam 141 dias para o meu aniversário. E ele vai cair em uma  Sábado'"
      ]
     },
     "execution_count": 29,
     "metadata": {
     },
     "output_type": "execute_result"
    }
   ],
   "source": [
    "\"Faltam {} dias para o meu aniversário. E ele vai cair em uma  {}\".format((niver-hj).days  ,dias[niver.weekday()])"
   ]
  },
  {
   "cell_type": "markdown",
   "metadata": {
    "collapsed": false
   },
   "source": [
    "## Impressão de Datas"
   ]
  },
  {
   "cell_type": "markdown",
   "metadata": {
    "collapsed": false
   },
   "source": [
    "Para descobrir as datas das próximas aulas de Física Computracional"
   ]
  },
  {
   "cell_type": "code",
   "execution_count": 31,
   "metadata": {
    "collapsed": false
   },
   "outputs": [
    {
     "data": {
      "text/plain": [
       "[datetime.date(2019, 5, 10),\n",
       " datetime.date(2019, 5, 17),\n",
       " datetime.date(2019, 5, 24),\n",
       " datetime.date(2019, 5, 31),\n",
       " datetime.date(2019, 6, 7)]"
      ]
     },
     "execution_count": 31,
     "metadata": {
     },
     "output_type": "execute_result"
    }
   ],
   "source": [
    "aula=date(2019,5,3)\n",
    "lisdatas=[aula+timedelta(weeks=delay)  for delay in range(1,6) ]\n",
    "lisdatas"
   ]
  },
  {
   "cell_type": "markdown",
   "metadata": {
    "collapsed": false
   },
   "source": [
    "Interessante mas difícil de ler. Para esses e muitas outras coisas é que temos \n",
    "o comando `strftime`. "
   ]
  },
  {
   "cell_type": "code",
   "execution_count": 32,
   "metadata": {
    "collapsed": false
   },
   "outputs": [
    {
     "data": {
      "text/plain": [
       "'10/05/19'"
      ]
     },
     "execution_count": 32,
     "metadata": {
     },
     "output_type": "execute_result"
    }
   ],
   "source": [
    "datetime.strftime(lisdatas[0], \"%d/%m/%y\")"
   ]
  },
  {
   "cell_type": "markdown",
   "metadata": {
    "collapsed": false
   },
   "source": [
    "O segundo argumento é misterioso mas ele indica o formato que será impressa a data. Nesse\n",
    "caso dia/mes/ano. "
   ]
  },
  {
   "cell_type": "code",
   "execution_count": 33,
   "metadata": {
    "collapsed": false
   },
   "outputs": [
    {
     "data": {
      "text/plain": [
       "['03/05/19',\n",
       " '10/05/19',\n",
       " '17/05/19',\n",
       " '24/05/19',\n",
       " '31/05/19',\n",
       " '07/06/19',\n",
       " '14/06/19',\n",
       " '21/06/19',\n",
       " '28/06/19']"
      ]
     },
     "execution_count": 33,
     "metadata": {
     },
     "output_type": "execute_result"
    }
   ],
   "source": [
    "\n",
    "lisdatas=[datetime.strftime(aula+timedelta(weeks=delay), \"%d/%m/%y\")  for delay in range(0,9) ]\n",
    "lisdatas"
   ]
  },
  {
   "cell_type": "markdown",
   "metadata": {
    "collapsed": false
   },
   "source": [
    "A tabela abaixo mostra as opções para formatação. \n",
    "\n",
    "| Directive | \tMeaning | \tExample |\n",
    "|-----------|-----------|-------------|\n",
    "| %a| \tWeekday as locale’s abbreviated name | Sun, Mon, ..., Sat (en_US)|  So, Mo, ..., Sa (de_DE)  |\n",
    "| %A| \tWeekday as locale’s full name.\t| Sunday, Monday, ..., Saturday (en_US);| Sonntag, Montag, ..., Samstag (de_DE)|\n",
    "| %w| \tWeekday as a decimal number, where 0 is Sunday and 6 is Saturday.|\t0, 1, ..., 6\t |\n",
    "| %d|\tDay of the month as a zero-padded decimal number..|\t01, 02, ..., 31\t |\n",
    "| %b|\tMonth as locale’s abbreviated name.\t Jan, Feb, ..., Dec (en_US);| Jan, Feb, ..., Dez (de_DE)|\n",
    "| %B|\tMonth as locale’s full name.|\t January, February, ..., December (en_US); Januar, Februar, ..., Dezember (de_DE)|\n",
    "| %m|\tMonth as a zero-padded decimal number.|\t01, 02, ..., 12\t  %y\tYear without century as a zero-padded decimal number.\t00, 01, ..., 99\t | %Y|\tYear with century as a decimal number.|\t0001, 0002, ..., 2013, 2014, ..., 9998, 9999\t(2) %H\tHour (24-hour clock) as a zero-padded decimal number.|\t00, 01, ..., 23\t |\n",
    "| %I|\tHour (12-hour clock) as a zero-padded decimal number.|\t01, 02, ..., 12\t  %p\tLocale’s equivalent of either AM or PM.\t AM, PM (en_US); am, pm (de_DE)|\n",
    "| %M|\tMinute as a zero-padded decimal number.|\t00, 01, ..., 59\t |\n",
    "| %S|\tSecond as a zero-padded decimal number.|\t00, 01, ..., 59\t|\n",
    "| %f|\tMicrosecond as a decimal number, zero-padded on the left.|\t000000, 000001, ..., 999999\t|\n",
    "| %z|\tUTC offset in the form +HHMM or -HHMM (empty string if the object is naive).\t(empty),| +0000, -0400, +1030|\n",
    "| %Z|\tTime zone name (empty string if the object is naive).\t(empty),| UTC, EST, CST\t |\n",
    "| %j|\tDay of the year as a zero-padded decimal number.|\t001, 002, ..., 366\t |\n",
    "| %U|\tWeek number of the year (Sunday as the first day of the week) as a zero padded decimal number. All days in a new year preceding the first Sunday are considered to be in week 0.|\t00, 01, ..., 53\t|\n",
    "| %W|\tWeek number of the year (Monday as the first day of the week) as a decimal number. All days in a new year preceding the first Monday are considered to be in week 0.|\t00, 01, ..., 53\t|\n",
    "| %c|\tLocale’s appropriate date and time representation.|\t Tue Aug 16 21:30:00 1988 (en_US); Di 16 Aug 21:30:00 1988 (de_DE)|\n",
    "| %x|\tLocale’s appropriate date representation.|\t 08/16/88 (None); 08/16/1988 (en_US); 16.08.1988 (de_DE)|\n",
    "| %X|\tLocale’s appropriate time representation.|\t 21:30:00 (en_US); 21:30:00 (de_DE)|\n",
    "| %%|\tA literal '%' character.|\t%\t |"
   ]
  },
  {
   "cell_type": "markdown",
   "metadata": {
    "collapsed": false
   },
   "source": [
    "A função  `strptime` faz o caminho reverso e importa dados com um determinado formato. "
   ]
  },
  {
   "cell_type": "code",
   "execution_count": 35,
   "metadata": {
    "collapsed": false
   },
   "outputs": [
   ],
   "source": [
    "datalegal=datetime.strptime(\"21/11/06 16:30\", \"%d/%m/%y %H:%M\")"
   ]
  },
  {
   "cell_type": "code",
   "execution_count": 36,
   "metadata": {
    "collapsed": false
   },
   "outputs": [
    {
     "data": {
      "text/plain": [
       "'November'"
      ]
     },
     "execution_count": 36,
     "metadata": {
     },
     "output_type": "execute_result"
    }
   ],
   "source": [
    "datalegal.strftime(\"%B\") "
   ]
  },
  {
   "cell_type": "code",
   "execution_count": 37,
   "metadata": {
    "collapsed": false
   },
   "outputs": [
    {
     "data": {
      "text/plain": [
       "'Nov'"
      ]
     },
     "execution_count": 37,
     "metadata": {
     },
     "output_type": "execute_result"
    }
   ],
   "source": [
    "\n",
    "datalegal.strftime(\"%b\") "
   ]
  },
  {
   "cell_type": "markdown",
   "metadata": {
    "collapsed": false
   },
   "source": [
    "##  Arquivo mais Antigo Revisitado"
   ]
  },
  {
   "cell_type": "markdown",
   "metadata": {
    "collapsed": false
   },
   "source": [
    "Primeiro crio uma coluna extra nos dados combinando day, month e hour. \n"
   ]
  },
  {
   "cell_type": "code",
   "execution_count": 38,
   "metadata": {
    "collapsed": false
   },
   "outputs": [
    {
     "data": {
      "text/html": [
       "<div>\n",
       "<style scoped>\n",
       "    .dataframe tbody tr th:only-of-type {\n",
       "        vertical-align: middle;\n",
       "    }\n",
       "\n",
       "    .dataframe tbody tr th {\n",
       "        vertical-align: top;\n",
       "    }\n",
       "\n",
       "    .dataframe thead th {\n",
       "        text-align: right;\n",
       "    }\n",
       "</style>\n",
       "<table border=\"1\" class=\"dataframe\">\n",
       "  <thead>\n",
       "    <tr style=\"text-align: right;\">\n",
       "      <th></th>\n",
       "      <th>day</th>\n",
       "      <th>filename</th>\n",
       "      <th>filesize</th>\n",
       "      <th>group</th>\n",
       "      <th>hour</th>\n",
       "      <th>month</th>\n",
       "      <th>perm</th>\n",
       "      <th>user</th>\n",
       "      <th>usercode</th>\n",
       "    </tr>\n",
       "  </thead>\n",
       "  <tbody>\n",
       "    <tr>\n",
       "      <th>0</th>\n",
       "      <td>3</td>\n",
       "      <td>.</td>\n",
       "      <td>22</td>\n",
       "      <td>3</td>\n",
       "      <td>17:27</td>\n",
       "      <td>May</td>\n",
       "      <td>drwxr-xr-x</td>\n",
       "      <td>user</td>\n",
       "      <td>user</td>\n",
       "    </tr>\n",
       "    <tr>\n",
       "      <th>1</th>\n",
       "      <td>3</td>\n",
       "      <td>..</td>\n",
       "      <td>33</td>\n",
       "      <td>23</td>\n",
       "      <td>16:00</td>\n",
       "      <td>May</td>\n",
       "      <td>drwxr-xr-x</td>\n",
       "      <td>user</td>\n",
       "      <td>user</td>\n",
       "    </tr>\n",
       "    <tr>\n",
       "      <th>2</th>\n",
       "      <td>3</td>\n",
       "      <td>.Aula24.04.2017.ipynb.sage-jupyter2</td>\n",
       "      <td>112047</td>\n",
       "      <td>1</td>\n",
       "      <td>16:01</td>\n",
       "      <td>May</td>\n",
       "      <td>-rw-r--r--</td>\n",
       "      <td>user</td>\n",
       "      <td>user</td>\n",
       "    </tr>\n",
       "    <tr>\n",
       "      <th>3</th>\n",
       "      <td>3</td>\n",
       "      <td>.Aula9.ipynb.sage-jupyter2</td>\n",
       "      <td>89550</td>\n",
       "      <td>1</td>\n",
       "      <td>17:29</td>\n",
       "      <td>May</td>\n",
       "      <td>-rw-r--r--</td>\n",
       "      <td>user</td>\n",
       "      <td>user</td>\n",
       "    </tr>\n",
       "    <tr>\n",
       "      <th>4</th>\n",
       "      <td>1</td>\n",
       "      <td>.python.dados.pandas.ipynb.sage-jupyter2</td>\n",
       "      <td>23468</td>\n",
       "      <td>1</td>\n",
       "      <td>16:34</td>\n",
       "      <td>May</td>\n",
       "      <td>-rw-r--r--</td>\n",
       "      <td>user</td>\n",
       "      <td>user</td>\n",
       "    </tr>\n",
       "    <tr>\n",
       "      <th>5</th>\n",
       "      <td>3</td>\n",
       "      <td>Aula9.ipynb</td>\n",
       "      <td>125193</td>\n",
       "      <td>1</td>\n",
       "      <td>17:29</td>\n",
       "      <td>May</td>\n",
       "      <td>-rw-r--r--</td>\n",
       "      <td>user</td>\n",
       "      <td>user</td>\n",
       "    </tr>\n",
       "    <tr>\n",
       "      <th>6</th>\n",
       "      <td>3</td>\n",
       "      <td>DUE_DATE.txt</td>\n",
       "      <td>46</td>\n",
       "      <td>1</td>\n",
       "      <td>16:43</td>\n",
       "      <td>May</td>\n",
       "      <td>-rw-r--r--</td>\n",
       "      <td>user</td>\n",
       "      <td>user</td>\n",
       "    </tr>\n",
       "    <tr>\n",
       "      <th>7</th>\n",
       "      <td>1</td>\n",
       "      <td>arq_abr_outuno.txt</td>\n",
       "      <td>406</td>\n",
       "      <td>1</td>\n",
       "      <td>16:46</td>\n",
       "      <td>Mar</td>\n",
       "      <td>-rw-r--r--</td>\n",
       "      <td>user</td>\n",
       "      <td>user</td>\n",
       "    </tr>\n",
       "    <tr>\n",
       "      <th>8</th>\n",
       "      <td>1</td>\n",
       "      <td>arq_ago_inverno.txt</td>\n",
       "      <td>1121</td>\n",
       "      <td>1</td>\n",
       "      <td>16:46</td>\n",
       "      <td>Mar</td>\n",
       "      <td>-rw-r--r--</td>\n",
       "      <td>user</td>\n",
       "      <td>user</td>\n",
       "    </tr>\n",
       "    <tr>\n",
       "      <th>9</th>\n",
       "      <td>1</td>\n",
       "      <td>arq_dez_primavera.txt</td>\n",
       "      <td>1220</td>\n",
       "      <td>1</td>\n",
       "      <td>16:46</td>\n",
       "      <td>Mar</td>\n",
       "      <td>-rw-r--r--</td>\n",
       "      <td>user</td>\n",
       "      <td>user</td>\n",
       "    </tr>\n",
       "    <tr>\n",
       "      <th>10</th>\n",
       "      <td>1</td>\n",
       "      <td>arq_fev_verao.txt</td>\n",
       "      <td>684</td>\n",
       "      <td>1</td>\n",
       "      <td>16:46</td>\n",
       "      <td>Mar</td>\n",
       "      <td>-rw-r--r--</td>\n",
       "      <td>user</td>\n",
       "      <td>user</td>\n",
       "    </tr>\n",
       "    <tr>\n",
       "      <th>11</th>\n",
       "      <td>1</td>\n",
       "      <td>arq_jan_verao.txt</td>\n",
       "      <td>1368</td>\n",
       "      <td>1</td>\n",
       "      <td>16:46</td>\n",
       "      <td>Mar</td>\n",
       "      <td>-rw-r--r--</td>\n",
       "      <td>user</td>\n",
       "      <td>user</td>\n",
       "    </tr>\n",
       "    <tr>\n",
       "      <th>12</th>\n",
       "      <td>1</td>\n",
       "      <td>arq_jul_inverno.txt</td>\n",
       "      <td>885</td>\n",
       "      <td>1</td>\n",
       "      <td>16:46</td>\n",
       "      <td>Mar</td>\n",
       "      <td>-rw-r--r--</td>\n",
       "      <td>user</td>\n",
       "      <td>user</td>\n",
       "    </tr>\n",
       "    <tr>\n",
       "      <th>13</th>\n",
       "      <td>1</td>\n",
       "      <td>arq_jun_outuno.txt</td>\n",
       "      <td>1276</td>\n",
       "      <td>1</td>\n",
       "      <td>16:46</td>\n",
       "      <td>Mar</td>\n",
       "      <td>-rw-r--r--</td>\n",
       "      <td>user</td>\n",
       "      <td>user</td>\n",
       "    </tr>\n",
       "    <tr>\n",
       "      <th>14</th>\n",
       "      <td>1</td>\n",
       "      <td>arq_mai_outuno.txt</td>\n",
       "      <td>1102</td>\n",
       "      <td>1</td>\n",
       "      <td>16:46</td>\n",
       "      <td>Mar</td>\n",
       "      <td>-rw-r--r--</td>\n",
       "      <td>user</td>\n",
       "      <td>user</td>\n",
       "    </tr>\n",
       "    <tr>\n",
       "      <th>15</th>\n",
       "      <td>1</td>\n",
       "      <td>arq_mar_verao.txt</td>\n",
       "      <td>342</td>\n",
       "      <td>1</td>\n",
       "      <td>16:46</td>\n",
       "      <td>Mar</td>\n",
       "      <td>-rw-r--r--</td>\n",
       "      <td>user</td>\n",
       "      <td>user</td>\n",
       "    </tr>\n",
       "    <tr>\n",
       "      <th>16</th>\n",
       "      <td>1</td>\n",
       "      <td>arq_nov_primavera.txt</td>\n",
       "      <td>1586</td>\n",
       "      <td>1</td>\n",
       "      <td>16:46</td>\n",
       "      <td>Mar</td>\n",
       "      <td>-rw-r--r--</td>\n",
       "      <td>user</td>\n",
       "      <td>user</td>\n",
       "    </tr>\n",
       "    <tr>\n",
       "      <th>17</th>\n",
       "      <td>1</td>\n",
       "      <td>arq_out_primavera.txt</td>\n",
       "      <td>610</td>\n",
       "      <td>1</td>\n",
       "      <td>16:46</td>\n",
       "      <td>Mar</td>\n",
       "      <td>-rw-r--r--</td>\n",
       "      <td>user</td>\n",
       "      <td>user</td>\n",
       "    </tr>\n",
       "    <tr>\n",
       "      <th>18</th>\n",
       "      <td>1</td>\n",
       "      <td>arq_set_primavera.txt</td>\n",
       "      <td>610</td>\n",
       "      <td>1</td>\n",
       "      <td>16:46</td>\n",
       "      <td>Mar</td>\n",
       "      <td>-rw-r--r--</td>\n",
       "      <td>user</td>\n",
       "      <td>user</td>\n",
       "    </tr>\n",
       "    <tr>\n",
       "      <th>19</th>\n",
       "      <td>1</td>\n",
       "      <td>cookbook-data</td>\n",
       "      <td>2</td>\n",
       "      <td>2</td>\n",
       "      <td>16:46</td>\n",
       "      <td>Mar</td>\n",
       "      <td>drwxr-xr-x</td>\n",
       "      <td>user</td>\n",
       "      <td>user</td>\n",
       "    </tr>\n",
       "    <tr>\n",
       "      <th>20</th>\n",
       "      <td>3</td>\n",
       "      <td>dicchar.csv</td>\n",
       "      <td>1133</td>\n",
       "      <td>1</td>\n",
       "      <td>17:27</td>\n",
       "      <td>May</td>\n",
       "      <td>-rw-r--r--</td>\n",
       "      <td>user</td>\n",
       "      <td>user</td>\n",
       "    </tr>\n",
       "    <tr>\n",
       "      <th>21</th>\n",
       "      <td>3</td>\n",
       "      <td>teste.txt</td>\n",
       "      <td>0</td>\n",
       "      <td>1</td>\n",
       "      <td>17:29</td>\n",
       "      <td>May</td>\n",
       "      <td>-rw-r--r--</td>\n",
       "      <td>user</td>\n",
       "      <td>user</td>\n",
       "    </tr>\n",
       "  </tbody>\n",
       "</table>\n",
       "</div>"
      ],
      "text/plain": [
       "   day                                  filename  filesize group   hour month  \\\n",
       "0    3                                         .        22     3  17:27   May   \n",
       "1    3                                        ..        33    23  16:00   May   \n",
       "2    3       .Aula24.04.2017.ipynb.sage-jupyter2    112047     1  16:01   May   \n",
       "3    3                .Aula9.ipynb.sage-jupyter2     89550     1  17:29   May   \n",
       "4    1  .python.dados.pandas.ipynb.sage-jupyter2     23468     1  16:34   May   \n",
       "5    3                               Aula9.ipynb    125193     1  17:29   May   \n",
       "6    3                              DUE_DATE.txt        46     1  16:43   May   \n",
       "7    1                        arq_abr_outuno.txt       406     1  16:46   Mar   \n",
       "8    1                       arq_ago_inverno.txt      1121     1  16:46   Mar   \n",
       "9    1                     arq_dez_primavera.txt      1220     1  16:46   Mar   \n",
       "10   1                         arq_fev_verao.txt       684     1  16:46   Mar   \n",
       "11   1                         arq_jan_verao.txt      1368     1  16:46   Mar   \n",
       "12   1                       arq_jul_inverno.txt       885     1  16:46   Mar   \n",
       "13   1                        arq_jun_outuno.txt      1276     1  16:46   Mar   \n",
       "14   1                        arq_mai_outuno.txt      1102     1  16:46   Mar   \n",
       "15   1                         arq_mar_verao.txt       342     1  16:46   Mar   \n",
       "16   1                     arq_nov_primavera.txt      1586     1  16:46   Mar   \n",
       "17   1                     arq_out_primavera.txt       610     1  16:46   Mar   \n",
       "18   1                     arq_set_primavera.txt       610     1  16:46   Mar   \n",
       "19   1                             cookbook-data         2     2  16:46   Mar   \n",
       "20   3                               dicchar.csv      1133     1  17:27   May   \n",
       "21   3                                 teste.txt         0     1  17:29   May   \n",
       "\n",
       "          perm  user usercode  \n",
       "0   drwxr-xr-x  user     user  \n",
       "1   drwxr-xr-x  user     user  \n",
       "2   -rw-r--r--  user     user  \n",
       "3   -rw-r--r--  user     user  \n",
       "4   -rw-r--r--  user     user  \n",
       "5   -rw-r--r--  user     user  \n",
       "6   -rw-r--r--  user     user  \n",
       "7   -rw-r--r--  user     user  \n",
       "8   -rw-r--r--  user     user  \n",
       "9   -rw-r--r--  user     user  \n",
       "10  -rw-r--r--  user     user  \n",
       "11  -rw-r--r--  user     user  \n",
       "12  -rw-r--r--  user     user  \n",
       "13  -rw-r--r--  user     user  \n",
       "14  -rw-r--r--  user     user  \n",
       "15  -rw-r--r--  user     user  \n",
       "16  -rw-r--r--  user     user  \n",
       "17  -rw-r--r--  user     user  \n",
       "18  -rw-r--r--  user     user  \n",
       "19  drwxr-xr-x  user     user  \n",
       "20  -rw-r--r--  user     user  \n",
       "21  -rw-r--r--  user     user  "
      ]
     },
     "execution_count": 38,
     "metadata": {
     },
     "output_type": "execute_result"
    }
   ],
   "source": [
    "df"
   ]
  },
  {
   "cell_type": "code",
   "execution_count": 39,
   "metadata": {
    "collapsed": false
   },
   "outputs": [
   ],
   "source": [
    "df['stringdata']=(\"2019\"+\" \"+ df[\"month\"]+\" \"+df[\"day\"]+ \" \"+df[\"hour\"])"
   ]
  },
  {
   "cell_type": "code",
   "execution_count": 40,
   "metadata": {
    "collapsed": false
   },
   "outputs": [
    {
     "data": {
      "text/html": [
       "<div>\n",
       "<style scoped>\n",
       "    .dataframe tbody tr th:only-of-type {\n",
       "        vertical-align: middle;\n",
       "    }\n",
       "\n",
       "    .dataframe tbody tr th {\n",
       "        vertical-align: top;\n",
       "    }\n",
       "\n",
       "    .dataframe thead th {\n",
       "        text-align: right;\n",
       "    }\n",
       "</style>\n",
       "<table border=\"1\" class=\"dataframe\">\n",
       "  <thead>\n",
       "    <tr style=\"text-align: right;\">\n",
       "      <th></th>\n",
       "      <th>day</th>\n",
       "      <th>filename</th>\n",
       "      <th>filesize</th>\n",
       "      <th>group</th>\n",
       "      <th>hour</th>\n",
       "      <th>month</th>\n",
       "      <th>perm</th>\n",
       "      <th>user</th>\n",
       "      <th>usercode</th>\n",
       "      <th>stringdata</th>\n",
       "    </tr>\n",
       "  </thead>\n",
       "  <tbody>\n",
       "    <tr>\n",
       "      <th>0</th>\n",
       "      <td>3</td>\n",
       "      <td>.</td>\n",
       "      <td>22</td>\n",
       "      <td>3</td>\n",
       "      <td>17:27</td>\n",
       "      <td>May</td>\n",
       "      <td>drwxr-xr-x</td>\n",
       "      <td>user</td>\n",
       "      <td>user</td>\n",
       "      <td>2019 May 3 17:27</td>\n",
       "    </tr>\n",
       "    <tr>\n",
       "      <th>1</th>\n",
       "      <td>3</td>\n",
       "      <td>..</td>\n",
       "      <td>33</td>\n",
       "      <td>23</td>\n",
       "      <td>16:00</td>\n",
       "      <td>May</td>\n",
       "      <td>drwxr-xr-x</td>\n",
       "      <td>user</td>\n",
       "      <td>user</td>\n",
       "      <td>2019 May 3 16:00</td>\n",
       "    </tr>\n",
       "    <tr>\n",
       "      <th>2</th>\n",
       "      <td>3</td>\n",
       "      <td>.Aula24.04.2017.ipynb.sage-jupyter2</td>\n",
       "      <td>112047</td>\n",
       "      <td>1</td>\n",
       "      <td>16:01</td>\n",
       "      <td>May</td>\n",
       "      <td>-rw-r--r--</td>\n",
       "      <td>user</td>\n",
       "      <td>user</td>\n",
       "      <td>2019 May 3 16:01</td>\n",
       "    </tr>\n",
       "    <tr>\n",
       "      <th>3</th>\n",
       "      <td>3</td>\n",
       "      <td>.Aula9.ipynb.sage-jupyter2</td>\n",
       "      <td>89550</td>\n",
       "      <td>1</td>\n",
       "      <td>17:29</td>\n",
       "      <td>May</td>\n",
       "      <td>-rw-r--r--</td>\n",
       "      <td>user</td>\n",
       "      <td>user</td>\n",
       "      <td>2019 May 3 17:29</td>\n",
       "    </tr>\n",
       "    <tr>\n",
       "      <th>4</th>\n",
       "      <td>1</td>\n",
       "      <td>.python.dados.pandas.ipynb.sage-jupyter2</td>\n",
       "      <td>23468</td>\n",
       "      <td>1</td>\n",
       "      <td>16:34</td>\n",
       "      <td>May</td>\n",
       "      <td>-rw-r--r--</td>\n",
       "      <td>user</td>\n",
       "      <td>user</td>\n",
       "      <td>2019 May 1 16:34</td>\n",
       "    </tr>\n",
       "    <tr>\n",
       "      <th>5</th>\n",
       "      <td>3</td>\n",
       "      <td>Aula9.ipynb</td>\n",
       "      <td>125193</td>\n",
       "      <td>1</td>\n",
       "      <td>17:29</td>\n",
       "      <td>May</td>\n",
       "      <td>-rw-r--r--</td>\n",
       "      <td>user</td>\n",
       "      <td>user</td>\n",
       "      <td>2019 May 3 17:29</td>\n",
       "    </tr>\n",
       "    <tr>\n",
       "      <th>6</th>\n",
       "      <td>3</td>\n",
       "      <td>DUE_DATE.txt</td>\n",
       "      <td>46</td>\n",
       "      <td>1</td>\n",
       "      <td>16:43</td>\n",
       "      <td>May</td>\n",
       "      <td>-rw-r--r--</td>\n",
       "      <td>user</td>\n",
       "      <td>user</td>\n",
       "      <td>2019 May 3 16:43</td>\n",
       "    </tr>\n",
       "    <tr>\n",
       "      <th>7</th>\n",
       "      <td>1</td>\n",
       "      <td>arq_abr_outuno.txt</td>\n",
       "      <td>406</td>\n",
       "      <td>1</td>\n",
       "      <td>16:46</td>\n",
       "      <td>Mar</td>\n",
       "      <td>-rw-r--r--</td>\n",
       "      <td>user</td>\n",
       "      <td>user</td>\n",
       "      <td>2019 Mar 1 16:46</td>\n",
       "    </tr>\n",
       "    <tr>\n",
       "      <th>8</th>\n",
       "      <td>1</td>\n",
       "      <td>arq_ago_inverno.txt</td>\n",
       "      <td>1121</td>\n",
       "      <td>1</td>\n",
       "      <td>16:46</td>\n",
       "      <td>Mar</td>\n",
       "      <td>-rw-r--r--</td>\n",
       "      <td>user</td>\n",
       "      <td>user</td>\n",
       "      <td>2019 Mar 1 16:46</td>\n",
       "    </tr>\n",
       "    <tr>\n",
       "      <th>9</th>\n",
       "      <td>1</td>\n",
       "      <td>arq_dez_primavera.txt</td>\n",
       "      <td>1220</td>\n",
       "      <td>1</td>\n",
       "      <td>16:46</td>\n",
       "      <td>Mar</td>\n",
       "      <td>-rw-r--r--</td>\n",
       "      <td>user</td>\n",
       "      <td>user</td>\n",
       "      <td>2019 Mar 1 16:46</td>\n",
       "    </tr>\n",
       "    <tr>\n",
       "      <th>10</th>\n",
       "      <td>1</td>\n",
       "      <td>arq_fev_verao.txt</td>\n",
       "      <td>684</td>\n",
       "      <td>1</td>\n",
       "      <td>16:46</td>\n",
       "      <td>Mar</td>\n",
       "      <td>-rw-r--r--</td>\n",
       "      <td>user</td>\n",
       "      <td>user</td>\n",
       "      <td>2019 Mar 1 16:46</td>\n",
       "    </tr>\n",
       "    <tr>\n",
       "      <th>11</th>\n",
       "      <td>1</td>\n",
       "      <td>arq_jan_verao.txt</td>\n",
       "      <td>1368</td>\n",
       "      <td>1</td>\n",
       "      <td>16:46</td>\n",
       "      <td>Mar</td>\n",
       "      <td>-rw-r--r--</td>\n",
       "      <td>user</td>\n",
       "      <td>user</td>\n",
       "      <td>2019 Mar 1 16:46</td>\n",
       "    </tr>\n",
       "    <tr>\n",
       "      <th>12</th>\n",
       "      <td>1</td>\n",
       "      <td>arq_jul_inverno.txt</td>\n",
       "      <td>885</td>\n",
       "      <td>1</td>\n",
       "      <td>16:46</td>\n",
       "      <td>Mar</td>\n",
       "      <td>-rw-r--r--</td>\n",
       "      <td>user</td>\n",
       "      <td>user</td>\n",
       "      <td>2019 Mar 1 16:46</td>\n",
       "    </tr>\n",
       "    <tr>\n",
       "      <th>13</th>\n",
       "      <td>1</td>\n",
       "      <td>arq_jun_outuno.txt</td>\n",
       "      <td>1276</td>\n",
       "      <td>1</td>\n",
       "      <td>16:46</td>\n",
       "      <td>Mar</td>\n",
       "      <td>-rw-r--r--</td>\n",
       "      <td>user</td>\n",
       "      <td>user</td>\n",
       "      <td>2019 Mar 1 16:46</td>\n",
       "    </tr>\n",
       "    <tr>\n",
       "      <th>14</th>\n",
       "      <td>1</td>\n",
       "      <td>arq_mai_outuno.txt</td>\n",
       "      <td>1102</td>\n",
       "      <td>1</td>\n",
       "      <td>16:46</td>\n",
       "      <td>Mar</td>\n",
       "      <td>-rw-r--r--</td>\n",
       "      <td>user</td>\n",
       "      <td>user</td>\n",
       "      <td>2019 Mar 1 16:46</td>\n",
       "    </tr>\n",
       "    <tr>\n",
       "      <th>15</th>\n",
       "      <td>1</td>\n",
       "      <td>arq_mar_verao.txt</td>\n",
       "      <td>342</td>\n",
       "      <td>1</td>\n",
       "      <td>16:46</td>\n",
       "      <td>Mar</td>\n",
       "      <td>-rw-r--r--</td>\n",
       "      <td>user</td>\n",
       "      <td>user</td>\n",
       "      <td>2019 Mar 1 16:46</td>\n",
       "    </tr>\n",
       "    <tr>\n",
       "      <th>16</th>\n",
       "      <td>1</td>\n",
       "      <td>arq_nov_primavera.txt</td>\n",
       "      <td>1586</td>\n",
       "      <td>1</td>\n",
       "      <td>16:46</td>\n",
       "      <td>Mar</td>\n",
       "      <td>-rw-r--r--</td>\n",
       "      <td>user</td>\n",
       "      <td>user</td>\n",
       "      <td>2019 Mar 1 16:46</td>\n",
       "    </tr>\n",
       "    <tr>\n",
       "      <th>17</th>\n",
       "      <td>1</td>\n",
       "      <td>arq_out_primavera.txt</td>\n",
       "      <td>610</td>\n",
       "      <td>1</td>\n",
       "      <td>16:46</td>\n",
       "      <td>Mar</td>\n",
       "      <td>-rw-r--r--</td>\n",
       "      <td>user</td>\n",
       "      <td>user</td>\n",
       "      <td>2019 Mar 1 16:46</td>\n",
       "    </tr>\n",
       "    <tr>\n",
       "      <th>18</th>\n",
       "      <td>1</td>\n",
       "      <td>arq_set_primavera.txt</td>\n",
       "      <td>610</td>\n",
       "      <td>1</td>\n",
       "      <td>16:46</td>\n",
       "      <td>Mar</td>\n",
       "      <td>-rw-r--r--</td>\n",
       "      <td>user</td>\n",
       "      <td>user</td>\n",
       "      <td>2019 Mar 1 16:46</td>\n",
       "    </tr>\n",
       "    <tr>\n",
       "      <th>19</th>\n",
       "      <td>1</td>\n",
       "      <td>cookbook-data</td>\n",
       "      <td>2</td>\n",
       "      <td>2</td>\n",
       "      <td>16:46</td>\n",
       "      <td>Mar</td>\n",
       "      <td>drwxr-xr-x</td>\n",
       "      <td>user</td>\n",
       "      <td>user</td>\n",
       "      <td>2019 Mar 1 16:46</td>\n",
       "    </tr>\n",
       "    <tr>\n",
       "      <th>20</th>\n",
       "      <td>3</td>\n",
       "      <td>dicchar.csv</td>\n",
       "      <td>1133</td>\n",
       "      <td>1</td>\n",
       "      <td>17:27</td>\n",
       "      <td>May</td>\n",
       "      <td>-rw-r--r--</td>\n",
       "      <td>user</td>\n",
       "      <td>user</td>\n",
       "      <td>2019 May 3 17:27</td>\n",
       "    </tr>\n",
       "    <tr>\n",
       "      <th>21</th>\n",
       "      <td>3</td>\n",
       "      <td>teste.txt</td>\n",
       "      <td>0</td>\n",
       "      <td>1</td>\n",
       "      <td>17:29</td>\n",
       "      <td>May</td>\n",
       "      <td>-rw-r--r--</td>\n",
       "      <td>user</td>\n",
       "      <td>user</td>\n",
       "      <td>2019 May 3 17:29</td>\n",
       "    </tr>\n",
       "  </tbody>\n",
       "</table>\n",
       "</div>"
      ],
      "text/plain": [
       "   day                                  filename  filesize group   hour month  \\\n",
       "0    3                                         .        22     3  17:27   May   \n",
       "1    3                                        ..        33    23  16:00   May   \n",
       "2    3       .Aula24.04.2017.ipynb.sage-jupyter2    112047     1  16:01   May   \n",
       "3    3                .Aula9.ipynb.sage-jupyter2     89550     1  17:29   May   \n",
       "4    1  .python.dados.pandas.ipynb.sage-jupyter2     23468     1  16:34   May   \n",
       "5    3                               Aula9.ipynb    125193     1  17:29   May   \n",
       "6    3                              DUE_DATE.txt        46     1  16:43   May   \n",
       "7    1                        arq_abr_outuno.txt       406     1  16:46   Mar   \n",
       "8    1                       arq_ago_inverno.txt      1121     1  16:46   Mar   \n",
       "9    1                     arq_dez_primavera.txt      1220     1  16:46   Mar   \n",
       "10   1                         arq_fev_verao.txt       684     1  16:46   Mar   \n",
       "11   1                         arq_jan_verao.txt      1368     1  16:46   Mar   \n",
       "12   1                       arq_jul_inverno.txt       885     1  16:46   Mar   \n",
       "13   1                        arq_jun_outuno.txt      1276     1  16:46   Mar   \n",
       "14   1                        arq_mai_outuno.txt      1102     1  16:46   Mar   \n",
       "15   1                         arq_mar_verao.txt       342     1  16:46   Mar   \n",
       "16   1                     arq_nov_primavera.txt      1586     1  16:46   Mar   \n",
       "17   1                     arq_out_primavera.txt       610     1  16:46   Mar   \n",
       "18   1                     arq_set_primavera.txt       610     1  16:46   Mar   \n",
       "19   1                             cookbook-data         2     2  16:46   Mar   \n",
       "20   3                               dicchar.csv      1133     1  17:27   May   \n",
       "21   3                                 teste.txt         0     1  17:29   May   \n",
       "\n",
       "          perm  user usercode        stringdata  \n",
       "0   drwxr-xr-x  user     user  2019 May 3 17:27  \n",
       "1   drwxr-xr-x  user     user  2019 May 3 16:00  \n",
       "2   -rw-r--r--  user     user  2019 May 3 16:01  \n",
       "3   -rw-r--r--  user     user  2019 May 3 17:29  \n",
       "4   -rw-r--r--  user     user  2019 May 1 16:34  \n",
       "5   -rw-r--r--  user     user  2019 May 3 17:29  \n",
       "6   -rw-r--r--  user     user  2019 May 3 16:43  \n",
       "7   -rw-r--r--  user     user  2019 Mar 1 16:46  \n",
       "8   -rw-r--r--  user     user  2019 Mar 1 16:46  \n",
       "9   -rw-r--r--  user     user  2019 Mar 1 16:46  \n",
       "10  -rw-r--r--  user     user  2019 Mar 1 16:46  \n",
       "11  -rw-r--r--  user     user  2019 Mar 1 16:46  \n",
       "12  -rw-r--r--  user     user  2019 Mar 1 16:46  \n",
       "13  -rw-r--r--  user     user  2019 Mar 1 16:46  \n",
       "14  -rw-r--r--  user     user  2019 Mar 1 16:46  \n",
       "15  -rw-r--r--  user     user  2019 Mar 1 16:46  \n",
       "16  -rw-r--r--  user     user  2019 Mar 1 16:46  \n",
       "17  -rw-r--r--  user     user  2019 Mar 1 16:46  \n",
       "18  -rw-r--r--  user     user  2019 Mar 1 16:46  \n",
       "19  drwxr-xr-x  user     user  2019 Mar 1 16:46  \n",
       "20  -rw-r--r--  user     user  2019 May 3 17:27  \n",
       "21  -rw-r--r--  user     user  2019 May 3 17:29  "
      ]
     },
     "execution_count": 40,
     "metadata": {
     },
     "output_type": "execute_result"
    }
   ],
   "source": [
    "df"
   ]
  },
  {
   "cell_type": "markdown",
   "metadata": {
    "collapsed": false
   },
   "source": [
    "Depois gero outra coluna transformando em `timestamp`.  "
   ]
  },
  {
   "cell_type": "code",
   "execution_count": 41,
   "metadata": {
    "ExecuteTime": {
     "end_time": "2017-05-02T01:22:04.815Z",
     "start_time": "2017-05-02T01:22:04.692Z"
    },
    "collapsed": false
   },
   "outputs": [
   ],
   "source": [
    "df['floatdate']=[datetime.strptime(str, \"%Y %b %d %H:%M\").timestamp() for str in df['stringdata']]"
   ]
  },
  {
   "cell_type": "markdown",
   "metadata": {
    "collapsed": false
   },
   "source": [
    "O golpe final é achar o indice do mínimo e imprimir o arquivo. "
   ]
  },
  {
   "cell_type": "code",
   "execution_count": 42,
   "metadata": {
    "collapsed": false
   },
   "outputs": [
    {
     "data": {
      "text/html": [
       "<div>\n",
       "<style scoped>\n",
       "    .dataframe tbody tr th:only-of-type {\n",
       "        vertical-align: middle;\n",
       "    }\n",
       "\n",
       "    .dataframe tbody tr th {\n",
       "        vertical-align: top;\n",
       "    }\n",
       "\n",
       "    .dataframe thead th {\n",
       "        text-align: right;\n",
       "    }\n",
       "</style>\n",
       "<table border=\"1\" class=\"dataframe\">\n",
       "  <thead>\n",
       "    <tr style=\"text-align: right;\">\n",
       "      <th></th>\n",
       "      <th>day</th>\n",
       "      <th>filename</th>\n",
       "      <th>filesize</th>\n",
       "      <th>group</th>\n",
       "      <th>hour</th>\n",
       "      <th>month</th>\n",
       "      <th>perm</th>\n",
       "      <th>user</th>\n",
       "      <th>usercode</th>\n",
       "      <th>stringdata</th>\n",
       "      <th>floatdate</th>\n",
       "    </tr>\n",
       "  </thead>\n",
       "  <tbody>\n",
       "    <tr>\n",
       "      <th>0</th>\n",
       "      <td>3</td>\n",
       "      <td>.</td>\n",
       "      <td>22</td>\n",
       "      <td>3</td>\n",
       "      <td>17:27</td>\n",
       "      <td>May</td>\n",
       "      <td>drwxr-xr-x</td>\n",
       "      <td>user</td>\n",
       "      <td>user</td>\n",
       "      <td>2019 May 3 17:27</td>\n",
       "      <td>1.556904e+09</td>\n",
       "    </tr>\n",
       "    <tr>\n",
       "      <th>1</th>\n",
       "      <td>3</td>\n",
       "      <td>..</td>\n",
       "      <td>33</td>\n",
       "      <td>23</td>\n",
       "      <td>16:00</td>\n",
       "      <td>May</td>\n",
       "      <td>drwxr-xr-x</td>\n",
       "      <td>user</td>\n",
       "      <td>user</td>\n",
       "      <td>2019 May 3 16:00</td>\n",
       "      <td>1.556899e+09</td>\n",
       "    </tr>\n",
       "    <tr>\n",
       "      <th>2</th>\n",
       "      <td>3</td>\n",
       "      <td>.Aula24.04.2017.ipynb.sage-jupyter2</td>\n",
       "      <td>112047</td>\n",
       "      <td>1</td>\n",
       "      <td>16:01</td>\n",
       "      <td>May</td>\n",
       "      <td>-rw-r--r--</td>\n",
       "      <td>user</td>\n",
       "      <td>user</td>\n",
       "      <td>2019 May 3 16:01</td>\n",
       "      <td>1.556899e+09</td>\n",
       "    </tr>\n",
       "    <tr>\n",
       "      <th>3</th>\n",
       "      <td>3</td>\n",
       "      <td>.Aula9.ipynb.sage-jupyter2</td>\n",
       "      <td>89550</td>\n",
       "      <td>1</td>\n",
       "      <td>17:29</td>\n",
       "      <td>May</td>\n",
       "      <td>-rw-r--r--</td>\n",
       "      <td>user</td>\n",
       "      <td>user</td>\n",
       "      <td>2019 May 3 17:29</td>\n",
       "      <td>1.556905e+09</td>\n",
       "    </tr>\n",
       "    <tr>\n",
       "      <th>4</th>\n",
       "      <td>1</td>\n",
       "      <td>.python.dados.pandas.ipynb.sage-jupyter2</td>\n",
       "      <td>23468</td>\n",
       "      <td>1</td>\n",
       "      <td>16:34</td>\n",
       "      <td>May</td>\n",
       "      <td>-rw-r--r--</td>\n",
       "      <td>user</td>\n",
       "      <td>user</td>\n",
       "      <td>2019 May 1 16:34</td>\n",
       "      <td>1.556728e+09</td>\n",
       "    </tr>\n",
       "    <tr>\n",
       "      <th>5</th>\n",
       "      <td>3</td>\n",
       "      <td>Aula9.ipynb</td>\n",
       "      <td>125193</td>\n",
       "      <td>1</td>\n",
       "      <td>17:29</td>\n",
       "      <td>May</td>\n",
       "      <td>-rw-r--r--</td>\n",
       "      <td>user</td>\n",
       "      <td>user</td>\n",
       "      <td>2019 May 3 17:29</td>\n",
       "      <td>1.556905e+09</td>\n",
       "    </tr>\n",
       "    <tr>\n",
       "      <th>6</th>\n",
       "      <td>3</td>\n",
       "      <td>DUE_DATE.txt</td>\n",
       "      <td>46</td>\n",
       "      <td>1</td>\n",
       "      <td>16:43</td>\n",
       "      <td>May</td>\n",
       "      <td>-rw-r--r--</td>\n",
       "      <td>user</td>\n",
       "      <td>user</td>\n",
       "      <td>2019 May 3 16:43</td>\n",
       "      <td>1.556902e+09</td>\n",
       "    </tr>\n",
       "    <tr>\n",
       "      <th>7</th>\n",
       "      <td>1</td>\n",
       "      <td>arq_abr_outuno.txt</td>\n",
       "      <td>406</td>\n",
       "      <td>1</td>\n",
       "      <td>16:46</td>\n",
       "      <td>Mar</td>\n",
       "      <td>-rw-r--r--</td>\n",
       "      <td>user</td>\n",
       "      <td>user</td>\n",
       "      <td>2019 Mar 1 16:46</td>\n",
       "      <td>1.551459e+09</td>\n",
       "    </tr>\n",
       "    <tr>\n",
       "      <th>8</th>\n",
       "      <td>1</td>\n",
       "      <td>arq_ago_inverno.txt</td>\n",
       "      <td>1121</td>\n",
       "      <td>1</td>\n",
       "      <td>16:46</td>\n",
       "      <td>Mar</td>\n",
       "      <td>-rw-r--r--</td>\n",
       "      <td>user</td>\n",
       "      <td>user</td>\n",
       "      <td>2019 Mar 1 16:46</td>\n",
       "      <td>1.551459e+09</td>\n",
       "    </tr>\n",
       "    <tr>\n",
       "      <th>9</th>\n",
       "      <td>1</td>\n",
       "      <td>arq_dez_primavera.txt</td>\n",
       "      <td>1220</td>\n",
       "      <td>1</td>\n",
       "      <td>16:46</td>\n",
       "      <td>Mar</td>\n",
       "      <td>-rw-r--r--</td>\n",
       "      <td>user</td>\n",
       "      <td>user</td>\n",
       "      <td>2019 Mar 1 16:46</td>\n",
       "      <td>1.551459e+09</td>\n",
       "    </tr>\n",
       "    <tr>\n",
       "      <th>10</th>\n",
       "      <td>1</td>\n",
       "      <td>arq_fev_verao.txt</td>\n",
       "      <td>684</td>\n",
       "      <td>1</td>\n",
       "      <td>16:46</td>\n",
       "      <td>Mar</td>\n",
       "      <td>-rw-r--r--</td>\n",
       "      <td>user</td>\n",
       "      <td>user</td>\n",
       "      <td>2019 Mar 1 16:46</td>\n",
       "      <td>1.551459e+09</td>\n",
       "    </tr>\n",
       "    <tr>\n",
       "      <th>11</th>\n",
       "      <td>1</td>\n",
       "      <td>arq_jan_verao.txt</td>\n",
       "      <td>1368</td>\n",
       "      <td>1</td>\n",
       "      <td>16:46</td>\n",
       "      <td>Mar</td>\n",
       "      <td>-rw-r--r--</td>\n",
       "      <td>user</td>\n",
       "      <td>user</td>\n",
       "      <td>2019 Mar 1 16:46</td>\n",
       "      <td>1.551459e+09</td>\n",
       "    </tr>\n",
       "    <tr>\n",
       "      <th>12</th>\n",
       "      <td>1</td>\n",
       "      <td>arq_jul_inverno.txt</td>\n",
       "      <td>885</td>\n",
       "      <td>1</td>\n",
       "      <td>16:46</td>\n",
       "      <td>Mar</td>\n",
       "      <td>-rw-r--r--</td>\n",
       "      <td>user</td>\n",
       "      <td>user</td>\n",
       "      <td>2019 Mar 1 16:46</td>\n",
       "      <td>1.551459e+09</td>\n",
       "    </tr>\n",
       "    <tr>\n",
       "      <th>13</th>\n",
       "      <td>1</td>\n",
       "      <td>arq_jun_outuno.txt</td>\n",
       "      <td>1276</td>\n",
       "      <td>1</td>\n",
       "      <td>16:46</td>\n",
       "      <td>Mar</td>\n",
       "      <td>-rw-r--r--</td>\n",
       "      <td>user</td>\n",
       "      <td>user</td>\n",
       "      <td>2019 Mar 1 16:46</td>\n",
       "      <td>1.551459e+09</td>\n",
       "    </tr>\n",
       "    <tr>\n",
       "      <th>14</th>\n",
       "      <td>1</td>\n",
       "      <td>arq_mai_outuno.txt</td>\n",
       "      <td>1102</td>\n",
       "      <td>1</td>\n",
       "      <td>16:46</td>\n",
       "      <td>Mar</td>\n",
       "      <td>-rw-r--r--</td>\n",
       "      <td>user</td>\n",
       "      <td>user</td>\n",
       "      <td>2019 Mar 1 16:46</td>\n",
       "      <td>1.551459e+09</td>\n",
       "    </tr>\n",
       "    <tr>\n",
       "      <th>15</th>\n",
       "      <td>1</td>\n",
       "      <td>arq_mar_verao.txt</td>\n",
       "      <td>342</td>\n",
       "      <td>1</td>\n",
       "      <td>16:46</td>\n",
       "      <td>Mar</td>\n",
       "      <td>-rw-r--r--</td>\n",
       "      <td>user</td>\n",
       "      <td>user</td>\n",
       "      <td>2019 Mar 1 16:46</td>\n",
       "      <td>1.551459e+09</td>\n",
       "    </tr>\n",
       "    <tr>\n",
       "      <th>16</th>\n",
       "      <td>1</td>\n",
       "      <td>arq_nov_primavera.txt</td>\n",
       "      <td>1586</td>\n",
       "      <td>1</td>\n",
       "      <td>16:46</td>\n",
       "      <td>Mar</td>\n",
       "      <td>-rw-r--r--</td>\n",
       "      <td>user</td>\n",
       "      <td>user</td>\n",
       "      <td>2019 Mar 1 16:46</td>\n",
       "      <td>1.551459e+09</td>\n",
       "    </tr>\n",
       "    <tr>\n",
       "      <th>17</th>\n",
       "      <td>1</td>\n",
       "      <td>arq_out_primavera.txt</td>\n",
       "      <td>610</td>\n",
       "      <td>1</td>\n",
       "      <td>16:46</td>\n",
       "      <td>Mar</td>\n",
       "      <td>-rw-r--r--</td>\n",
       "      <td>user</td>\n",
       "      <td>user</td>\n",
       "      <td>2019 Mar 1 16:46</td>\n",
       "      <td>1.551459e+09</td>\n",
       "    </tr>\n",
       "    <tr>\n",
       "      <th>18</th>\n",
       "      <td>1</td>\n",
       "      <td>arq_set_primavera.txt</td>\n",
       "      <td>610</td>\n",
       "      <td>1</td>\n",
       "      <td>16:46</td>\n",
       "      <td>Mar</td>\n",
       "      <td>-rw-r--r--</td>\n",
       "      <td>user</td>\n",
       "      <td>user</td>\n",
       "      <td>2019 Mar 1 16:46</td>\n",
       "      <td>1.551459e+09</td>\n",
       "    </tr>\n",
       "    <tr>\n",
       "      <th>19</th>\n",
       "      <td>1</td>\n",
       "      <td>cookbook-data</td>\n",
       "      <td>2</td>\n",
       "      <td>2</td>\n",
       "      <td>16:46</td>\n",
       "      <td>Mar</td>\n",
       "      <td>drwxr-xr-x</td>\n",
       "      <td>user</td>\n",
       "      <td>user</td>\n",
       "      <td>2019 Mar 1 16:46</td>\n",
       "      <td>1.551459e+09</td>\n",
       "    </tr>\n",
       "    <tr>\n",
       "      <th>20</th>\n",
       "      <td>3</td>\n",
       "      <td>dicchar.csv</td>\n",
       "      <td>1133</td>\n",
       "      <td>1</td>\n",
       "      <td>17:27</td>\n",
       "      <td>May</td>\n",
       "      <td>-rw-r--r--</td>\n",
       "      <td>user</td>\n",
       "      <td>user</td>\n",
       "      <td>2019 May 3 17:27</td>\n",
       "      <td>1.556904e+09</td>\n",
       "    </tr>\n",
       "    <tr>\n",
       "      <th>21</th>\n",
       "      <td>3</td>\n",
       "      <td>teste.txt</td>\n",
       "      <td>0</td>\n",
       "      <td>1</td>\n",
       "      <td>17:29</td>\n",
       "      <td>May</td>\n",
       "      <td>-rw-r--r--</td>\n",
       "      <td>user</td>\n",
       "      <td>user</td>\n",
       "      <td>2019 May 3 17:29</td>\n",
       "      <td>1.556905e+09</td>\n",
       "    </tr>\n",
       "  </tbody>\n",
       "</table>\n",
       "</div>"
      ],
      "text/plain": [
       "   day                                  filename  filesize group   hour month  \\\n",
       "0    3                                         .        22     3  17:27   May   \n",
       "1    3                                        ..        33    23  16:00   May   \n",
       "2    3       .Aula24.04.2017.ipynb.sage-jupyter2    112047     1  16:01   May   \n",
       "3    3                .Aula9.ipynb.sage-jupyter2     89550     1  17:29   May   \n",
       "4    1  .python.dados.pandas.ipynb.sage-jupyter2     23468     1  16:34   May   \n",
       "5    3                               Aula9.ipynb    125193     1  17:29   May   \n",
       "6    3                              DUE_DATE.txt        46     1  16:43   May   \n",
       "7    1                        arq_abr_outuno.txt       406     1  16:46   Mar   \n",
       "8    1                       arq_ago_inverno.txt      1121     1  16:46   Mar   \n",
       "9    1                     arq_dez_primavera.txt      1220     1  16:46   Mar   \n",
       "10   1                         arq_fev_verao.txt       684     1  16:46   Mar   \n",
       "11   1                         arq_jan_verao.txt      1368     1  16:46   Mar   \n",
       "12   1                       arq_jul_inverno.txt       885     1  16:46   Mar   \n",
       "13   1                        arq_jun_outuno.txt      1276     1  16:46   Mar   \n",
       "14   1                        arq_mai_outuno.txt      1102     1  16:46   Mar   \n",
       "15   1                         arq_mar_verao.txt       342     1  16:46   Mar   \n",
       "16   1                     arq_nov_primavera.txt      1586     1  16:46   Mar   \n",
       "17   1                     arq_out_primavera.txt       610     1  16:46   Mar   \n",
       "18   1                     arq_set_primavera.txt       610     1  16:46   Mar   \n",
       "19   1                             cookbook-data         2     2  16:46   Mar   \n",
       "20   3                               dicchar.csv      1133     1  17:27   May   \n",
       "21   3                                 teste.txt         0     1  17:29   May   \n",
       "\n",
       "          perm  user usercode        stringdata     floatdate  \n",
       "0   drwxr-xr-x  user     user  2019 May 3 17:27  1.556904e+09  \n",
       "1   drwxr-xr-x  user     user  2019 May 3 16:00  1.556899e+09  \n",
       "2   -rw-r--r--  user     user  2019 May 3 16:01  1.556899e+09  \n",
       "3   -rw-r--r--  user     user  2019 May 3 17:29  1.556905e+09  \n",
       "4   -rw-r--r--  user     user  2019 May 1 16:34  1.556728e+09  \n",
       "5   -rw-r--r--  user     user  2019 May 3 17:29  1.556905e+09  \n",
       "6   -rw-r--r--  user     user  2019 May 3 16:43  1.556902e+09  \n",
       "7   -rw-r--r--  user     user  2019 Mar 1 16:46  1.551459e+09  \n",
       "8   -rw-r--r--  user     user  2019 Mar 1 16:46  1.551459e+09  \n",
       "9   -rw-r--r--  user     user  2019 Mar 1 16:46  1.551459e+09  \n",
       "10  -rw-r--r--  user     user  2019 Mar 1 16:46  1.551459e+09  \n",
       "11  -rw-r--r--  user     user  2019 Mar 1 16:46  1.551459e+09  \n",
       "12  -rw-r--r--  user     user  2019 Mar 1 16:46  1.551459e+09  \n",
       "13  -rw-r--r--  user     user  2019 Mar 1 16:46  1.551459e+09  \n",
       "14  -rw-r--r--  user     user  2019 Mar 1 16:46  1.551459e+09  \n",
       "15  -rw-r--r--  user     user  2019 Mar 1 16:46  1.551459e+09  \n",
       "16  -rw-r--r--  user     user  2019 Mar 1 16:46  1.551459e+09  \n",
       "17  -rw-r--r--  user     user  2019 Mar 1 16:46  1.551459e+09  \n",
       "18  -rw-r--r--  user     user  2019 Mar 1 16:46  1.551459e+09  \n",
       "19  drwxr-xr-x  user     user  2019 Mar 1 16:46  1.551459e+09  \n",
       "20  -rw-r--r--  user     user  2019 May 3 17:27  1.556904e+09  \n",
       "21  -rw-r--r--  user     user  2019 May 3 17:29  1.556905e+09  "
      ]
     },
     "execution_count": 42,
     "metadata": {
     },
     "output_type": "execute_result"
    }
   ],
   "source": [
    "df"
   ]
  },
  {
   "cell_type": "code",
   "execution_count": 47,
   "metadata": {
    "collapsed": false
   },
   "outputs": [
    {
     "data": {
      "text/plain": [
       "'arq_abr_outuno.txt'"
      ]
     },
     "execution_count": 47,
     "metadata": {
     },
     "output_type": "execute_result"
    }
   ],
   "source": [
    "index=df['floatdate'].idxmin()\n",
    "df.iloc[index][1]"
   ]
  },
  {
   "cell_type": "code",
   "execution_count": 49,
   "metadata": {
    "collapsed": false
   },
   "outputs": [
   ],
   "source": [
    "zod=\"\"\"\n",
    "Áries\t19 de abril a 13 de maio\t25 dias\tHamal\n",
    "Touro\t14 de maio a 19 de junho\t37 dias\tAldebaran\n",
    "Gêmeos\t20 de junho a 20 de julho\t31 dias\tBeta Geminorum (Pollux)\n",
    "Câncer\t21 de julho a 9 de agosto\t20 dias\tAl Tarf\n",
    "Leão\t10 de agosto a 15 de setembro\t37 dias\tRegulus\n",
    "Virgem\t16 de setembro a 30 de outubro\t45 dias\tSpica\n",
    "Libra\t31 de outubro a 22 de novembro\t23 dias\tZubeneschamali\n",
    "Escorpião\t23 de novembro a 29 de novembro\t7 dias\tAntares\n",
    "Serpentário\t30 de novembro a 17 de dezembro\t18 dias\tRasalhague\n",
    "Sagitário\t18 de dezembro a 18 de janeiro\t32 dias\tKaus Australis\n",
    "Capricórnio\t19 de janeiro a 15 de fevereiro\t28 dias\tDeneb Algedi\n",
    "Aquário\t16 de fevereiro a 11 de março\t24 dias\tSadalsuud\n",
    "Peixes\t12 de março a 18 de abril\t38 dias\tEta Piscium\"\"\"\n"
   ]
  },
  {
   "cell_type": "code",
   "execution_count": 58,
   "metadata": {
    "collapsed": false
   },
   "outputs": [
    {
     "data": {
      "text/plain": [
       "{'Aquário': ['16 de fevereiro', '11 de março'],\n",
       " 'Capricórnio': ['19 de janeiro', '15 de fevereiro'],\n",
       " 'Câncer': ['21 de julho', '9 de agosto'],\n",
       " 'Escorpião': ['23 de novembro', '29 de novembro'],\n",
       " 'Gêmeos': ['20 de junho', '20 de julho'],\n",
       " 'Leão': ['10 de agosto', '15 de setembro'],\n",
       " 'Libra': ['31 de outubro', '22 de novembro'],\n",
       " 'Peixes': ['12 de março', '18 de abril'],\n",
       " 'Sagitário': ['18 de dezembro', '18 de janeiro'],\n",
       " 'Serpentário': ['30 de novembro', '17 de dezembro'],\n",
       " 'Touro': ['14 de maio', '19 de junho'],\n",
       " 'Virgem': ['16 de setembro', '30 de outubro'],\n",
       " 'Áries': ['19 de abril', '13 de maio']}"
      ]
     },
     "execution_count": 58,
     "metadata": {
     },
     "output_type": "execute_result"
    }
   ],
   "source": [
    "zod1=zod.split(\"\\n\")\n",
    "zod2=zod1[1:]\n",
    "zod3=[line.split(\"\\t\")[0:-2] for line in zod2 ]\n",
    "{line[0]: line[1].split(\" a \") for line in zod3}"
   ]
  },
  {
   "cell_type": "code",
   "execution_count": 60,
   "metadata": {
    "collapsed": false
   },
   "outputs": [
   ],
   "source": [
    "dicmonth={\"janeiro\":1,\"fevereiro\":2,\"março\":3,\"abril\":4,\"maio\":5,\n",
    "         \"junho\":6,\"julho\":7,\"agosto\":8, \"setembro\":9, \"outubro\":10,\"novembro\":11,\"dezembro\":12}\n"
   ]
  },
  {
   "cell_type": "markdown",
   "metadata": {
    "collapsed": false
   },
   "source": [
    "## Exercícios\n",
    "\n",
    "Com base na wikipedia, determine a data de nascimento dos pais da Física Moderna:\n",
    "- Albert Einstein\n",
    "- Niels Bohr\n",
    "- Max Born\n",
    "- Max Plank \n",
    "- Erwin Schrödinger\n",
    "- Werner Heisenberg\n",
    "- Paul Dirac\n",
    "\n",
    "- Crie um objeto Serie com essas informações. \n",
    "- Determine o dia da semana de nascimento de  cada um desses cientistas\n",
    "- Ache o número de dias de diferença entre o nascimento do primeiro \n",
    "e último a nascer. \n",
    "\n",
    "*Desafio:* Acha o signo de cada um deles. "
   ]
  }
 ],
 "metadata": {
  "celltoolbar": "Slideshow",
  "kernelspec": {
   "display_name": "Python 3 (Ubuntu Linux)",
   "language": "python",
   "metadata": {
    "cocalc": {
     "description": "Python 3 programming language",
     "priority": 100,
     "url": "https://www.python.org/"
    }
   },
   "name": "python3"
  },
  "language_info": {
   "codemirror_mode": {
    "name": "ipython",
    "version": 3
   },
   "file_extension": ".py",
   "mimetype": "text/x-python",
   "name": "python",
   "nbconvert_exporter": "python",
   "pygments_lexer": "ipython3",
   "version": "3.6.7"
  }
 },
 "nbformat": 4,
 "nbformat_minor": 0
}