{
 "cells": [
  {
   "cell_type": "markdown",
   "metadata": {
    "collapsed": false
   },
   "source": [
    "# Linux\n"
   ]
  },
  {
   "cell_type": "markdown",
   "metadata": {
    "collapsed": false
   },
   "source": [
    "- Sistemas Operacionais\n",
    "    - Unix\n",
    "    - Windows\n",
    "    - Linux"
   ]
  },
  {
   "cell_type": "markdown",
   "metadata": {
    "collapsed": false
   },
   "source": [
    "- História do Linux\n",
    "    - Software Livre \n",
    "    - Richard Stallman\n",
    "    - Linus Torvalds\n",
    "    - GNU/Linux"
   ]
  },
  {
   "cell_type": "markdown",
   "metadata": {
    "collapsed": false
   },
   "source": [
    "## Richard Stallman\n",
    "![Stalllman](https://torrentfreak.com/images/stallman.jpg)"
   ]
  },
  {
   "cell_type": "markdown",
   "metadata": {
    "collapsed": false
   },
   "source": [
    "## Linus  Torvalds\n",
    "![Linus](https://regmedia.co.uk/2016/08/26/torvalds.jpg?x=648&y=348&crop=1)"
   ]
  },
  {
   "cell_type": "markdown",
   "metadata": {
    "collapsed": false
   },
   "source": [
    "### Interação com o SO\n",
    "- Linha de Comando\n",
    "    - bash\n",
    "    - zsh\n",
    "    - powershell\n",
    "- Interface Gráfica\n",
    "    - windows\n",
    "    - X11"
   ]
  },
  {
   "cell_type": "markdown",
   "metadata": {
    "collapsed": false
   },
   "source": [
    "## Shell "
   ]
  },
  {
   "cell_type": "markdown",
   "metadata": {
    "collapsed": false
   },
   "source": [
    "O CoCalc permite que você acesse a um terminal Linux:\n",
    "\n",
    "(Arquivo em azul)-> New -> Terminal"
   ]
  },
  {
   "cell_type": "markdown",
   "metadata": {
    "collapsed": false
   },
   "source": [
    "### Comandos linux "
   ]
  },
  {
   "cell_type": "markdown",
   "metadata": {
    "collapsed": false
   },
   "source": [
    "#### Estrutura de um comando Linux\n",
    "\n",
    "```bash\n",
    "comando -opcoes argumentos\n",
    "```\n",
    "\n",
    "**Analogia:** \n",
    "\n",
    "O comando é o verbo, as opções são o adverbio e os argumentos são o objeto. \n",
    "\n",
    "**Exemplo:**\n",
    "\n",
    "\n",
    "```bash\n",
    "ls -l *.txt\n",
    "```\n",
    "\n",
    "Nesse exemplo `ls` lista os diretórios `-l` indica que devemos apresentar todas as informações\n",
    "e `*.txt`diz quais arquivos devemos listar. \n",
    "\n",
    "**Nota:** Se temos várias opções, elas podem ser indicadas sucessivamente sem espaços\n",
    "\n",
    "**Exemplo:**\n",
    "\n",
    "```bash \n",
    "ls -la \n",
    "```\n"
   ]
  },
  {
   "cell_type": "markdown",
   "metadata": {
    "collapsed": false
   },
   "source": [
    "#### Arquivos\n",
    "##### ls\n",
    "Lista os arquivos em um diretório\n",
    "-l lista os arquivos com todas as informações\n",
    "-a lista todos os arquivos\n",
    "##### cp\n",
    "copia arquivos \n",
    "##### mv\n",
    "move arquivos\n",
    "##### rm\n",
    "remove arquivos\n",
    "##### mkdir\n",
    "cria um diretorio\n",
    "##### cd \n",
    "muda de diretorio\n",
    "\n",
    "~ diretório home\n",
    ".. sobe um nível\n",
    ". representa o diretório atual\n",
    "##### zip, gzip \n",
    "comprime arquivos\n",
    "##### file\n",
    "descreve arquivo"
   ]
  },
  {
   "cell_type": "markdown",
   "metadata": {
    "collapsed": false
   },
   "source": [
    "#### Visualização de arquivos \n",
    "##### more\n",
    "mostra os arquivos\n",
    "##### less\n",
    "mostra os arquivos\n",
    "##### wc\n",
    "conta as palavras\n",
    "##### head \n",
    "mostra as primeiras linhas de um arquivo\n",
    "##### tail\n",
    "mostra as ultimas linhas de um arquivo\n",
    "#### cat \n",
    "concatena arquivos\n",
    "```bash \n",
    "cat arq1 arq2\n",
    "```\n",
    "\n",
    "concatena arq1 e arq2\n",
    "##### grep \n",
    "seleciona linhas com determinadas caracteristicas"
   ]
  },
  {
   "cell_type": "markdown",
   "metadata": {
    "collapsed": false
   },
   "source": [
    "#### Redes \n",
    "##### ping\n",
    "manda um pacote para uym endereço\n",
    "##### ifconfig\n",
    "decobre os parâmetros de rede\n",
    "##### ssh\n",
    "acessa um computador remoto\n",
    "##### scp \n",
    "realiza uma copia remota"
   ]
  },
  {
   "cell_type": "markdown",
   "metadata": {
    "collapsed": false
   },
   "source": [
    "#### Redirecionamento \n",
    "##### >\n",
    "##### >>\n",
    "##### | \n",
    "##### <\n",
    "#### `command`"
   ]
  },
  {
   "cell_type": "markdown",
   "metadata": {
    "collapsed": false
   },
   "source": [
    "#### Editor \n",
    "##### nano \n",
    "##### Editor do Sage"
   ]
  },
  {
   "cell_type": "markdown",
   "metadata": {
    "collapsed": false
   },
   "source": [
    "#### Ajuda \n",
    "##### man"
   ]
  },
  {
   "cell_type": "markdown",
   "metadata": {
    "collapsed": false
   },
   "source": [
    "#### Processos\n",
    "##### top \n",
    "lista os processos em execução\n",
    "##### kill \n",
    "mata os processos\n",
    "##### Ctrl-C\n",
    "##### Ctrl-Z\n",
    "##### shutdown\n",
    "põe o computador para dormir\n",
    "##### ps "
   ]
  },
  {
   "cell_type": "markdown",
   "metadata": {
    "collapsed": false
   },
   "source": [
    "#### Variados \n",
    "##### find \n",
    "encontra arquivos\n",
    "##### date \n",
    "data\n",
    "##### echo \n",
    "imprime na tela\n",
    "##### yes \n",
    "imprime y"
   ]
  },
  {
   "cell_type": "markdown",
   "metadata": {
    "collapsed": false
   },
   "source": [
    "#### wildcards\n",
    "##### *\n",
    "##### ?\n",
    "``` bash\n",
    "`comando`\n",
    "```"
   ]
  },
  {
   "cell_type": "markdown",
   "metadata": {
    "collapsed": true
   },
   "source": [
    "## Exercícios\n",
    "\n",
    "- 1.Liste os arquivos de um diretório por data de modificação, inicie pelo mais atual.\n",
    "- 2.Gere um arquivo com 20 linhas. Imprima as linhas 3 até 10.\n",
    "- 3.Use o comando date para salvar o resultado do comando ls em um arquivo chamado lista_min_seg. Onde min e seg são o minuto e o segundo.\n",
    "\n",
    "\n"
   ]
  },
  {
   "cell_type": "markdown",
   "metadata": {
    "collapsed": false
   },
   "source": [
    "Resposta do 1\n",
    "ls -lt\n",
    "\n",
    "Resposta do 2 \n"
   ]
  },
  {
   "cell_type": "code",
   "execution_count": 0,
   "metadata": {
    "collapsed": false
   },
   "outputs": [
   ],
   "source": [
    "%%writefile teste\n",
    "1\n",
    "2\n",
    "3\n"
   ]
  }
 ],
 "metadata": {
  "kernelspec": {
   "display_name": "Python 2 (SageMath)",
   "language": "python",
   "name": "python2"
  },
  "language_info": {
   "codemirror_mode": {
    "name": "ipython",
    "version": 2
   },
   "file_extension": ".py",
   "mimetype": "text/x-python",
   "name": "python",
   "nbconvert_exporter": "python",
   "pygments_lexer": "ipython2",
   "version": "2.7.15"
  }
 },
 "nbformat": 4,
 "nbformat_minor": 0
}