{
 "cells": [
  {
   "cell_type": "markdown",
   "metadata": {},
   "source": [
    "# Ubuntu/ Linux\n"
   ]
  },
  {
   "cell_type": "markdown",
   "metadata": {},
   "source": [
    "## Shell "
   ]
  },
  {
   "cell_type": "markdown",
   "metadata": {},
   "source": [
    "### Comandos linux "
   ]
  },
  {
   "cell_type": "markdown",
   "metadata": {},
   "source": [
    "#### Arquivos\n",
    "##### ls\n",
    "Lista os arquivos em um diretório\n",
    "##### cp\n",
    "##### mv\n",
    "##### rm\n",
    "##### mkdir\n",
    "##### cd \n",
    "##### zip, gzip \n",
    "##### file"
   ]
  },
  {
   "cell_type": "markdown",
   "metadata": {},
   "source": [
    "#### Visualização de arquivos \n",
    "##### more\n",
    "##### less\n",
    "##### wc\n",
    "##### head \n",
    "##### tail\n",
    "##### grep "
   ]
  },
  {
   "cell_type": "markdown",
   "metadata": {},
   "source": [
    "#### Redes \n",
    "##### ping \n",
    "##### ifconfig\n",
    "##### ssh\n",
    "##### scp "
   ]
  },
  {
   "cell_type": "markdown",
   "metadata": {},
   "source": [
    "#### Redirecionamento \n",
    "##### >\n",
    "##### >>\n",
    "##### | \n",
    "##### <\n",
    "#### `command`"
   ]
  },
  {
   "cell_type": "markdown",
   "metadata": {},
   "source": [
    "#### Editor \n",
    "##### nano \n",
    "##### Editor do Sage"
   ]
  },
  {
   "cell_type": "markdown",
   "metadata": {},
   "source": []
  },
  {
   "cell_type": "markdown",
   "metadata": {},
   "source": [
    "#### Ajuda \n",
    "##### man"
   ]
  },
  {
   "cell_type": "markdown",
   "metadata": {},
   "source": [
    "#### Processos\n",
    "##### top \n",
    "##### kill \n",
    "##### Ctrl-C\n",
    "##### Ctrl-Z\n",
    "##### shutdown \n",
    "##### ps "
   ]
  },
  {
   "cell_type": "markdown",
   "metadata": {},
   "source": [
    "#### Variados \n",
    "##### find \n",
    "##### date \n",
    "##### echo \n",
    "##### yes "
   ]
  },
  {
   "cell_type": "markdown",
   "metadata": {},
   "source": [
    "#### wildcards\n",
    "##### *\n",
    "##### ?"
   ]
  },
  {
   "cell_type": "markdown",
   "metadata": {
    "collapsed": true
   },
   "source": [
    "## Exercícios\n",
    "\n",
    "- 1.Liste os arquivos de um diretório por data de modificação, inicie pelo mais atual.\n",
    "- 2.Gere um arquivo com 20 linhas. Imprima as linhas 3 até 10.\n",
    "- 3.Use o comando date para salvar o resultado do comando ls em um arquivo chamado lista_min_seg. Onde min e seg são o minuto e o segundo.\n",
    "\n",
    "**- Observação: Após a realização desses exercícios, crie um notebook na pasta da própria aula03.04.2017 e coloque as respostas de cada exercícios em modo markdown. (O aluno deverá colocar o comando de entrada no terminal e a saída apresentada pelo terminal, também poderá utilizar print da tela em forma de imagem).**\n",
    "\n"
   ]
  }
 ],
 "metadata": {
  "kernelspec": {
   "display_name": "Python 2 (SageMath)",
   "language": "python",
   "name": "python2"
  },
  "language_info": {
   "codemirror_mode": {
    "name": "ipython",
    "version": 2
   },
   "file_extension": ".py",
   "mimetype": "text/x-python",
   "name": "python",
   "nbconvert_exporter": "python",
   "pygments_lexer": "ipython2",
   "version": "2.7.13"
  }
 },
 "nbformat": 4,
 "nbformat_minor": 0
}
