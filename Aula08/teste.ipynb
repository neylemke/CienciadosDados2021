{
 "cells": [
  {
   "cell_type": "code",
   "execution_count": 2,
   "metadata": {
    "collapsed": false
   },
   "outputs": [
   ],
   "source": [
    "import random"
   ]
  },
  {
   "cell_type": "code",
   "execution_count": 3,
   "metadata": {
    "collapsed": false
   },
   "outputs": [
   ],
   "source": [
    "meses_dic={\"janeiro\":\"verão\",\"fevereiro\":\"verão\",\"março\":\"outono\",\"abril\":\"outono\",\"maio\":\"outono\",\"junho\":\"inverno\",\"julho\":\"inverno\",\"agosto\":\"inverno\",\"setembro\":\"primavera\",\"outubro\":\"primavera\",\"novembro\":\"primavera\",\"dezembro\": \"verão\"}"
   ]
  },
  {
   "cell_type": "code",
   "execution_count": 5,
   "metadata": {
    "collapsed": false
   },
   "outputs": [
   ],
   "source": [
    "for mes in meses_dic:\n",
    "    filename=\"arq_{}_{}.txt\".format(mes,meses_dic[mes])\n",
    "    str=\"A minha estação predileta é {}, especialmente {}.\\n\".format(meses_dic[mes],mes)\n",
    "    with open(filename,\"w\") as f:\n",
    "        f.write(str*random.randint(5,21))\n",
    "!gzip arq*.txt\n",
    "        \n",
    "    "
   ]
  },
  {
   "cell_type": "code",
   "execution_count": 7,
   "metadata": {
    "collapsed": false
   },
   "outputs": [
    {
     "name": "stdout",
     "output_type": "stream",
     "text": [
      "total 78\r\n",
      "drwxr-xr-x  2 user user     24 Apr 12 18:27 .\r\n",
      "drwxr-xr-x 22 user user     32 Apr 12 12:43 ..\r\n",
      "-rw-r--r--  1 user user   2496 Apr 12 18:25 .2019-04-12-152504.term-0.term\r\n",
      "-rw-r--r--  1 user user 109663 Apr 12 12:43 .Aula24.04.2017.ipynb.sage-jupyter2\r\n",
      "-rw-r--r--  1 user user  15996 Apr 12 17:39 .Aula8.ipynb.sage-jupyter2\r\n",
      "-rw-r--r--  1 user user   1738 Apr 12 18:27 .teste.ipynb.sage-jupyter2\r\n",
      "-rw-r--r--  1 user user      0 Apr 12 18:25 2019-04-12-152504.term\r\n",
      "-rw-r--r--  1 user user  20572 Apr 12 18:27 Aula8.ipynb\r\n",
      "-rw-r--r--  1 user user    112 Apr 12 18:27 arq_abril_outono.txt.gz\r\n",
      "-rw-r--r--  1 user user    112 Apr 12 18:27 arq_agosto_inverno.txt.gz\r\n",
      "-rw-r--r--  1 user user    113 Apr 12 18:27 arq_dezembro_verão.txt.gz\r\n",
      "-rw-r--r--  1 user user    118 Apr 12 18:27 arq_fevereiro_verão.txt.gz\r\n",
      "-rw-r--r--  1 user user    111 Apr 12 18:27 arq_janeiro_verão.txt.gz\r\n",
      "-rw-r--r--  1 user user    114 Apr 12 18:27 arq_julho_inverno.txt.gz\r\n",
      "-rw-r--r--  1 user user    106 Apr 12 18:27 arq_junho_inverno.txt.gz\r\n",
      "-rw-r--r--  1 user user    106 Apr 12 18:27 arq_maio_outono.txt.gz\r\n",
      "-rw-r--r--  1 user user    112 Apr 12 18:27 arq_março_outono.txt.gz\r\n",
      "-rw-r--r--  1 user user    117 Apr 12 18:27 arq_novembro_primavera.txt.gz\r\n",
      "-rw-r--r--  1 user user    119 Apr 12 18:27 arq_outubro_primavera.txt.gz\r\n",
      "-rw-r--r--  1 user user    117 Apr 12 18:27 arq_setembro_primavera.txt.gz\r\n",
      "-rw-r--r--  1 user user     74 Apr 12 17:14 matriznum.csv\r\n",
      "-rw-r--r--  1 user user     40 Apr 12 17:18 test.dat\r\n",
      "-rw-r--r--  1 user user   2354 Apr 12 18:27 teste.ipynb\r\n",
      "-rw-r--r--  1 user user    219 Apr 12 17:12 texto.txt\r\n"
     ]
    }
   ],
   "source": [
    "!ls -la"
   ]
  },
  {
   "cell_type": "code",
   "execution_count": 0,
   "metadata": {
    "collapsed": false
   },
   "outputs": [
   ],
   "source": [
    "!rm arq*"
   ]
  },
  {
   "cell_type": "code",
   "execution_count": 0,
   "metadata": {
    "collapsed": false
   },
   "outputs": [
   ],
   "source": [
   ]
  }
 ],
 "metadata": {
  "kernelspec": {
   "display_name": "Python 3 (old Anaconda 3)",
   "env": {
    "LD_LIBRARY_PATH": "/ext/anaconda3/lib",
    "PYTHONHOME": "/ext/anaconda3/lib/python3.5",
    "PYTHONPATH": "/ext/anaconda3/lib/python3.5:/ext/anaconda3/lib/python3.5/site-packages"
   },
   "language": "python",
   "metadata": {
    "cocalc": {
     "description": "Python/R distribution for data science",
     "priority": -1,
     "url": "https://www.anaconda.com/distribution/"
    }
   },
   "name": "anaconda3"
  }
 },
 "nbformat": 4,
 "nbformat_minor": 0
}